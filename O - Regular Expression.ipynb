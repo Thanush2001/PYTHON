{
 "cells": [
  {
   "cell_type": "markdown",
   "id": "b52e0dc7",
   "metadata": {},
   "source": [
    "# REGULAR EXPRESSION"
   ]
  },
  {
   "cell_type": "raw",
   "id": "b56f63f7",
   "metadata": {},
   "source": [
    "1) A Regular experssion, often abbreviated as regex, is a pattern of characters that is used to match and manipulate strings of text.\n",
    "\n",
    "2) it's a powerful tool for searching,validating,and manipulating text data.\n",
    "\n",
    "3) python has a build-in package called re,which can be used to work with regular expressions."
   ]
  },
  {
   "cell_type": "markdown",
   "id": "c0abc96d",
   "metadata": {},
   "source": [
    "# Reg ex\n",
    "\n",
    "import re\n",
    "\n",
    "re.search(pattern,text)\n",
    "\n",
    "re.findall(pattern,text)\n",
    "\n",
    "re.sub(pattern,sub,text)\n",
    "\n",
    "re.fullmatch(pattern,text)"
   ]
  },
  {
   "cell_type": "markdown",
   "id": "dd8e7a8f",
   "metadata": {},
   "source": [
    "# Pattern\n",
    "\n",
    "1) In regular expression (regex), a pattern is a sequence of characters and metacharacters that define a specific search pattern.\n",
    "\n",
    "2) The pattern is used to match and search for specific patterns in a larger sttring.\n",
    "\n",
    "3) These patterns can be combined and modified to create more complex expressions that can match a wide range of strings."
   ]
  },
  {
   "cell_type": "markdown",
   "id": "32f1edec",
   "metadata": {},
   "source": [
    "# Anchors\n",
    "\n",
    "^ - Start of line+\n",
    "\n",
    "\\A- Start of string+\n",
    "\n",
    "$- End of line+\n",
    "\n",
    "\\Z- End of string+\n",
    "\n",
    "\\b- Word boundary+\n",
    "\n",
    "\\B- Not word boundary+\n",
    "\n",
    "\\<- Start of word\n",
    "\n",
    "\\>- End of word"
   ]
  },
  {
   "cell_type": "markdown",
   "id": "107d1447",
   "metadata": {},
   "source": [
    "# Character classes\n",
    "\n",
    "\\c - control character\n",
    "\n",
    "\\s - white space\n",
    "\n",
    "\\S - Not white Space\n",
    "\n",
    "\\d - Digit\n",
    "\n",
    "\\D - Not digit\n",
    "\n",
    "\\w - Word\n",
    "\n",
    "\\W - Not word\n",
    "\n",
    "\\xhh - Hexadecimal character hh\n",
    "\n",
    "\\Oxxx - Octal character xxx"
   ]
  },
  {
   "cell_type": "markdown",
   "id": "31dc4236",
   "metadata": {},
   "source": [
    "# Ranges\n",
    "\n",
    ". - Any character except new line (\\n)+\n",
    "\n",
    "(a|b)- a or b +\n",
    "\n",
    "(...) - Group +\n",
    "\n",
    "(?...) - Passive Group +\n",
    "\n",
    "[abc] - Range (a or b or c) +\n",
    "\n",
    "[^abc] - Not a or b or c +\n",
    "\n",
    "[a-q] - Letter between a and q +\n",
    "\n",
    "[A-Q] - Upper case letter + between A and Q +\n",
    "\n",
    "[0-7] - Digit between 0 and 7 +\n",
    "\n",
    "\\n - nth group/subpattern +"
   ]
  },
  {
   "cell_type": "markdown",
   "id": "4d673f22",
   "metadata": {},
   "source": [
    "# Quantifiers\n",
    "\n",
    "* - 0 or more +\n",
    "\n",
    "*? - o or more, ungreedy +\n",
    "\n",
    "+ - 1 or more +\n",
    "\n",
    "+? - 1 or more, ungreedy +\n",
    "\n",
    "? - 0 or 1 +\n",
    "\n",
    "?? - 0 or 1, ungreedy +\n",
    "\n",
    "{3} - Exactly 3+\n",
    "\n",
    "{3,} - 3 or more +\n",
    "\n",
    "{3,5} - 3,4 or 5 +\n",
    "\n",
    "{3,5}? - 3,4 or 5, ungreedy +"
   ]
  },
  {
   "cell_type": "markdown",
   "id": "2e363598",
   "metadata": {},
   "source": [
    "# Sample \n",
    "\n",
    "([A-Za-z0-9-]+) - Letter,number and hyphens\n",
    "\n",
    "(\\d{1,2}\\/\\d{1,2}\\/\\d{4}) - Date (e.g 21/06/2022)\n",
    "\n",
    "([^\\s]+(?=\\.(jpg|gif|png))\\.\\2) - jpg,gif or png image\n",
    "\n",
    "(^[1-9]{1}$|^[1-4]{1}[0-9]{1}$^50$) - Any number from 1 to 50 inclusive.\n",
    "\n",
    "(#?[A-Fa-f0-9]{3}(([A-Fa-f0-9]){3}?) - Valid hexadecimal colour code\n",
    "\n",
    "((?=.*\\d)(?=.*[a-z])(?=.*[A-Z]).{8,15}) - 8 to 15 character string at least one uppercase letter, one lower case letter and one digit(useful for password)\n",
    "\n",
    "(\\w+@[a-zA-Z_]+?\\.[a-zA-Z]{2,6}) - Email addresses\n",
    "\n",
    "(\\<(/?[^\\>]+)\\>) - HTNL Tags"
   ]
  },
  {
   "cell_type": "raw",
   "id": "412caf38",
   "metadata": {},
   "source": [
    "Regular expression:\n",
    "    The \"re\" module provide a set of function that enables us to search a string for a match."
   ]
  },
  {
   "cell_type": "code",
   "execution_count": 1,
   "id": "a00f03cd",
   "metadata": {},
   "outputs": [],
   "source": [
    "import re"
   ]
  },
  {
   "cell_type": "raw",
   "id": "c154a8d8",
   "metadata": {},
   "source": [
    "The findall() function returns a list containing all matches."
   ]
  },
  {
   "cell_type": "code",
   "execution_count": 2,
   "id": "92207390",
   "metadata": {},
   "outputs": [
    {
     "name": "stdout",
     "output_type": "stream",
     "text": [
      "['on', 'on']\n"
     ]
    }
   ],
   "source": [
    "import re\n",
    "txt=\"the python is global language, horizon\"\n",
    "x=re.findall(\"on\",txt)\n",
    "print(x)"
   ]
  },
  {
   "cell_type": "markdown",
   "id": "71461373",
   "metadata": {},
   "source": [
    "# Search function \n",
    "\n",
    "The search() function takes a regular expression pattern and a string, and it searches for that pattern within the string.if the search is sucessful,search() return a match object. otherwise, it doesnot return any."
   ]
  },
  {
   "cell_type": "code",
   "execution_count": 3,
   "id": "f9c59049",
   "metadata": {},
   "outputs": [
    {
     "name": "stdout",
     "output_type": "stream",
     "text": [
      "The word is located in position: 19\n"
     ]
    }
   ],
   "source": [
    "import re\n",
    "txt=\"python programming language\"\n",
    "x=re.search(\"language\",txt)\n",
    "print(\"The word is located in position:\",x.start())"
   ]
  },
  {
   "cell_type": "markdown",
   "id": "e7a175b1",
   "metadata": {},
   "source": [
    "The split function returns a list that shows where the string has been split at each match."
   ]
  },
  {
   "cell_type": "code",
   "execution_count": 4,
   "id": "34c08220",
   "metadata": {},
   "outputs": [
    {
     "name": "stdout",
     "output_type": "stream",
     "text": [
      "['python', 'programming', 'language']\n"
     ]
    }
   ],
   "source": [
    "import re\n",
    "txt=\"python programming language\"\n",
    "x=re.split('\\s',txt)\n",
    "print(x)"
   ]
  },
  {
   "cell_type": "markdown",
   "id": "f1c57a3d",
   "metadata": {},
   "source": [
    "A pattern defined using Regex can be used match against a string."
   ]
  },
  {
   "cell_type": "code",
   "execution_count": 5,
   "id": "d4ec3050",
   "metadata": {},
   "outputs": [
    {
     "name": "stdout",
     "output_type": "stream",
     "text": [
      "Search successfull.\n"
     ]
    }
   ],
   "source": [
    "import re\n",
    "\n",
    "pattern='^a...s$'\n",
    "test_string='abyss'\n",
    "result = re.match(pattern,test_string)\n",
    "\n",
    "if result:\n",
    "    print(\"Search successfull.\")\n",
    "else:\n",
    "    print(\"Search unsuccessful.\")"
   ]
  },
  {
   "cell_type": "markdown",
   "id": "d634d873",
   "metadata": {},
   "source": [
    "Metacharacter are character that are interpreted in a special way by a Regex engine. Here's a list of metacharacters:\n",
    "\n",
    "[].^$*+?{}\\|"
   ]
  },
  {
   "cell_type": "code",
   "execution_count": 6,
   "id": "61d589c9",
   "metadata": {},
   "outputs": [
    {
     "name": "stdout",
     "output_type": "stream",
     "text": [
      "None\n"
     ]
    }
   ],
   "source": [
    "import re\n",
    "txt=\"three film titanic was realsed in 1998\"\n",
    "result=re.match(\"[abc]\",txt)\n",
    "print(result)"
   ]
  },
  {
   "cell_type": "code",
   "execution_count": 7,
   "id": "b3024444",
   "metadata": {},
   "outputs": [
    {
     "name": "stdout",
     "output_type": "stream",
     "text": [
      "<re.Match object; span=(0, 1), match='a'>\n"
     ]
    }
   ],
   "source": [
    "import re\n",
    "txt=\"all film titanic was realsed in 1998\"\n",
    "result=re.match(\"[abc]\",txt)\n",
    "print(result)"
   ]
  },
  {
   "cell_type": "code",
   "execution_count": 8,
   "id": "4c925df0",
   "metadata": {},
   "outputs": [
    {
     "name": "stdout",
     "output_type": "stream",
     "text": [
      "<re.Match object; span=(8, 9), match='a'>\n"
     ]
    }
   ],
   "source": [
    "import re\n",
    "txt=\"film titanic was realsed in 1998\"\n",
    "result=re.search(\"[abc]\",txt)\n",
    "print(result)"
   ]
  },
  {
   "cell_type": "code",
   "execution_count": 9,
   "id": "a5420bf7",
   "metadata": {},
   "outputs": [
    {
     "name": "stdout",
     "output_type": "stream",
     "text": [
      "['a', 'c', 'a', 'a']\n"
     ]
    }
   ],
   "source": [
    "import re\n",
    "txt=\"111 film titanic was realsed in 1998\"\n",
    "result=re.findall(\"[abc]\",txt)\n",
    "print(result)"
   ]
  },
  {
   "cell_type": "markdown",
   "id": "349ef938",
   "metadata": {},
   "source": [
    "period-A-period matches any single character (except newline '\\n')."
   ]
  },
  {
   "cell_type": "code",
   "execution_count": 10,
   "id": "33fb7944",
   "metadata": {},
   "outputs": [],
   "source": [
    "re.search('..',\"a\")"
   ]
  },
  {
   "cell_type": "code",
   "execution_count": 11,
   "id": "26010ce6",
   "metadata": {},
   "outputs": [
    {
     "data": {
      "text/plain": [
       "<re.Match object; span=(0, 2), match='ab'>"
      ]
     },
     "execution_count": 11,
     "metadata": {},
     "output_type": "execute_result"
    }
   ],
   "source": [
    "re.search('..',\"ab\")"
   ]
  },
  {
   "cell_type": "code",
   "execution_count": 12,
   "id": "cf6ba552",
   "metadata": {},
   "outputs": [
    {
     "data": {
      "text/plain": [
       "<re.Match object; span=(0, 2), match='ab'>"
      ]
     },
     "execution_count": 12,
     "metadata": {},
     "output_type": "execute_result"
    }
   ],
   "source": [
    "re.search('..',\"abc\")"
   ]
  },
  {
   "cell_type": "code",
   "execution_count": 13,
   "id": "b4ec1a51",
   "metadata": {},
   "outputs": [
    {
     "data": {
      "text/plain": [
       "['ab', 'cd']"
      ]
     },
     "execution_count": 13,
     "metadata": {},
     "output_type": "execute_result"
    }
   ],
   "source": [
    "re.findall('..',\"abcd\")"
   ]
  },
  {
   "cell_type": "code",
   "execution_count": 14,
   "id": "87930e11",
   "metadata": {},
   "outputs": [
    {
     "data": {
      "text/plain": [
       "['abc', 'cad']"
      ]
     },
     "execution_count": 14,
     "metadata": {},
     "output_type": "execute_result"
    }
   ],
   "source": [
    "re.findall('...',\"abccad\")"
   ]
  },
  {
   "cell_type": "markdown",
   "id": "a1f51e69",
   "metadata": {},
   "source": [
    "The caret symbol ^ is used to check if a string with a certain character."
   ]
  },
  {
   "cell_type": "code",
   "execution_count": 15,
   "id": "743abbf4",
   "metadata": {},
   "outputs": [
    {
     "name": "stdout",
     "output_type": "stream",
     "text": [
      "<re.Match object; span=(0, 1), match='a'>\n",
      "<re.Match object; span=(0, 1), match='a'>\n",
      "None\n",
      "None\n",
      "<re.Match object; span=(0, 2), match='ab'>\n",
      "<re.Match object; span=(0, 3), match='abc'>\n",
      "['a']\n"
     ]
    }
   ],
   "source": [
    "print(re.search('^a','a'))\n",
    "print(re.search('^a','ab'))\n",
    "print(re.search('^a','b'))\n",
    "print(re.search('^ab','a'))\n",
    "print(re.search('^ab','abc'))\n",
    "print(re.search('^abc','abcd'))\n",
    "print(re.findall('^a','a'))"
   ]
  },
  {
   "cell_type": "markdown",
   "id": "acd1b2b5",
   "metadata": {},
   "source": [
    "The dollar symbol $ is used to check if a string ends with a certain character."
   ]
  },
  {
   "cell_type": "code",
   "execution_count": 16,
   "id": "4a067734",
   "metadata": {},
   "outputs": [
    {
     "name": "stdout",
     "output_type": "stream",
     "text": [
      "<re.Match object; span=(0, 1), match='a'>\n",
      "<re.Match object; span=(5, 6), match='n'>\n",
      "None\n"
     ]
    }
   ],
   "source": [
    "print(re.search('a$','a'))\n",
    "print(re.search('n$','python'))\n",
    "print(re.search('o$','language'))"
   ]
  },
  {
   "cell_type": "markdown",
   "id": "4144edf7",
   "metadata": {},
   "source": [
    "The star symbol * matches zero or more occurrences of the pattern left to it."
   ]
  },
  {
   "cell_type": "code",
   "execution_count": 17,
   "id": "074ede7b",
   "metadata": {},
   "outputs": [
    {
     "name": "stdout",
     "output_type": "stream",
     "text": [
      "<re.Match object; span=(0, 2), match='mn'>\n",
      "<re.Match object; span=(0, 3), match='man'>\n",
      "<re.Match object; span=(0, 4), match='maan'>\n",
      "None\n",
      "<re.Match object; span=(2, 5), match='man'>\n"
     ]
    }
   ],
   "source": [
    "print(re.search(\"ma*n\",\"mn\"))\n",
    "print(re.search(\"ma*n\",\"man\"))\n",
    "print(re.search(\"ma*n\",\"maan\"))\n",
    "print(re.search(\"ma*n\",\"main\"))\n",
    "print(re.search(\"ma*n\",\"woman\"))"
   ]
  },
  {
   "cell_type": "markdown",
   "id": "f1a76b4c",
   "metadata": {},
   "source": [
    "The plus symbol + matches one or more occurences of the pattern left to it."
   ]
  },
  {
   "cell_type": "code",
   "execution_count": 18,
   "id": "58d8c270",
   "metadata": {},
   "outputs": [
    {
     "name": "stdout",
     "output_type": "stream",
     "text": [
      "None\n",
      "<re.Match object; span=(0, 3), match='man'>\n",
      "<re.Match object; span=(0, 5), match='maaan'>\n",
      "None\n",
      "<re.Match object; span=(2, 5), match='man'>\n"
     ]
    }
   ],
   "source": [
    "print(re.search(\"ma+n\",\"mn\"))\n",
    "print(re.search(\"ma+n\",\"man\"))\n",
    "print(re.search(\"ma+n\",\"maaan\"))\n",
    "print(re.search(\"ma+n\",\"main\"))\n",
    "print(re.search(\"ma+n\",\"woman\"))"
   ]
  },
  {
   "cell_type": "markdown",
   "id": "1ab70c0b",
   "metadata": {},
   "source": [
    "The question mark symbol ? matches zero or more occurrence of the pattern left to it."
   ]
  },
  {
   "cell_type": "code",
   "execution_count": 19,
   "id": "24a8ebed",
   "metadata": {},
   "outputs": [
    {
     "name": "stdout",
     "output_type": "stream",
     "text": [
      "<re.Match object; span=(0, 2), match='mn'>\n",
      "<re.Match object; span=(0, 3), match='man'>\n",
      "None\n",
      "None\n",
      "<re.Match object; span=(2, 5), match='man'>\n"
     ]
    }
   ],
   "source": [
    "print(re.search(\"ma?n\",\"mn\"))\n",
    "print(re.search(\"ma?n\",\"man\"))\n",
    "print(re.search(\"ma?n\",\"maan\"))\n",
    "print(re.search(\"ma?n\",\"main\"))\n",
    "print(re.search(\"ma?n\",\"woman\"))"
   ]
  },
  {
   "cell_type": "markdown",
   "id": "4e266741",
   "metadata": {},
   "source": [
    "Consider this code:{n,m} this means at least n, and at most m repetitions of the pattern left to it."
   ]
  },
  {
   "cell_type": "code",
   "execution_count": 20,
   "id": "587731a5",
   "metadata": {},
   "outputs": [
    {
     "name": "stdout",
     "output_type": "stream",
     "text": [
      "None\n",
      "<re.Match object; span=(5, 7), match='aa'>\n",
      "<re.Match object; span=(0, 2), match='aa'>\n",
      "<re.Match object; span=(0, 2), match='aa'>\n",
      "['aa', 'aaa']\n"
     ]
    }
   ],
   "source": [
    "print(re.search(\"a{2,3}\",\"abc dat\"))\n",
    "print(re.search(\"a{2,3}\",\"abc daat\"))\n",
    "print(re.search(\"a{2,3}\",\"aabc daaat\"))\n",
    "print(re.search(\"a{2,3}\",\"aabc daaaaat\"))\n",
    "print(re.findall(\"a{2,3}\",\"aabc daaat\"))"
   ]
  },
  {
   "cell_type": "code",
   "execution_count": 21,
   "id": "27eebc99",
   "metadata": {},
   "outputs": [
    {
     "name": "stdout",
     "output_type": "stream",
     "text": [
      "['123']\n",
      "['12', '3456', '73', '3417', '4288', '89']\n",
      "[]\n"
     ]
    }
   ],
   "source": [
    "print(re.findall(\"[0-9]{2,4}\",\"ab123csde\"))\n",
    "print(re.findall(\"[0-9]{2,4}\",\"12 and 345673 3417 428889\"))\n",
    "print(re.findall(\"[0-9]{2,4}\",\"1 and 2\"))"
   ]
  },
  {
   "cell_type": "markdown",
   "id": "36f9d1e6",
   "metadata": {},
   "source": [
    "Vertical bar | is used for alternation ( or operator)."
   ]
  },
  {
   "cell_type": "code",
   "execution_count": 22,
   "id": "e19413f2",
   "metadata": {},
   "outputs": [
    {
     "name": "stdout",
     "output_type": "stream",
     "text": [
      "[]\n",
      "['a']\n",
      "['a', 'b', 'a']\n"
     ]
    }
   ],
   "source": [
    "print(re.findall(\"a|b\",\"cde\"))\n",
    "print(re.findall(\"a|b\",\"ade\"))\n",
    "print(re.findall(\"a|b\",\"acdbea\"))"
   ]
  },
  {
   "cell_type": "markdown",
   "id": "6a537fed",
   "metadata": {},
   "source": [
    "parentheses () is used to group su- patterns. for example, (a|b/c)xz match any string that matches either a or b or c followed by xz."
   ]
  },
  {
   "cell_type": "code",
   "execution_count": 23,
   "id": "0acaab08",
   "metadata": {},
   "outputs": [
    {
     "name": "stdout",
     "output_type": "stream",
     "text": [
      "[]\n",
      "['b']\n",
      "['a', 'b']\n"
     ]
    }
   ],
   "source": [
    "print(re.findall(\"(a|b|c)xz\",\"ab xz\"))\n",
    "print(re.findall(\"(a|b|c)xz\",\"abxz\"))\n",
    "print(re.findall(\"(a|b|c)xz\",\"axz cabxz\"))"
   ]
  },
  {
   "cell_type": "markdown",
   "id": "76571696",
   "metadata": {},
   "source": [
    "\\A - Matches if the specified characters are at the start of a string."
   ]
  },
  {
   "cell_type": "code",
   "execution_count": 24,
   "id": "d712a66a",
   "metadata": {},
   "outputs": [
    {
     "name": "stdout",
     "output_type": "stream",
     "text": [
      "['the']\n",
      "[]\n"
     ]
    }
   ],
   "source": [
    "print(re.findall(\"\\Athe\",\"the sun\"))\n",
    "print(re.findall(\"\\Athe\",\"in the sun\"))"
   ]
  },
  {
   "cell_type": "markdown",
   "id": "90a56755",
   "metadata": {},
   "source": [
    "\\b - Matches if the specified character are at the beginning or end of a word."
   ]
  },
  {
   "cell_type": "code",
   "execution_count": 25,
   "id": "fc9324ea",
   "metadata": {},
   "outputs": [
    {
     "name": "stdout",
     "output_type": "stream",
     "text": [
      "['foo']\n",
      "['foo']\n",
      "[]\n",
      "['foo']\n",
      "[]\n",
      "[]\n"
     ]
    }
   ],
   "source": [
    "print(re.findall(r\"\\bfoo\",\"football\"))\n",
    "print(re.findall(r\"\\bfoo\",\"the football\"))\n",
    "print(re.findall(r\"\\bfoo\",\"afootball\"))\n",
    "\n",
    "print(re.findall(r\"\\bfoo\",\"the foo\"))\n",
    "print(re.findall(r\"\\bfoo\",\"the afoo test\"))\n",
    "print(re.findall(r\"\\bfoo\",\"the afootes\"))"
   ]
  },
  {
   "cell_type": "markdown",
   "id": "a3e5d4d2",
   "metadata": {},
   "source": [
    "\\d - Matches any decimal digit.Equivalent to [0-9]."
   ]
  },
  {
   "cell_type": "code",
   "execution_count": 26,
   "id": "69dc46d4",
   "metadata": {},
   "outputs": [
    {
     "name": "stdout",
     "output_type": "stream",
     "text": [
      "['1', '2', '3']\n",
      "[]\n"
     ]
    }
   ],
   "source": [
    "print(re.findall(\"\\d\",\"12abc3\"))\n",
    "print(re.findall(\"\\d\",\"python\"))"
   ]
  },
  {
   "cell_type": "markdown",
   "id": "47285211",
   "metadata": {},
   "source": [
    "\\D - Matches any non-decimal digit. Equivalent to [^0-9]."
   ]
  },
  {
   "cell_type": "code",
   "execution_count": 27,
   "id": "a3b251d7",
   "metadata": {},
   "outputs": [
    {
     "name": "stdout",
     "output_type": "stream",
     "text": [
      "['a', 'b', \"'\", \"'\"]\n",
      "[]\n"
     ]
    }
   ],
   "source": [
    "print(re.findall(\"\\D\",\"1ab34''50\"))\n",
    "print(re.findall(\"\\D\",\"1345\"))"
   ]
  },
  {
   "cell_type": "markdown",
   "id": "9b986021",
   "metadata": {},
   "source": [
    "\\s - Matches where a string contains any whitespace character.Equivalent to [\\t\\n\\r\\f\\v]."
   ]
  },
  {
   "cell_type": "code",
   "execution_count": 28,
   "id": "8d5bae3f",
   "metadata": {},
   "outputs": [
    {
     "name": "stdout",
     "output_type": "stream",
     "text": [
      "[' ']\n",
      "[]\n"
     ]
    }
   ],
   "source": [
    "print(re.findall(\"\\s\",\"python regex\"))\n",
    "print(re.findall(\"\\s\",\"python\"))"
   ]
  },
  {
   "cell_type": "markdown",
   "id": "a6917476",
   "metadata": {},
   "source": [
    "\\S - Matches where a string contains any non whitespace character.Equivalent to [^\\t\\n\\r\\f\\v]."
   ]
  },
  {
   "cell_type": "code",
   "execution_count": 29,
   "id": "64d70b8e",
   "metadata": {},
   "outputs": [
    {
     "name": "stdout",
     "output_type": "stream",
     "text": [
      "['a', 'b']\n",
      "[]\n"
     ]
    }
   ],
   "source": [
    "print(re.findall(\"\\S\",\"a b\"))\n",
    "print(re.findall(\"\\S\",\" \"))"
   ]
  },
  {
   "cell_type": "markdown",
   "id": "a4194574",
   "metadata": {},
   "source": [
    "\\w - Matches any alphanumeric character (digit and alphabets).Equivalent to [a-zA-Z0-9_].By the way,underscore _ is also considered an alphanumeric character."
   ]
  },
  {
   "cell_type": "code",
   "execution_count": 30,
   "id": "922005bf",
   "metadata": {},
   "outputs": [
    {
     "name": "stdout",
     "output_type": "stream",
     "text": [
      "['1', '2', '_', 'c']\n",
      "[]\n"
     ]
    }
   ],
   "source": [
    "print(re.findall(\"\\w\",\"12&_': ;c\"))\n",
    "print(re.findall(\"\\w\",\"%'>!\"))"
   ]
  },
  {
   "cell_type": "markdown",
   "id": "10084314",
   "metadata": {},
   "source": [
    "\\W - Matches any non-alphanumeric character.Equivalent to [^a-zA-Z0-9_]."
   ]
  },
  {
   "cell_type": "code",
   "execution_count": 31,
   "id": "56ea1b4d",
   "metadata": {},
   "outputs": [
    {
     "name": "stdout",
     "output_type": "stream",
     "text": [
      "['%']\n",
      "[]\n"
     ]
    }
   ],
   "source": [
    "print(re.findall(\"\\W\",\"1a2%C\"))\n",
    "print(re.findall(\"\\W\",\"python\"))"
   ]
  },
  {
   "cell_type": "markdown",
   "id": "1203ff1f",
   "metadata": {},
   "source": [
    "\\Z - Matches if the specified characters are at the end of a string."
   ]
  },
  {
   "cell_type": "code",
   "execution_count": 32,
   "id": "730aa55b",
   "metadata": {},
   "outputs": [
    {
     "name": "stdout",
     "output_type": "stream",
     "text": [
      "['python']\n"
     ]
    }
   ],
   "source": [
    "print(re.findall(\"python\\Z\",\"I like python\"))"
   ]
  },
  {
   "cell_type": "code",
   "execution_count": 33,
   "id": "22080079",
   "metadata": {},
   "outputs": [
    {
     "name": "stdout",
     "output_type": "stream",
     "text": [
      "<re.Match object; span=(0, 15), match='Hello-world-213'>\n"
     ]
    }
   ],
   "source": [
    "sentence=\"Hello-world-213\"\n",
    "pattern=\"([A-za-z0-9\\-]+)\"\n",
    "\n",
    "result=re.search(pattern,sentence)\n",
    "print(result)"
   ]
  },
  {
   "cell_type": "code",
   "execution_count": 34,
   "id": "418fc14a",
   "metadata": {},
   "outputs": [
    {
     "name": "stdout",
     "output_type": "stream",
     "text": [
      "<re.Match object; span=(0, 9), match='23/2/2012'>\n"
     ]
    }
   ],
   "source": [
    "sentence=\"23/2/2012\"\n",
    "pattern=\"(\\d{1,2}\\/\\d{1,2}\\/\\d{4})\"\n",
    "\n",
    "result=re.search(pattern,sentence)\n",
    "print(result)"
   ]
  },
  {
   "cell_type": "code",
   "execution_count": 35,
   "id": "2d402b35",
   "metadata": {},
   "outputs": [
    {
     "name": "stdout",
     "output_type": "stream",
     "text": [
      "<re.Match object; span=(0, 5), match='tiger'>\n"
     ]
    }
   ],
   "source": [
    "sentence=\"tiger.jpg\"\n",
    "pattern=\"([^\\s]+(?=\\.(png|jpg|gif)))\"\n",
    "\n",
    "result=re.search(pattern,sentence)\n",
    "print(result)"
   ]
  },
  {
   "cell_type": "code",
   "execution_count": 36,
   "id": "f163f2d6",
   "metadata": {},
   "outputs": [
    {
     "name": "stdout",
     "output_type": "stream",
     "text": [
      "<re.Match object; span=(0, 7), match='#FFA500'>\n"
     ]
    }
   ],
   "source": [
    "sentence=\"#FFA500\"\n",
    "pattern=\"#([A-Fa-f0-9]{6}|[A-Fa-f0-9]{3})\"\n",
    "\n",
    "result=re.search(pattern,sentence)\n",
    "print(result)"
   ]
  },
  {
   "cell_type": "code",
   "execution_count": 37,
   "id": "d16b47e1",
   "metadata": {},
   "outputs": [
    {
     "name": "stdout",
     "output_type": "stream",
     "text": [
      "<re.Match object; span=(0, 9), match='Abc@12345'>\n"
     ]
    }
   ],
   "source": [
    "sentence=\"Abc@12345\"\n",
    "pattern=\"(?=\\S{6,})(?=.*[A-Z])(?=.*\\d)(?=.*\\W)[^\\s]{6,}\"\n",
    "\n",
    "result=re.search(pattern,sentence)\n",
    "print(result)"
   ]
  },
  {
   "cell_type": "code",
   "execution_count": 38,
   "id": "6bf17d7f",
   "metadata": {},
   "outputs": [
    {
     "name": "stdout",
     "output_type": "stream",
     "text": [
      "<re.Match object; span=(0, 17), match='abcA123@gmail.com'>\n"
     ]
    }
   ],
   "source": [
    "sentence=\"abcA123@gmail.com\"\n",
    "pattern=\"[a-zA-Z0-9._%+-]*@[a-zA-Z0-9._%+-]+\\.[a-zA-Z]{3,}\"\n",
    "\n",
    "result=re.search(pattern,sentence)\n",
    "print(result)"
   ]
  },
  {
   "cell_type": "code",
   "execution_count": 39,
   "id": "1a90abbe",
   "metadata": {},
   "outputs": [
    {
     "name": "stdout",
     "output_type": "stream",
     "text": [
      "[('<head>', 'head'), ('</head>', '/head'), ('<body>', 'body'), ('<span>', 'span')]\n"
     ]
    }
   ],
   "source": [
    "sentence=\"<head> </head> <body> <span>\"\n",
    "pattern=\"(\\<(/?[^\\>]+)\\>)\"\n",
    "\n",
    "result=re.findall(pattern,sentence)\n",
    "print(result)"
   ]
  }
 ],
 "metadata": {
  "kernelspec": {
   "display_name": "Python 3 (ipykernel)",
   "language": "python",
   "name": "python3"
  },
  "language_info": {
   "codemirror_mode": {
    "name": "ipython",
    "version": 3
   },
   "file_extension": ".py",
   "mimetype": "text/x-python",
   "name": "python",
   "nbconvert_exporter": "python",
   "pygments_lexer": "ipython3",
   "version": "3.9.13"
  }
 },
 "nbformat": 4,
 "nbformat_minor": 5
}
