{
 "cells": [
  {
   "cell_type": "markdown",
   "id": "e0ff33af",
   "metadata": {},
   "source": [
    "# Exception Handling\n"
   ]
  },
  {
   "cell_type": "markdown",
   "id": "6e1f53f1",
   "metadata": {},
   "source": [
    "try-except-finally\n",
    "\n",
    "Error in python can be of two types\n",
    "syntax Errors and Exceptions.\n",
    "Syntax Errors are simple to locate and deal with.However, dealing with logical errors or Exception is Somewhat difficult, and this is exactly What this article will try to cover."
   ]
  },
  {
   "cell_type": "markdown",
   "id": "c803414c",
   "metadata": {},
   "source": [
    "# Try\n",
    "\n",
    "The try block allows you to test the blocks of code where the exception is most likely to occur.In case it find or raises an exception, the control jumps straight into the Except block."
   ]
  },
  {
   "cell_type": "markdown",
   "id": "3432e5df",
   "metadata": {},
   "source": [
    "# Except\n",
    "\n",
    "If an exception is raised inside the try block, the except block is executed. it is necessary to specify an except block,always with a try block.this is where you specify What to do when an exception occurs."
   ]
  },
  {
   "cell_type": "code",
   "execution_count": 1,
   "id": "50c06dd2",
   "metadata": {},
   "outputs": [
    {
     "name": "stdout",
     "output_type": "stream",
     "text": [
      "An exception occurred\n"
     ]
    }
   ],
   "source": [
    "try:\n",
    "    print(x)\n",
    "except:\n",
    "    print(\"An exception occurred\")"
   ]
  },
  {
   "cell_type": "code",
   "execution_count": 2,
   "id": "22bed02a",
   "metadata": {},
   "outputs": [
    {
     "name": "stdout",
     "output_type": "stream",
     "text": [
      "The error occured\n",
      "30\n"
     ]
    }
   ],
   "source": [
    "try:\n",
    "    print(x)\n",
    "except:\n",
    "    print(\"The error occured\")\n",
    "a=20\n",
    "b=10\n",
    "print(a+b)"
   ]
  },
  {
   "cell_type": "markdown",
   "id": "2e3246f0",
   "metadata": {},
   "source": [
    "# Try...except\n",
    "\n",
    "The try block lets you test a block of code for errrors.\n",
    "\n",
    "The except block lets you handle the error."
   ]
  },
  {
   "cell_type": "code",
   "execution_count": 3,
   "id": "02354090",
   "metadata": {},
   "outputs": [
    {
     "name": "stdout",
     "output_type": "stream",
     "text": [
      "Error: Denominator cannot be 0.\n"
     ]
    }
   ],
   "source": [
    "try:\n",
    "    numerator=10\n",
    "    denominator=0\n",
    "    \n",
    "    result=numerator/denominator\n",
    "    print(result)\n",
    "except:\n",
    "    print(\"Error: Denominator cannot be 0.\")"
   ]
  },
  {
   "cell_type": "markdown",
   "id": "6f3228b8",
   "metadata": {},
   "source": [
    "# Catching Specific Exception In Python\n",
    "\n",
    "The try block lets you test a block of code for errors.\n",
    "\n",
    "The except block lets you handle the error."
   ]
  },
  {
   "cell_type": "code",
   "execution_count": 4,
   "id": "e61e0a9f",
   "metadata": {},
   "outputs": [
    {
     "name": "stdout",
     "output_type": "stream",
     "text": [
      "Variable x is not defined\n"
     ]
    }
   ],
   "source": [
    "try:\n",
    "    print(x)\n",
    "except NameError:\n",
    "    print(\"Variable x is not defined\")\n",
    "except:\n",
    "    print(\"Something else went wrong\")"
   ]
  },
  {
   "cell_type": "code",
   "execution_count": 5,
   "id": "8fa1f625",
   "metadata": {},
   "outputs": [
    {
     "name": "stdout",
     "output_type": "stream",
     "text": [
      "Index out of bound\n"
     ]
    }
   ],
   "source": [
    "try:\n",
    "    even=[2,4,6,8,10]\n",
    "    print(even[5])\n",
    "    print(even[1]/0)\n",
    "    \n",
    "except ZeroDivisionError:\n",
    "    print(\"denominator cant be zero\")\n",
    "    \n",
    "except IndexError:\n",
    "    print(\"Index out of bound\")"
   ]
  },
  {
   "cell_type": "markdown",
   "id": "d07d587f",
   "metadata": {},
   "source": [
    "# Python try with else clause:\n",
    "\n",
    "You can use the else keyword to define a block of code to be executed if no errors were raised."
   ]
  },
  {
   "cell_type": "code",
   "execution_count": 6,
   "id": "ec99e2c9",
   "metadata": {},
   "outputs": [
    {
     "name": "stdout",
     "output_type": "stream",
     "text": [
      "Hello\n",
      "Nothing went wrong\n"
     ]
    }
   ],
   "source": [
    "try:\n",
    "    print(\"Hello\")\n",
    "except:\n",
    "    print(\"Something went wrong\")\n",
    "else:\n",
    "    print(\"Nothing went wrong\")"
   ]
  },
  {
   "cell_type": "code",
   "execution_count": 7,
   "id": "802bbe96",
   "metadata": {},
   "outputs": [
    {
     "name": "stdout",
     "output_type": "stream",
     "text": [
      "Enter the number:0\n",
      "The error:  division by zero\n"
     ]
    }
   ],
   "source": [
    "x=int(input(\"Enter the number:\"))\n",
    "try:\n",
    "    result=10/x\n",
    "except Exception as error:\n",
    "    print(\"The error: \",error)\n",
    "else:\n",
    "    print(\"Program sucessfully executed\")\n",
    "    print(\"result=\",result)"
   ]
  },
  {
   "cell_type": "markdown",
   "id": "e3b6cfe7",
   "metadata": {},
   "source": [
    "# Python try....except....finally\n",
    "\n",
    "The finally block,if specifyied,will be exected regardless if the try block raises an error or not."
   ]
  },
  {
   "cell_type": "code",
   "execution_count": 8,
   "id": "5f4232aa",
   "metadata": {},
   "outputs": [
    {
     "name": "stdout",
     "output_type": "stream",
     "text": [
      "Hello\n",
      "The 'try except' is finished\n"
     ]
    }
   ],
   "source": [
    "try:\n",
    "    print(\"Hello\")\n",
    "except:\n",
    "    print(\"Something went wrong\")\n",
    "finally:\n",
    "    print(\"The 'try except' is finished\")"
   ]
  },
  {
   "cell_type": "code",
   "execution_count": 9,
   "id": "f9b44010",
   "metadata": {},
   "outputs": [
    {
     "name": "stdout",
     "output_type": "stream",
     "text": [
      "The error: name 'h' is not defined\n",
      "Thankzz!\n"
     ]
    }
   ],
   "source": [
    "try:\n",
    "    print(h)\n",
    "except Exception as error:\n",
    "    print(\"The error:\",error)\n",
    "finally:\n",
    "    print(\"Thankzz!\")"
   ]
  }
 ],
 "metadata": {
  "kernelspec": {
   "display_name": "Python 3 (ipykernel)",
   "language": "python",
   "name": "python3"
  },
  "language_info": {
   "codemirror_mode": {
    "name": "ipython",
    "version": 3
   },
   "file_extension": ".py",
   "mimetype": "text/x-python",
   "name": "python",
   "nbconvert_exporter": "python",
   "pygments_lexer": "ipython3",
   "version": "3.9.13"
  }
 },
 "nbformat": 4,
 "nbformat_minor": 5
}
