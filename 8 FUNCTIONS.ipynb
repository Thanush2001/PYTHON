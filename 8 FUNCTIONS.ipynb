{
 "cells": [
  {
   "cell_type": "raw",
   "id": "24b9ee9e",
   "metadata": {},
   "source": [
    " Self contain block of codes to performs same task."
   ]
  },
  {
   "cell_type": "markdown",
   "id": "a9535c3d",
   "metadata": {},
   "source": [
    "# FUNCTION TYPES:"
   ]
  },
  {
   "cell_type": "raw",
   "id": "8dcaaa06",
   "metadata": {},
   "source": [
    "(i)  Pre defined Function \n",
    "(ii) User defined Function\n",
    "    FOUR TYPES\n",
    "    (i)  Function with argument and  with return value.\n",
    "    (ii) Function with argument and  without return value.\n",
    "    (iii)Function without argument and  with return value.\n",
    "    (iv) Function without argument and  without return value."
   ]
  },
  {
   "cell_type": "raw",
   "id": "ac7ff132",
   "metadata": {},
   "source": [
    "#Example: with-with\n",
    "\n",
    "a=10          \n",
    "b=20\n",
    "c=appu(a,b)        (a,b)=actual argument, appu=function name, appu(a,b)=calling function\n",
    "print(c)\n",
    "def appu(x,y):     (x,y)=formal argument\n",
    "    return(x+y)    (x+y)=called function."
   ]
  },
  {
   "cell_type": "raw",
   "id": "b5c80073",
   "metadata": {},
   "source": [
    "i) Actual Aruguments:\n",
    "    it is used to pass the value from main to sub function.\n",
    "ii)Formal Aruguments:\n",
    "    it is used to receive the values from main to sub function.\n",
    "iii)Keyword:\n",
    "    Keyword is used to return a single value from called function to calling function."
   ]
  },
  {
   "cell_type": "markdown",
   "id": "865c391a",
   "metadata": {},
   "source": [
    "# Add two numbers using function:"
   ]
  },
  {
   "cell_type": "code",
   "execution_count": 1,
   "id": "42e11b92",
   "metadata": {},
   "outputs": [
    {
     "name": "stdout",
     "output_type": "stream",
     "text": [
      "enter the values a=7\n",
      "enter the values b=7\n",
      "sum= 14\n"
     ]
    }
   ],
   "source": [
    "#Function with argument and with return value:\n",
    "\n",
    "def appu(x,y):\n",
    "    return(x+y)\n",
    "a=int(input(\"enter the values a=\"))\n",
    "b=int(input(\"enter the values b=\"))\n",
    "c=appu(a,b)\n",
    "print(\"sum=\",c)"
   ]
  },
  {
   "cell_type": "code",
   "execution_count": 2,
   "id": "b26cf5b7",
   "metadata": {},
   "outputs": [
    {
     "name": "stdout",
     "output_type": "stream",
     "text": [
      "enter the values a=8\n",
      "enter the values b=8\n",
      "sum= 16\n"
     ]
    }
   ],
   "source": [
    "#Function with argument and without return value:\n",
    "\n",
    "def appu(x,y):\n",
    "    print(\"sum=\",x+y)\n",
    "a=int(input(\"enter the values a=\"))\n",
    "b=int(input(\"enter the values b=\"))\n",
    "c=appu(a,b)"
   ]
  },
  {
   "cell_type": "code",
   "execution_count": 3,
   "id": "661f2f2c",
   "metadata": {},
   "outputs": [
    {
     "name": "stdout",
     "output_type": "stream",
     "text": [
      "enter the values a=6\n",
      "enter the values b=6\n",
      "sum= 12\n"
     ]
    }
   ],
   "source": [
    "#Function without argument and with return value:\n",
    "\n",
    "def appu(x,y):\n",
    "    a=int(input(\"enter the values a=\"))\n",
    "    b=int(input(\"enter the values b=\"))\n",
    "    return(a+b)\n",
    "c=appu(a,b)\n",
    "print(\"sum=\",c)"
   ]
  },
  {
   "cell_type": "code",
   "execution_count": 4,
   "id": "e04294f8",
   "metadata": {},
   "outputs": [
    {
     "name": "stdout",
     "output_type": "stream",
     "text": [
      "enter the values a=5\n",
      "enter the values b=5\n",
      "sum= 10\n"
     ]
    }
   ],
   "source": [
    "#Function without argument and without return value:\n",
    "\n",
    "def appu():\n",
    "    a=int(input(\"enter the values a=\"))\n",
    "    b=int(input(\"enter the values b=\"))\n",
    "    print(\"sum=\",a+b)\n",
    "appu()\n"
   ]
  },
  {
   "cell_type": "code",
   "execution_count": 5,
   "id": "9c698f28",
   "metadata": {},
   "outputs": [
    {
     "name": "stdout",
     "output_type": "stream",
     "text": [
      "enter the values a=4\n",
      "enter the values b=4\n",
      "8\n"
     ]
    }
   ],
   "source": [
    " # with-without\n",
    "    \n",
    "def appu(x,y):            \n",
    "    print(x+y)            #c=x+y   #print(c)\n",
    "a=int(input(\"enter the values a=\"))\n",
    "b=int(input(\"enter the values b=\"))\n",
    "appu(a,b)        "
   ]
  },
  {
   "cell_type": "code",
   "execution_count": 6,
   "id": "9df73c93",
   "metadata": {},
   "outputs": [
    {
     "name": "stdout",
     "output_type": "stream",
     "text": [
      "enter the values a=3\n",
      "enter the values b=3\n",
      "6\n"
     ]
    }
   ],
   "source": [
    "# without-with:\n",
    "\n",
    "def appu():\n",
    "    a=int(input(\"enter the values a=\"))\n",
    "    b=int(input(\"enter the values b=\"))\n",
    "    return(a+b)\n",
    "\n",
    "c=appu()\n",
    "print(c)"
   ]
  },
  {
   "cell_type": "code",
   "execution_count": 7,
   "id": "f9c3a3e6",
   "metadata": {},
   "outputs": [
    {
     "name": "stdout",
     "output_type": "stream",
     "text": [
      "enter the values a=7\n",
      "enter the values b=7\n",
      "14\n"
     ]
    }
   ],
   "source": [
    "# without-without:\n",
    "\n",
    "def appu(x,y):\n",
    "    a=int(input(\"enter the values a=\"))\n",
    "    b=int(input(\"enter the values b=\"))\n",
    "    c=a+b\n",
    "    print(c)\n",
    "    \n",
    "appu(a,b)"
   ]
  },
  {
   "cell_type": "markdown",
   "id": "40801b1e",
   "metadata": {},
   "source": [
    "# Sum of n numbers using function:"
   ]
  },
  {
   "cell_type": "code",
   "execution_count": 8,
   "id": "3a748e26",
   "metadata": {},
   "outputs": [
    {
     "name": "stdout",
     "output_type": "stream",
     "text": [
      "1\n",
      "3\n",
      "6\n",
      "10\n",
      "15\n"
     ]
    }
   ],
   "source": [
    "# Find the sum of 1 to n numbers using functions:\n",
    "\n",
    "s=0\n",
    "n=5\n",
    "for i in range(1,n+1):\n",
    "    s=s+i\n",
    "    print(s)"
   ]
  },
  {
   "cell_type": "code",
   "execution_count": 9,
   "id": "ff783218",
   "metadata": {},
   "outputs": [
    {
     "name": "stdout",
     "output_type": "stream",
     "text": [
      "15\n"
     ]
    }
   ],
   "source": [
    "# with-with sum of n numbers:\n",
    "\n",
    "def sum(x):\n",
    "    s=0\n",
    "    for i in range(1,x+1):\n",
    "        s=s+i\n",
    "    return(s)\n",
    "n=5\n",
    "p=sum(n)\n",
    "print(p)"
   ]
  },
  {
   "cell_type": "code",
   "execution_count": 10,
   "id": "5fdb1d85",
   "metadata": {},
   "outputs": [],
   "source": [
    "# with-without   sum of n numbers:\n",
    "\n",
    "n=5\n",
    "sum(n)\n",
    "\n",
    "def sum(x):\n",
    "    s=0\n",
    "    for i in range(1,x+1):\n",
    "        s=s+i\n",
    "    print(s)     "
   ]
  },
  {
   "cell_type": "code",
   "execution_count": 11,
   "id": "17f72e0e",
   "metadata": {},
   "outputs": [
    {
     "name": "stdout",
     "output_type": "stream",
     "text": [
      "15\n"
     ]
    }
   ],
   "source": [
    "# without-with   sum of n numbers:\n",
    "\n",
    "def sum():\n",
    "    x=5\n",
    "    s=0\n",
    "    for i in range(1,x+1):\n",
    "        s=s+i\n",
    "    return(s)\n",
    "\n",
    "y=sum()\n",
    "print(y)"
   ]
  },
  {
   "cell_type": "code",
   "execution_count": 12,
   "id": "79139e6b",
   "metadata": {},
   "outputs": [],
   "source": [
    "# without-without   sum of n numbers:\n",
    "\n",
    "sum()\n",
    "\n",
    "def sum():\n",
    "    x=5\n",
    "    s=0\n",
    "    for i in range(1,x+1):\n",
    "        s=s+i        \n",
    "    print(s)                                   "
   ]
  },
  {
   "cell_type": "markdown",
   "id": "0d68c61f",
   "metadata": {},
   "source": [
    "# Reverse number using function:\n"
   ]
  },
  {
   "cell_type": "code",
   "execution_count": 13,
   "id": "ed007e33",
   "metadata": {},
   "outputs": [
    {
     "name": "stdout",
     "output_type": "stream",
     "text": [
      "541\n"
     ]
    }
   ],
   "source": [
    "# with-with\n",
    "\n",
    "def reverse(x):\n",
    "    s=0\n",
    "    while(x>0):\n",
    "        s=s*10+x%10\n",
    "        x=x//10\n",
    "    return(s)\n",
    "n=145\n",
    "p=reverse(n)\n",
    "print(p)"
   ]
  },
  {
   "cell_type": "code",
   "execution_count": 14,
   "id": "e9e13ed3",
   "metadata": {},
   "outputs": [
    {
     "name": "stdout",
     "output_type": "stream",
     "text": [
      "541\n"
     ]
    }
   ],
   "source": [
    " # with-without\n",
    "\n",
    "def reverse(x):\n",
    "    s=0\n",
    "    while(x>0):\n",
    "        s=s*10+x%10\n",
    "        x=x//10\n",
    "    print(s)\n",
    "n=145\n",
    "reverse(n)"
   ]
  },
  {
   "cell_type": "code",
   "execution_count": 15,
   "id": "7a7f79c1",
   "metadata": {},
   "outputs": [
    {
     "name": "stdout",
     "output_type": "stream",
     "text": [
      "541\n"
     ]
    }
   ],
   "source": [
    "# without-with\n",
    "\n",
    "def reverse():\n",
    "    s=0\n",
    "    x=145\n",
    "    while(x>0):\n",
    "        r=x%10\n",
    "        s=s*10+r\n",
    "        x=x//10\n",
    "    return(s)\n",
    "\n",
    "p=reverse()\n",
    "print(p)"
   ]
  },
  {
   "cell_type": "code",
   "execution_count": 16,
   "id": "39db03e6",
   "metadata": {},
   "outputs": [
    {
     "name": "stdout",
     "output_type": "stream",
     "text": [
      "541\n"
     ]
    }
   ],
   "source": [
    "# without-without\n",
    "\n",
    "def reverse():\n",
    "    s=0\n",
    "    x=145\n",
    "    while(x>0):\n",
    "        r=x%10\n",
    "        s=s*10+r\n",
    "        x=x//10\n",
    "    print(s)\n",
    "\n",
    "reverse()"
   ]
  },
  {
   "cell_type": "markdown",
   "id": "83d63d7b",
   "metadata": {},
   "source": [
    "# Prime number using functions:"
   ]
  },
  {
   "cell_type": "code",
   "execution_count": 17,
   "id": "535a82aa",
   "metadata": {},
   "outputs": [
    {
     "name": "stdout",
     "output_type": "stream",
     "text": [
      "enter the value x=2\n",
      "prime number\n"
     ]
    }
   ],
   "source": [
    "# with-with:\n",
    "\n",
    "def prime(n):\n",
    "    c=0\n",
    "    for i in range(1,x+1):\n",
    "        if(x%i==0):\n",
    "            c=c+1\n",
    "    return(c)\n",
    "x=int(input(\"enter the value x=\"))\n",
    "p=prime(x)\n",
    "if(p==2):\n",
    "    print(\"prime number\")\n",
    "else:\n",
    "    print(\"composit number\")"
   ]
  },
  {
   "cell_type": "code",
   "execution_count": 18,
   "id": "02c7a805",
   "metadata": {},
   "outputs": [
    {
     "name": "stdout",
     "output_type": "stream",
     "text": [
      "enter the value x=4\n",
      "composit number\n"
     ]
    }
   ],
   "source": [
    "# with-without:\n",
    "\n",
    "def prime(n):\n",
    "    c=0\n",
    "    for i in range(1,x+1):\n",
    "        if(x%i==0):\n",
    "            c=c+1\n",
    "    if(c==2):\n",
    "        print(\"prime number\")\n",
    "    else:\n",
    "        print(\"composit number\")\n",
    "    \n",
    "x=int(input(\"enter the value x=\"))\n",
    "prime(x)"
   ]
  },
  {
   "cell_type": "code",
   "execution_count": 19,
   "id": "753c03e3",
   "metadata": {},
   "outputs": [
    {
     "name": "stdout",
     "output_type": "stream",
     "text": [
      "enter the value x=2\n",
      "prime number\n"
     ]
    }
   ],
   "source": [
    "# without-with:\n",
    "\n",
    "def prime(n):\n",
    "    c=0\n",
    "    x=int(input(\"enter the value x=\"))\n",
    "    for i in range(1,x+1):\n",
    "        if(x%i==0):\n",
    "            c=c+1\n",
    "    return(c)\n",
    "\n",
    "y=prime(x)\n",
    "if(y==2):\n",
    "    print(\"prime number\")\n",
    "else:\n",
    "    print(\"composit number\")"
   ]
  },
  {
   "cell_type": "code",
   "execution_count": 20,
   "id": "62dd368a",
   "metadata": {},
   "outputs": [
    {
     "name": "stdout",
     "output_type": "stream",
     "text": [
      "enter the value x=4\n",
      "composit number\n"
     ]
    }
   ],
   "source": [
    "# without-without:\n",
    "\n",
    "def prime():\n",
    "    c=0\n",
    "    x=int(input(\"enter the value x=\"))\n",
    "    for i in range(1,x+1):\n",
    "        if(x%i==0):\n",
    "            c=c+1\n",
    "    if(c==2):\n",
    "        print(\"prime number\")\n",
    "    else:\n",
    "        print(\"composit number\")\n",
    "    \n",
    "prime()"
   ]
  },
  {
   "cell_type": "markdown",
   "id": "2a6be6d3",
   "metadata": {},
   "source": [
    "# Adam number or not using function:"
   ]
  },
  {
   "cell_type": "code",
   "execution_count": 21,
   "id": "597248ba",
   "metadata": {},
   "outputs": [
    {
     "name": "stdout",
     "output_type": "stream",
     "text": [
      "enter the value x=12\n",
      "Adam number\n"
     ]
    }
   ],
   "source": [
    "# with-with:\n",
    "\n",
    "def adam(n):\n",
    "    s=0\n",
    "    while(n>0):\n",
    "        r=n%10\n",
    "        s=s*10+r\n",
    "        n=n//10\n",
    "    y=s**2\n",
    "    s1=0\n",
    "    while(y>0):\n",
    "        r=y%10\n",
    "        s1=s1*10+r\n",
    "        y=y//10\n",
    "    return(s1)\n",
    "x=int(input(\"enter the value x=\"))\n",
    "p=x**2\n",
    "l=adam(x)\n",
    "if(p==l):\n",
    "    print(\"Adam number\")\n",
    "else:\n",
    "    print(\"Not Adam number\")"
   ]
  },
  {
   "cell_type": "code",
   "execution_count": 22,
   "id": "27683876",
   "metadata": {},
   "outputs": [
    {
     "name": "stdout",
     "output_type": "stream",
     "text": [
      "enter the value n=14\n",
      "Not Adam number\n"
     ]
    }
   ],
   "source": [
    "# with-without:\n",
    "\n",
    "def adam(n):\n",
    "    s=0\n",
    "    x=n\n",
    "    p=x**2\n",
    "    while(n>0):\n",
    "        r=n%10\n",
    "        s=s*10+r\n",
    "        n=n//10\n",
    "    y=s**2\n",
    "    s1=0\n",
    "    while(y>0):\n",
    "        r=y%10\n",
    "        s1=s1*10+r\n",
    "        y=y//10\n",
    "    if(p==s1):\n",
    "        print(\"Adam number\")\n",
    "    else:\n",
    "        print(\"Not Adam number\")\n",
    "n=int(input(\"enter the value n=\"))\n",
    "adam(n)"
   ]
  },
  {
   "cell_type": "code",
   "execution_count": 23,
   "id": "14fabbc3",
   "metadata": {},
   "outputs": [
    {
     "name": "stdout",
     "output_type": "stream",
     "text": [
      "enter the value n=12\n",
      "Adam number\n"
     ]
    }
   ],
   "source": [
    "# without-without:\n",
    "\n",
    "def adam():\n",
    "    s=0\n",
    "    n=int(input(\"enter the value n=\"))\n",
    "    p=n**2\n",
    "    while(n>0):\n",
    "        r=n%10\n",
    "        s=s*10+r\n",
    "        n=n//10\n",
    "    y=s**2\n",
    "    s1=0\n",
    "    while(y>0):\n",
    "        r=y%10\n",
    "        s1=s1*10+r\n",
    "        y=y//10\n",
    "    if(p==s1):\n",
    "        print(\"Adam number\")\n",
    "    else:\n",
    "        print(\"Not Adam number\")\n",
    "adam()"
   ]
  },
  {
   "cell_type": "markdown",
   "id": "d68de866",
   "metadata": {},
   "source": [
    "# Strong number or not using function:"
   ]
  },
  {
   "cell_type": "code",
   "execution_count": 24,
   "id": "f3eec913",
   "metadata": {},
   "outputs": [
    {
     "name": "stdout",
     "output_type": "stream",
     "text": [
      "enter the value n=145\n",
      "strong number\n"
     ]
    }
   ],
   "source": [
    "# with-with:\n",
    "\n",
    "def strong(n):\n",
    "    s=0\n",
    "    while(n>0):\n",
    "        r=n%10\n",
    "        f=1\n",
    "        for i in range(1,r+1):\n",
    "            f=f*i\n",
    "        s=s+f\n",
    "        n=n//10\n",
    "    return(s)\n",
    "n=int(input(\"enter the value n=\"))\n",
    "p=strong(n)\n",
    "if(p==n):\n",
    "    print(\"strong number\")\n",
    "else:\n",
    "    print(\"not strong number\")"
   ]
  },
  {
   "cell_type": "code",
   "execution_count": 25,
   "id": "7a38e0a4",
   "metadata": {},
   "outputs": [
    {
     "name": "stdout",
     "output_type": "stream",
     "text": [
      "enter the value n=25\n",
      "122\n",
      "not strong number\n"
     ]
    }
   ],
   "source": [
    "# with-without:\n",
    "\n",
    "def strong(n):\n",
    "    s=0\n",
    "    x=n\n",
    "    while(n>0):\n",
    "        r=n%10\n",
    "        f=1\n",
    "        for i in range(1,r+1):\n",
    "            f=f*i\n",
    "        s=s+f\n",
    "        n=n//10\n",
    "    print(s)\n",
    "    if(s==x):\n",
    "        print(\"strong number\")\n",
    "    else:\n",
    "        print(\"not strong number\")\n",
    "\n",
    "n=int(input(\"enter the value n=\"))\n",
    "strong(n)"
   ]
  },
  {
   "cell_type": "code",
   "execution_count": 26,
   "id": "09990959",
   "metadata": {},
   "outputs": [
    {
     "name": "stdout",
     "output_type": "stream",
     "text": [
      "enter the value n=145\n",
      "strong number\n"
     ]
    }
   ],
   "source": [
    "# without-without:\n",
    "\n",
    "def strong():\n",
    "    s=0\n",
    "    n=int(input(\"enter the value n=\"))\n",
    "    x=n\n",
    "    while(n>0):\n",
    "        r=n%10\n",
    "        f=1\n",
    "        for i in range(1,r+1):\n",
    "            f=f*i\n",
    "        s=s+f\n",
    "        n=n//10\n",
    "    if(x==s):\n",
    "        print(\"strong number\")\n",
    "    else:\n",
    "        print(\"not strong number\")\n",
    "\n",
    "strong()"
   ]
  },
  {
   "cell_type": "markdown",
   "id": "036cfb95",
   "metadata": {},
   "source": [
    "# Perfect number or not using functions:"
   ]
  },
  {
   "cell_type": "code",
   "execution_count": 27,
   "id": "d4076afc",
   "metadata": {},
   "outputs": [
    {
     "name": "stdout",
     "output_type": "stream",
     "text": [
      "enter the values x=6\n",
      "perfect number\n"
     ]
    }
   ],
   "source": [
    "# with-with:\n",
    "\n",
    "def perfect(n):\n",
    "    c=0\n",
    "    for i in range(1,n):\n",
    "        if(n%i==0):\n",
    "            c=c+i\n",
    "    return(c)\n",
    "x=int(input(\"enter the values x=\"))\n",
    "p=perfect(x)\n",
    "if(p==x):\n",
    "    print(\"perfect number\")\n",
    "else:\n",
    "    print(\"not perfect number\")"
   ]
  },
  {
   "cell_type": "code",
   "execution_count": 28,
   "id": "d6df2d77",
   "metadata": {},
   "outputs": [
    {
     "name": "stdout",
     "output_type": "stream",
     "text": [
      "enter the values n=8\n",
      "not perfect number\n"
     ]
    }
   ],
   "source": [
    "# with-without:\n",
    "\n",
    "def perfect(n):\n",
    "    c=0\n",
    "    x=n\n",
    "    for i in range(1,n):\n",
    "        if(n%i==0):\n",
    "            c=c+i\n",
    "    if(c==n):\n",
    "        print(\"perfect number\")\n",
    "    else:\n",
    "        print(\"not perfect number\")\n",
    "n=int(input(\"enter the values n=\"))\n",
    "perfect(n)"
   ]
  },
  {
   "cell_type": "code",
   "execution_count": 29,
   "id": "9cc75c93",
   "metadata": {},
   "outputs": [
    {
     "name": "stdout",
     "output_type": "stream",
     "text": [
      "enter the values n=6\n",
      "perfect number\n"
     ]
    }
   ],
   "source": [
    "# without-without:\n",
    "\n",
    "def perfect():\n",
    "    c=0\n",
    "    n=int(input(\"enter the values n=\"))\n",
    "    x=n\n",
    "    for i in range(1,n):\n",
    "        if(n%i==0):\n",
    "            c=c+i\n",
    "    if(c==n):\n",
    "        print(\"perfect number\")\n",
    "    else:\n",
    "        print(\"not perfect number\")\n",
    "\n",
    "perfect()"
   ]
  },
  {
   "cell_type": "markdown",
   "id": "b9bbdc74",
   "metadata": {},
   "source": [
    "# ONE MAIN FUNCTION AS NUMBER AF SUB FUNCTION:"
   ]
  },
  {
   "cell_type": "code",
   "execution_count": 30,
   "id": "9553198f",
   "metadata": {},
   "outputs": [
    {
     "name": "stdout",
     "output_type": "stream",
     "text": [
      "12\n",
      "8\n",
      "20\n",
      "5.0\n"
     ]
    }
   ],
   "source": [
    "# PROGRAM:\n",
    "\n",
    "def add(x,y):\n",
    "    return(x+y)\n",
    "def sub(x,y):\n",
    "    return(x-y)\n",
    "def mul():\n",
    "    a=10\n",
    "    b=2\n",
    "    return(a*b)\n",
    "def div():\n",
    "    a=10\n",
    "    b=2\n",
    "    return(a/b)\n",
    "a=10\n",
    "b=2\n",
    "c=add(a,b)\n",
    "print(c)\n",
    "c=sub(a,b)\n",
    "print(c)\n",
    "c=mul()\n",
    "print(c)\n",
    "d=div()\n",
    "print(d)"
   ]
  },
  {
   "cell_type": "raw",
   "id": "a2b384ee",
   "metadata": {},
   "source": [
    "i)   sum of 1 to n number= with-with\n",
    "ii)  fibonacci= with-without\n",
    "iii) reverse= without-with\n",
    "iv)  palindrome= without-wothout"
   ]
  },
  {
   "cell_type": "code",
   "execution_count": 31,
   "id": "65e64a7d",
   "metadata": {},
   "outputs": [
    {
     "name": "stdout",
     "output_type": "stream",
     "text": [
      "enter the value x=5\n",
      "sum= 15\n",
      "enter the value x=5\n",
      "1\n",
      "2\n",
      "3\n",
      "5\n",
      "8\n",
      "enter the value x=541\n",
      "reverse= 145\n",
      "enter the value n=121\n",
      "121\n",
      "it is a palindrome\n"
     ]
    }
   ],
   "source": [
    "# Program :\n",
    "\n",
    "def sum(x):\n",
    "    s=0\n",
    "    for i in range(1,x+1):\n",
    "        s=s+i\n",
    "    return(s)\n",
    "\n",
    "def fibonacci(x):\n",
    "    a=0\n",
    "    b=1\n",
    "    for i in range(1,x+1):\n",
    "        c=a+b\n",
    "        print(c)\n",
    "        a=b\n",
    "        b=c\n",
    "\n",
    "def reverse():\n",
    "    s=0\n",
    "    x=int(input(\"enter the value x=\"))\n",
    "    while(x>0):\n",
    "        s=s*10+x%10\n",
    "        x=x//10\n",
    "    return(s)\n",
    "\n",
    "def palindrome():\n",
    "    n=int(input(\"enter the value n=\"))\n",
    "    x=n\n",
    "    s=0\n",
    "    while(n>0):\n",
    "        r=n%10\n",
    "        s=s*10+r\n",
    "        n=n//10\n",
    "    print(s)\n",
    "    if(s==x):\n",
    "        print(\"it is a palindrome\")\n",
    "    else:\n",
    "        print(\"it is not a palindrome\")\n",
    "        \n",
    "x=int(input(\"enter the value x=\"))\n",
    "f=sum(x)\n",
    "print(\"sum=\",f)\n",
    "x=int(input(\"enter the value x=\"))\n",
    "fibonacci(x)\n",
    "a=reverse()\n",
    "print(\"reverse=\",a)\n",
    "palindrome()"
   ]
  },
  {
   "cell_type": "markdown",
   "id": "2f246b8d",
   "metadata": {},
   "source": [
    "# KEYWORDS:"
   ]
  },
  {
   "cell_type": "raw",
   "id": "a2f22992",
   "metadata": {},
   "source": [
    "i)   Break\n",
    "ii)  Continue\n",
    "iii) pass"
   ]
  },
  {
   "cell_type": "code",
   "execution_count": 32,
   "id": "09f3904d",
   "metadata": {},
   "outputs": [
    {
     "name": "stdout",
     "output_type": "stream",
     "text": [
      "keys\n",
      "keys\n"
     ]
    }
   ],
   "source": [
    "for i in range(1,10):\n",
    "    if(i%3==0):\n",
    "        break      #Break is a keyword used to terminal the entire block or loop.\n",
    "    print(\"keys\")"
   ]
  },
  {
   "cell_type": "code",
   "execution_count": 33,
   "id": "2038ed6b",
   "metadata": {},
   "outputs": [
    {
     "name": "stdout",
     "output_type": "stream",
     "text": [
      "1\n",
      "2\n",
      "4\n",
      "5\n",
      "7\n",
      "8\n"
     ]
    }
   ],
   "source": [
    "for i in range(1,10):\n",
    "    if(i%3==0):\n",
    "        continue\n",
    "    print(i)"
   ]
  },
  {
   "cell_type": "code",
   "execution_count": 34,
   "id": "368e2431",
   "metadata": {},
   "outputs": [
    {
     "name": "stdout",
     "output_type": "stream",
     "text": [
      "ABC\n",
      "ABC\n",
      "ABC\n",
      "ABC\n",
      "ABC\n",
      "ABC\n",
      "ABC\n",
      "ABC\n",
      "ABC\n"
     ]
    }
   ],
   "source": [
    "for i in range(1,10):\n",
    "    if(i==3):\n",
    "        pass\n",
    "    print(\"ABC\")"
   ]
  },
  {
   "cell_type": "code",
   "execution_count": 35,
   "id": "97452c1b",
   "metadata": {},
   "outputs": [
    {
     "name": "stdout",
     "output_type": "stream",
     "text": [
      "1060\n"
     ]
    }
   ],
   "source": [
    "s=0\n",
    "for i in range(1,101):\n",
    "    c=0\n",
    "    for j in range (1,i+1):\n",
    "        if(i%j==0):\n",
    "            c=c+1\n",
    "    if(c==2):\n",
    "        s=s+i\n",
    "print(s)"
   ]
  },
  {
   "cell_type": "code",
   "execution_count": 36,
   "id": "0ae04f05",
   "metadata": {},
   "outputs": [
    {
     "name": "stdout",
     "output_type": "stream",
     "text": [
      "enter the value x=1000\n",
      "No of amstrong is= 5\n"
     ]
    }
   ],
   "source": [
    "# no of amstrong:\n",
    "\n",
    "m=0\n",
    "x=int(input(\"enter the value x=\"))\n",
    "for j in range(1,x+1):\n",
    "    y=j\n",
    "    s=0\n",
    "    while(j>0):\n",
    "        r=j%10\n",
    "        s=s+r**3\n",
    "        j=j//10\n",
    "    if(y==s):\n",
    "        m=m+1\n",
    "print(\"No of amstrong is=\",m)"
   ]
  },
  {
   "cell_type": "code",
   "execution_count": 37,
   "id": "59e3bc37",
   "metadata": {},
   "outputs": [
    {
     "name": "stdout",
     "output_type": "stream",
     "text": [
      "Enter the choice\n",
      "1.add=\n",
      "2.sub=\n",
      "3.mul=\n",
      "4.div=3\n",
      "30\n"
     ]
    }
   ],
   "source": [
    "# choice code: example: ATM machine\n",
    "\n",
    "def add(x,y):\n",
    "    return(x+y)\n",
    "def sub(x,y):\n",
    "    print(x-y)\n",
    "def mul():\n",
    "    a=10\n",
    "    b=3\n",
    "    return(a*b)\n",
    "def div():\n",
    "    a=100\n",
    "    b=50\n",
    "    print(a/b)\n",
    "ch=int(input(\"Enter the choice\\n1.add=\\n2.sub=\\n3.mul=\\n4.div=\"))\n",
    "if(ch==1):\n",
    "    a=10\n",
    "    b=2\n",
    "    c=add(a,b)\n",
    "    print(c)\n",
    "elif(ch==2):\n",
    "    a=10\n",
    "    b=2\n",
    "    sub(a,b)\n",
    "elif(ch==3):\n",
    "    c=mul()\n",
    "    print(c)\n",
    "elif(ch==4):\n",
    "    div()\n",
    "else:\n",
    "    print(\"Wrong Choice\")"
   ]
  },
  {
   "cell_type": "code",
   "execution_count": 38,
   "id": "37ae3b05",
   "metadata": {},
   "outputs": [
    {
     "name": "stdout",
     "output_type": "stream",
     "text": [
      "Enter the choice\n",
      "1.sum of 1 to n\n",
      "2.fibonacci\n",
      "3.reverse\n",
      "4.palindrome=2\n",
      "enter the value x=5\n",
      "1\n",
      "2\n",
      "3\n",
      "5\n",
      "8\n"
     ]
    }
   ],
   "source": [
    "# choice code :\n",
    "\n",
    "def sum(x):\n",
    "    s=0\n",
    "    for i in range(1,x+1):\n",
    "        s=s+i\n",
    "    return(s)\n",
    "def fibonacci(x):\n",
    "    a=0\n",
    "    b=1\n",
    "    for i in range(1,x+1):\n",
    "        c=a+b\n",
    "        print(c)\n",
    "        a=b\n",
    "        b=c\n",
    "def reverse():\n",
    "    s=0\n",
    "    x=int(input(\"enter the value x=\"))\n",
    "    while(x>0):\n",
    "        s=s*10+x%10\n",
    "        x=x//10\n",
    "    return(s)\n",
    "def palindrome():\n",
    "    n=int(input(\"enter the value n=\"))\n",
    "    x=n\n",
    "    s=0\n",
    "    while(n>0):\n",
    "        r=n%10\n",
    "        s=s*10+r\n",
    "        n=n//10\n",
    "    print(s)\n",
    "    if(s==x):\n",
    "        print(\"it is a palindrome\")\n",
    "    else:\n",
    "        print(\"it is not a palindrome\")\n",
    "        \n",
    "ch=int(input(\"Enter the choice\\n1.sum of 1 to n\\n2.fibonacci\\n3.reverse\\n4.palindrome=\"))\n",
    "if(ch==1):\n",
    "    x=int(input(\"enter the value x=\"))\n",
    "    f=sum(x)\n",
    "    print(\"sum=\",f)\n",
    "elif(ch==2):\n",
    "    x=int(input(\"enter the value x=\"))\n",
    "    fibonacci(x)\n",
    "elif(ch==3):\n",
    "    a=reverse()\n",
    "    print(\"reverse=\",a)\n",
    "elif(ch==4):\n",
    "    palindrome()\n",
    "else:\n",
    "    print(\"Wrong Choice\")"
   ]
  },
  {
   "cell_type": "code",
   "execution_count": 39,
   "id": "87a53775",
   "metadata": {},
   "outputs": [
    {
     "name": "stdout",
     "output_type": "stream",
     "text": [
      "Enter the Choice1.amstrong in 2. strong in 3.reverse in 4.sum of 1 to n=1\n",
      "enter the values n=153\n",
      "153\n",
      "amstrong\n"
     ]
    }
   ],
   "source": [
    "#choice code:\n",
    "\n",
    "def amstrong(x):\n",
    "    s=0\n",
    "    while(x>0):\n",
    "        r=x%10\n",
    "        s=s+r**3\n",
    "        x=x//10\n",
    "    return(s)\n",
    "def strong():\n",
    "    s=0\n",
    "    n=int(input(\"enter the value n=\"))\n",
    "    x=n\n",
    "    while(n>0):\n",
    "        r=n%10\n",
    "        f=1\n",
    "        for i in range(1,r+1):\n",
    "            f=f*i\n",
    "        s=s+f\n",
    "        n=n//10\n",
    "    if(x==s):\n",
    "        print(\"strong number\")\n",
    "    else:\n",
    "        print(\"not strong number\")\n",
    "def reverse():\n",
    "    s=0\n",
    "    x=145\n",
    "    while(x>0):\n",
    "        r=x%10\n",
    "        s=s*10+r\n",
    "        x=x//10\n",
    "    return(s)\n",
    "def sum(x):\n",
    "    s=0\n",
    "    for i in range(1,x+1):\n",
    "        s=s+i\n",
    "    return(s)\n",
    "x=int(input(\"Enter the Choice1.amstrong in 2. strong in 3.reverse in 4.sum of 1 to n=\"))\n",
    "if(x==1):\n",
    "    n=int(input(\"enter the values n=\"))\n",
    "    b=amstrong(n)\n",
    "    print(b)\n",
    "    if(n==b):\n",
    "        print(\"amstrong\")\n",
    "    else:\n",
    "        print(\"not amstrong\")\n",
    "elif(x==2):\n",
    "    strong()\n",
    "elif(x==3):\n",
    "    c=reverse()\n",
    "    print(c)\n",
    "elif(x==4):\n",
    "    n=int(input(\"enter the value n=\"))\n",
    "    c=sum(n)\n",
    "    print(c)"
   ]
  },
  {
   "cell_type": "markdown",
   "id": "b25c0be8",
   "metadata": {},
   "source": [
    "# Global Variable:"
   ]
  },
  {
   "cell_type": "code",
   "execution_count": 40,
   "id": "38bfc135",
   "metadata": {},
   "outputs": [
    {
     "name": "stdout",
     "output_type": "stream",
     "text": [
      "enter the value n=121\n",
      "palindrome\n"
     ]
    }
   ],
   "source": [
    "def palindrome():\n",
    "    global n\n",
    "    n=int(input(\"enter the value n=\"))\n",
    "    x=n\n",
    "    s=0\n",
    "    while(x>0):\n",
    "        s=s*10+x%10\n",
    "        x=x//10\n",
    "    return(s)\n",
    "x=palindrome()\n",
    "if(x==n):\n",
    "    print(\"palindrome\")\n",
    "else:\n",
    "    print(\"not palindrome\")"
   ]
  }
 ],
 "metadata": {
  "kernelspec": {
   "display_name": "Python 3 (ipykernel)",
   "language": "python",
   "name": "python3"
  },
  "language_info": {
   "codemirror_mode": {
    "name": "ipython",
    "version": 3
   },
   "file_extension": ".py",
   "mimetype": "text/x-python",
   "name": "python",
   "nbconvert_exporter": "python",
   "pygments_lexer": "ipython3",
   "version": "3.9.12"
  }
 },
 "nbformat": 4,
 "nbformat_minor": 5
}
