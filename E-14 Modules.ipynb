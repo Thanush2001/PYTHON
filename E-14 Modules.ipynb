{
 "cells": [
  {
   "cell_type": "markdown",
   "id": "6c75416d",
   "metadata": {},
   "source": [
    "# Python Modules"
   ]
  },
  {
   "cell_type": "markdown",
   "id": "2aadd25b",
   "metadata": {},
   "source": [
    "# What is a Module?"
   ]
  },
  {
   "cell_type": "raw",
   "id": "663d1a24",
   "metadata": {},
   "source": [
    "Consider a module to be the same as a code library.\n",
    "A file containing a set of functions you want to include in your application."
   ]
  },
  {
   "cell_type": "raw",
   "id": "04ec4e0d",
   "metadata": {},
   "source": [
    "Create a Module\n",
    "To create a module just save the code you want in a file with the file extension .py:\n",
    "\n",
    "Example\n",
    "Save this code in a file named mymodule.py\n",
    "\n",
    "def greeting(name):\n",
    "  print(\"Hello, \" + name)"
   ]
  },
  {
   "cell_type": "raw",
   "id": "f951263a",
   "metadata": {},
   "source": [
    "# Use a Module\n",
    "Now we can use the module we just created, by using the import statement:\n",
    "\n",
    "Example\n",
    "Import the module named mymodule, and call the greeting function:\n",
    "\n",
    "import mymodule\n",
    "mymodule.greeting(\"Jonathan\")\n",
    "\n",
    "output:HELLO Jonathan"
   ]
  },
  {
   "cell_type": "raw",
   "id": "401122db",
   "metadata": {},
   "source": [
    "# Variables in Module\n",
    "The module can contain functions, as already described, but also variables of all types (arrays, dictionaries, objects etc):\n",
    "\n",
    "Example\n",
    "Save this code in the file mymodule.py\n",
    "\n",
    "person1 = {\n",
    "  \"name\": \"John\",\n",
    "  \"age\": 36,\n",
    "  \"country\": \"Norway\"\n",
    "}\n",
    "\n",
    "\n",
    "Example\n",
    "Import the module named mymodule, and access the person1 dictionary:\n",
    "\n",
    "import mymodule\n",
    "a = mymodule.person1[\"age\"]\n",
    "print(a)\n",
    "\n",
    "otuput:36"
   ]
  },
  {
   "cell_type": "raw",
   "id": "748c5542",
   "metadata": {},
   "source": [
    "# Naming a Module\n",
    "You can name the module file whatever you like, but it must have the file extension .py\n",
    "\n",
    "# Re-naming a Module\n",
    "You can create an alias when you import a module, by using the as keyword:\n",
    "\n",
    "Example\n",
    "Create an alias for mymodule called mx:\n",
    "\n",
    "import mymodule as mx\n",
    "a = mx.person1[\"age\"]\n",
    "print(a)\n",
    "\n",
    "output:36"
   ]
  },
  {
   "cell_type": "code",
   "execution_count": 8,
   "id": "5367c349",
   "metadata": {},
   "outputs": [
    {
     "name": "stdout",
     "output_type": "stream",
     "text": [
      "Windows\n"
     ]
    }
   ],
   "source": [
    "#Built-in Modules\n",
    "# There are several built-in modules in Python, which you can import whenever you like.\n",
    "\n",
    "#Example\n",
    "# Import and use the platform module:\n",
    "\n",
    "import platform\n",
    "x = platform.system()\n",
    "print(x)"
   ]
  },
  {
   "cell_type": "code",
   "execution_count": 9,
   "id": "76b906e3",
   "metadata": {},
   "outputs": [
    {
     "name": "stdout",
     "output_type": "stream",
     "text": [
      "['_Processor', '_WIN32_CLIENT_RELEASES', '_WIN32_SERVER_RELEASES', '__builtins__', '__cached__', '__copyright__', '__doc__', '__file__', '__loader__', '__name__', '__package__', '__spec__', '__version__', '_comparable_version', '_component_re', '_default_architecture', '_follow_symlinks', '_get_machine_win32', '_ironpython26_sys_version_parser', '_ironpython_sys_version_parser', '_java_getprop', '_libc_search', '_mac_ver_xml', '_node', '_norm_version', '_platform', '_platform_cache', '_pypy_sys_version_parser', '_sys_version', '_sys_version_cache', '_sys_version_parser', '_syscmd_file', '_syscmd_ver', '_uname_cache', '_unknown_as_blank', '_ver_output', '_ver_stages', 'architecture', 'collections', 'functools', 'itertools', 'java_ver', 'libc_ver', 'mac_ver', 'machine', 'node', 'os', 'platform', 'processor', 'python_branch', 'python_build', 'python_compiler', 'python_implementation', 'python_revision', 'python_version', 'python_version_tuple', 're', 'release', 'subprocess', 'sys', 'system', 'system_alias', 'uname', 'uname_result', 'version', 'win32_edition', 'win32_is_iot', 'win32_ver']\n"
     ]
    }
   ],
   "source": [
    "#Using the dir() Function\n",
    "# There is a built-in function to list all the function names (or variable names) in a module. The dir() function:\n",
    "\n",
    "#Example\n",
    "# List all the defined names belonging to the platform module:\n",
    "\n",
    "import platform\n",
    "x = dir(platform)\n",
    "print(x)\n",
    "\n",
    "# Note: The dir() function can be used on all modules, also the ones you create yourself."
   ]
  },
  {
   "cell_type": "raw",
   "id": "1891f495",
   "metadata": {},
   "source": [
    "# Import From Module\n",
    "You can choose to import only parts from a module, by using the from keyword.\n",
    "\n",
    "Example\n",
    "The module named mymodule has one function and one dictionary:\n",
    "\n",
    "def greeting(name):\n",
    "  print(\"Hello, \" + name)\n",
    "\n",
    "person1 = {\n",
    "  \"name\": \"John\",\n",
    "  \"age\": 36,\n",
    "  \"country\": \"Norway\"\n",
    "}\n",
    "\n",
    "\n",
    "Example\n",
    "Import only the person1 dictionary from the module:\n",
    "\n",
    "from mymodule import person1\n",
    "print (person1[\"age\"])\n",
    "\n",
    "output:36\n",
    "\n",
    "Note: When importing using the from keyword, do not use the module name when referring to elements in the module. Example: person1[\"age\"], not mymodule.person1[\"age\"]"
   ]
  },
  {
   "cell_type": "markdown",
   "id": "bba5e728",
   "metadata": {},
   "source": [
    "# Exercise:"
   ]
  },
  {
   "cell_type": "raw",
   "id": "6048afe6",
   "metadata": {},
   "source": [
    "#Exercise:\n",
    "# What is the correct syntax to import a module named \"mymodule\"?\n",
    "\n",
    "import mymodule"
   ]
  },
  {
   "cell_type": "raw",
   "id": "67f00a4e",
   "metadata": {},
   "source": [
    "Exercise:\n",
    "If you want to refer to a module by using a different name, you can create an alias.\n",
    "\n",
    "What is the correct syntax for creating an alias for a module?\n",
    "\n",
    "import mymodule as mx"
   ]
  },
  {
   "cell_type": "raw",
   "id": "732fb0b5",
   "metadata": {},
   "source": [
    "Exercise:\n",
    "What is the correct syntax of printing all variables and function names of the \"mymodule\" module?\n",
    "\n",
    "import mymodule\n",
    "print(dir(mymodule))"
   ]
  },
  {
   "cell_type": "raw",
   "id": "36e39810",
   "metadata": {},
   "source": [
    "Exercise:\n",
    "What is the correct syntax of importing only the person1 dictionary of the \"mymodule\" module?\n",
    "\n",
    "from mymodule import person1"
   ]
  },
  {
   "cell_type": "code",
   "execution_count": 12,
   "id": "fa4f0d36",
   "metadata": {},
   "outputs": [],
   "source": [
    "# sum of number:\n",
    "\n",
    "def sum(x):\n",
    "    s=0\n",
    "    for i in range(1,x+1):\n",
    "        s=s+i\n",
    "    return(s)"
   ]
  },
  {
   "cell_type": "raw",
   "id": "1815eeba",
   "metadata": {},
   "source": [
    "import module\n",
    "x=module.sum(5)\n",
    "print(x)\n",
    "\n",
    "output: 15"
   ]
  },
  {
   "cell_type": "code",
   "execution_count": 2,
   "id": "2bfa4c03",
   "metadata": {},
   "outputs": [],
   "source": [
    "# strong number using module:\n",
    "\n",
    "def strn(n):\n",
    "    s=0\n",
    "    while(n>0):\n",
    "        r=n%10\n",
    "        f=1\n",
    "        for i in range(1,r+1):\n",
    "            f=f*i\n",
    "        s=s+f\n",
    "        n=n//10\n",
    "    return(s)"
   ]
  },
  {
   "cell_type": "raw",
   "id": "da619805",
   "metadata": {},
   "source": [
    "import module\n",
    "p=145\n",
    "n=module.strn(p)\n",
    "if(p==n):\n",
    "    print(\"it is a strong number\")\n",
    "else:\n",
    "    print(\"it is not a strong number\")\n",
    "    \n",
    "output: it is a strong number"
   ]
  },
  {
   "cell_type": "code",
   "execution_count": 3,
   "id": "60fada31",
   "metadata": {},
   "outputs": [],
   "source": [
    "# amstrong using module:\n",
    "\n",
    "def amstr(x):\n",
    "    s=0\n",
    "    while(x>0):\n",
    "        r=x%10\n",
    "        s=s+r**3\n",
    "        x=x//10\n",
    "    return(s)"
   ]
  },
  {
   "cell_type": "raw",
   "id": "b6e40d37",
   "metadata": {},
   "source": [
    "import module\n",
    "p=153\n",
    "n=module.amstr(p)\n",
    "if(p==n):\n",
    "    print(\"it is a amstrong\")\n",
    "else:\n",
    "    print(\"it is not a amstrong\")\n",
    "    \n",
    "output: it is a amstrong"
   ]
  }
 ],
 "metadata": {
  "kernelspec": {
   "display_name": "Python 3 (ipykernel)",
   "language": "python",
   "name": "python3"
  },
  "language_info": {
   "codemirror_mode": {
    "name": "ipython",
    "version": 3
   },
   "file_extension": ".py",
   "mimetype": "text/x-python",
   "name": "python",
   "nbconvert_exporter": "python",
   "pygments_lexer": "ipython3",
   "version": "3.9.12"
  }
 },
 "nbformat": 4,
 "nbformat_minor": 5
}
