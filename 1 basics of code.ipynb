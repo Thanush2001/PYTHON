{
 "cells": [
  {
   "cell_type": "code",
   "execution_count": 1,
   "id": "1d0feb47",
   "metadata": {},
   "outputs": [
    {
     "name": "stdout",
     "output_type": "stream",
     "text": [
      "V THANUSH\n",
      "ARUMBARUTHI\n",
      "PYTHON PROGRAMMING\n"
     ]
    }
   ],
   "source": [
    "print(\"V THANUSH\")\n",
    "print(\"ARUMBARUTHI\")\n",
    "print(\"PYTHON PROGRAMMING\")"
   ]
  },
  {
   "cell_type": "code",
   "execution_count": 2,
   "id": "96a828e0",
   "metadata": {},
   "outputs": [
    {
     "name": "stdout",
     "output_type": "stream",
     "text": [
      "V THANUSH Keys institute python program\n"
     ]
    }
   ],
   "source": [
    "print(\"V THANUSH\",end=' ')\n",
    "print(\"Keys institute\",end=' ')\n",
    "print(\"python program\")"
   ]
  },
  {
   "cell_type": "code",
   "execution_count": 3,
   "id": "5bf04549",
   "metadata": {},
   "outputs": [
    {
     "name": "stdout",
     "output_type": "stream",
     "text": [
      "V THANUSH\tV VIKAS\n"
     ]
    }
   ],
   "source": [
    "print(\"V THANUSH\\tV VIKAS\")"
   ]
  },
  {
   "cell_type": "markdown",
   "id": "51765f60",
   "metadata": {},
   "source": [
    "# VARIABLE"
   ]
  },
  {
   "cell_type": "code",
   "execution_count": 4,
   "id": "2f72959c",
   "metadata": {},
   "outputs": [
    {
     "name": "stdout",
     "output_type": "stream",
     "text": [
      "15\n",
      "sum= 15\n",
      "sum of 2 numbers= 15\n"
     ]
    }
   ],
   "source": [
    "a=10\n",
    "b=5\n",
    "print(a+b)\n",
    "print(\"sum=\",a+b)\n",
    "print(\"sum of 2 numbers=\",a+b)"
   ]
  },
  {
   "cell_type": "code",
   "execution_count": 5,
   "id": "dc17f2e7",
   "metadata": {},
   "outputs": [
    {
     "name": "stdout",
     "output_type": "stream",
     "text": [
      "area of the square 25\n",
      "area of the square= 25\n"
     ]
    }
   ],
   "source": [
    "#AREA OF THE SQUARE\n",
    "    #A=a*a\n",
    "    #a=SIDE\n",
    "a=5\n",
    "print(\"area of the square\",a*a)\n",
    "print(\"area of the square=\",a*a)"
   ]
  },
  {
   "cell_type": "code",
   "execution_count": 6,
   "id": "7d5c29cd",
   "metadata": {},
   "outputs": [
    {
     "name": "stdout",
     "output_type": "stream",
     "text": [
      "area of the rectangle= 100\n"
     ]
    }
   ],
   "source": [
    "#AREA OF RECTANGLE\n",
    "    #A=W*L\n",
    "    #W=WIDTH\n",
    "    #L=LENGTH\n",
    "w=10\n",
    "l=10\n",
    "print(\"area of the rectangle=\",w*l)"
   ]
  },
  {
   "cell_type": "code",
   "execution_count": 7,
   "id": "2c87a2aa",
   "metadata": {},
   "outputs": [
    {
     "name": "stdout",
     "output_type": "stream",
     "text": [
      "area of the triangle= 25.0\n"
     ]
    }
   ],
   "source": [
    "#AREA OF THE TRIANGLE\n",
    "    #A=HB*B/2\n",
    "    #HB=HEIGHT\n",
    "    #B=BASE\n",
    "hb=5\n",
    "b=10\n",
    "print(\"area of the triangle=\",hb*b/2)"
   ]
  },
  {
   "cell_type": "code",
   "execution_count": 8,
   "id": "42d7b39e",
   "metadata": {},
   "outputs": [
    {
     "name": "stdout",
     "output_type": "stream",
     "text": [
      "AREA OF THE CIRCLE= 78.5\n"
     ]
    }
   ],
   "source": [
    "#ARTEA OF THE CIRCLE\n",
    "    #A=PY*R*R\n",
    "    #A=AREA\n",
    "    #R=RADIUS\n",
    "PY=3.14\n",
    "r=5\n",
    "print(\"AREA OF THE CIRCLE=\",PY*r*r)"
   ]
  },
  {
   "cell_type": "markdown",
   "id": "3c235bd2",
   "metadata": {},
   "source": [
    "# STRING FORMATE PROGRAM"
   ]
  },
  {
   "cell_type": "code",
   "execution_count": 9,
   "id": "bfb057f0",
   "metadata": {},
   "outputs": [
    {
     "name": "stdout",
     "output_type": "stream",
     "text": [
      "510\n"
     ]
    }
   ],
   "source": [
    "a=\"5\"\n",
    "b=\"10\"\n",
    "print(a+b)"
   ]
  },
  {
   "cell_type": "code",
   "execution_count": 10,
   "id": "05915bb0",
   "metadata": {},
   "outputs": [
    {
     "name": "stdout",
     "output_type": "stream",
     "text": [
      "100200\n"
     ]
    }
   ],
   "source": [
    "a=\"100\"\n",
    "b=\"200\"\n",
    "print(a+b)"
   ]
  },
  {
   "cell_type": "code",
   "execution_count": 11,
   "id": "4ed137c8",
   "metadata": {},
   "outputs": [
    {
     "name": "stdout",
     "output_type": "stream",
     "text": [
      "10002000\n",
      "3000\n",
      "-1000\n"
     ]
    }
   ],
   "source": [
    "#STRING TO INTEGER\n",
    "a=\"1000\"\n",
    "b=\"2000\"\n",
    "x=int(a)\n",
    "y=int(b)\n",
    "print(a+b)\n",
    "print(x+y)\n",
    "print(x-y)"
   ]
  },
  {
   "cell_type": "code",
   "execution_count": 12,
   "id": "a56dd9e2",
   "metadata": {},
   "outputs": [
    {
     "name": "stdout",
     "output_type": "stream",
     "text": [
      "2.14.1\n",
      "6.199999999999999\n",
      "-1.9999999999999996\n"
     ]
    }
   ],
   "source": [
    "#STRING TO FLOAT\n",
    "a=\"2.1\"\n",
    "b=\"4.1\"\n",
    "x=float(a)\n",
    "y=float(b)\n",
    "print(a+b)\n",
    "print(x+y)\n",
    "print(x-y)"
   ]
  },
  {
   "cell_type": "markdown",
   "id": "ff484df1",
   "metadata": {},
   "source": [
    "# INPUT() IT IS A INPUT FUNCTION ARE USED TO GET/READ DATA FROM USER AS A STRING FORMAT"
   ]
  },
  {
   "cell_type": "code",
   "execution_count": 14,
   "id": "deec488b",
   "metadata": {},
   "outputs": [
    {
     "name": "stdout",
     "output_type": "stream",
     "text": [
      "enter the value a=12\n",
      "enter the value b=13\n",
      "25\n"
     ]
    }
   ],
   "source": [
    "#RUN TIME CODE\n",
    "a=int(input(\"enter the value a=\"))\n",
    "b=int(input(\"enter the value b=\"))\n",
    "print(a+b)"
   ]
  },
  {
   "cell_type": "code",
   "execution_count": 15,
   "id": "aecb92df",
   "metadata": {},
   "outputs": [
    {
     "name": "stdout",
     "output_type": "stream",
     "text": [
      "entyer the value w=2\n",
      "enter the value l=3\n",
      "6\n"
     ]
    }
   ],
   "source": [
    "#RECTANGULAR\n",
    "w=int(input(\"entyer the value w=\"))\n",
    "l=int(input(\"enter the value l=\"))\n",
    "print(w*l)"
   ]
  },
  {
   "cell_type": "code",
   "execution_count": 16,
   "id": "0a13b72e",
   "metadata": {},
   "outputs": [
    {
     "name": "stdout",
     "output_type": "stream",
     "text": [
      "enter the value w=1.1\n",
      "enter the value l=2.1\n",
      "2.3100000000000005\n"
     ]
    }
   ],
   "source": [
    "w=float(input(\"enter the value w=\"))\n",
    "l=float(input(\"enter the value l=\"))\n",
    "print(w*l)"
   ]
  },
  {
   "cell_type": "code",
   "execution_count": 17,
   "id": "445fd5a7",
   "metadata": {},
   "outputs": [
    {
     "name": "stdout",
     "output_type": "stream",
     "text": [
      "enter the value py=5\n",
      "enter the value r=4\n",
      "80\n",
      "a= 80\n"
     ]
    }
   ],
   "source": [
    "#CIRCLE\n",
    "py=int(input(\"enter the value py=\"))\n",
    "r=int(input(\"enter the value r=\"))\n",
    "print(py*r*r)\n",
    "print(\"a=\",py*r*r)"
   ]
  },
  {
   "cell_type": "code",
   "execution_count": 18,
   "id": "3fd49621",
   "metadata": {},
   "outputs": [
    {
     "name": "stdout",
     "output_type": "stream",
     "text": [
      "enter the value py=1.1\n",
      "enter the value r=2.1\n",
      "4.851000000000001\n",
      "a= 4.851000000000001\n"
     ]
    }
   ],
   "source": [
    "py=float(input(\"enter the value py=\"))\n",
    "r=float(input(\"enter the value r=\"))\n",
    "print(py*r*r)\n",
    "print(\"a=\",py*r*r)"
   ]
  }
 ],
 "metadata": {
  "kernelspec": {
   "display_name": "Python 3 (ipykernel)",
   "language": "python",
   "name": "python3"
  },
  "language_info": {
   "codemirror_mode": {
    "name": "ipython",
    "version": 3
   },
   "file_extension": ".py",
   "mimetype": "text/x-python",
   "name": "python",
   "nbconvert_exporter": "python",
   "pygments_lexer": "ipython3",
   "version": "3.9.12"
  }
 },
 "nbformat": 4,
 "nbformat_minor": 5
}
