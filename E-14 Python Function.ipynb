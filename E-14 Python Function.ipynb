{
 "cells": [
  {
   "cell_type": "markdown",
   "id": "11e102ba",
   "metadata": {},
   "source": [
    "# Python Function"
   ]
  },
  {
   "cell_type": "markdown",
   "id": "9c3a7945",
   "metadata": {},
   "source": [
    "# What is function \n",
    "\n",
    "1) Function in python are block of reusable code that perform specific tasks.\n",
    "\n",
    "2) A Function runs only when it is called\n",
    "\n",
    "3) They are defined using the \"def\" keyword.\n",
    "\n",
    "4) They can be called multiple times."
   ]
  },
  {
   "cell_type": "code",
   "execution_count": 1,
   "id": "8ec66307",
   "metadata": {},
   "outputs": [
    {
     "name": "stdout",
     "output_type": "stream",
     "text": [
      "Hello World!\n"
     ]
    }
   ],
   "source": [
    "def hello():\n",
    "    print(\"Hello World!\")\n",
    "hello()"
   ]
  },
  {
   "cell_type": "code",
   "execution_count": 2,
   "id": "9b607783",
   "metadata": {},
   "outputs": [
    {
     "name": "stdout",
     "output_type": "stream",
     "text": [
      "you guys are doing good\n"
     ]
    }
   ],
   "source": [
    "def hello():\n",
    "    print(\"you guys are doing good\")\n",
    "hello()"
   ]
  },
  {
   "cell_type": "code",
   "execution_count": 3,
   "id": "33bc6551",
   "metadata": {},
   "outputs": [
    {
     "name": "stdout",
     "output_type": "stream",
     "text": [
      "19\n"
     ]
    }
   ],
   "source": [
    "def add():\n",
    "    a=10\n",
    "    b=9\n",
    "    c=a+b\n",
    "    print(c)\n",
    "add()"
   ]
  },
  {
   "cell_type": "markdown",
   "id": "b5c6269a",
   "metadata": {},
   "source": [
    "# Arguments\n",
    "\n",
    "1) Information can be passed into function as arguments.\n",
    "\n",
    "2) Arguments are specified after the function name, inside the parantheses.\n",
    "\n",
    "3) You can add as many arguments as you want,just separate them with a comma"
   ]
  },
  {
   "cell_type": "code",
   "execution_count": 4,
   "id": "b6c4f9e1",
   "metadata": {},
   "outputs": [
    {
     "name": "stdout",
     "output_type": "stream",
     "text": [
      "Hello Sam\n",
      "Hello Ram\n"
     ]
    }
   ],
   "source": [
    "def hello(name):\n",
    "    print(\"Hello \"+name)\n",
    "hello(\"Sam\")\n",
    "hello(\"Ram\")"
   ]
  },
  {
   "cell_type": "markdown",
   "id": "6f5dd805",
   "metadata": {},
   "source": [
    "# parameters-Arguments\n",
    "\n",
    "def my_fun(param1,param2):\n",
    "\n",
    "#param1 and param2 are parameters\n",
    "\n",
    "my_func(arg1,arg2):\n",
    "\n",
    "#arg1 and arg2 are arguments that replace the parameters in the function."
   ]
  },
  {
   "cell_type": "code",
   "execution_count": 5,
   "id": "829bcf0d",
   "metadata": {},
   "outputs": [
    {
     "name": "stdout",
     "output_type": "stream",
     "text": [
      "6\n"
     ]
    }
   ],
   "source": [
    "def add(a,b):\n",
    "    print(a+b)\n",
    "add(2,4)"
   ]
  },
  {
   "cell_type": "code",
   "execution_count": 6,
   "id": "f47ab00c",
   "metadata": {},
   "outputs": [
    {
     "name": "stdout",
     "output_type": "stream",
     "text": [
      "hai hello\n",
      "this is Thanush bobby from vellore\n"
     ]
    }
   ],
   "source": [
    "def greet_user(first_name,last_name):\n",
    "    print(\"hai hello\")\n",
    "    print(f'this is {first_name} {last_name} from vellore')\n",
    "greet_user(\"Thanush\",\"bobby\")"
   ]
  },
  {
   "cell_type": "code",
   "execution_count": 7,
   "id": "4d5762ae",
   "metadata": {},
   "outputs": [
    {
     "name": "stdout",
     "output_type": "stream",
     "text": [
      "Hello, tom jerry\n"
     ]
    }
   ],
   "source": [
    "# Positional Arguments\n",
    "\n",
    "def greeting(name1,name2):\n",
    "    print(f\"Hello, {name1} {name2}\")\n",
    "greeting(\"tom\",\"jerry\")"
   ]
  },
  {
   "cell_type": "code",
   "execution_count": 8,
   "id": "fb88dfa3",
   "metadata": {},
   "outputs": [
    {
     "name": "stdout",
     "output_type": "stream",
     "text": [
      "Hello, tom jerry\n"
     ]
    }
   ],
   "source": [
    "# Keyword Arguments\n",
    "\n",
    "def greeting(a,b):\n",
    "    print(f\"Hello, {a} {b}\")\n",
    "greeting(a=\"tom\",b=\"jerry\")"
   ]
  },
  {
   "cell_type": "code",
   "execution_count": 9,
   "id": "ce037a73",
   "metadata": {},
   "outputs": [
    {
     "name": "stdout",
     "output_type": "stream",
     "text": [
      "hai every one this is Thanush Bobby\n"
     ]
    }
   ],
   "source": [
    "def greeting(name1,name2):\n",
    "    print(f\"hai every one this is {name1} {name2}\")\n",
    "greeting(name2=\"Bobby\",name1=\"Thanush\")"
   ]
  },
  {
   "cell_type": "code",
   "execution_count": 10,
   "id": "fd18853f",
   "metadata": {},
   "outputs": [
    {
     "name": "stdout",
     "output_type": "stream",
     "text": [
      "i am from india\n",
      "hai i am from india\n",
      "________________________________\n",
      "i am from US\n",
      "hai i am from US\n",
      "________________________________\n",
      "i am from America\n",
      "hai i am from America\n",
      "________________________________\n"
     ]
    }
   ],
   "source": [
    "# Default Parameter value\n",
    "\n",
    "def my_function(country=\"india\"):\n",
    "    print(\"i am from \"+ country)\n",
    "    print(f\"hai i am from {country}\")\n",
    "    print(\"________________________________\")\n",
    "my_function()\n",
    "my_function(\"US\")\n",
    "my_function(\"America\")"
   ]
  },
  {
   "cell_type": "code",
   "execution_count": 11,
   "id": "19211997",
   "metadata": {},
   "outputs": [
    {
     "name": "stdout",
     "output_type": "stream",
     "text": [
      "15\n",
      "25\n",
      "45\n"
     ]
    }
   ],
   "source": [
    "# Return value\n",
    "\n",
    "def my_function(x):\n",
    "    return 5*x\n",
    "print(my_function(3))\n",
    "print(my_function(5))\n",
    "print(my_function(9))"
   ]
  },
  {
   "cell_type": "code",
   "execution_count": 12,
   "id": "a5f53038",
   "metadata": {},
   "outputs": [
    {
     "data": {
      "text/plain": [
       "25"
      ]
     },
     "execution_count": 12,
     "metadata": {},
     "output_type": "execute_result"
    }
   ],
   "source": [
    "def square(x):\n",
    "    return x*x\n",
    "square(5)"
   ]
  },
  {
   "cell_type": "code",
   "execution_count": 13,
   "id": "9798714a",
   "metadata": {},
   "outputs": [
    {
     "data": {
      "text/plain": [
       "14"
      ]
     },
     "execution_count": 13,
     "metadata": {},
     "output_type": "execute_result"
    }
   ],
   "source": [
    "def add_even(a,b):\n",
    "    if a%2==0 and b%2==0:\n",
    "        return (a+b)\n",
    "    else:\n",
    "        return (a*b)\n",
    "add_even(10,4)"
   ]
  },
  {
   "cell_type": "code",
   "execution_count": 14,
   "id": "f4a8e483",
   "metadata": {},
   "outputs": [
    {
     "name": "stdout",
     "output_type": "stream",
     "text": [
      "12\n",
      "21\n",
      "21\n",
      "5.0\n"
     ]
    }
   ],
   "source": [
    "def add(a,b):\n",
    "    return(a+b)\n",
    "def sub(a,b):\n",
    "    return(a-b)\n",
    "def mul(a,b):\n",
    "    return(a*b)\n",
    "def div(a,b):\n",
    "    return(a/b)\n",
    "\n",
    "print(add(10,2))\n",
    "print(sub(30,9))\n",
    "print(mul(3,7))\n",
    "print(div(20,4))"
   ]
  }
 ],
 "metadata": {
  "kernelspec": {
   "display_name": "Python 3 (ipykernel)",
   "language": "python",
   "name": "python3"
  },
  "language_info": {
   "codemirror_mode": {
    "name": "ipython",
    "version": 3
   },
   "file_extension": ".py",
   "mimetype": "text/x-python",
   "name": "python",
   "nbconvert_exporter": "python",
   "pygments_lexer": "ipython3",
   "version": "3.9.13"
  }
 },
 "nbformat": 4,
 "nbformat_minor": 5
}
