{
 "cells": [
  {
   "cell_type": "markdown",
   "id": "5864cc7d",
   "metadata": {},
   "source": [
    "# CREATE STUDENT MARKSHEET:"
   ]
  },
  {
   "cell_type": "code",
   "execution_count": null,
   "id": "d070ed2b",
   "metadata": {},
   "outputs": [
    {
     "name": "stdout",
     "output_type": "stream",
     "text": [
      "how many side you want to draw?=2\n",
      "2\n",
      "Enter the colour:red\n",
      "how many side you want to draw?=3\n",
      "3\n",
      "Enter the colour:green\n",
      "how many side you want to draw?=4\n",
      "4\n",
      "Enter the colour:yellow\n",
      "how many side you want to draw?=5\n",
      "5\n",
      "Enter the colour:red\n",
      "how many side you want to draw?=6\n",
      "6\n",
      "Enter the colour:pink\n",
      "how many side you want to draw?=7\n",
      "7\n",
      "Enter the colour:orange\n"
     ]
    }
   ],
   "source": [
    "import turtle\n",
    "paper = turtle.Screen()\n",
    "pen = turtle.Turtle()\n",
    "while True:\n",
    "    sides=input(\"how many side you want to draw?=\")\n",
    "    sides=int(sides)\n",
    "    print(sides)\n",
    "\n",
    "    mycolour=input(\"Enter the colour:\")\n",
    "    pen.color(mycolour)\n",
    "\n",
    "    for times in range(sides):\n",
    "        pen.forward(100)\n",
    "        pen.right(360/sides)\n",
    "\n",
    "paper.mainloop()"
   ]
  },
  {
   "cell_type": "code",
   "execution_count": null,
   "id": "e75af27b",
   "metadata": {},
   "outputs": [],
   "source": []
  }
 ],
 "metadata": {
  "kernelspec": {
   "display_name": "Python 3 (ipykernel)",
   "language": "python",
   "name": "python3"
  },
  "language_info": {
   "codemirror_mode": {
    "name": "ipython",
    "version": 3
   },
   "file_extension": ".py",
   "mimetype": "text/x-python",
   "name": "python",
   "nbconvert_exporter": "python",
   "pygments_lexer": "ipython3",
   "version": "3.9.13"
  }
 },
 "nbformat": 4,
 "nbformat_minor": 5
}
