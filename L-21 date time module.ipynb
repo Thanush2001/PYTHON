{
 "cells": [
  {
   "cell_type": "markdown",
   "id": "c2a5fa73",
   "metadata": {},
   "source": [
    "# Date Time Module"
   ]
  },
  {
   "cell_type": "markdown",
   "id": "eabd8fef",
   "metadata": {},
   "source": [
    "1) Python datetime comes built into python, so there is no need to install it externally.\n",
    "\n",
    "2) Supplies classes to work with date and time. These classes provide a number of function to deal with dates,times and time intervals.\n",
    "\n",
    "3) Date and datetime are an object in python so when you manipulation them,you are actually manipulating objects and not string or timestamps."
   ]
  },
  {
   "cell_type": "markdown",
   "id": "00272758",
   "metadata": {},
   "source": [
    "# The commonly used classes in the datetime module"
   ]
  },
  {
   "cell_type": "markdown",
   "id": "49442072",
   "metadata": {},
   "source": [
    "# DATE TIME\n",
    "\n",
    "1) datetime.datetime - represents a single point in time,including a date and a time.\n",
    "\n",
    "2) datetime.date - represents a date(year,month,and day) without a time.\n",
    "\n",
    "3) datetime.time - represents a time(hour,minute,seconds and microseconds) without a date.\n",
    "\n",
    "4) datetime.timedelta- represents a duration,which can be used to perform arithmetic with datetime objects."
   ]
  },
  {
   "cell_type": "markdown",
   "id": "61678988",
   "metadata": {},
   "source": [
    "# datetime.date"
   ]
  },
  {
   "cell_type": "code",
   "execution_count": 1,
   "id": "cb9b5307",
   "metadata": {},
   "outputs": [
    {
     "name": "stdout",
     "output_type": "stream",
     "text": [
      "2023-05-20\n"
     ]
    }
   ],
   "source": [
    "from datetime import date\n",
    "\n",
    "d=date(2023,5,20)\n",
    "print(d)"
   ]
  },
  {
   "cell_type": "code",
   "execution_count": 2,
   "id": "e9216361",
   "metadata": {},
   "outputs": [
    {
     "name": "stdout",
     "output_type": "stream",
     "text": [
      "2022-12-25\n"
     ]
    }
   ],
   "source": [
    "# Data object to represent a date\n",
    "\n",
    "import datetime\n",
    "\n",
    "d=datetime.date(2022,12,25)\n",
    "print(d)"
   ]
  },
  {
   "cell_type": "code",
   "execution_count": 3,
   "id": "fb41680d",
   "metadata": {},
   "outputs": [
    {
     "name": "stdout",
     "output_type": "stream",
     "text": [
      "2023-06-02\n"
     ]
    },
    {
     "ename": "TypeError",
     "evalue": "'module' object is not callable",
     "output_type": "error",
     "traceback": [
      "\u001b[1;31m---------------------------------------------------------------------------\u001b[0m",
      "\u001b[1;31mTypeError\u001b[0m                                 Traceback (most recent call last)",
      "\u001b[1;32m~\\AppData\\Local\\Temp\\ipykernel_18328\\2427015300.py\u001b[0m in \u001b[0;36m<module>\u001b[1;34m\u001b[0m\n\u001b[0;32m      3\u001b[0m \u001b[0mx\u001b[0m \u001b[1;33m=\u001b[0m \u001b[0mdate\u001b[0m\u001b[1;33m(\u001b[0m\u001b[1;36m2023\u001b[0m\u001b[1;33m,\u001b[0m\u001b[1;36m6\u001b[0m\u001b[1;33m,\u001b[0m\u001b[1;36m2\u001b[0m\u001b[1;33m)\u001b[0m\u001b[1;33m\u001b[0m\u001b[1;33m\u001b[0m\u001b[0m\n\u001b[0;32m      4\u001b[0m \u001b[0mprint\u001b[0m\u001b[1;33m(\u001b[0m\u001b[0mx\u001b[0m\u001b[1;33m)\u001b[0m\u001b[1;33m\u001b[0m\u001b[1;33m\u001b[0m\u001b[0m\n\u001b[1;32m----> 5\u001b[1;33m \u001b[0my\u001b[0m \u001b[1;33m=\u001b[0m \u001b[0mdatetime\u001b[0m\u001b[1;33m(\u001b[0m\u001b[1;36m2023\u001b[0m\u001b[1;33m,\u001b[0m\u001b[1;36m6\u001b[0m\u001b[1;33m,\u001b[0m\u001b[1;36m2\u001b[0m\u001b[1;33m,\u001b[0m\u001b[1;36m16\u001b[0m\u001b[1;33m,\u001b[0m\u001b[1;36m44\u001b[0m\u001b[1;33m,\u001b[0m\u001b[1;36m44\u001b[0m\u001b[1;33m,\u001b[0m\u001b[1;36m2345\u001b[0m\u001b[1;33m)\u001b[0m\u001b[1;33m\u001b[0m\u001b[1;33m\u001b[0m\u001b[0m\n\u001b[0m\u001b[0;32m      6\u001b[0m \u001b[0mprint\u001b[0m\u001b[1;33m(\u001b[0m\u001b[0my\u001b[0m\u001b[1;33m)\u001b[0m\u001b[1;33m\u001b[0m\u001b[1;33m\u001b[0m\u001b[0m\n",
      "\u001b[1;31mTypeError\u001b[0m: 'module' object is not callable"
     ]
    }
   ],
   "source": [
    "from datetime import date\n",
    "\n",
    "x = date(2023,6,2)\n",
    "print(x)\n",
    "y = datetime(2023,6,2,16,44,44,2345)\n",
    "print(y)"
   ]
  },
  {
   "cell_type": "code",
   "execution_count": 4,
   "id": "f6086bad",
   "metadata": {},
   "outputs": [
    {
     "ename": "TypeError",
     "evalue": "'module' object is not callable",
     "output_type": "error",
     "traceback": [
      "\u001b[1;31m---------------------------------------------------------------------------\u001b[0m",
      "\u001b[1;31mTypeError\u001b[0m                                 Traceback (most recent call last)",
      "\u001b[1;32m~\\AppData\\Local\\Temp\\ipykernel_18328\\3277345287.py\u001b[0m in \u001b[0;36m<module>\u001b[1;34m\u001b[0m\n\u001b[1;32m----> 1\u001b[1;33m \u001b[0my\u001b[0m \u001b[1;33m=\u001b[0m \u001b[0mdatetime\u001b[0m\u001b[1;33m(\u001b[0m\u001b[1;36m2023\u001b[0m\u001b[1;33m,\u001b[0m\u001b[1;36m6\u001b[0m\u001b[1;33m,\u001b[0m\u001b[1;36m2\u001b[0m\u001b[1;33m,\u001b[0m\u001b[1;36m16\u001b[0m\u001b[1;33m,\u001b[0m\u001b[1;36m44\u001b[0m\u001b[1;33m,\u001b[0m\u001b[1;36m44\u001b[0m\u001b[1;33m,\u001b[0m\u001b[1;36m2345\u001b[0m\u001b[1;33m)\u001b[0m \u001b[1;31m# datetime (year,month,day,hour,minute,second,microsecond)\u001b[0m\u001b[1;33m\u001b[0m\u001b[1;33m\u001b[0m\u001b[0m\n\u001b[0m\u001b[0;32m      2\u001b[0m \u001b[0mprint\u001b[0m\u001b[1;33m(\u001b[0m\u001b[1;34m\"year:\"\u001b[0m\u001b[1;33m,\u001b[0m\u001b[0my\u001b[0m\u001b[1;33m.\u001b[0m\u001b[0myear\u001b[0m\u001b[1;33m)\u001b[0m\u001b[1;33m\u001b[0m\u001b[1;33m\u001b[0m\u001b[0m\n\u001b[0;32m      3\u001b[0m \u001b[0mprint\u001b[0m\u001b[1;33m(\u001b[0m\u001b[1;34m\"month:\"\u001b[0m\u001b[1;33m,\u001b[0m\u001b[0my\u001b[0m\u001b[1;33m.\u001b[0m\u001b[0mmonth\u001b[0m\u001b[1;33m)\u001b[0m\u001b[1;33m\u001b[0m\u001b[1;33m\u001b[0m\u001b[0m\n\u001b[0;32m      4\u001b[0m \u001b[0mprint\u001b[0m\u001b[1;33m(\u001b[0m\u001b[1;34m\"Day:\"\u001b[0m\u001b[1;33m,\u001b[0m\u001b[0my\u001b[0m\u001b[1;33m.\u001b[0m\u001b[0mday\u001b[0m\u001b[1;33m)\u001b[0m\u001b[1;33m\u001b[0m\u001b[1;33m\u001b[0m\u001b[0m\n\u001b[0;32m      5\u001b[0m \u001b[0mprint\u001b[0m\u001b[1;33m(\u001b[0m\u001b[1;34m\"Hour:\"\u001b[0m\u001b[1;33m,\u001b[0m\u001b[0my\u001b[0m\u001b[1;33m.\u001b[0m\u001b[0mhour\u001b[0m\u001b[1;33m)\u001b[0m\u001b[1;33m\u001b[0m\u001b[1;33m\u001b[0m\u001b[0m\n",
      "\u001b[1;31mTypeError\u001b[0m: 'module' object is not callable"
     ]
    }
   ],
   "source": [
    "y = datetime(2023,6,2,16,44,44,2345) # datetime (year,month,day,hour,minute,second,microsecond)\n",
    "print(\"year:\",y.year)\n",
    "print(\"month:\",y.month)\n",
    "print(\"Day:\",y.day)\n",
    "print(\"Hour:\",y.hour)\n",
    "print(\"Minute:\",y.minute)\n",
    "print(\"second:\",y.second)\n",
    "print(\"Microsecond:\",y.microsecond)"
   ]
  },
  {
   "cell_type": "code",
   "execution_count": 5,
   "id": "137b4a59",
   "metadata": {},
   "outputs": [
    {
     "name": "stdout",
     "output_type": "stream",
     "text": [
      "Date= 2392-12-24\n"
     ]
    }
   ],
   "source": [
    "from datetime import date\n",
    "timestamp=date.fromtimestamp(13347988325)\n",
    "print(\"Date=\",timestamp)"
   ]
  },
  {
   "cell_type": "code",
   "execution_count": 6,
   "id": "a39519e9",
   "metadata": {},
   "outputs": [
    {
     "name": "stdout",
     "output_type": "stream",
     "text": [
      "2023-06-02\n"
     ]
    }
   ],
   "source": [
    "# Getting current date\n",
    "\n",
    "from datetime import date\n",
    "\n",
    "todays_date=date.today()\n",
    "print(todays_date)"
   ]
  },
  {
   "cell_type": "code",
   "execution_count": 7,
   "id": "7cfc53d4",
   "metadata": {},
   "outputs": [
    {
     "name": "stdout",
     "output_type": "stream",
     "text": [
      "2023-06-02 19:19:56.998636\n",
      "2023-06-02 19:19:56.998635\n"
     ]
    }
   ],
   "source": [
    "# Get current date \n",
    "\n",
    "import datetime as dt\n",
    "\n",
    "current_date=dt.datetime.today()\n",
    "print(current_date)\n",
    "\n",
    "a=dt.datetime.now()\n",
    "print(a)"
   ]
  },
  {
   "cell_type": "code",
   "execution_count": 8,
   "id": "7c9573a4",
   "metadata": {},
   "outputs": [
    {
     "name": "stdout",
     "output_type": "stream",
     "text": [
      "Current_year: 2023\n",
      "Current_month: 6\n",
      "Current_day: 2\n"
     ]
    }
   ],
   "source": [
    "#  print todays year month and day\n",
    "\n",
    "from datetime import date\n",
    "todays_date=date.today()\n",
    "print(\"Current_year:\",todays_date.year)\n",
    "print(\"Current_month:\",todays_date.month)\n",
    "print(\"Current_day:\",todays_date.day)"
   ]
  },
  {
   "cell_type": "markdown",
   "id": "242020a9",
   "metadata": {},
   "source": [
    "# datetime.time class"
   ]
  },
  {
   "cell_type": "code",
   "execution_count": 9,
   "id": "d6ec38e9",
   "metadata": {},
   "outputs": [
    {
     "name": "stdout",
     "output_type": "stream",
     "text": [
      "00:00:00\n",
      "19:40:30.345565\n"
     ]
    }
   ],
   "source": [
    "from datetime import time\n",
    "\n",
    "a=time()\n",
    "print(a)\n",
    "\n",
    "b=time(19,40,30,345565)\n",
    "print(b)"
   ]
  },
  {
   "cell_type": "code",
   "execution_count": 10,
   "id": "9b100831",
   "metadata": {},
   "outputs": [
    {
     "name": "stdout",
     "output_type": "stream",
     "text": [
      "hour: 19\n",
      "minutes: 40\n",
      "Seconds: 30\n",
      "Microseconds: 345565\n"
     ]
    }
   ],
   "source": [
    "from datetime import time\n",
    "\n",
    "print(\"hour:\",b.hour)\n",
    "print(\"minutes:\",b.minute)\n",
    "print(\"Seconds:\",b.second)\n",
    "print(\"Microseconds:\",b.microsecond)"
   ]
  },
  {
   "cell_type": "code",
   "execution_count": 11,
   "id": "e10ecf6f",
   "metadata": {},
   "outputs": [
    {
     "name": "stdout",
     "output_type": "stream",
     "text": [
      "06/02/23,19:19:59\n"
     ]
    }
   ],
   "source": [
    "import time\n",
    "\n",
    "name_tuple=time.localtime() # get structure time\n",
    "time_string=time.strftime(\"%m/%d/%y,%H:%M:%S\",name_tuple)\n",
    "print(time_string)"
   ]
  },
  {
   "cell_type": "code",
   "execution_count": 12,
   "id": "98e03bb3",
   "metadata": {},
   "outputs": [
    {
     "name": "stdout",
     "output_type": "stream",
     "text": [
      "00:00:00\n",
      "11:38:56\n",
      "11:46:44\n",
      "11:22:33.044456\n"
     ]
    }
   ],
   "source": [
    "from datetime import time\n",
    "\n",
    "# time (hour=0,minute=0,second=0)\n",
    "a=time()\n",
    "print(a)\n",
    "\n",
    "#time(hour,minute and second)\n",
    "b=time(11,38,56)\n",
    "print(b)\n",
    "\n",
    "#time(hour,minute and second)\n",
    "c=time(hour=11,minute=46,second=44)\n",
    "print(c)\n",
    "\n",
    "#time(hour,minute and second,microsecond)\n",
    "d=time(11,22,33,44456)\n",
    "print(d)"
   ]
  },
  {
   "cell_type": "markdown",
   "id": "09d7a440",
   "metadata": {},
   "source": [
    "# datetime.datetime class"
   ]
  },
  {
   "cell_type": "code",
   "execution_count": 13,
   "id": "bb207ff6",
   "metadata": {},
   "outputs": [
    {
     "name": "stdout",
     "output_type": "stream",
     "text": [
      "2023-06-02 00:00:00\n",
      "2023-06-02 15:45:36.034567\n"
     ]
    }
   ],
   "source": [
    "from datetime import datetime\n",
    "\n",
    "a=datetime(2023,6,2) #datetime(year,month,day)\n",
    "print(a)\n",
    "\n",
    "b=datetime(2023, 6, 2,15,45,36,34567) #datetime (year,month,day,hour,minute,second,microsecond)\n",
    "print(b)"
   ]
  },
  {
   "cell_type": "markdown",
   "id": "4cfbaada",
   "metadata": {},
   "source": [
    "# TimeDelta"
   ]
  },
  {
   "cell_type": "code",
   "execution_count": 14,
   "id": "9e9f95a0",
   "metadata": {},
   "outputs": [
    {
     "name": "stdout",
     "output_type": "stream",
     "text": [
      "212 days, 4:39:58.225795\n"
     ]
    }
   ],
   "source": [
    "from datetime import datetime\n",
    "\n",
    "current_date=datetime.now()\n",
    "next_year=datetime(2024,1,1)\n",
    "diff=next_year-current_date\n",
    "print(diff)"
   ]
  },
  {
   "cell_type": "markdown",
   "id": "34576631",
   "metadata": {},
   "source": [
    "# From datetime format"
   ]
  },
  {
   "cell_type": "code",
   "execution_count": 15,
   "id": "ebbca0be",
   "metadata": {},
   "outputs": [
    {
     "name": "stdout",
     "output_type": "stream",
     "text": [
      "06.02.23,19:20:03\n",
      "19:20:03\n"
     ]
    }
   ],
   "source": [
    "from datetime import datetime\n",
    "now=datetime.now()\n",
    "\n",
    "t=now.strftime(\"%H:%M:%S\")\n",
    "s=now.strftime(\"%m.%d.%y,%H:%M:%S\")\n",
    "print(s)\n",
    "print(t)"
   ]
  },
  {
   "cell_type": "code",
   "execution_count": 16,
   "id": "481cfa3b",
   "metadata": {},
   "outputs": [
    {
     "name": "stdout",
     "output_type": "stream",
     "text": [
      "Friday, June 02, 23\n"
     ]
    }
   ],
   "source": [
    "current=now.strftime(\"%A, %B %d, %y\")\n",
    "print(current)"
   ]
  },
  {
   "cell_type": "markdown",
   "id": "f353754e",
   "metadata": {},
   "source": [
    "# datetime.timedelta class"
   ]
  },
  {
   "cell_type": "code",
   "execution_count": 17,
   "id": "68c45484",
   "metadata": {},
   "outputs": [
    {
     "ename": "ImportError",
     "evalue": "cannot import name 'datedelta' from 'datetime' (C:\\Users\\vthan\\anaconda3\\lib\\datetime.py)",
     "output_type": "error",
     "traceback": [
      "\u001b[1;31m---------------------------------------------------------------------------\u001b[0m",
      "\u001b[1;31mImportError\u001b[0m                               Traceback (most recent call last)",
      "\u001b[1;32m~\\AppData\\Local\\Temp\\ipykernel_18328\\12790308.py\u001b[0m in \u001b[0;36m<module>\u001b[1;34m\u001b[0m\n\u001b[1;32m----> 1\u001b[1;33m \u001b[1;32mfrom\u001b[0m \u001b[0mdatetime\u001b[0m \u001b[1;32mimport\u001b[0m \u001b[0mdatedelta\u001b[0m\u001b[1;33m\u001b[0m\u001b[1;33m\u001b[0m\u001b[0m\n\u001b[0m\u001b[0;32m      2\u001b[0m \u001b[1;33m\u001b[0m\u001b[0m\n\u001b[0;32m      3\u001b[0m \u001b[0mt1\u001b[0m\u001b[1;33m=\u001b[0m\u001b[0mtimedelta\u001b[0m\u001b[1;33m(\u001b[0m\u001b[0mweeks\u001b[0m\u001b[1;33m=\u001b[0m\u001b[1;36m2\u001b[0m\u001b[1;33m,\u001b[0m\u001b[0mday\u001b[0m\u001b[1;33m=\u001b[0m\u001b[1;36m5\u001b[0m\u001b[1;33m,\u001b[0m\u001b[0mhour\u001b[0m\u001b[1;33m=\u001b[0m\u001b[1;36m1\u001b[0m\u001b[1;33m,\u001b[0m\u001b[0msecond\u001b[0m\u001b[1;33m=\u001b[0m\u001b[1;36m33\u001b[0m\u001b[1;33m)\u001b[0m\u001b[1;33m\u001b[0m\u001b[1;33m\u001b[0m\u001b[0m\n\u001b[0;32m      4\u001b[0m \u001b[0mt2\u001b[0m\u001b[1;33m=\u001b[0m\u001b[0mtimedelta\u001b[0m\u001b[1;33m(\u001b[0m\u001b[0mdays\u001b[0m\u001b[1;33m=\u001b[0m\u001b[1;36m4\u001b[0m\u001b[1;33m,\u001b[0m\u001b[0mhour\u001b[0m\u001b[1;33m=\u001b[0m\u001b[1;36m11\u001b[0m\u001b[1;33m,\u001b[0m\u001b[0mminuts\u001b[0m\u001b[1;33m=\u001b[0m\u001b[1;36m4\u001b[0m\u001b[1;33m,\u001b[0m\u001b[0mseconds\u001b[0m\u001b[1;33m=\u001b[0m\u001b[1;36m54\u001b[0m\u001b[1;33m)\u001b[0m\u001b[1;33m\u001b[0m\u001b[1;33m\u001b[0m\u001b[0m\n\u001b[0;32m      5\u001b[0m \u001b[0mt3\u001b[0m\u001b[1;33m=\u001b[0m\u001b[0mt1\u001b[0m\u001b[1;33m-\u001b[0m\u001b[0mt2\u001b[0m\u001b[1;33m\u001b[0m\u001b[1;33m\u001b[0m\u001b[0m\n",
      "\u001b[1;31mImportError\u001b[0m: cannot import name 'datedelta' from 'datetime' (C:\\Users\\vthan\\anaconda3\\lib\\datetime.py)"
     ]
    }
   ],
   "source": [
    "from datetime import datedelta\n",
    "\n",
    "t1=timedelta(weeks=2,day=5,hour=1,second=33)\n",
    "t2=timedelta(days=4,hour=11,minuts=4,seconds=54)\n",
    "t3=t1-t2\n",
    "print(\"t3=\",t3)"
   ]
  },
  {
   "cell_type": "code",
   "execution_count": 18,
   "id": "322e9fdd",
   "metadata": {},
   "outputs": [
    {
     "ename": "ImportError",
     "evalue": "cannot import name 'datedelta' from 'datetime' (C:\\Users\\vthan\\anaconda3\\lib\\datetime.py)",
     "output_type": "error",
     "traceback": [
      "\u001b[1;31m---------------------------------------------------------------------------\u001b[0m",
      "\u001b[1;31mImportError\u001b[0m                               Traceback (most recent call last)",
      "\u001b[1;32m~\\AppData\\Local\\Temp\\ipykernel_18328\\3239868935.py\u001b[0m in \u001b[0;36m<module>\u001b[1;34m\u001b[0m\n\u001b[1;32m----> 1\u001b[1;33m \u001b[1;32mfrom\u001b[0m \u001b[0mdatetime\u001b[0m \u001b[1;32mimport\u001b[0m \u001b[0mdatedelta\u001b[0m\u001b[1;33m\u001b[0m\u001b[1;33m\u001b[0m\u001b[0m\n\u001b[0m\u001b[0;32m      2\u001b[0m \u001b[1;33m\u001b[0m\u001b[0m\n\u001b[0;32m      3\u001b[0m \u001b[0mt\u001b[0m\u001b[1;33m=\u001b[0m\u001b[0mtimedelta\u001b[0m\u001b[1;33m(\u001b[0m\u001b[0mdays\u001b[0m\u001b[1;33m=\u001b[0m\u001b[1;36m5\u001b[0m\u001b[1;33m,\u001b[0m\u001b[0mhours\u001b[0m\u001b[1;33m=\u001b[0m\u001b[1;36m1\u001b[0m\u001b[1;33m,\u001b[0m\u001b[0mseconds\u001b[0m\u001b[1;33m=\u001b[0m\u001b[1;36m33\u001b[0m\u001b[1;33m,\u001b[0m\u001b[0mmicroseconds\u001b[0m\u001b[1;33m=\u001b[0m\u001b[1;36m4353678\u001b[0m\u001b[1;33m)\u001b[0m\u001b[1;33m\u001b[0m\u001b[1;33m\u001b[0m\u001b[0m\n\u001b[0;32m      4\u001b[0m \u001b[0mprint\u001b[0m\u001b[1;33m(\u001b[0m\u001b[1;34m\"Total seconds=\"\u001b[0m\u001b[1;33m,\u001b[0m\u001b[0mt\u001b[0m\u001b[1;33m.\u001b[0m\u001b[0mtotal_seconds\u001b[0m\u001b[1;33m(\u001b[0m\u001b[1;33m)\u001b[0m\u001b[1;33m)\u001b[0m\u001b[1;33m\u001b[0m\u001b[1;33m\u001b[0m\u001b[0m\n",
      "\u001b[1;31mImportError\u001b[0m: cannot import name 'datedelta' from 'datetime' (C:\\Users\\vthan\\anaconda3\\lib\\datetime.py)"
     ]
    }
   ],
   "source": [
    "from datetime import datedelta\n",
    "\n",
    "t=timedelta(days=5,hours=1,seconds=33,microseconds=4353678)\n",
    "print(\"Total seconds=\",t.total_seconds())"
   ]
  },
  {
   "cell_type": "markdown",
   "id": "cf9e9913",
   "metadata": {},
   "source": [
    "# Python strftime method()"
   ]
  },
  {
   "cell_type": "code",
   "execution_count": 19,
   "id": "8cda91b9",
   "metadata": {},
   "outputs": [
    {
     "name": "stdout",
     "output_type": "stream",
     "text": [
      "Time: 19:20:06\n",
      "S1: 06/02/23,19,20,06\n",
      "S2: 02/06/23,19:20:06\n"
     ]
    }
   ],
   "source": [
    "from datetime import datetime\n",
    "\n",
    "now=datetime.now() # current date and time \n",
    "\n",
    "t=now.strftime(\"%H:%M:%S\")\n",
    "print(\"Time:\",t)\n",
    "\n",
    "s1=now.strftime(\"%m/%d/%y,%H,%M,%S\") # mm/dd/yy H:M:S format\n",
    "print(\"S1:\",s1)\n",
    "\n",
    "s2=now.strftime(\"%d/%m/%y,%H:%M:%S\") # dd/mm/yy H:M:S formate\n",
    "print(\"S2:\",s2)"
   ]
  }
 ],
 "metadata": {
  "kernelspec": {
   "display_name": "Python 3 (ipykernel)",
   "language": "python",
   "name": "python3"
  },
  "language_info": {
   "codemirror_mode": {
    "name": "ipython",
    "version": 3
   },
   "file_extension": ".py",
   "mimetype": "text/x-python",
   "name": "python",
   "nbconvert_exporter": "python",
   "pygments_lexer": "ipython3",
   "version": "3.9.13"
  }
 },
 "nbformat": 4,
 "nbformat_minor": 5
}
