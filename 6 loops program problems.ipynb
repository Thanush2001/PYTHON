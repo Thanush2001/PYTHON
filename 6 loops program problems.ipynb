{
 "cells": [
  {
   "cell_type": "markdown",
   "id": "acf01ce1",
   "metadata": {},
   "source": [
    "# LOOPS PROGRAMS "
   ]
  },
  {
   "cell_type": "markdown",
   "id": "30e08e9a",
   "metadata": {},
   "source": [
    "# PALINDROME OR NOT\n",
    "it reverse calculate the value can be same that is called palindrome.\n",
    "eg: 434=434,\n",
    "    Amma=Amma"
   ]
  },
  {
   "cell_type": "code",
   "execution_count": 1,
   "id": "f3b17f62",
   "metadata": {},
   "outputs": [
    {
     "name": "stdout",
     "output_type": "stream",
     "text": [
      "enter the value n=121\n",
      "1\n",
      "12\n",
      "121\n",
      "it is a palindrome\n"
     ]
    }
   ],
   "source": [
    "#To find the given number is palindrome or not:\n",
    "\n",
    "n=int(input(\"enter the value n=\"))\n",
    "x=n\n",
    "s=0\n",
    "while(n>0):\n",
    "    r=n%10\n",
    "    s=s*10+r\n",
    "    n=n//10\n",
    "    print(s)\n",
    "if(s==x):\n",
    "    print(\"it is a palindrome\")\n",
    "else:\n",
    "    print(\"it is not a palindrome\")"
   ]
  },
  {
   "cell_type": "code",
   "execution_count": 2,
   "id": "3c77b227",
   "metadata": {},
   "outputs": [
    {
     "name": "stdout",
     "output_type": "stream",
     "text": [
      "1 2 3 4 5 6 7 8 9 11 22 33 44 "
     ]
    }
   ],
   "source": [
    "#To find the given number from 1 to 50 print palindrome or not:\n",
    "\n",
    "for i in range(1,51):\n",
    "    x=i\n",
    "    s=0\n",
    "    while(x>0):\n",
    "        r=x%10\n",
    "        s=s*10+r\n",
    "        x=x//10\n",
    "    if(s==i):\n",
    "        print(i,end=' ')"
   ]
  },
  {
   "cell_type": "markdown",
   "id": "bb9fcaaf",
   "metadata": {},
   "source": [
    "# AMSTRONG OR NOT\n",
    "\n",
    "   EXAMPLE:153=1^3+5^3+3^3=1+125+27=153 IT IS AMSTRONG NUMBER,\n",
    "           124=1^3+2^3+4^3=1+8+64=73    IT IS NOT A AMSTRONG NUMBER."
   ]
  },
  {
   "cell_type": "code",
   "execution_count": 3,
   "id": "2ba61650",
   "metadata": {},
   "outputs": [
    {
     "name": "stdout",
     "output_type": "stream",
     "text": [
      "enter the value n=153\n",
      "27\n",
      "152\n",
      "153\n",
      "it is a amstrong\n"
     ]
    }
   ],
   "source": [
    "# write a program find the given number is armstrong or not:\n",
    "\n",
    "n=int(input(\"enter the value n=\"))\n",
    "x=n\n",
    "s=0\n",
    "while(n>0):\n",
    "    r=n%10\n",
    "    s=s+r**3\n",
    "    n=n//10\n",
    "    print(s)\n",
    "if(s==x):\n",
    "    print(\"it is a amstrong\")\n",
    "else:\n",
    "    print(\"it is not a amstrong\")"
   ]
  },
  {
   "cell_type": "code",
   "execution_count": 4,
   "id": "1dbd60b0",
   "metadata": {},
   "outputs": [
    {
     "name": "stdout",
     "output_type": "stream",
     "text": [
      "1\n",
      "153\n",
      "370\n",
      "371\n",
      "407\n"
     ]
    }
   ],
   "source": [
    "# write a program find the given numbers from 1 to 1000 which is amstrong or not:\n",
    "\n",
    "for i in range(1,1001):\n",
    "    x=i\n",
    "    s=0\n",
    "    while(x>0):\n",
    "        r=x%10\n",
    "        s=s+r**3\n",
    "        x=x//10\n",
    "    if(s==i):\n",
    "        print(i)"
   ]
  },
  {
   "cell_type": "markdown",
   "id": "26695c61",
   "metadata": {},
   "source": [
    "# ADD N NUMBERS\n",
    "\n",
    "EXAMPLE:1+2+3+4+5=15"
   ]
  },
  {
   "cell_type": "code",
   "execution_count": 5,
   "id": "805d9a57",
   "metadata": {},
   "outputs": [
    {
     "name": "stdout",
     "output_type": "stream",
     "text": [
      "enter the value n=5\n",
      "1 3 6 10 15 "
     ]
    }
   ],
   "source": [
    "# Find the n number add them from 1 to n:\n",
    "\n",
    "n=int(input(\"enter the value n=\"))\n",
    "s=0\n",
    "for i in range(1,n+1):\n",
    "    s=s+i\n",
    "    print(s,end=' ')"
   ]
  },
  {
   "cell_type": "code",
   "execution_count": 6,
   "id": "cc5044ed",
   "metadata": {},
   "outputs": [
    {
     "name": "stdout",
     "output_type": "stream",
     "text": [
      "1\n",
      "3\n",
      "6\n",
      "10\n",
      "15\n"
     ]
    }
   ],
   "source": [
    "n=5\n",
    "i=1\n",
    "s=0\n",
    "while(n>=i):   # or (i<=n)\n",
    "    s=s+i\n",
    "    i=i+1\n",
    "    print(s)"
   ]
  },
  {
   "cell_type": "markdown",
   "id": "7d121065",
   "metadata": {},
   "source": [
    "# FACTORIAL\n",
    "\n",
    "EXAMPLE: 5FACTORIAL=5 INTO 4 INTO 3 INTO 2 INTO 1=120"
   ]
  },
  {
   "cell_type": "code",
   "execution_count": 7,
   "id": "8373d355",
   "metadata": {},
   "outputs": [
    {
     "name": "stdout",
     "output_type": "stream",
     "text": [
      "enter the value n=5\n",
      "1\n",
      "2\n",
      "6\n",
      "24\n",
      "120\n"
     ]
    }
   ],
   "source": [
    "# factorial \n",
    "\n",
    "n=int(input(\"enter the value n=\"))\n",
    "i=1\n",
    "f=1\n",
    "while(i<=n):  # or (n>=i)\n",
    "    f=f*i\n",
    "    i=i+1\n",
    "    print(f)"
   ]
  },
  {
   "cell_type": "code",
   "execution_count": 8,
   "id": "0e19b551",
   "metadata": {},
   "outputs": [
    {
     "name": "stdout",
     "output_type": "stream",
     "text": [
      "enter the value n=5\n",
      "1\n",
      "2\n",
      "6\n",
      "24\n",
      "120\n"
     ]
    }
   ],
   "source": [
    "n=int(input(\"enter the value n=\"))\n",
    "f=1\n",
    "for i in range(1,n+1):\n",
    "    f=f*i\n",
    "    print(f)"
   ]
  },
  {
   "cell_type": "code",
   "execution_count": 9,
   "id": "5d059746",
   "metadata": {},
   "outputs": [
    {
     "name": "stdout",
     "output_type": "stream",
     "text": [
      "enter the value n=5\n",
      "120\n"
     ]
    }
   ],
   "source": [
    "n=int(input(\"enter the value n=\"))\n",
    "f=1\n",
    "for i in range(n,0,-1):\n",
    "    f=f*i\n",
    "print(f)"
   ]
  },
  {
   "cell_type": "code",
   "execution_count": 10,
   "id": "d695194c",
   "metadata": {},
   "outputs": [
    {
     "name": "stdout",
     "output_type": "stream",
     "text": [
      "5\n",
      "20\n",
      "60\n",
      "120\n",
      "120\n"
     ]
    }
   ],
   "source": [
    "# 5 to 1 factorial:\n",
    "\n",
    "f=1\n",
    "i=5\n",
    "while(i>=1):\n",
    "    f=f*i\n",
    "    i=i-1\n",
    "    print(f)"
   ]
  },
  {
   "cell_type": "markdown",
   "id": "ce7439f2",
   "metadata": {},
   "source": [
    "# STRONG NUMBER\n",
    "\n",
    "EXAMPLE==145-FACTORIAL=1 FACTORIAL+4 FACTORIAL+5 FACTORIAL=1+24+120=145 THEN IT IS A STRONG NUMBER._____________________________\n",
    "153=1+120+6=127 IT IS NOT A STRONG NUMBER."
   ]
  },
  {
   "cell_type": "code",
   "execution_count": 11,
   "id": "f3710d5a",
   "metadata": {},
   "outputs": [
    {
     "name": "stdout",
     "output_type": "stream",
     "text": [
      "enter the value n=145\n",
      "120\n",
      "144\n",
      "145\n",
      "it is a strong number\n"
     ]
    }
   ],
   "source": [
    "# Given number is  strong number or not:\n",
    "\n",
    "n=int(input(\"enter the value n=\"))\n",
    "x=n\n",
    "s=0\n",
    "while(n>0):\n",
    "    r=n%10\n",
    "    f=1\n",
    "    for i in range(1,r+1):\n",
    "        f=f*i\n",
    "    s=s+f\n",
    "    n=n//10\n",
    "    print(s)\n",
    "if(s==x):\n",
    "    print(\"it is a strong number\")\n",
    "else:\n",
    "    print(\"it is not a strong number\")"
   ]
  },
  {
   "cell_type": "code",
   "execution_count": 12,
   "id": "93b8fe9d",
   "metadata": {},
   "outputs": [
    {
     "name": "stdout",
     "output_type": "stream",
     "text": [
      "1\n",
      "2\n",
      "145\n"
     ]
    }
   ],
   "source": [
    "# print from 1 to 1000 strong number:\n",
    "\n",
    "for i in range(1,1001):\n",
    "    n=i\n",
    "    s=0\n",
    "    while(n>0):\n",
    "        r=n%10\n",
    "        f=1\n",
    "        for j in range(1,r+1):\n",
    "            f=f*j\n",
    "        s=s+f\n",
    "        n=n//10\n",
    "    if(s==i):\n",
    "        print(i)"
   ]
  },
  {
   "cell_type": "markdown",
   "id": "f75d03c9",
   "metadata": {},
   "source": [
    "# ADAM NUMBER OR NOT \n",
    "\n",
    "A Number is said to be an adam number if the reverse of square of the number is equal to the square of the reverse of the number.______EXAMPLE:13=13 INTO 13=169___31=31 INTO 31=961 ANY ONE REVERSE THE NUMBER. #THEN SAME NUMBER IS CALLED ADAM NUMBER."
   ]
  },
  {
   "cell_type": "code",
   "execution_count": 13,
   "id": "06202b2b",
   "metadata": {},
   "outputs": [
    {
     "name": "stdout",
     "output_type": "stream",
     "text": [
      "enter the value n=12\n",
      "it is a adam number\n"
     ]
    }
   ],
   "source": [
    "# Given number is adam or not:\n",
    "\n",
    "n=int(input(\"enter the value n=\"))\n",
    "x=n**2\n",
    "s=0\n",
    "while(n>0):\n",
    "    r=n%10\n",
    "    s=s*10+r\n",
    "    n=n//10\n",
    "y=s**2\n",
    "s1=0\n",
    "while(x>0):\n",
    "    r=x%10\n",
    "    s1=s1*10+r\n",
    "    x=x//10\n",
    "if(s1==y):\n",
    "    print(\"it is a adam number\")\n",
    "else:\n",
    "    print(\"it is not a adam number\")"
   ]
  },
  {
   "cell_type": "code",
   "execution_count": 14,
   "id": "c79397a3",
   "metadata": {},
   "outputs": [
    {
     "name": "stdout",
     "output_type": "stream",
     "text": [
      "1 2 3 10 11 12 13 20 21 22 30 31 100 101 102 103 110 111 112 113 120 121 122 130 200 201 202 210 211 212 220 221 300 301 310 311 1000 "
     ]
    }
   ],
   "source": [
    "#print Adam number from 1 to 1000:\n",
    "\n",
    "for i in range(1,1001):\n",
    "    n=i\n",
    "    s=0\n",
    "    x=n**2\n",
    "    while(n>0):\n",
    "        r=n%10\n",
    "        s=s*10+r\n",
    "        n=n//10\n",
    "    y=s**2\n",
    "    s1=0\n",
    "    while(x>0):\n",
    "        r=x%10\n",
    "        s1=s1*10+r\n",
    "        x=x//10\n",
    "    if(s1==y):\n",
    "        print(i,end=' ')"
   ]
  },
  {
   "cell_type": "markdown",
   "id": "c95e89ea",
   "metadata": {},
   "source": [
    "# SHERLOCK NUMBER OR NOT\n",
    "\n",
    "N=145=1+4+5=10._____Then 10 is divided by 2 remainder is zero sherlock number.___remainder is not zero not sherlock number.?"
   ]
  },
  {
   "cell_type": "code",
   "execution_count": 15,
   "id": "20a51dd2",
   "metadata": {},
   "outputs": [
    {
     "name": "stdout",
     "output_type": "stream",
     "text": [
      "enter the value n=145\n",
      "5\n",
      "9\n",
      "10\n",
      "sherlock number\n"
     ]
    }
   ],
   "source": [
    "# Sherlock or not given nuumber \n",
    "\n",
    "n=int(input(\"enter the value n=\"))\n",
    "s=0\n",
    "while(n>0):\n",
    "    r=n%10\n",
    "    s=s+r\n",
    "    n=n//10\n",
    "    print(s)\n",
    "if(s%2==0):\n",
    "    print(\"sherlock number\")\n",
    "else:\n",
    "    print(\"not sherlock number\")"
   ]
  },
  {
   "cell_type": "code",
   "execution_count": 16,
   "id": "3d1c571f",
   "metadata": {},
   "outputs": [
    {
     "name": "stdout",
     "output_type": "stream",
     "text": [
      "2 4 6 8 11 13 15 17 19 20 22 24 26 28 31 33 35 37 39 40 42 44 46 48 51 53 55 57 59 60 62 64 66 68 71 73 75 77 79 80 82 84 86 88 91 93 95 97 99 101 103 105 107 109 110 112 114 116 118 121 123 125 127 129 130 132 134 136 138 141 143 145 147 149 150 152 154 156 158 161 163 165 167 169 170 172 174 176 178 181 183 185 187 189 190 192 194 196 198 200 202 204 206 208 211 213 215 217 219 220 222 224 226 228 231 233 235 237 239 240 242 244 246 248 251 253 255 257 259 260 262 264 266 268 271 273 275 277 279 280 282 284 286 288 291 293 295 297 299 301 303 305 307 309 310 312 314 316 318 321 323 325 327 329 330 332 334 336 338 341 343 345 347 349 350 352 354 356 358 361 363 365 367 369 370 372 374 376 378 381 383 385 387 389 390 392 394 396 398 400 402 404 406 408 411 413 415 417 419 420 422 424 426 428 431 433 435 437 439 440 442 444 446 448 451 453 455 457 459 460 462 464 466 468 471 473 475 477 479 480 482 484 486 488 491 493 495 497 499 501 503 505 507 509 510 512 514 516 518 521 523 525 527 529 530 532 534 536 538 541 543 545 547 549 550 552 554 556 558 561 563 565 567 569 570 572 574 576 578 581 583 585 587 589 590 592 594 596 598 600 602 604 606 608 611 613 615 617 619 620 622 624 626 628 631 633 635 637 639 640 642 644 646 648 651 653 655 657 659 660 662 664 666 668 671 673 675 677 679 680 682 684 686 688 691 693 695 697 699 701 703 705 707 709 710 712 714 716 718 721 723 725 727 729 730 732 734 736 738 741 743 745 747 749 750 752 754 756 758 761 763 765 767 769 770 772 774 776 778 781 783 785 787 789 790 792 794 796 798 800 802 804 806 808 811 813 815 817 819 820 822 824 826 828 831 833 835 837 839 840 842 844 846 848 851 853 855 857 859 860 862 864 866 868 871 873 875 877 879 880 882 884 886 888 891 893 895 897 899 901 903 905 907 909 910 912 914 916 918 921 923 925 927 929 930 932 934 936 938 941 943 945 947 949 950 952 954 956 958 961 963 965 967 969 970 972 974 976 978 981 983 985 987 989 990 992 994 996 998 "
     ]
    }
   ],
   "source": [
    "# print sherlock number from 1 to 1000:\n",
    "\n",
    "for i in range(1,1001):\n",
    "    n=i\n",
    "    s=0\n",
    "    while(n>0):\n",
    "        r=n%10\n",
    "        s=s+r\n",
    "        n=n//10\n",
    "    if(s%2==0):\n",
    "        print(i,end=' ')"
   ]
  },
  {
   "cell_type": "markdown",
   "id": "0e421000",
   "metadata": {},
   "source": [
    "# FIBONACCI SERIES\n",
    "\n",
    "EXAMPLE:0+1+1+2+3+5+8+13+21+34+55+89__________a=0 b=1 a+b=c next b=a c=b a+b=c......."
   ]
  },
  {
   "cell_type": "code",
   "execution_count": 17,
   "id": "3e12633d",
   "metadata": {},
   "outputs": [
    {
     "name": "stdout",
     "output_type": "stream",
     "text": [
      "enter the value n=10\n",
      "1\n",
      "2\n",
      "3\n",
      "5\n",
      "8\n",
      "13\n",
      "21\n",
      "34\n",
      "55\n",
      "89\n"
     ]
    }
   ],
   "source": [
    "# Display fibonacci series:\n",
    "\n",
    "n=int(input(\"enter the value n=\"))\n",
    "a=0\n",
    "b=1\n",
    "for i in range(1,n+1):\n",
    "    c=a+b\n",
    "    print(c)\n",
    "    a=b\n",
    "    b=c"
   ]
  },
  {
   "cell_type": "markdown",
   "id": "d77b346d",
   "metadata": {},
   "source": [
    "# PRIME NUMBER OR COMPOSIT NUMBER\n",
    "\n",
    "Which are exactly divisible by one and itself. EXAMPLE:1 INTO 2=2 AND 2 INTO 1=2,3 INTO 1=3 AND 1 INTO 3=3 PRIME NUMBER,____________________\n",
    "1 INTO 10=10 AND 2 INTO 5=10 AND 5 INTO 2=10 AND 10 INTO 1=10 COMPOSIT NUMBER."
   ]
  },
  {
   "cell_type": "code",
   "execution_count": 18,
   "id": "40785cab",
   "metadata": {},
   "outputs": [
    {
     "name": "stdout",
     "output_type": "stream",
     "text": [
      "enter the value n=5\n",
      "prime number\n"
     ]
    }
   ],
   "source": [
    "# Find the prime or composit number:\n",
    "\n",
    "n=int(input(\"enter the value n=\"))\n",
    "c=0\n",
    "for i in range(1,n+1):\n",
    "    if(n%i==0):\n",
    "        c=c+1\n",
    "if(c==2):\n",
    "    print(\"prime number\")\n",
    "else:\n",
    "    print(\"composit number\")"
   ]
  },
  {
   "cell_type": "code",
   "execution_count": 19,
   "id": "52cf2db7",
   "metadata": {},
   "outputs": [
    {
     "name": "stdout",
     "output_type": "stream",
     "text": [
      "no of prime number is: 2\n",
      "no of prime number is: 3\n",
      "no of prime number is: 5\n",
      "no of prime number is: 7\n",
      "no of prime number is: 11\n",
      "no of prime number is: 13\n",
      "no of prime number is: 17\n",
      "no of prime number is: 19\n",
      "no of prime number is: 23\n",
      "no of prime number is: 29\n",
      "no of prime number is: 31\n",
      "no of prime number is: 37\n",
      "no of prime number is: 41\n",
      "no of prime number is: 43\n",
      "no of prime number is: 47\n",
      "no of prime number is: 53\n",
      "no of prime number is: 59\n",
      "no of prime number is: 61\n",
      "no of prime number is: 67\n",
      "no of prime number is: 71\n",
      "no of prime number is: 73\n",
      "no of prime number is: 79\n",
      "no of prime number is: 83\n",
      "no of prime number is: 89\n",
      "no of prime number is: 97\n",
      "no of prime number is: 101\n",
      "no of prime number is: 103\n",
      "no of prime number is: 107\n",
      "no of prime number is: 109\n",
      "no of prime number is: 113\n",
      "no of prime number is: 127\n",
      "no of prime number is: 131\n",
      "no of prime number is: 137\n",
      "no of prime number is: 139\n",
      "no of prime number is: 149\n",
      "no of prime number is: 151\n",
      "no of prime number is: 157\n",
      "no of prime number is: 163\n",
      "no of prime number is: 167\n",
      "no of prime number is: 173\n",
      "no of prime number is: 179\n",
      "no of prime number is: 181\n",
      "no of prime number is: 191\n",
      "no of prime number is: 193\n",
      "no of prime number is: 197\n",
      "no of prime number is: 199\n",
      "no of prime number is: 211\n",
      "no of prime number is: 223\n",
      "no of prime number is: 227\n",
      "no of prime number is: 229\n",
      "no of prime number is: 233\n",
      "no of prime number is: 239\n",
      "no of prime number is: 241\n",
      "no of prime number is: 251\n",
      "no of prime number is: 257\n",
      "no of prime number is: 263\n",
      "no of prime number is: 269\n",
      "no of prime number is: 271\n",
      "no of prime number is: 277\n",
      "no of prime number is: 281\n",
      "no of prime number is: 283\n",
      "no of prime number is: 293\n",
      "no of prime number is: 307\n",
      "no of prime number is: 311\n",
      "no of prime number is: 313\n",
      "no of prime number is: 317\n",
      "no of prime number is: 331\n",
      "no of prime number is: 337\n",
      "no of prime number is: 347\n",
      "no of prime number is: 349\n",
      "no of prime number is: 353\n",
      "no of prime number is: 359\n",
      "no of prime number is: 367\n",
      "no of prime number is: 373\n",
      "no of prime number is: 379\n",
      "no of prime number is: 383\n",
      "no of prime number is: 389\n",
      "no of prime number is: 397\n",
      "no of prime number is: 401\n",
      "no of prime number is: 409\n",
      "no of prime number is: 419\n",
      "no of prime number is: 421\n",
      "no of prime number is: 431\n",
      "no of prime number is: 433\n",
      "no of prime number is: 439\n",
      "no of prime number is: 443\n",
      "no of prime number is: 449\n",
      "no of prime number is: 457\n",
      "no of prime number is: 461\n",
      "no of prime number is: 463\n",
      "no of prime number is: 467\n",
      "no of prime number is: 479\n",
      "no of prime number is: 487\n",
      "no of prime number is: 491\n",
      "no of prime number is: 499\n",
      "no of prime number is: 503\n",
      "no of prime number is: 509\n",
      "no of prime number is: 521\n",
      "no of prime number is: 523\n",
      "no of prime number is: 541\n",
      "no of prime number is: 547\n",
      "no of prime number is: 557\n",
      "no of prime number is: 563\n",
      "no of prime number is: 569\n",
      "no of prime number is: 571\n",
      "no of prime number is: 577\n",
      "no of prime number is: 587\n",
      "no of prime number is: 593\n",
      "no of prime number is: 599\n",
      "no of prime number is: 601\n",
      "no of prime number is: 607\n",
      "no of prime number is: 613\n",
      "no of prime number is: 617\n",
      "no of prime number is: 619\n",
      "no of prime number is: 631\n",
      "no of prime number is: 641\n",
      "no of prime number is: 643\n",
      "no of prime number is: 647\n",
      "no of prime number is: 653\n",
      "no of prime number is: 659\n",
      "no of prime number is: 661\n",
      "no of prime number is: 673\n",
      "no of prime number is: 677\n",
      "no of prime number is: 683\n",
      "no of prime number is: 691\n",
      "no of prime number is: 701\n",
      "no of prime number is: 709\n",
      "no of prime number is: 719\n",
      "no of prime number is: 727\n",
      "no of prime number is: 733\n",
      "no of prime number is: 739\n",
      "no of prime number is: 743\n",
      "no of prime number is: 751\n",
      "no of prime number is: 757\n",
      "no of prime number is: 761\n",
      "no of prime number is: 769\n",
      "no of prime number is: 773\n",
      "no of prime number is: 787\n",
      "no of prime number is: 797\n",
      "no of prime number is: 809\n",
      "no of prime number is: 811\n",
      "no of prime number is: 821\n",
      "no of prime number is: 823\n",
      "no of prime number is: 827\n",
      "no of prime number is: 829\n",
      "no of prime number is: 839\n",
      "no of prime number is: 853\n",
      "no of prime number is: 857\n",
      "no of prime number is: 859\n",
      "no of prime number is: 863\n",
      "no of prime number is: 877\n",
      "no of prime number is: 881\n",
      "no of prime number is: 883\n",
      "no of prime number is: 887\n",
      "no of prime number is: 907\n",
      "no of prime number is: 911\n",
      "no of prime number is: 919\n",
      "no of prime number is: 929\n",
      "no of prime number is: 937\n",
      "no of prime number is: 941\n",
      "no of prime number is: 947\n",
      "no of prime number is: 953\n",
      "no of prime number is: 967\n",
      "no of prime number is: 971\n",
      "no of prime number is: 977\n",
      "no of prime number is: 983\n",
      "no of prime number is: 991\n",
      "no of prime number is: 997\n"
     ]
    }
   ],
   "source": [
    "# print from 1 to 1000 prime numbers:\n",
    "\n",
    "for i in range(1,1001):\n",
    "    n=i\n",
    "    c=0\n",
    "    for j in range(1,n+1):\n",
    "        if(n%j==0):\n",
    "            c=c+1\n",
    "    if(c==2):\n",
    "        print(\"no of prime number is:\",i)"
   ]
  },
  {
   "cell_type": "markdown",
   "id": "1f5492f9",
   "metadata": {},
   "source": [
    "# PERFECT NUMBNER OR NOT \n",
    "\n",
    "EXAMPLE:N=6__1 INTO 6 =6,2 INTO 6 =6,3 INTO 2=6___1+2+3=6 THIS IS PERFECT NUMBER.___________________\n",
    "N=8___1 INTO 8=8,2 INTO 4=8,4 INTO 2=8___1+2+4=7 THIS IS NOT PERFECT NUMBER."
   ]
  },
  {
   "cell_type": "code",
   "execution_count": 20,
   "id": "5faa622d",
   "metadata": {},
   "outputs": [
    {
     "name": "stdout",
     "output_type": "stream",
     "text": [
      "enter the value n=6\n",
      "perfect number\n"
     ]
    }
   ],
   "source": [
    "# write a program to find the given number is perfect number or not:\n",
    "\n",
    "n=int(input(\"enter the value n=\"))\n",
    "c=0\n",
    "for i in range(1,n):\n",
    "    if(n%i==0):\n",
    "        c=c+i\n",
    "if(c==n):\n",
    "    print(\"perfect number\")\n",
    "else:\n",
    "    print(\"not perfect number\")"
   ]
  },
  {
   "cell_type": "code",
   "execution_count": 21,
   "id": "3542b000",
   "metadata": {},
   "outputs": [
    {
     "name": "stdout",
     "output_type": "stream",
     "text": [
      "6 28 496 "
     ]
    }
   ],
   "source": [
    "# print perfect number from 1 to 1000:\n",
    "\n",
    "for i in range(1,1001):\n",
    "    n=i\n",
    "    c=0\n",
    "    for j in range(1,n):\n",
    "        if(n%j==0):\n",
    "            c=c+j\n",
    "    if(c==n):\n",
    "        print(i,end=' ')"
   ]
  }
 ],
 "metadata": {
  "kernelspec": {
   "display_name": "Python 3 (ipykernel)",
   "language": "python",
   "name": "python3"
  },
  "language_info": {
   "codemirror_mode": {
    "name": "ipython",
    "version": 3
   },
   "file_extension": ".py",
   "mimetype": "text/x-python",
   "name": "python",
   "nbconvert_exporter": "python",
   "pygments_lexer": "ipython3",
   "version": "3.9.12"
  }
 },
 "nbformat": 4,
 "nbformat_minor": 5
}
