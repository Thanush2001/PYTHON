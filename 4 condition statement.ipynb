{
 "cells": [
  {
   "cell_type": "markdown",
   "id": "e87ca028",
   "metadata": {},
   "source": [
    "# CONTROL STRUCTURES/CONDITIONAL STATEMENT"
   ]
  },
  {
   "cell_type": "code",
   "execution_count": 1,
   "id": "fc6878e8",
   "metadata": {},
   "outputs": [
    {
     "name": "stdout",
     "output_type": "stream",
     "text": [
      "enter the value a=5\n",
      "enter the value b=4\n",
      "A is biggest\n",
      "5 is biggest\n"
     ]
    }
   ],
   "source": [
    "#using simple if\n",
    "#write a program find the biggest value among number using simple if\n",
    "\n",
    "a=int(input(\"enter the value a=\"))\n",
    "b=int(input(\"enter the value b=\"))\n",
    "if(a>b):\n",
    "    print(\"A is biggest\")\n",
    "    print(a,\"is biggest\")"
   ]
  },
  {
   "cell_type": "code",
   "execution_count": 2,
   "id": "3f819128",
   "metadata": {},
   "outputs": [
    {
     "name": "stdout",
     "output_type": "stream",
     "text": [
      "enter the value a=4\n",
      "enter the value b=5\n",
      "A is smallest\n",
      "4 is smallest\n"
     ]
    }
   ],
   "source": [
    "#using if else\n",
    "#write a program find the smallest value among 2 numbers using if else\n",
    "\n",
    "a=int(input(\"enter the value a=\"))\n",
    "b=int(input(\"enter the value b=\"))\n",
    "if(a<b):\n",
    "    print(\"A is smallest\")\n",
    "    print(a,\"is smallest\")\n",
    "else:\n",
    "    print(\"b is smallest\")\n",
    "    print(\"b,is smallest\")"
   ]
  },
  {
   "cell_type": "code",
   "execution_count": 3,
   "id": "70e58fbf",
   "metadata": {},
   "outputs": [
    {
     "name": "stdout",
     "output_type": "stream",
     "text": [
      "enter the value a=18\n",
      "a is even number\n",
      "18 is even number\n"
     ]
    }
   ],
   "source": [
    "#find the given number is odd or even number\n",
    "\n",
    "a=int(input(\"enter the value a=\"))\n",
    "if(a%2==0):\n",
    "    print(\"a is even number\")\n",
    "    print(a,\"is even number\")\n",
    "else:\n",
    "    print(\"a is odd number\")\n",
    "    print(a,\"is odd number\")"
   ]
  },
  {
   "cell_type": "code",
   "execution_count": 4,
   "id": "d7ede67a",
   "metadata": {},
   "outputs": [
    {
     "name": "stdout",
     "output_type": "stream",
     "text": [
      "enter the value a=i\n",
      "a is vowel\n",
      "i is vowel\n"
     ]
    }
   ],
   "source": [
    "#write a program find the given alphabet is vowels or consonent\n",
    "\n",
    "a=input(\"enter the value a=\")\n",
    "if(a=='a' or a=='e' or a=='i' or a=='o' or a=='u'):\n",
    "    print(\"a is vowel\")\n",
    "    print(a,\"is vowel\")\n",
    "else:\n",
    "    print(\"a is consonent\")\n",
    "    print(a,\"is consonent\")"
   ]
  },
  {
   "cell_type": "code",
   "execution_count": 5,
   "id": "036014f0",
   "metadata": {},
   "outputs": [
    {
     "name": "stdout",
     "output_type": "stream",
     "text": [
      "enter the character=A\n",
      "A is uppercase\n"
     ]
    }
   ],
   "source": [
    "#write a program find the given alphabet is uppercase or lowercase\n",
    "\n",
    "a=input(\"enter the character=\")\n",
    "x=ord(a)\n",
    "if(x>=65 and x<=90):\n",
    "    print(a,\"is uppercase\")\n",
    "else:\n",
    "    print(a,\"is lowercase\")"
   ]
  },
  {
   "cell_type": "code",
   "execution_count": 6,
   "id": "b5ea2992",
   "metadata": {},
   "outputs": [
    {
     "name": "stdout",
     "output_type": "stream",
     "text": [
      "enter the character=i\n",
      "i is lowercase\n"
     ]
    }
   ],
   "source": [
    "a=input(\"enter the character=\")\n",
    "x=ord(a)\n",
    "if(x>=97 and x<=122):\n",
    "    print(a,\"is lowercase\")\n",
    "else:\n",
    "    print(a,\"is uppercase\")"
   ]
  },
  {
   "cell_type": "code",
   "execution_count": 7,
   "id": "6d4f535a",
   "metadata": {},
   "outputs": [
    {
     "name": "stdout",
     "output_type": "stream",
     "text": [
      "enter the character=A\n",
      "a\n"
     ]
    }
   ],
   "source": [
    "#write a program find the given alphabet from uppercase or lowercase and lowercase to uppercase\n",
    "\n",
    "a=input(\"enter the character=\")\n",
    "x=ord(a)\n",
    "if(x>=65 and x<=90):\n",
    "    a=x+32\n",
    "    print(chr(a))\n",
    "else:\n",
    "    a=x-32\n",
    "    print(chr(a))"
   ]
  },
  {
   "cell_type": "code",
   "execution_count": 8,
   "id": "9756c372",
   "metadata": {},
   "outputs": [
    {
     "name": "stdout",
     "output_type": "stream",
     "text": [
      "enter the character=A\n",
      "97\n"
     ]
    }
   ],
   "source": [
    "a=input(\"enter the character=\")\n",
    "x=ord(a)\n",
    "if(x>=65 and x<=90):\n",
    "    a=x+32\n",
    "    print(int(a))\n",
    "else:\n",
    "    a=x-32\n",
    "    print(int(a))"
   ]
  },
  {
   "cell_type": "code",
   "execution_count": 9,
   "id": "20ce3f78",
   "metadata": {},
   "outputs": [
    {
     "name": "stdout",
     "output_type": "stream",
     "text": [
      "A\n",
      "65\n"
     ]
    }
   ],
   "source": [
    "#check keycodes shortcut\n",
    "\n",
    "a=input()\n",
    "b=ord(a)\n",
    "print(b)"
   ]
  },
  {
   "cell_type": "code",
   "execution_count": 10,
   "id": "2e2570ab",
   "metadata": {},
   "outputs": [
    {
     "name": "stdout",
     "output_type": "stream",
     "text": [
      "enter the value=2004\n",
      "2004 is a leapyear\n"
     ]
    }
   ],
   "source": [
    "#leapyear or not check\n",
    "\n",
    "a=int(input(\"enter the value=\"))\n",
    "if(a%4==0):\n",
    "    print(a,\"is a leapyear\")\n",
    "else:\n",
    "    print(a,\"is not a leapyear\")"
   ]
  },
  {
   "cell_type": "code",
   "execution_count": 11,
   "id": "81537eaa",
   "metadata": {},
   "outputs": [
    {
     "name": "stdout",
     "output_type": "stream",
     "text": [
      "enter the value a=44\n",
      "eligible for vote\n"
     ]
    }
   ],
   "source": [
    "#vote eligible calculate \n",
    "\n",
    "a=int(input(\"enter the value a=\"))\n",
    "if(a>=18):\n",
    "    print(\"eligible for vote\")\n",
    "else:\n",
    "    print(\"not eligible for vote\")"
   ]
  },
  {
   "cell_type": "code",
   "execution_count": 12,
   "id": "df0c7865",
   "metadata": {},
   "outputs": [
    {
     "name": "stdout",
     "output_type": "stream",
     "text": [
      "enter the value a=1\n",
      "enter the value b=2\n",
      "enter the value c=3\n",
      "enter the value d=4\n",
      "enter the value e=5\n",
      "5 is biggest\n"
     ]
    }
   ],
   "source": [
    "#using elif\n",
    "#write a program find the biggest value among 5 number \n",
    "\n",
    "a=int(input(\"enter the value a=\"))\n",
    "b=int(input(\"enter the value b=\"))\n",
    "c=int(input(\"enter the value c=\"))\n",
    "d=int(input(\"enter the value d=\"))\n",
    "e=int(input(\"enter the value e=\"))\n",
    "if(a>b and a>c and a>d and a>e):\n",
    "    print(a,\"is bioggest\")\n",
    "elif(b>c and c>d and d>e):\n",
    "    print(b,\"is biggest\")\n",
    "elif(c>d and d>e):\n",
    "    print(c,\"is biggest\")\n",
    "elif(d>e):\n",
    "    print(d,\"is biggest\")\n",
    "else:\n",
    "    print(e,\"is biggest\")"
   ]
  },
  {
   "cell_type": "code",
   "execution_count": 13,
   "id": "07f22575",
   "metadata": {},
   "outputs": [
    {
     "name": "stdout",
     "output_type": "stream",
     "text": [
      "enter the value a=1\n",
      "enter the value b=2\n",
      "enter the value c=3\n",
      "1 is smallest\n"
     ]
    }
   ],
   "source": [
    "#write a program for 3 number which is smallest\n",
    "\n",
    "a=int(input(\"enter the value a=\"))\n",
    "b=int(input(\"enter the value b=\"))\n",
    "c=int(input(\"enter the value c=\"))\n",
    "if(a<b and a<c):\n",
    "    print(a,\"is smallest\")\n",
    "elif(b<c):\n",
    "    print(b,\"is smallest\")\n",
    "else:\n",
    "    print(c,\"is smallest\")"
   ]
  },
  {
   "cell_type": "code",
   "execution_count": 14,
   "id": "06ee074b",
   "metadata": {},
   "outputs": [
    {
     "name": "stdout",
     "output_type": "stream",
     "text": [
      "enter the value a=76\n",
      "negative number\n"
     ]
    }
   ],
   "source": [
    "#using nested if\n",
    "#check positive number and negative numbers \n",
    "\n",
    "a=int(input(\"enter the value a=\"))\n",
    "if(a>=77):\n",
    "    if(a==0):\n",
    "        print(\"zero\")\n",
    "    else:\n",
    "        print(\"positive number\")\n",
    "else:\n",
    "    print(\"negative number\")"
   ]
  },
  {
   "cell_type": "code",
   "execution_count": 15,
   "id": "9d64af89",
   "metadata": {},
   "outputs": [
    {
     "name": "stdout",
     "output_type": "stream",
     "text": [
      "enter the rno=6014\n",
      "enter the name=Thanush\n",
      "enter the value m1=77\n",
      "enter the value m2=88\n",
      "enter the value m3=99\n",
      "rno= 6014\n",
      "name= Thanush\n",
      "m1= 77\n",
      "m2= 88\n",
      "m3= 99\n",
      "total= 264\n",
      "avg= 88.0\n",
      "pass\n",
      "B grade\n"
     ]
    }
   ],
   "source": [
    "#display student marksheet in nested if \n",
    "\n",
    "rno=int(input(\"enter the rno=\"))\n",
    "name=input(\"enter the name=\")\n",
    "m1=int(input(\"enter the value m1=\"))\n",
    "m2=int(input(\"enter the value m2=\"))\n",
    "m3=int(input(\"enter the value m3=\"))\n",
    "total=m1+m2+m3\n",
    "avg=total/3\n",
    "if(m1>=35 and m2>=35 and m3>=35):\n",
    "    print(\"rno=\",rno)\n",
    "    print(\"name=\",name)\n",
    "    print(\"m1=\",m1)\n",
    "    print(\"m2=\",m2)\n",
    "    print(\"m3=\",m3)\n",
    "    print(\"total=\",total)\n",
    "    print(\"avg=\",avg)\n",
    "    print(\"pass\")\n",
    "    if(avg>=90 and avg<100):\n",
    "        print(\"A grade\")\n",
    "    elif(avg>=70 and avg<90):\n",
    "        print(\"B grade\")\n",
    "    elif(avg>=50 and avg<70):\n",
    "        print(\"C grade\")\n",
    "    else:\n",
    "        print(\"d grade\")\n",
    "else:\n",
    "    print(\"Fail\")"
   ]
  },
  {
   "cell_type": "code",
   "execution_count": 16,
   "id": "190688bc",
   "metadata": {},
   "outputs": [
    {
     "name": "stdout",
     "output_type": "stream",
     "text": [
      "enter the rno1=6014\n",
      "enter the name1=Thanush\n",
      "enter the totscore1=777\n",
      "enter the rno2=6001\n",
      "enter the name2=Ambika\n",
      "enter the totscore2=999\n",
      "enter the rno3=6017\n",
      "enter the name3=Vicky\n",
      "enter the totscore3=888\n",
      "6001 Ambika 999\n"
     ]
    }
   ],
   "source": [
    "#given 3 number are name,rno,score there are 3 persons which is the highest find it \n",
    "\n",
    "rno1=int(input(\"enter the rno1=\"))\n",
    "name1=input(\"enter the name1=\")\n",
    "totscore1=int(input(\"enter the totscore1=\"))\n",
    "rno2=int(input(\"enter the rno2=\"))\n",
    "name2=input(\"enter the name2=\")\n",
    "totscore2=int(input(\"enter the totscore2=\"))\n",
    "rno3=input(\"enter the rno3=\")\n",
    "name3=input(\"enter the name3=\")\n",
    "totscore3=int(input(\"enter the totscore3=\"))\n",
    "if(totscore1>totscore2 and totscore1>totscore3):\n",
    "    print(rno1,name1,totscore1)\n",
    "elif(totscore2>totscore3):\n",
    "    print(rno2,name2,totscore2)\n",
    "else:\n",
    "    print(rno3,name3,totscore3)"
   ]
  }
 ],
 "metadata": {
  "kernelspec": {
   "display_name": "Python 3 (ipykernel)",
   "language": "python",
   "name": "python3"
  },
  "language_info": {
   "codemirror_mode": {
    "name": "ipython",
    "version": 3
   },
   "file_extension": ".py",
   "mimetype": "text/x-python",
   "name": "python",
   "nbconvert_exporter": "python",
   "pygments_lexer": "ipython3",
   "version": "3.9.12"
  }
 },
 "nbformat": 4,
 "nbformat_minor": 5
}
