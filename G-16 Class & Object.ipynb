{
 "cells": [
  {
   "cell_type": "markdown",
   "id": "7fa33fe8",
   "metadata": {},
   "source": [
    "# Class & Object"
   ]
  },
  {
   "cell_type": "raw",
   "id": "fb44ebc0",
   "metadata": {},
   "source": [
    "1) Python is an object oriented programming language, almost everything in python is object, with its properties and method.\n",
    "2) A class is like object constructor, or a \"blueprint\" for creating object."
   ]
  },
  {
   "cell_type": "markdown",
   "id": "013c7ca3",
   "metadata": {},
   "source": [
    "# Python Class\n",
    "\n",
    "1) A class is considered as a blueprint of object.\n",
    "\n",
    "2) we can create many objects from a class.\n",
    "\n",
    "3) we can the class keyword to create a class in python."
   ]
  },
  {
   "cell_type": "code",
   "execution_count": 1,
   "id": "b164ea6c",
   "metadata": {},
   "outputs": [
    {
     "name": "stdout",
     "output_type": "stream",
     "text": [
      "5\n"
     ]
    }
   ],
   "source": [
    "class number:\n",
    "    x=5\n",
    "    print(x)"
   ]
  },
  {
   "cell_type": "markdown",
   "id": "9f2b3711",
   "metadata": {},
   "source": [
    "# Python Object\n",
    "\n",
    "1) An object is called an instance of a class."
   ]
  },
  {
   "cell_type": "code",
   "execution_count": 2,
   "id": "192a7f29",
   "metadata": {},
   "outputs": [
    {
     "name": "stdout",
     "output_type": "stream",
     "text": [
      "6\n"
     ]
    }
   ],
   "source": [
    "class number:\n",
    "    x=6\n",
    "obj=number()\n",
    "print(obj.x)"
   ]
  },
  {
   "cell_type": "code",
   "execution_count": 3,
   "id": "8fd07b6a",
   "metadata": {},
   "outputs": [
    {
     "data": {
      "text/plain": [
       "9"
      ]
     },
     "execution_count": 3,
     "metadata": {},
     "output_type": "execute_result"
    }
   ],
   "source": [
    "class number:\n",
    "    x=6\n",
    "obj=number()\n",
    "obj.x=9\n",
    "obj.x"
   ]
  },
  {
   "cell_type": "code",
   "execution_count": 4,
   "id": "13bf169b",
   "metadata": {},
   "outputs": [
    {
     "name": "stdout",
     "output_type": "stream",
     "text": [
      "bike:yamaha R15,gear:6\n"
     ]
    }
   ],
   "source": [
    "class bike:\n",
    "    name=''\n",
    "    gear=0\n",
    "    \n",
    "bike1=bike()\n",
    "bike1.name=\"yamaha R15\"\n",
    "bike1.gear=6\n",
    "print(f'bike:{bike1.name},gear:{bike1.gear}')"
   ]
  },
  {
   "cell_type": "code",
   "execution_count": 5,
   "id": "ad014965",
   "metadata": {},
   "outputs": [
    {
     "data": {
      "text/plain": [
       "9032022"
      ]
     },
     "execution_count": 5,
     "metadata": {},
     "output_type": "execute_result"
    }
   ],
   "source": [
    "class employee:\n",
    "    employee_id=0\n",
    "employee1=employee()\n",
    "employee2=employee()\n",
    "employee3=employee()\n",
    "\n",
    "employee1.employee_id=8032022\n",
    "employee2.employee_id=9032022\n",
    "employee3.employee_id=10032022\n",
    "\n",
    "employee2.employee_id"
   ]
  },
  {
   "cell_type": "markdown",
   "id": "69ce0658",
   "metadata": {},
   "source": [
    "# Function (Method) inside class\n",
    "\n",
    "1) we can also define a function inside a python class.A python function defined inside a class is called a method."
   ]
  },
  {
   "cell_type": "code",
   "execution_count": 6,
   "id": "ca37314c",
   "metadata": {},
   "outputs": [
    {
     "name": "stdout",
     "output_type": "stream",
     "text": [
      "This is the class and object session\n"
     ]
    }
   ],
   "source": [
    "class course:\n",
    "    def session(self):\n",
    "        print(\"This is the class and object session\")\n",
    "obj=course()\n",
    "obj.session()"
   ]
  },
  {
   "cell_type": "code",
   "execution_count": 7,
   "id": "363869f3",
   "metadata": {},
   "outputs": [
    {
     "name": "stdout",
     "output_type": "stream",
     "text": [
      "This is class and object session\n",
      "6\n"
     ]
    }
   ],
   "source": [
    "class yourclass:\n",
    "    def yourfunction(self,a,b):\n",
    "        self.a=a\n",
    "        self.b=b\n",
    "        print(\"This is class and object session\")\n",
    "    def yourfunction2(self):\n",
    "        c=self.a+self.b\n",
    "        print(c)\n",
    "add=yourclass()\n",
    "add.yourfunction(2,4)\n",
    "add.yourfunction2()"
   ]
  },
  {
   "cell_type": "markdown",
   "id": "5bf37a2c",
   "metadata": {},
   "source": [
    "# Constructors\n",
    "\n",
    "1) Constructor is used for instantiaing an object.\n",
    "\n",
    "2) The task of thr constructor is to assign values to the data members of the class.\n",
    "\n",
    "3) In python the --init--()method is called the constructor."
   ]
  },
  {
   "cell_type": "code",
   "execution_count": 8,
   "id": "d26723c7",
   "metadata": {},
   "outputs": [
    {
     "name": "stdout",
     "output_type": "stream",
     "text": [
      "body of constructor\n"
     ]
    }
   ],
   "source": [
    "class myclass:\n",
    "    def __init__(self):\n",
    "        print(\"body of constructor\")\n",
    "c=myclass()"
   ]
  },
  {
   "cell_type": "code",
   "execution_count": 9,
   "id": "f867299f",
   "metadata": {},
   "outputs": [
    {
     "name": "stdout",
     "output_type": "stream",
     "text": [
      "car specification hundai,verna\n",
      "car engine detail verna,petrol-heavy\n"
     ]
    }
   ],
   "source": [
    "class car:\n",
    "    def __init__(self,brand,model,engineinfo):\n",
    "        self.brand=brand\n",
    "        self.model=model\n",
    "        self.engineinfo=engineinfo\n",
    "    def spec(self):\n",
    "        print(f'car specification {self.brand},{self.model}')\n",
    "    def engine(self):\n",
    "        print(f'car engine detail {self.model},{self.engineinfo}')\n",
    "carinfo=car(\"hundai\",\"verna\",\"petrol-heavy\")\n",
    "carinfo.spec()\n",
    "carinfo.engine()"
   ]
  }
 ],
 "metadata": {
  "kernelspec": {
   "display_name": "Python 3 (ipykernel)",
   "language": "python",
   "name": "python3"
  },
  "language_info": {
   "codemirror_mode": {
    "name": "ipython",
    "version": 3
   },
   "file_extension": ".py",
   "mimetype": "text/x-python",
   "name": "python",
   "nbconvert_exporter": "python",
   "pygments_lexer": "ipython3",
   "version": "3.9.13"
  }
 },
 "nbformat": 4,
 "nbformat_minor": 5
}
