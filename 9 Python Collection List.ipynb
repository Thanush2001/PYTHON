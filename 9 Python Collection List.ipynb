{
 "cells": [
  {
   "cell_type": "markdown",
   "id": "eb48dc56",
   "metadata": {},
   "source": [
    "# PYTHON COLLECTION:\n"
   ]
  },
  {
   "cell_type": "raw",
   "id": "555e529f",
   "metadata": {},
   "source": [
    " list\n",
    " Tuple\n",
    " Set\n",
    " Dictionary"
   ]
  },
  {
   "cell_type": "raw",
   "id": "a5c818b0",
   "metadata": {},
   "source": [
    "1)List:\n",
    "    1)List is a non-homogeneous data structure that stores the elements in single row and multiple rows and columns.\n",
    "    2)List can be represented by [ ].\n",
    "    3)List allows duplicate elements.\n",
    "    4)List can use nested among all.\n",
    "    5)Example: [1, 2,\"abc\", 10.4 ,True,2].\n",
    "    6)List can be created using list() function.\n",
    "    7)List is mutable (changeable) i.e we can make any changes in list.\n",
    "    8)List is ordered.\n",
    "    9)Creating an empty list l=[].\n",
    "    10)it is ordered and index based."
   ]
  },
  {
   "cell_type": "raw",
   "id": "e2f765a1",
   "metadata": {},
   "source": [
    "append() used to apped the element at end of list.\n",
    "type () used to return the type of data.\n",
    "copy() used to copy the content from one list to another list.\n",
    "clear() used to clear the content from list.\n",
    "index() to return the index value.\n",
    "count()used to count the number of repeated element from a list.\n",
    "extend () used to extend the current list.\n",
    "insert() used to insert the element at selective position. \n",
    "pop() remove the element at end of list.\n",
    "remove() remove the selective element.\n",
    "reverse () remove the selective element.\n",
    "sort() sorted the list ascending/decending order.\n",
    "len() used to find the length of the given string.\n",
    "min() used to find the least element in a list.\n",
    "max() used to find the biggest element in a list."
   ]
  },
  {
   "cell_type": "code",
   "execution_count": 1,
   "id": "187458ca",
   "metadata": {},
   "outputs": [
    {
     "name": "stdout",
     "output_type": "stream",
     "text": [
      "[1, 2, 3, 4, True, 'Appu', 10.4, 6]\n",
      "8\n",
      "<class 'list'>\n",
      "<class 'str'>\n",
      "1 <class 'list'>\n",
      "2 <class 'list'>\n",
      "3 <class 'list'>\n",
      "4 <class 'list'>\n",
      "True <class 'list'>\n",
      "Appu <class 'list'>\n",
      "10.4 <class 'list'>\n",
      "6 <class 'list'>\n",
      "1 <class 'int'>\n",
      "2 <class 'int'>\n",
      "3 <class 'int'>\n",
      "4 <class 'int'>\n",
      "True <class 'bool'>\n",
      "Appu <class 'str'>\n",
      "10.4 <class 'float'>\n",
      "6 <class 'int'>\n"
     ]
    }
   ],
   "source": [
    "#Example program:\n",
    "\n",
    "l=[1,2,3,4,True,\"Appu\",10.4,6]\n",
    "print(l)\n",
    "print(len(l))\n",
    "print(type(l))\n",
    "print(type(l[5]))\n",
    "\n",
    "for i in range(len(l)):\n",
    "    print(l[i],type(l))\n",
    "for i in l:\n",
    "    print(i,type(i))"
   ]
  },
  {
   "cell_type": "code",
   "execution_count": 2,
   "id": "b1868a06",
   "metadata": {},
   "outputs": [
    {
     "name": "stdout",
     "output_type": "stream",
     "text": [
      "[10, 25, 35, 45]\n",
      "[]\n",
      "[10, 25, 32, 45]\n",
      "3\n",
      "1\n",
      "7\n",
      "45\n",
      "4\n",
      "a= [10, 25, 35, 45, 25, 4, 25]\n"
     ]
    }
   ],
   "source": [
    "a=[10,25,35,45]\n",
    "print(a)\n",
    "a.clear()\n",
    "print(a)\n",
    "a=[10,25,32,45]\n",
    "b=a.copy()\n",
    "print(b)\n",
    "a=[10,25,35,45,25,4,25]\n",
    "print(a.count(25))\n",
    "print(a.index(25))\n",
    "print(len(a))\n",
    "print(max(a))\n",
    "print(min(a))\n",
    "print(\"a=\",a)"
   ]
  },
  {
   "cell_type": "code",
   "execution_count": 3,
   "id": "4463446a",
   "metadata": {},
   "outputs": [
    {
     "name": "stdout",
     "output_type": "stream",
     "text": [
      "[10, 25, 35, 45, 34]\n",
      "[10, 35, 45, 34]\n",
      "[10, 35, 34]\n"
     ]
    }
   ],
   "source": [
    "a=[10,25,35,45,34,56]\n",
    "a.pop()\n",
    "print(a)\n",
    "a.pop(1)            #remove element using index\n",
    "print(a)\n",
    "a.remove(45)        #values\n",
    "print(a)"
   ]
  },
  {
   "cell_type": "code",
   "execution_count": 4,
   "id": "e8a84834",
   "metadata": {},
   "outputs": [
    {
     "name": "stdout",
     "output_type": "stream",
     "text": [
      "['Ram']\n",
      "['Ram', 'sam', 'Ravi', 'kumar']\n",
      "['Ram', 'sam', 'Ravi', 'kumar', 'sara', 'anitha']\n",
      "['suriya', 'Ram', 'sam', 'Ravi', 'kumar', 'sara', 'anitha']\n"
     ]
    }
   ],
   "source": [
    "names=[\"Ram\"]\n",
    "print(names)\n",
    "names.append(\"sam\")\n",
    "names.append(\"Ravi\")\n",
    "names.append(\"kumar\")\n",
    "print(names)\n",
    "names2=[\"sara\",\"anitha\"]\n",
    "names.extend(names2)\n",
    "print(names)\n",
    "names.insert(0,\"suriya\")\n",
    "print(names)"
   ]
  },
  {
   "cell_type": "code",
   "execution_count": 5,
   "id": "983090e3",
   "metadata": {},
   "outputs": [
    {
     "name": "stdout",
     "output_type": "stream",
     "text": [
      "[1, 2, 3, 4, 5, 6]\n",
      "[1, 2, 3, [4, 5, 6]]\n"
     ]
    }
   ],
   "source": [
    "l1=[1,2,3]\n",
    "l2=[4,5,6]\n",
    "l1.extend(l2)\n",
    "print(l1)\n",
    "l1=[1,2,3]\n",
    "l2=[4,5,6]\n",
    "l1.append(l2)\n",
    "print(l1)"
   ]
  },
  {
   "cell_type": "code",
   "execution_count": 6,
   "id": "fc69d623",
   "metadata": {},
   "outputs": [
    {
     "name": "stdout",
     "output_type": "stream",
     "text": [
      "[10, 50, 100, 25, 85]\n",
      "[10, 25, 50, 85, 100]\n",
      "[100, 85, 50, 25, 10]\n",
      "['Apple', 'Zebre', 'orange']\n",
      "['sun', 'Apple', 'Zebre', 'orange']\n"
     ]
    }
   ],
   "source": [
    "a=[10,50,100,25,85]\n",
    "print(a)\n",
    "a.sort()\n",
    "print(a)\n",
    "a.sort(reverse=True)\n",
    "print(a)\n",
    "a=[\"orange\",\"Apple\",\"Zebre\"]\n",
    "a.sort()\n",
    "print(a)\n",
    "a=[\"orange\",\"Apple\",\"Zebre\",\"sun\"]\n",
    "a.sort(key=len)\n",
    "print(a)"
   ]
  },
  {
   "cell_type": "code",
   "execution_count": 7,
   "id": "d76775e3",
   "metadata": {},
   "outputs": [
    {
     "name": "stdout",
     "output_type": "stream",
     "text": [
      "[1, 2, 3, 4, 5]\n",
      "1 <class 'list'>\n",
      "2 <class 'list'>\n",
      "3 <class 'list'>\n",
      "4 <class 'list'>\n",
      "5 <class 'list'>\n",
      "[1, 2, 3, 4, 5]\n",
      "[1, 2, 3, 4, 5]\n",
      "[1, 2, 3, 4, 5]\n",
      "[1, 2, 3, 4, 5]\n",
      "[1, 2, 3, 4, 5]\n"
     ]
    }
   ],
   "source": [
    "#Example:\n",
    "#Compille time:\n",
    "\n",
    "l=[1,2,3,4,5]\n",
    "print(l)\n",
    "for i in range(len(l)):\n",
    "    print(l[i],type(l))\n",
    "for i in l:\n",
    "    print(l)"
   ]
  },
  {
   "cell_type": "code",
   "execution_count": 8,
   "id": "9dfb18cc",
   "metadata": {},
   "outputs": [
    {
     "name": "stdout",
     "output_type": "stream",
     "text": [
      "Enter the size of list=5\n",
      "Enter the the element=1\n",
      "Enter the the element=2\n",
      "Enter the the element=3\n",
      "Enter the the element=4\n",
      "Enter the the element=5\n",
      "l= [1, 2, 3, 4, 5]\n"
     ]
    }
   ],
   "source": [
    "#Example:\n",
    "# Runtime input values:\n",
    "\n",
    "l=[]\n",
    "size=int(input(\"Enter the size of list=\"))\n",
    "for i in range(size):\n",
    "    ele=int(input(\"Enter the the element=\"))\n",
    "    l.append(ele)\n",
    "print(\"l=\",l)"
   ]
  },
  {
   "cell_type": "code",
   "execution_count": 9,
   "id": "04f481b8",
   "metadata": {},
   "outputs": [
    {
     "name": "stdout",
     "output_type": "stream",
     "text": [
      "Enter the size of list=5\n",
      "Enter the the element=1\n",
      "Enter the the element=2\n",
      "Enter the the element=3\n",
      "Enter the the element=4\n",
      "Enter the the element=5\n",
      "l= [1, 2, 3, 4, 5]\n",
      "2\n",
      "3\n"
     ]
    }
   ],
   "source": [
    "# Find even number and odd number count in a list:\n",
    "\n",
    "l=[]\n",
    "size=int(input(\"Enter the size of list=\"))\n",
    "for i in range(size):\n",
    "    ele=int(input(\"Enter the the element=\"))\n",
    "    l.append(ele)\n",
    "print(\"l=\",l)\n",
    "e=0\n",
    "o=0\n",
    "for i in range(size):\n",
    "    if(l[i]%2==0):\n",
    "        e=e+1\n",
    "    else:\n",
    "        o=o+1\n",
    "print(e)\n",
    "print(o)"
   ]
  },
  {
   "cell_type": "code",
   "execution_count": 10,
   "id": "e4f7af9f",
   "metadata": {},
   "outputs": [
    {
     "name": "stdout",
     "output_type": "stream",
     "text": [
      "Enter the size of list=5\n",
      "Enter the the element=1\n",
      "Enter the the element=-2\n",
      "Enter the the element=345\n",
      "Enter the the element=0\n",
      "Enter the the element=230\n",
      "[1, -2, 345, 0, 230]\n",
      "3\n",
      "1\n",
      "1\n"
     ]
    }
   ],
   "source": [
    "# Find count positive,negative and zeros numbers:\n",
    "\n",
    "l=[]\n",
    "size=int(input(\"Enter the size of list=\"))\n",
    "for i in range(size):\n",
    "    ele=int(input(\"Enter the the element=\"))\n",
    "    l.append(ele)\n",
    "print(l)\n",
    "p=0\n",
    "n=0\n",
    "z=0\n",
    "for i in range(size):\n",
    "    if(l[i]>0):\n",
    "        p=p+1\n",
    "    elif(l[i]<0):\n",
    "        n=n+1\n",
    "    else:\n",
    "        z=z+1\n",
    "print(p)\n",
    "print(n)\n",
    "print(z)"
   ]
  },
  {
   "cell_type": "code",
   "execution_count": 11,
   "id": "c80cc636",
   "metadata": {},
   "outputs": [
    {
     "name": "stdout",
     "output_type": "stream",
     "text": [
      "Enter the size of list=5\n",
      "Enter the the element=1\n",
      "Enter the the element=2\n",
      "Enter the the element=3\n",
      "Enter the the element=4\n",
      "Enter the the element=5\n",
      "[1, 2, 3, 4, 5]\n",
      "15\n"
     ]
    }
   ],
   "source": [
    "# Sum of number in a list:\n",
    "\n",
    "l=[]\n",
    "size=int(input(\"Enter the size of list=\"))\n",
    "for i in range(size):\n",
    "    ele=int(input(\"Enter the the element=\"))\n",
    "    l.append(ele)\n",
    "print(l)\n",
    "s=0\n",
    "for i in range(size):\n",
    "    s=s+l[i]\n",
    "print(s)"
   ]
  },
  {
   "cell_type": "code",
   "execution_count": 12,
   "id": "073e0576",
   "metadata": {},
   "outputs": [
    {
     "name": "stdout",
     "output_type": "stream",
     "text": [
      "Enter the size of list=5\n",
      "Enter the the element=1\n",
      "Enter the the element=2\n",
      "Enter the the element=3\n",
      "Enter the the element=4\n",
      "Enter the the element=5\n",
      "[1, 2, 3, 4, 5]\n",
      "3\n"
     ]
    }
   ],
   "source": [
    "# Count the prime numbers in a list:\n",
    "\n",
    "l=[]\n",
    "size=int(input(\"Enter the size of list=\"))\n",
    "for i in range(size):\n",
    "    ele=int(input(\"Enter the the element=\"))\n",
    "    l.append(ele)\n",
    "print(l)\n",
    "p=0\n",
    "for i in range(len(l)):\n",
    "    c=0\n",
    "    for j in range(1,l[i]+1):\n",
    "        if(l[i]%j==0):\n",
    "            c=c+1\n",
    "    if(c==2):\n",
    "        p=p+1\n",
    "print(p)"
   ]
  },
  {
   "cell_type": "code",
   "execution_count": 13,
   "id": "f5c9f870",
   "metadata": {},
   "outputs": [
    {
     "name": "stdout",
     "output_type": "stream",
     "text": [
      "Enter the size of list=5\n",
      "Enter the the element=1\n",
      "Enter the the element=12\n",
      "Enter the the element=123\n",
      "Enter the the element=1234\n",
      "Enter the the element=12345\n",
      "[1, 12, 123, 1234, 12345]\n",
      "1\n",
      "3\n",
      "6\n",
      "10\n",
      "15\n"
     ]
    }
   ],
   "source": [
    "# add the number :\n",
    "\n",
    "l=[]\n",
    "size=int(input(\"Enter the size of list=\"))\n",
    "for i in range(size):\n",
    "    ele=int(input(\"Enter the the element=\"))\n",
    "    l.append(ele)\n",
    "print(l)\n",
    "for i in range(len(l)):\n",
    "    s=0\n",
    "    x=l[i]\n",
    "    while(x>0):\n",
    "        s=s+x%10\n",
    "        x=x//10\n",
    "    print(s)"
   ]
  },
  {
   "cell_type": "code",
   "execution_count": 14,
   "id": "f015a46c",
   "metadata": {},
   "outputs": [
    {
     "name": "stdout",
     "output_type": "stream",
     "text": [
      "Enter the size of list=5\n",
      "Enter the the element=121\n",
      "Enter the the element=123\n",
      "Enter the the element=232\n",
      "Enter the the element=444\n",
      "Enter the the element=345\n",
      "[121, 123, 232, 444, 345]\n",
      "3\n"
     ]
    }
   ],
   "source": [
    "# Count the palindrome in a list:\n",
    "\n",
    "l=[]\n",
    "size=int(input(\"Enter the size of list=\"))\n",
    "for i in range(size):\n",
    "    ele=int(input(\"Enter the the element=\"))\n",
    "    l.append(ele)\n",
    "print(l)\n",
    "p=0\n",
    "for i in range(len(l)):\n",
    "    s=-0\n",
    "    x=l[i]\n",
    "    while(x>0):\n",
    "        r=x%10\n",
    "        s=s*10+r\n",
    "        x=x//10\n",
    "    if(s==l[i]):\n",
    "        p=p+1\n",
    "print(p)"
   ]
  },
  {
   "cell_type": "code",
   "execution_count": 15,
   "id": "f5f34fd1",
   "metadata": {},
   "outputs": [
    {
     "name": "stdout",
     "output_type": "stream",
     "text": [
      "Enter the size of list=4\n",
      "Enter the the element=1\n",
      "Enter the the element=2\n",
      "Enter the the element=153\n",
      "Enter the the element=34\n",
      "[1, 2, 153, 34]\n",
      "2\n"
     ]
    }
   ],
   "source": [
    "# Count the amstromg in a list:\n",
    "\n",
    "l=[]\n",
    "size=int(input(\"Enter the size of list=\"))\n",
    "for i in range(size):\n",
    "    ele=int(input(\"Enter the the element=\"))\n",
    "    l.append(ele)\n",
    "print(l)\n",
    "a=0\n",
    "for i in range(len(l)):\n",
    "    s=0\n",
    "    x=l[i]\n",
    "    while(x>0):\n",
    "        r=x%10\n",
    "        s=s+r**3\n",
    "        x=x//10\n",
    "    if(s==l[i]):\n",
    "        a=a+1\n",
    "print(a)"
   ]
  },
  {
   "cell_type": "code",
   "execution_count": 16,
   "id": "9ad39b7c",
   "metadata": {},
   "outputs": [
    {
     "name": "stdout",
     "output_type": "stream",
     "text": [
      "Enter the size of list=3\n",
      "Enter the the element=1\n",
      "Enter the the element=2\n",
      "Enter the the element=34\n",
      "[1, 2, 34]\n",
      "2\n"
     ]
    }
   ],
   "source": [
    "# Count the strong number in a list:\n",
    "\n",
    "l=[]\n",
    "size=int(input(\"Enter the size of list=\"))\n",
    "for i in range(size):\n",
    "    ele=int(input(\"Enter the the element=\"))\n",
    "    l.append(ele)\n",
    "print(l)\n",
    "s1=0\n",
    "for j in range(len(l)):\n",
    "    x=l[j]\n",
    "    s=0\n",
    "    while(x>0):\n",
    "        r=x%10\n",
    "        f=1\n",
    "        for k in range(1,r+1):\n",
    "            f=f*k\n",
    "        s=s+f\n",
    "        x=x//10\n",
    "    if(s==l[j]):\n",
    "        s1=s1+1\n",
    "print(s1)"
   ]
  },
  {
   "cell_type": "code",
   "execution_count": 17,
   "id": "6c83a377",
   "metadata": {},
   "outputs": [
    {
     "name": "stdout",
     "output_type": "stream",
     "text": [
      "Enter the the element=1\n",
      "Enter the the element=2\n",
      "Enter the the element=3\n",
      "Enter the the element=4\n",
      "[[1, 2], [3, 4]]\n"
     ]
    }
   ],
   "source": [
    "# 2-dimensional list:\n",
    "\n",
    "l=[]\n",
    "r=2\n",
    "c=2\n",
    "for i in range(r):\n",
    "    t=[]\n",
    "    for j in range(c):\n",
    "        ele=int(input(\"Enter the the element=\"))\n",
    "        t.append(ele)\n",
    "    l.append(t)\n",
    "print(l)"
   ]
  },
  {
   "cell_type": "code",
   "execution_count": 18,
   "id": "33d420f8",
   "metadata": {},
   "outputs": [
    {
     "name": "stdout",
     "output_type": "stream",
     "text": [
      "enter the element=1\n",
      "enter the element=2\n",
      "enter the element=3\n",
      "enter the element=4\n",
      "enter the element=5\n",
      "enter the element=6\n",
      "enter the element=7\n",
      "enter the element=8\n",
      "enter the element=9\n",
      "[[1], [5], [9]]\n"
     ]
    }
   ],
   "source": [
    "# Show the diagonal element:\n",
    "\n",
    "r=3\n",
    "c=3\n",
    "l=[]\n",
    "for i in range(r):\n",
    "    t=[]\n",
    "    for j in range(c):\n",
    "        ele=int(input(\"enter the element=\"))\n",
    "        if(i==j):\n",
    "            t.append(ele)\n",
    "    l.append(t)\n",
    "print(l)"
   ]
  },
  {
   "cell_type": "code",
   "execution_count": 19,
   "id": "9ad4c5e6",
   "metadata": {},
   "outputs": [
    {
     "name": "stdout",
     "output_type": "stream",
     "text": [
      "enter the element=1\n",
      "enter the element=2\n",
      "enter the element=3\n",
      "enter the element=4\n",
      "enter the element=5\n",
      "enter the element=6\n",
      "enter the element=7\n",
      "enter the element=8\n",
      "enter the element=9\n",
      "15\n"
     ]
    }
   ],
   "source": [
    "# Add the diagnal elements:\n",
    "\n",
    "r=3\n",
    "c=3\n",
    "l=[]\n",
    "for i in range(r):\n",
    "    t=[]\n",
    "    for j in range(c):\n",
    "        ele=int(input(\"enter the element=\"))\n",
    "        t.append(ele)\n",
    "    l.append(t)\n",
    "sum=0\n",
    "for i in range(r):\n",
    "    for j in range(c):\n",
    "        if(i==j):\n",
    "            sum+=l[i][j]\n",
    "print(sum)"
   ]
  },
  {
   "cell_type": "code",
   "execution_count": null,
   "id": "6e83ad6c",
   "metadata": {},
   "outputs": [],
   "source": [
    "# what are the types of sorting?\n",
    "\n",
    "Some of the most common sorting algorithms are:\n",
    "1) Selection sorting\n",
    "2) Bubble sorting\n",
    "3) Insertion sorting\n",
    "4) merge sorting\n",
    "5) quite sorting\n",
    "6) heap sorting\n",
    "7) Radix sorting\n",
    "8) Counting sorting"
   ]
  },
  {
   "cell_type": "markdown",
   "id": "da7be158",
   "metadata": {},
   "source": [
    "# 1)SELECTION SORTING:"
   ]
  },
  {
   "cell_type": "raw",
   "id": "9dcdfdae",
   "metadata": {},
   "source": [
    "This algorithm is called selection sor because it repeately selects the next smallest element and swaps it into place."
   ]
  },
  {
   "cell_type": "code",
   "execution_count": 2,
   "id": "47e3b678",
   "metadata": {},
   "outputs": [
    {
     "name": "stdout",
     "output_type": "stream",
     "text": [
      "Enter the size of list=6\n",
      "Enter the element=7\n",
      "Enter the element=2\n",
      "Enter the element=1\n",
      "Enter the element=6\n",
      "Enter the element=4\n",
      "Enter the element=5\n",
      "[7, 2, 1, 6, 4, 5]\n",
      "[1, 2, 4, 5, 6, 7]\n"
     ]
    }
   ],
   "source": [
    "l=[]\n",
    "size=int(input(\"Enter the size of list=\"))\n",
    "for i in range(size):\n",
    "    ele=int(input(\"Enter the element=\"))\n",
    "    l.append(ele)\n",
    "print(l)\n",
    "for i in range(size):\n",
    "    for j in range(i+1,size):\n",
    "        if (l[i]>l[j]):\n",
    "            c=l[i]\n",
    "            l[i]=l[j]\n",
    "            l[j]=c\n",
    "print(l)"
   ]
  },
  {
   "cell_type": "markdown",
   "id": "e06ca98f",
   "metadata": {},
   "source": [
    "# 2)BUBBLE SORTING:"
   ]
  },
  {
   "cell_type": "raw",
   "id": "4bd00abf",
   "metadata": {},
   "source": [
    "Bubble sort is a sorting algorithm that compares two adjacent element and swaps them until they are in the intended order."
   ]
  },
  {
   "cell_type": "code",
   "execution_count": 3,
   "id": "08d1bb15",
   "metadata": {},
   "outputs": [
    {
     "name": "stdout",
     "output_type": "stream",
     "text": [
      "Enter the size of list=6\n",
      "Enter the element=3\n",
      "Enter the element=2\n",
      "Enter the element=1\n",
      "Enter the element=6\n",
      "Enter the element=5\n",
      "Enter the element=4\n",
      "[3, 2, 1, 6, 5, 4]\n",
      "[1, 2, 3, 4, 5, 6]\n"
     ]
    }
   ],
   "source": [
    "l=[]\n",
    "size=int(input(\"Enter the size of list=\"))\n",
    "for i in range(size):\n",
    "    ele=int(input(\"Enter the element=\"))\n",
    "    l.append(ele)\n",
    "print(l)\n",
    "for i in range(size):\n",
    "    for j in range(size-1):\n",
    "        if (l[j]>l[j+1]):\n",
    "            c=l[j]\n",
    "            l[j]=l[j+1]\n",
    "            l[j+1]=c\n",
    "print(l)"
   ]
  },
  {
   "cell_type": "markdown",
   "id": "3c4ea524",
   "metadata": {},
   "source": [
    "# 3)INSERTION SORTING:"
   ]
  },
  {
   "cell_type": "raw",
   "id": "65e86c43",
   "metadata": {},
   "source": [
    " Insertion sort is the simple method of sorting an array.\n",
    " In this technology the array is virtually split into the sorted and unsorted part."
   ]
  },
  {
   "cell_type": "code",
   "execution_count": 4,
   "id": "af1881cb",
   "metadata": {},
   "outputs": [
    {
     "name": "stdout",
     "output_type": "stream",
     "text": [
      "Enter the size of list=5\n",
      "Enter the element=5\n",
      "Enter the element=4\n",
      "Enter the element=1\n",
      "Enter the element=3\n",
      "Enter the element=2\n",
      "[5, 4, 1, 3, 2]\n",
      "[1, 2, 3, 4, 5]\n"
     ]
    }
   ],
   "source": [
    "l=[]\n",
    "size=int(input(\"Enter the size of list=\"))\n",
    "for i in range(size):\n",
    "    ele=int(input(\"Enter the element=\"))\n",
    "    l.append(ele)\n",
    "print(l)\n",
    "for i in range(1,size):\n",
    "    j=i\n",
    "    while(j>0 and l[j]<l[j-1]):\n",
    "        c=l[j]\n",
    "        l[j]=l[j-1]\n",
    "        l[j-1]=c\n",
    "        j=j-1\n",
    "print(l)"
   ]
  },
  {
   "cell_type": "markdown",
   "id": "2db8124b",
   "metadata": {},
   "source": [
    "# 4)MERGE SORTING:"
   ]
  },
  {
   "cell_type": "raw",
   "id": "e8c27095",
   "metadata": {},
   "source": [
    "Merge sort a divided and conquer algorithm.\n",
    "it divides input array in two halves,calls itselffor the two halves and then merges the two sorted halves.\n",
    "the merge() function is used for merging two halves."
   ]
  },
  {
   "cell_type": "code",
   "execution_count": 11,
   "id": "e8d04b7a",
   "metadata": {},
   "outputs": [
    {
     "name": "stdout",
     "output_type": "stream",
     "text": [
      "Enter the size of list=5\n",
      "Enter the element=5\n",
      "Enter the element=4\n",
      "Enter the element=3\n",
      "Enter the element=2\n",
      "Enter the element=1\n",
      "[5, 4, 3, 2, 1]\n"
     ]
    },
    {
     "ename": "TypeError",
     "evalue": "'<' not supported between instances of 'int' and 'list'",
     "output_type": "error",
     "traceback": [
      "\u001b[1;31m---------------------------------------------------------------------------\u001b[0m",
      "\u001b[1;31mTypeError\u001b[0m                                 Traceback (most recent call last)",
      "Input \u001b[1;32mIn [11]\u001b[0m, in \u001b[0;36m<cell line: 12>\u001b[1;34m()\u001b[0m\n\u001b[0;32m     10\u001b[0m m\u001b[38;5;241m=\u001b[39m\u001b[38;5;241m0\u001b[39m\n\u001b[0;32m     11\u001b[0m n\u001b[38;5;241m=\u001b[39m\u001b[38;5;241m0\u001b[39m\n\u001b[1;32m---> 12\u001b[0m \u001b[38;5;28;01mwhile\u001b[39;00m(\u001b[38;5;28;43mlen\u001b[39;49m\u001b[43m(\u001b[49m\u001b[43ml3\u001b[49m\u001b[43m)\u001b[49m\u001b[38;5;241;43m<\u001b[39;49m\u001b[43ml1\u001b[49m\u001b[38;5;241;43m+\u001b[39;49m\u001b[43ml2\u001b[49m):\n\u001b[0;32m     13\u001b[0m     \u001b[38;5;28;01mif\u001b[39;00m(l1[m]\u001b[38;5;241m<\u001b[39ml2[n]):\n\u001b[0;32m     14\u001b[0m         l3\u001b[38;5;241m.\u001b[39mappend(l1[m])\n",
      "\u001b[1;31mTypeError\u001b[0m: '<' not supported between instances of 'int' and 'list'"
     ]
    }
   ],
   "source": [
    "l=[]\n",
    "size=int(input(\"Enter the size of list=\"))\n",
    "for i in range(size):\n",
    "    ele=int(input(\"Enter the element=\"))\n",
    "    l.append(ele)\n",
    "print(l)\n",
    "l1=[1,3,5,7,9]\n",
    "l2=[2,4,6,8,10]\n",
    "l3=[]\n",
    "m=0\n",
    "n=0\n",
    "while(len(l3)<l1+l2):\n",
    "    if(l1[m]<l2[n]):\n",
    "        l3.append(l1[m])\n",
    "        m+=1\n",
    "    else:\n",
    "        l3.append(l2[n])\n",
    "        n+=1\n",
    "print(l3)"
   ]
  },
  {
   "cell_type": "markdown",
   "id": "5044ed10",
   "metadata": {},
   "source": [
    "# SEARCHING:"
   ]
  },
  {
   "cell_type": "raw",
   "id": "17a1c386",
   "metadata": {},
   "source": [
    "There are two types of searching -\n",
    "\n",
    "1) Linear Search\n",
    "2) Binary Search\n",
    "    Both techniques are widely used to search an element in the given list."
   ]
  },
  {
   "cell_type": "markdown",
   "id": "198abbad",
   "metadata": {},
   "source": [
    "# What is a Linear Search?\n",
    "Linear search is a method of finding elements within a list. \n",
    "It is also called a sequential search.  \n",
    "It is the simplest searching algorithm because it searches the desired element in a sequential manner.\n",
    "\n",
    "It compares each and every element with the value that we are searching for. \n",
    "If both are matched, the element is found, and the algorithm returns the key's index position."
   ]
  },
  {
   "cell_type": "code",
   "execution_count": 2,
   "id": "68851b6d",
   "metadata": {},
   "outputs": [
    {
     "name": "stdout",
     "output_type": "stream",
     "text": [
      "Enter the size of list=5\n",
      "Enter the element=3\n",
      "Enter the element=4\n",
      "Enter the element=5\n",
      "Enter the element=2\n",
      "Enter the element=1\n",
      "[3, 4, 5, 2, 1]\n",
      "Enter the element TO search=7\n",
      "Element is not found\n"
     ]
    }
   ],
   "source": [
    "l=[]\n",
    "size=int(input(\"Enter the size of list=\"))\n",
    "for i in range(size):\n",
    "    ele=int(input(\"Enter the element=\"))\n",
    "    l.append(ele)\n",
    "print(l)\n",
    "ele=int(input(\"Enter the element TO search=\"))\n",
    "c=0\n",
    "for i in range(len(l)):\n",
    "    if(l[i]==ele):\n",
    "        c=1\n",
    "        break\n",
    "if(c==1):\n",
    "    print(\"Element is found\")\n",
    "else:\n",
    "    print(\"Element is not found\")"
   ]
  },
  {
   "cell_type": "markdown",
   "id": "24530f84",
   "metadata": {},
   "source": [
    "# Binary Search in Python?"
   ]
  },
  {
   "cell_type": "raw",
   "id": "50f8171d",
   "metadata": {},
   "source": [
    "Binary Search in python is a searching technique that works on a sorted array. \n",
    "Instead of comparing each element of the array with the required element, \n",
    "    the binary search algorithm repeatedly divides the array into sub-arrays and \n",
    "then searches for the required element in the sub-array."
   ]
  },
  {
   "cell_type": "code",
   "execution_count": null,
   "id": "71452f83",
   "metadata": {},
   "outputs": [
    {
     "name": "stdout",
     "output_type": "stream",
     "text": [
      "Enter the size5\n",
      "Enter the element1\n",
      "Enter the element3\n",
      "Enter the element5\n",
      "Enter the element2\n",
      "Enter the element4\n",
      "Enter the element to search=6\n"
     ]
    }
   ],
   "source": [
    "def binary(size,l1,el):\n",
    "    low=0\n",
    "    high=len(l1)-1\n",
    "    mid=(low+high)//2\n",
    "    while(low<high):\n",
    "        if(el==l1[mid]):\n",
    "            c=1\n",
    "            break\n",
    "        elif(el<l1[mid]):\n",
    "            high=mid-1\n",
    "        else:\n",
    "            low=mid+1\n",
    "    if(c==1):\n",
    "        print(\"Element found\")\n",
    "    else:\n",
    "        print(\"Element not found\")\n",
    "l=[]\n",
    "s=int(input(\"Enter the size\"))\n",
    "for i in range(s):\n",
    "    ele=int(input(\"Enter the element\"))\n",
    "    l.append(ele)\n",
    "e=int(input(\"Enter the element to search=\"))\n",
    "binary(s,l,e)"
   ]
  },
  {
   "cell_type": "code",
   "execution_count": null,
   "id": "04264963",
   "metadata": {},
   "outputs": [],
   "source": []
  }
 ],
 "metadata": {
  "kernelspec": {
   "display_name": "Python 3 (ipykernel)",
   "language": "python",
   "name": "python3"
  },
  "language_info": {
   "codemirror_mode": {
    "name": "ipython",
    "version": 3
   },
   "file_extension": ".py",
   "mimetype": "text/x-python",
   "name": "python",
   "nbconvert_exporter": "python",
   "pygments_lexer": "ipython3",
   "version": "3.9.12"
  }
 },
 "nbformat": 4,
 "nbformat_minor": 5
}
