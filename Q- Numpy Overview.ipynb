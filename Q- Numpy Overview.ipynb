{
 "cells": [
  {
   "cell_type": "markdown",
   "id": "9974ba86",
   "metadata": {},
   "source": [
    "# NUMPY"
   ]
  },
  {
   "cell_type": "markdown",
   "id": "7c822faa",
   "metadata": {},
   "source": [
    "# INTRODUCTION"
   ]
  },
  {
   "cell_type": "markdown",
   "id": "c83c3a7f",
   "metadata": {},
   "source": [
    "1) NumPy is a Python Library.\n",
    "\n",
    "2) NumPy is used for working with arrays.\n",
    "\n",
    "3) NumPy is short for \"Numerical Python\"."
   ]
  },
  {
   "cell_type": "markdown",
   "id": "cb3f8bde",
   "metadata": {},
   "source": [
    "# What is NumPy\n",
    "\n",
    "1) NumPy stands for numeric python which is a python packages for the comptation and processing of the multidimensional and single dimensional array elements.\n",
    "\n",
    "it is majorly helpful for the matrics and it is majorly helpful for the Arrays.\n",
    "\n",
    "open source - package - optimal computation\n",
    "\n",
    "optimal computation- majorly helpful for the computer vision."
   ]
  },
  {
   "cell_type": "markdown",
   "id": "9434fa7d",
   "metadata": {},
   "source": [
    "# Why NUMPY\n",
    "\n",
    "1) In python we have lists that serve the purpose of arrays, but they are slow to process.\n",
    "\n",
    "2) NumPy aims to provide an array object that is up to 50x faster than traditional python lists.\n",
    "\n",
    "3) The array object in Numpy is Called ndarray. It provides a lot of supporting functions That make\n",
    "working with ndarray very easy.\n",
    "\n",
    "4) Arrays are very frequently used in data science,where speed and resources are very important."
   ]
  },
  {
   "cell_type": "code",
   "execution_count": 1,
   "id": "96121148",
   "metadata": {},
   "outputs": [
    {
     "name": "stdout",
     "output_type": "stream",
     "text": [
      "Requirement already satisfied: numpy in c:\\users\\vthan\\anaconda3\\lib\\site-packages (1.21.5)\n"
     ]
    }
   ],
   "source": [
    "!pip install numpy"
   ]
  },
  {
   "cell_type": "code",
   "execution_count": 2,
   "id": "241f0e37",
   "metadata": {},
   "outputs": [],
   "source": [
    "import numpy as np"
   ]
  },
  {
   "cell_type": "code",
   "execution_count": 3,
   "id": "b457c5d2",
   "metadata": {},
   "outputs": [
    {
     "name": "stdout",
     "output_type": "stream",
     "text": [
      "[1 2 3 4 5 6 7 8]\n",
      "<class 'numpy.ndarray'>\n"
     ]
    }
   ],
   "source": [
    "# numpy array single dimensional array\n",
    "\n",
    "a=np.array([1,2,3,4,5,6,7,8])\n",
    "print(a)\n",
    "print(type(a))"
   ]
  },
  {
   "cell_type": "code",
   "execution_count": 4,
   "id": "3a99a556",
   "metadata": {},
   "outputs": [
    {
     "data": {
      "text/plain": [
       "5"
      ]
     },
     "execution_count": 4,
     "metadata": {},
     "output_type": "execute_result"
    }
   ],
   "source": [
    "a[4]"
   ]
  },
  {
   "cell_type": "code",
   "execution_count": 5,
   "id": "9d5d0f5b",
   "metadata": {},
   "outputs": [
    {
     "name": "stdout",
     "output_type": "stream",
     "text": [
      "6\n"
     ]
    }
   ],
   "source": [
    "print(a[5])"
   ]
  },
  {
   "cell_type": "code",
   "execution_count": 6,
   "id": "2dfe91d5",
   "metadata": {},
   "outputs": [
    {
     "data": {
      "text/plain": [
       "(8,)"
      ]
     },
     "execution_count": 6,
     "metadata": {},
     "output_type": "execute_result"
    }
   ],
   "source": [
    "a.shape  # 8 item present in the list"
   ]
  },
  {
   "cell_type": "code",
   "execution_count": 7,
   "id": "275ed073",
   "metadata": {},
   "outputs": [
    {
     "data": {
      "text/plain": [
       "array([[ 1,  2,  3,  4,  5],\n",
       "       [ 6,  7,  8,  9, 10]])"
      ]
     },
     "execution_count": 7,
     "metadata": {},
     "output_type": "execute_result"
    }
   ],
   "source": [
    "#  numpy array two dimensional array\n",
    "\n",
    "b=np.array([[1,2,3,4,5,],[6,7,8,9,10]])\n",
    "b"
   ]
  },
  {
   "cell_type": "code",
   "execution_count": 8,
   "id": "7a1a4b2f",
   "metadata": {},
   "outputs": [
    {
     "name": "stdout",
     "output_type": "stream",
     "text": [
      "4\n",
      "9\n"
     ]
    }
   ],
   "source": [
    "print(b[0,3])\n",
    "print(b[1,3])"
   ]
  },
  {
   "cell_type": "code",
   "execution_count": 9,
   "id": "c15e09e1",
   "metadata": {},
   "outputs": [
    {
     "data": {
      "text/plain": [
       "(2, 5)"
      ]
     },
     "execution_count": 9,
     "metadata": {},
     "output_type": "execute_result"
    }
   ],
   "source": [
    "b.shape  # rows and columns display"
   ]
  },
  {
   "cell_type": "code",
   "execution_count": 10,
   "id": "e9689ef2",
   "metadata": {},
   "outputs": [
    {
     "data": {
      "text/plain": [
       "array([2, 3, 4])"
      ]
     },
     "execution_count": 10,
     "metadata": {},
     "output_type": "execute_result"
    }
   ],
   "source": [
    "# array Slicing \n",
    "\n",
    "b=np.array([[1,2,3,4,5,],[6,7,8,9,10]])\n",
    "b[0,1:4]"
   ]
  },
  {
   "cell_type": "code",
   "execution_count": 11,
   "id": "73a77f64",
   "metadata": {},
   "outputs": [
    {
     "data": {
      "text/plain": [
       "array([ 8,  9, 10])"
      ]
     },
     "execution_count": 11,
     "metadata": {},
     "output_type": "execute_result"
    }
   ],
   "source": [
    "b[1,2:5]"
   ]
  },
  {
   "cell_type": "code",
   "execution_count": 12,
   "id": "4f72a8e2",
   "metadata": {},
   "outputs": [
    {
     "data": {
      "text/plain": [
       "array([[ 1.,  2.,  3.,  4.,  5.],\n",
       "       [ 6.,  7.,  8.,  9., 10.]])"
      ]
     },
     "execution_count": 12,
     "metadata": {},
     "output_type": "execute_result"
    }
   ],
   "source": [
    "# data type     - int float bool\n",
    "\n",
    "c=np.array([[1,2,3,4,5,],[6,7,8,9,10]],dtype='float')\n",
    "c"
   ]
  },
  {
   "cell_type": "code",
   "execution_count": 13,
   "id": "07271167",
   "metadata": {},
   "outputs": [
    {
     "name": "stdout",
     "output_type": "stream",
     "text": [
      "[1. 2. 3. 4. 5. 6. 7. 8.]\n"
     ]
    }
   ],
   "source": [
    "# astype- its to convert datatype one to another in array\n",
    "\n",
    "# newarr=a.astype('i')\n",
    "newarr=a.astype(\"float\")\n",
    "# newarr=a.astype(\"int\")\n",
    "# newarr=a.astype(\"bool\")\n",
    "print(newarr)"
   ]
  },
  {
   "cell_type": "code",
   "execution_count": 14,
   "id": "896cb180",
   "metadata": {},
   "outputs": [
    {
     "name": "stdout",
     "output_type": "stream",
     "text": [
      "[[1 2 3]\n",
      " [4 5 6]\n",
      " [8 7 9]]\n"
     ]
    }
   ],
   "source": [
    "# 1D-2D reshape\n",
    "\n",
    "arr=np.array([1,2,3,4,5,6,8,7,9])\n",
    "x=arr.reshape(3,3)\n",
    "print(x)"
   ]
  },
  {
   "cell_type": "code",
   "execution_count": 15,
   "id": "84efe2e1",
   "metadata": {},
   "outputs": [
    {
     "name": "stdout",
     "output_type": "stream",
     "text": [
      "[ 1  2  3  4  5  6  7  8  9 10]\n"
     ]
    }
   ],
   "source": [
    "# multi- 1D\n",
    "\n",
    "y=b.reshape(-1)\n",
    "print(y)"
   ]
  },
  {
   "cell_type": "code",
   "execution_count": 16,
   "id": "8fbadfb6",
   "metadata": {},
   "outputs": [
    {
     "name": "stdout",
     "output_type": "stream",
     "text": [
      "1\n",
      "2\n",
      "3\n",
      "4\n",
      "5\n",
      "6\n",
      "8\n",
      "7\n",
      "9\n"
     ]
    }
   ],
   "source": [
    "# iterating array---- i-iterating variable ,arr-sequential variable\n",
    "\n",
    "for i in arr:\n",
    "    print(i)"
   ]
  },
  {
   "cell_type": "code",
   "execution_count": 17,
   "id": "37b24ac7",
   "metadata": {},
   "outputs": [
    {
     "name": "stdout",
     "output_type": "stream",
     "text": [
      "[[10 50]\n",
      " [20 60]\n",
      " [30 70]\n",
      " [40 80]]\n"
     ]
    }
   ],
   "source": [
    "# jon array\n",
    "\n",
    "a=np.array([10,20,30,40])\n",
    "b=np.array([50,60,70,80])\n",
    "#c=np.concatenate((a,b),axis=0) # row wize\n",
    "c=np.stack((a,b),axis=1)       # column wize \n",
    "print(c)"
   ]
  },
  {
   "cell_type": "code",
   "execution_count": 18,
   "id": "a0ab86d7",
   "metadata": {},
   "outputs": [
    {
     "name": "stdout",
     "output_type": "stream",
     "text": [
      "[[1 2 5 6]\n",
      " [3 4 7 8]]\n"
     ]
    }
   ],
   "source": [
    "a=np.array([[1,2],[3,4]])\n",
    "b=np.array([[5,6],[7,8]])\n",
    "#c=np.concatenate((a,b),axis=1) # column wize\n",
    "#c=np.vstack((a,b))          # vertical\n",
    "#c=np.dstack((a,b))           # dimensional \n",
    "c=np.hstack((a,b))          # harizontal\n",
    "print(c)"
   ]
  },
  {
   "cell_type": "code",
   "execution_count": 19,
   "id": "4473460e",
   "metadata": {},
   "outputs": [
    {
     "name": "stdout",
     "output_type": "stream",
     "text": [
      "[10 20 30 50]\n"
     ]
    }
   ],
   "source": [
    "a=np.array([50,10,30,20])\n",
    "print(np.sort(a))"
   ]
  },
  {
   "cell_type": "code",
   "execution_count": 20,
   "id": "e8a2b823",
   "metadata": {},
   "outputs": [
    {
     "name": "stdout",
     "output_type": "stream",
     "text": [
      "[[0 0 0]\n",
      " [0 0 0]\n",
      " [0 0 0]]\n"
     ]
    }
   ],
   "source": [
    "a=np.array([1,2,3,4,5])\n",
    "print(np.zeros((3,3),dtype=\"int\"))   # default float"
   ]
  },
  {
   "cell_type": "code",
   "execution_count": 21,
   "id": "570dceff",
   "metadata": {},
   "outputs": [
    {
     "name": "stdout",
     "output_type": "stream",
     "text": [
      "[[0 0 0]\n",
      " [0 0 0]\n",
      " [0 0 0]\n",
      " [0 0 0]\n",
      " [0 0 0]]\n"
     ]
    }
   ],
   "source": [
    "print(np.zeros((5,3),dtype=\"int\")) "
   ]
  },
  {
   "cell_type": "code",
   "execution_count": 22,
   "id": "c25ea0f2",
   "metadata": {},
   "outputs": [
    {
     "name": "stdout",
     "output_type": "stream",
     "text": [
      "[[1. 1.]\n",
      " [1. 1.]\n",
      " [1. 1.]\n",
      " [1. 1.]]\n"
     ]
    }
   ],
   "source": [
    "print(np.ones((4,2),dtype=\"float\")) "
   ]
  },
  {
   "cell_type": "code",
   "execution_count": 23,
   "id": "75a77d97",
   "metadata": {},
   "outputs": [
    {
     "name": "stdout",
     "output_type": "stream",
     "text": [
      "[[1 1 1]\n",
      " [1 1 1]\n",
      " [1 1 1]]\n"
     ]
    }
   ],
   "source": [
    "print(np.full((3,3),1))"
   ]
  },
  {
   "cell_type": "code",
   "execution_count": 24,
   "id": "c347dbb6",
   "metadata": {},
   "outputs": [
    {
     "name": "stdout",
     "output_type": "stream",
     "text": [
      "[ 1  2  3  4  5  6  7  8  9 10]\n"
     ]
    }
   ],
   "source": [
    "print(np.arange(1,11))"
   ]
  },
  {
   "cell_type": "code",
   "execution_count": 25,
   "id": "fababc88",
   "metadata": {},
   "outputs": [
    {
     "name": "stdout",
     "output_type": "stream",
     "text": [
      "[ 3  6  9 12]\n"
     ]
    }
   ],
   "source": [
    "# mathematical manipulation \n",
    "\n",
    "A=np.array([1,2,3,4])\n",
    "B=np.array([2,4,6,8])\n",
    "print(np.add(A,B))"
   ]
  },
  {
   "cell_type": "code",
   "execution_count": 26,
   "id": "50f09683",
   "metadata": {},
   "outputs": [
    {
     "name": "stdout",
     "output_type": "stream",
     "text": [
      "[-1 -2 -3 -4]\n"
     ]
    }
   ],
   "source": [
    "A=np.array([1,2,3,4])\n",
    "B=np.array([2,4,6,8])\n",
    "print(np.subtract(A,B))"
   ]
  },
  {
   "cell_type": "code",
   "execution_count": 27,
   "id": "9a69e88c",
   "metadata": {},
   "outputs": [
    {
     "name": "stdout",
     "output_type": "stream",
     "text": [
      "[ 2  8 18 32]\n"
     ]
    }
   ],
   "source": [
    "A=np.array([1,2,3,4])\n",
    "B=np.array([2,4,6,8])\n",
    "print(np.multiply(A,B))"
   ]
  },
  {
   "cell_type": "code",
   "execution_count": 28,
   "id": "10056e2e",
   "metadata": {},
   "outputs": [
    {
     "name": "stdout",
     "output_type": "stream",
     "text": [
      "[0.5 0.5 0.5 0.5]\n"
     ]
    }
   ],
   "source": [
    "A=np.array([1,2,3,4])\n",
    "B=np.array([2,4,6,8])\n",
    "print(np.divide(A,B))"
   ]
  },
  {
   "cell_type": "code",
   "execution_count": 29,
   "id": "0bb276c9",
   "metadata": {},
   "outputs": [
    {
     "name": "stdout",
     "output_type": "stream",
     "text": [
      "[15 40]\n",
      "[ 7  9 11 13 15]\n",
      "[3.5 4.5 5.5 6.5 7.5]\n"
     ]
    }
   ],
   "source": [
    "arr1=np.array([[1,2,3,4,5],[6,7,8,9,10]])\n",
    "print(np.sum(arr1,axis=1))   # Row wise sum up\n",
    "print(np.sum(arr1,axis=0))   # column wise sum up\n",
    "print(np.mean(arr1,axis=0))   # Row wise mean"
   ]
  },
  {
   "cell_type": "code",
   "execution_count": 30,
   "id": "d80bc2bb",
   "metadata": {},
   "outputs": [
    {
     "data": {
      "text/plain": [
       "array([[0.16283075, 0.5529704 , 0.70553514, 0.40565046, 0.36718679],\n",
       "       [0.22247071, 0.78462644, 0.99544443, 0.16756369, 0.43067802]])"
      ]
     },
     "execution_count": 30,
     "metadata": {},
     "output_type": "execute_result"
    }
   ],
   "source": [
    "ran=np.random.random((2,5))\n",
    "ran"
   ]
  },
  {
   "cell_type": "code",
   "execution_count": 31,
   "id": "ed3d162d",
   "metadata": {},
   "outputs": [
    {
     "name": "stdout",
     "output_type": "stream",
     "text": [
      "[[13 13 11 10 11]\n",
      " [14 16 15 16 10]\n",
      " [16 13 12 17 10]]\n"
     ]
    }
   ],
   "source": [
    "# Random integer values array with in a specific range\n",
    "\n",
    "ran2=np.random.randint(10,20,(3,5))\n",
    "print(ran2)"
   ]
  },
  {
   "cell_type": "code",
   "execution_count": 32,
   "id": "64bcc59a",
   "metadata": {},
   "outputs": [
    {
     "name": "stdout",
     "output_type": "stream",
     "text": [
      "[10. 15. 20. 25. 30.]\n"
     ]
    }
   ],
   "source": [
    "# Array of evenly spaced values --> specifying the number of values required\n",
    "\n",
    "d=np.linspace(10,30,5)\n",
    "print(d)"
   ]
  },
  {
   "cell_type": "code",
   "execution_count": 33,
   "id": "214ef299",
   "metadata": {},
   "outputs": [
    {
     "name": "stdout",
     "output_type": "stream",
     "text": [
      "[10 20 30 40 50]\n"
     ]
    },
    {
     "data": {
      "text/plain": [
       "numpy.ndarray"
      ]
     },
     "execution_count": 33,
     "metadata": {},
     "output_type": "execute_result"
    }
   ],
   "source": [
    "# Convert a list to numpy array\n",
    "\n",
    "list2=[10,20,30,40,50]\n",
    "\n",
    "np_array=np.asarray(list2) # asarray its converting the list to the array\n",
    "print(np_array)\n",
    "type(np_array)"
   ]
  },
  {
   "cell_type": "code",
   "execution_count": 34,
   "id": "8e4f6b4e",
   "metadata": {},
   "outputs": [
    {
     "name": "stdout",
     "output_type": "stream",
     "text": [
      "[[53 43 67 79 75]\n",
      " [36 77 55 62 33]\n",
      " [37 56 47 52 27]\n",
      " [77 63 78 19 89]\n",
      " [45 64 47 23 41]]\n"
     ]
    }
   ],
   "source": [
    "c=np.random.randint(10,90,(5,5))\n",
    "print(c)"
   ]
  },
  {
   "cell_type": "code",
   "execution_count": 35,
   "id": "a72242be",
   "metadata": {},
   "outputs": [
    {
     "name": "stdout",
     "output_type": "stream",
     "text": [
      "(5, 5)\n"
     ]
    }
   ],
   "source": [
    "# array dimension \n",
    "\n",
    "print(c.shape)"
   ]
  },
  {
   "cell_type": "code",
   "execution_count": 36,
   "id": "05758093",
   "metadata": {},
   "outputs": [
    {
     "name": "stdout",
     "output_type": "stream",
     "text": [
      "2\n"
     ]
    }
   ],
   "source": [
    "print(c.ndim)  # one or two dimensional"
   ]
  },
  {
   "cell_type": "code",
   "execution_count": 37,
   "id": "31ad9999",
   "metadata": {},
   "outputs": [
    {
     "name": "stdout",
     "output_type": "stream",
     "text": [
      "25\n"
     ]
    }
   ],
   "source": [
    "# Number of element in an array\n",
    "\n",
    "print(c.size)"
   ]
  },
  {
   "cell_type": "code",
   "execution_count": 38,
   "id": "0085e16e",
   "metadata": {},
   "outputs": [
    {
     "name": "stdout",
     "output_type": "stream",
     "text": [
      "int32\n"
     ]
    }
   ],
   "source": [
    "# Checking the data type of the values in the array\n",
    "\n",
    "print(c.dtype)"
   ]
  }
 ],
 "metadata": {
  "kernelspec": {
   "display_name": "Python 3 (ipykernel)",
   "language": "python",
   "name": "python3"
  },
  "language_info": {
   "codemirror_mode": {
    "name": "ipython",
    "version": 3
   },
   "file_extension": ".py",
   "mimetype": "text/x-python",
   "name": "python",
   "nbconvert_exporter": "python",
   "pygments_lexer": "ipython3",
   "version": "3.9.13"
  }
 },
 "nbformat": 4,
 "nbformat_minor": 5
}
