{
 "cells": [
  {
   "cell_type": "markdown",
   "id": "a5eb2e7a",
   "metadata": {},
   "source": [
    "# Modules-Packages-Library"
   ]
  },
  {
   "cell_type": "markdown",
   "id": "798e51b8",
   "metadata": {},
   "source": [
    "# Modules\n",
    "\n",
    "Collection of the Function.\n",
    "\n",
    ".py file is called as modules.\n",
    "\n",
    "1) pre-defined\n",
    "\n",
    "        These are in-build modules available in python which can be imported and used.\n",
    "        Ex: math,os,random etc...\n",
    "\n",
    "2) user-defined"
   ]
  },
  {
   "cell_type": "markdown",
   "id": "714126b2",
   "metadata": {},
   "source": [
    "# Packages\n",
    "\n",
    "Collection of Modules\n",
    "\n",
    "one python file is many extension .py file can create that is called packages."
   ]
  },
  {
   "cell_type": "markdown",
   "id": "05837c8a",
   "metadata": {},
   "source": [
    "# Library\n",
    "\n",
    "Collection of Packages"
   ]
  },
  {
   "cell_type": "markdown",
   "id": "cd974384",
   "metadata": {},
   "source": [
    "# Random modules\n",
    "\n",
    "1) Random is a build-in module in python that you can use to make random number."
   ]
  },
  {
   "cell_type": "raw",
   "id": "bf97de9c",
   "metadata": {},
   "source": [
    "import random \n",
    "random.random()\n",
    "random.randint(start,end)\n",
    "random.choice(list)\n",
    "random.randrange(start,end,step)"
   ]
  },
  {
   "cell_type": "code",
   "execution_count": 1,
   "id": "f4d54c95",
   "metadata": {},
   "outputs": [
    {
     "name": "stdout",
     "output_type": "stream",
     "text": [
      "0.22845815551147153\n",
      "1\n",
      "Ajith\n",
      "1\n"
     ]
    }
   ],
   "source": [
    "import random\n",
    "print(random.random())\n",
    "print(random.randint(1,10))\n",
    "\n",
    "name=[\"Appu\",\"Charan\",\"Ajith\",\"Vicky\",\"Kamesh\"]\n",
    "print(random.choice(name))\n",
    "\n",
    "print(random.randrange(1,20,2))"
   ]
  },
  {
   "cell_type": "markdown",
   "id": "5028dd7c",
   "metadata": {},
   "source": [
    "# How to create a module\n",
    "\n",
    "To Create a module, you have to save the file in .py extension."
   ]
  },
  {
   "cell_type": "raw",
   "id": "e21015d5",
   "metadata": {},
   "source": [
    "import <file name>\n",
    "\n",
    "<file name>.<class name>()"
   ]
  },
  {
   "cell_type": "markdown",
   "id": "ddec7f22",
   "metadata": {},
   "source": [
    "# How to create a package\n",
    "\n",
    "Collection of Modules\n",
    "\n",
    "you have can one perticular new folder multile extension .py file can create that is called packages.\n",
    "\n",
    "1) To create a package, you have to create a new directory with all the necessary modules in it\n",
    "\n",
    "2) Also the floder should contain a file in the name \"--init--.py\"to make that floder as python packages "
   ]
  },
  {
   "cell_type": "raw",
   "id": "8fa9359d",
   "metadata": {},
   "source": [
    "from bio import name\n",
    "from bio import age\n",
    "from bio import photo\n",
    "name.name_info()\n",
    "age.age_info()\n",
    "photo.photo_display()"
   ]
  },
  {
   "cell_type": "markdown",
   "id": "3dd35c32",
   "metadata": {},
   "source": [
    "# Library\n",
    "\n",
    "Collection of Package\n",
    "\n",
    "1) The python packages index (PyPI) is a repository of software for the python progrmming language.\n",
    "\n",
    "2) PyPI helps you find and install software developed and shared by the python community."
   ]
  }
 ],
 "metadata": {
  "kernelspec": {
   "display_name": "Python 3 (ipykernel)",
   "language": "python",
   "name": "python3"
  },
  "language_info": {
   "codemirror_mode": {
    "name": "ipython",
    "version": 3
   },
   "file_extension": ".py",
   "mimetype": "text/x-python",
   "name": "python",
   "nbconvert_exporter": "python",
   "pygments_lexer": "ipython3",
   "version": "3.9.13"
  }
 },
 "nbformat": 4,
 "nbformat_minor": 5
}
