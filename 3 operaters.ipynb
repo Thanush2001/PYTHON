{
 "cells": [
  {
   "cell_type": "markdown",
   "id": "5790624c",
   "metadata": {},
   "source": [
    "# OPERATERS :IT IS USED TO OPERATE BETWEEN 2 OPERANDS"
   ]
  },
  {
   "cell_type": "code",
   "execution_count": 1,
   "id": "4655439c",
   "metadata": {},
   "outputs": [
    {
     "name": "stdout",
     "output_type": "stream",
     "text": [
      "enter the value a=0\n",
      "enter the value b=6\n",
      "a+b= 6\n",
      "a-b -6\n",
      "a*b= 0\n",
      "a/b= 0.0\n",
      "a//b= 0\n",
      "a%b= 0\n",
      "a**b= 0\n"
     ]
    }
   ],
   "source": [
    "#ARITHMETIC OPERATORS [+,-,*,/,//,%,**]\n",
    "a=int(input(\"enter the value a=\"))\n",
    "b=int(input(\"enter the value b=\"))\n",
    "print(\"a+b=\",a+b)\n",
    "print(\"a-b\",a-b)\n",
    "print(\"a*b=\",a*b)\n",
    "print(\"a/b=\",a/b)\n",
    "print(\"a//b=\",a//b)\n",
    "print(\"a%b=\",a%b)\n",
    "print(\"a**b=\",a**b)"
   ]
  },
  {
   "cell_type": "code",
   "execution_count": 2,
   "id": "45ebae25",
   "metadata": {},
   "outputs": [
    {
     "name": "stdout",
     "output_type": "stream",
     "text": [
      "enter the value a=10\n",
      "enter the value b=6\n",
      "a+b= 16 a-b 4 a*b= 60 a/b= 1.6666666666666667 a//b= 1 a%b= 4 a**b= 1000000\n"
     ]
    }
   ],
   "source": [
    "a=int(input(\"enter the value a=\"))\n",
    "b=int(input(\"enter the value b=\"))\n",
    "print(\"a+b=\",a+b,\"a-b\",a-b,\"a*b=\",a*b,\"a/b=\",a/b,\"a//b=\",a//b,\"a%b=\",a%b,\"a**b=\",a**b)"
   ]
  },
  {
   "cell_type": "code",
   "execution_count": 3,
   "id": "dec74fea",
   "metadata": {},
   "outputs": [
    {
     "name": "stdout",
     "output_type": "stream",
     "text": [
      "enter the value a=6\n",
      "enter the value b=4\n",
      "a&b= 4 a|b= 6 a^b= 2\n"
     ]
    }
   ],
   "source": [
    "#BITWISE/BINARY OPERATERS [&,|,^]\n",
    "a=int(input(\"enter the value a=\"))\n",
    "b=int(input(\"enter the value b=\"))\n",
    "print(\"a&b=\",a&b,\"a|b=\",a|b,\"a^b=\",a^b)"
   ]
  },
  {
   "cell_type": "code",
   "execution_count": 4,
   "id": "4ead06b8",
   "metadata": {},
   "outputs": [
    {
     "name": "stdout",
     "output_type": "stream",
     "text": [
      "the number are greater than 0\n",
      "Atleast one number is not greater than 0\n"
     ]
    }
   ],
   "source": [
    "#logical operators [and,or,not]\n",
    "#python program for demonstrate\n",
    "\n",
    "a=10\n",
    "b=10\n",
    "c=-10\n",
    "if(a>0 and b>0):\n",
    "    print(\"the number are greater than 0\")\n",
    "if(a>0 and b>0 and c>0):\n",
    "    print(\"the number are greater than 0\")\n",
    "else:\n",
    "    print(\"Atleast one number is not greater than 0\")"
   ]
  },
  {
   "cell_type": "code",
   "execution_count": 5,
   "id": "063205ae",
   "metadata": {},
   "outputs": [
    {
     "name": "stdout",
     "output_type": "stream",
     "text": [
      "enter the value a=10\n",
      "enter the value b=3\n",
      "13\n",
      "10\n",
      "30\n"
     ]
    }
   ],
   "source": [
    "#ASSIGMENT OPERATER [=]\n",
    "\n",
    "a=int(input(\"enter the value a=\"))\n",
    "b=int(input(\"enter the value b=\"))\n",
    "a+=b\n",
    "print(a)\n",
    "a-=b\n",
    "print(a)\n",
    "a*=b\n",
    "print(a)"
   ]
  },
  {
   "cell_type": "code",
   "execution_count": 6,
   "id": "51e503a5",
   "metadata": {},
   "outputs": [
    {
     "name": "stdout",
     "output_type": "stream",
     "text": [
      "enter the value a=10\n",
      "enter the value b=3\n",
      "True False True False False True\n"
     ]
    }
   ],
   "source": [
    "#COMPARISION OPERATER [>,<,>=,<=,==,!=]\n",
    "\n",
    "a=int(input(\"enter the value a=\"))\n",
    "b=int(input(\"enter the value b=\"))\n",
    "print(a>b,a<b,a>=b,a<=b,a==b,a!=b)"
   ]
  },
  {
   "cell_type": "code",
   "execution_count": 7,
   "id": "aa897a25",
   "metadata": {},
   "outputs": [
    {
     "name": "stdout",
     "output_type": "stream",
     "text": [
      "True\n",
      "False\n",
      "True\n",
      "False\n"
     ]
    }
   ],
   "source": [
    "#MEMBERSHIP OPERATER [in,notin]\n",
    "\n",
    "l=[1,2,3,\"thanush\",4,5]\n",
    "print(3 in l)\n",
    "print(10 in l)\n",
    "print(12 not in l)\n",
    "print(4 not in l)"
   ]
  },
  {
   "cell_type": "code",
   "execution_count": 8,
   "id": "e9016847",
   "metadata": {},
   "outputs": [
    {
     "name": "stdout",
     "output_type": "stream",
     "text": [
      "True\n",
      "False\n",
      "True\n",
      "False\n"
     ]
    }
   ],
   "source": [
    "l=[1,2,3,4,5]\n",
    "print(1 in l)\n",
    "print(12 in l)\n",
    "print(\"abc\"not in l)\n",
    "print(5 not in l)"
   ]
  }
 ],
 "metadata": {
  "kernelspec": {
   "display_name": "Python 3 (ipykernel)",
   "language": "python",
   "name": "python3"
  },
  "language_info": {
   "codemirror_mode": {
    "name": "ipython",
    "version": 3
   },
   "file_extension": ".py",
   "mimetype": "text/x-python",
   "name": "python",
   "nbconvert_exporter": "python",
   "pygments_lexer": "ipython3",
   "version": "3.9.12"
  }
 },
 "nbformat": 4,
 "nbformat_minor": 5
}
