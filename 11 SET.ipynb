{
 "cells": [
  {
   "cell_type": "markdown",
   "id": "9497473b",
   "metadata": {},
   "source": [
    "# Python Sets"
   ]
  },
  {
   "cell_type": "markdown",
   "id": "ef2e51e9",
   "metadata": {},
   "source": [
    "# Set"
   ]
  },
  {
   "cell_type": "raw",
   "id": "3a7107ab",
   "metadata": {},
   "source": [
    "Sets are used to store multiple items in a single variable.\n",
    "Set is one of 4 built-in data types in Python used to store collections of data, \n",
    "   the other 3 are List, Tuple, and Dictionary, all with different qualities and usage.\n",
    "A set is a collection which is unordered, unchangeable*, and unindexed.\n",
    "It is a collection of hetrogenious.\n",
    "It is unorder and unindex.\n",
    "It is mutable.\n",
    "It does not allow dupilicates.\n",
    "Set can be represented by {}.     Example:{1,2,3,4,5}\n",
    "Set is mutable. i.e) we can make any change in set.But element are not duplicate.\n",
    "Set data structure is also non-homogeneous data structure but stores in single row."
   ]
  },
  {
   "cell_type": "code",
   "execution_count": 1,
   "id": "0f448ada",
   "metadata": {},
   "outputs": [
    {
     "name": "stdout",
     "output_type": "stream",
     "text": [
      "{'apple', 'cherry', 'banana'}\n"
     ]
    }
   ],
   "source": [
    "# Sets are written with curly brackets.\n",
    "\n",
    "#Example\n",
    "# Create a Set: \n",
    "    # a=set() \n",
    "    # b=set(a)\n",
    "\n",
    "thisset = {\"apple\", \"banana\", \"cherry\"}\n",
    "print(thisset)"
   ]
  },
  {
   "cell_type": "raw",
   "id": "24833199",
   "metadata": {},
   "source": [
    "# Set Items\n",
    "Set items are unordered, unchangeable, and do not allow duplicate values.\n",
    "\n",
    "# Unordered\n",
    "Unordered means that the items in a set do not have a defined order.\n",
    "Set items can appear in a different order every time you use them, and cannot be referred to by index or key.\n",
    "\n",
    "# Unchangeable\n",
    "Set items are unchangeable, meaning that we cannot change the items after the set has been created.\n",
    "Once a set is created, you cannot change its items, but you can remove items and add new items."
   ]
  },
  {
   "cell_type": "code",
   "execution_count": 2,
   "id": "1a273ae5",
   "metadata": {},
   "outputs": [
    {
     "name": "stdout",
     "output_type": "stream",
     "text": [
      "{'apple', 'cherry', 'banana'}\n"
     ]
    }
   ],
   "source": [
    "#Duplicates Not Allowed\n",
    "# Sets cannot have two items with the same value.\n",
    "\n",
    "#Example\n",
    "# Duplicate values will be ignored:\n",
    "\n",
    "thisset = {\"apple\", \"banana\", \"cherry\", \"apple\"}\n",
    "\n",
    "print(thisset)"
   ]
  },
  {
   "cell_type": "code",
   "execution_count": 3,
   "id": "e87d3fe8",
   "metadata": {},
   "outputs": [
    {
     "name": "stdout",
     "output_type": "stream",
     "text": [
      "3\n"
     ]
    }
   ],
   "source": [
    "#Get the Length of a Set\n",
    "# To determine how many items a set has, use the len() function.\n",
    "\n",
    "#Example\n",
    "# Get the number of items in a set:\n",
    "\n",
    "thisset = {\"apple\", \"banana\", \"cherry\"}\n",
    "\n",
    "print(len(thisset))"
   ]
  },
  {
   "cell_type": "code",
   "execution_count": 4,
   "id": "2fb635c4",
   "metadata": {},
   "outputs": [
    {
     "name": "stdout",
     "output_type": "stream",
     "text": [
      "{'apple', 'cherry', 'banana'}\n",
      "{1, 3, 5, 7, 9}\n",
      "{False, True}\n"
     ]
    }
   ],
   "source": [
    "#Set Items - Data Types\n",
    "# Set items can be of any data type:\n",
    "\n",
    "#Example\n",
    "# String, int and boolean data types:\n",
    "\n",
    "set1 = {\"apple\", \"banana\", \"cherry\"}\n",
    "set2 = {1, 5, 7, 9, 3}\n",
    "set3 = {True, False, False}\n",
    "print(set1)\n",
    "print(set2)\n",
    "print(set3)"
   ]
  },
  {
   "cell_type": "code",
   "execution_count": 5,
   "id": "191b2792",
   "metadata": {},
   "outputs": [
    {
     "name": "stdout",
     "output_type": "stream",
     "text": [
      "{'male', True, 34, 40, 'abc'}\n"
     ]
    }
   ],
   "source": [
    "# A set can contain different data types:\n",
    "\n",
    "#Example\n",
    "# A set with strings, integers and boolean values:\n",
    "\n",
    "set1 = {\"abc\", 34, True, 40, \"male\"}\n",
    "print(set1)"
   ]
  },
  {
   "cell_type": "code",
   "execution_count": 6,
   "id": "d469d432",
   "metadata": {},
   "outputs": [
    {
     "name": "stdout",
     "output_type": "stream",
     "text": [
      "<class 'set'>\n"
     ]
    }
   ],
   "source": [
    "#type()\n",
    "#  From Python's perspective, sets are defined as objects with the data type 'set':\n",
    "\n",
    "# <class 'set'>\n",
    "#Example\n",
    "# What is the data type of a set?\n",
    "\n",
    "myset = {\"apple\", \"banana\", \"cherry\"}\n",
    "print(type(myset))"
   ]
  },
  {
   "cell_type": "code",
   "execution_count": 7,
   "id": "e45cf98f",
   "metadata": {},
   "outputs": [
    {
     "name": "stdout",
     "output_type": "stream",
     "text": [
      "{'apple', 'cherry', 'banana'}\n"
     ]
    }
   ],
   "source": [
    "# The set() Constructor\n",
    "# It is also possible to use the set() constructor to make a set.\n",
    "\n",
    "# Example\n",
    "# Using the set() constructor to make a set:\n",
    "\n",
    "thisset = set((\"apple\", \"banana\", \"cherry\")) # note the double round-brackets\n",
    "print(thisset)"
   ]
  },
  {
   "cell_type": "markdown",
   "id": "d22c2414",
   "metadata": {},
   "source": [
    "# Python Collections (Arrays)"
   ]
  },
  {
   "cell_type": "raw",
   "id": "29ad55ad",
   "metadata": {},
   "source": [
    "There are four collection data types in the Python programming language:\n",
    "\n",
    "1) List is a collection which is ordered and changeable. Allows duplicate members.\n",
    "2) Tuple is a collection which is ordered and unchangeable. Allows duplicate members.\n",
    "3) Set is a collection which is unordered, unchangeable*, and unindexed. No duplicate members.\n",
    "4) Dictionary is a collection which is ordered** and changeable. No duplicate members."
   ]
  },
  {
   "cell_type": "markdown",
   "id": "d0a15a2c",
   "metadata": {},
   "source": [
    "# Python - Access Set Items"
   ]
  },
  {
   "cell_type": "code",
   "execution_count": 8,
   "id": "ccbc9638",
   "metadata": {},
   "outputs": [
    {
     "name": "stdout",
     "output_type": "stream",
     "text": [
      "apple\n",
      "cherry\n",
      "banana\n"
     ]
    }
   ],
   "source": [
    "#Access Items\n",
    "# You cannot access items in a set by referring to an index or a key.\n",
    "\n",
    "# But you can loop through the set items using a for loop, or ask if a specified value is present in a set, \n",
    "#  by using the in keyword.\n",
    "\n",
    "#Example\n",
    "# Loop through the set, and print the values:\n",
    "\n",
    "thisset = {\"apple\", \"banana\", \"cherry\"}\n",
    "for x in thisset:\n",
    "  print(x)"
   ]
  },
  {
   "cell_type": "code",
   "execution_count": 9,
   "id": "19ca235d",
   "metadata": {},
   "outputs": [
    {
     "name": "stdout",
     "output_type": "stream",
     "text": [
      "True\n"
     ]
    }
   ],
   "source": [
    "#Example\n",
    "# Check if \"banana\" is present in the set:\n",
    "\n",
    "thisset = {\"apple\", \"banana\", \"cherry\"}\n",
    "print(\"banana\" in thisset)"
   ]
  },
  {
   "cell_type": "raw",
   "id": "ec233a0a",
   "metadata": {},
   "source": [
    "#Change Items\n",
    " Once a set is created, you cannot change its items, but you can add new items."
   ]
  },
  {
   "cell_type": "markdown",
   "id": "c9951a9b",
   "metadata": {},
   "source": [
    "# Python - Add Set Items"
   ]
  },
  {
   "cell_type": "code",
   "execution_count": 10,
   "id": "fac41ae2",
   "metadata": {},
   "outputs": [
    {
     "name": "stdout",
     "output_type": "stream",
     "text": [
      "{'apple', 'orange', 'cherry', 'banana'}\n"
     ]
    }
   ],
   "source": [
    "#Add Items\n",
    "# Once a set is created, you cannot change its items, but you can add new items.\n",
    "\n",
    "# To add one item to a set use the add() method.\n",
    "\n",
    "#Example\n",
    "# Add an item to a set, using the add() method:\n",
    "\n",
    "thisset = {\"apple\", \"banana\", \"cherry\"}\n",
    "thisset.add(\"orange\")\n",
    "print(thisset)"
   ]
  },
  {
   "cell_type": "code",
   "execution_count": 11,
   "id": "98495f22",
   "metadata": {},
   "outputs": [
    {
     "name": "stdout",
     "output_type": "stream",
     "text": [
      "{'papaya', 'mango', 'cherry', 'banana', 'apple', 'pineapple'}\n"
     ]
    }
   ],
   "source": [
    "#Add Sets\n",
    "# To add items from another set into the current set, use the update() method.\n",
    "\n",
    "#Example\n",
    "# Add elements from tropical into thisset:\n",
    "\n",
    "thisset = {\"apple\", \"banana\", \"cherry\"}\n",
    "tropical = {\"pineapple\", \"mango\", \"papaya\"}\n",
    "thisset.update(tropical)\n",
    "print(thisset)"
   ]
  },
  {
   "cell_type": "code",
   "execution_count": 12,
   "id": "9eb578bb",
   "metadata": {},
   "outputs": [
    {
     "name": "stdout",
     "output_type": "stream",
     "text": [
      "{'orange', 'apple', 'cherry', 'banana', 'kiwi'}\n"
     ]
    }
   ],
   "source": [
    "#Add Any Iterable\n",
    "#The object in the update() method does not have to be a set, \n",
    "#   it can be any iterable object (tuples, lists, dictionaries etc.).\n",
    "\n",
    "#Example\n",
    "# Add elements of a list to at set:\n",
    "\n",
    "thisset = {\"apple\", \"banana\", \"cherry\"}\n",
    "mylist = [\"kiwi\", \"orange\"]\n",
    "thisset.update(mylist)\n",
    "print(thisset)"
   ]
  },
  {
   "cell_type": "markdown",
   "id": "139ffd1c",
   "metadata": {},
   "source": [
    "# Python - Remove Set Items"
   ]
  },
  {
   "cell_type": "code",
   "execution_count": 13,
   "id": "1f5fc1a4",
   "metadata": {},
   "outputs": [
    {
     "name": "stdout",
     "output_type": "stream",
     "text": [
      "{'apple', 'cherry'}\n"
     ]
    }
   ],
   "source": [
    "#Remove Item\n",
    "# To remove an item in a set, use the remove(), or the discard() method.\n",
    "\n",
    "#Example\n",
    "# Remove \"banana\" by using the remove() method:\n",
    "\n",
    "thisset = {\"apple\", \"banana\", \"cherry\"}\n",
    "thisset.remove(\"banana\")\n",
    "print(thisset)\n",
    "# Note: If the item to remove does not exist, remove() will raise an error."
   ]
  },
  {
   "cell_type": "code",
   "execution_count": 14,
   "id": "ce43a504",
   "metadata": {},
   "outputs": [
    {
     "name": "stdout",
     "output_type": "stream",
     "text": [
      "{'apple', 'cherry'}\n"
     ]
    }
   ],
   "source": [
    "#Example\n",
    "# Remove \"banana\" by using the discard() method:\n",
    "\n",
    "thisset = {\"apple\", \"banana\", \"cherry\"}\n",
    "thisset.discard(\"banana\")\n",
    "print(thisset)\n",
    "# Note: If the item to remove does not exist, discard() will NOT raise an error."
   ]
  },
  {
   "cell_type": "code",
   "execution_count": 15,
   "id": "7fe43a10",
   "metadata": {},
   "outputs": [
    {
     "name": "stdout",
     "output_type": "stream",
     "text": [
      "apple\n",
      "{'cherry', 'banana'}\n"
     ]
    }
   ],
   "source": [
    "# You can also use the pop() method to remove an item, but this method will remove the last item. \n",
    "# Remember that sets are unordered, so you will not know what item that gets removed.\n",
    "# The return value of the pop() method is the removed item.\n",
    "\n",
    "#Example\n",
    "# Remove the last item by using the pop() method:\n",
    "\n",
    "thisset = {\"apple\", \"banana\", \"cherry\"}\n",
    "x = thisset.pop()\n",
    "print(x)\n",
    "print(thisset)\n",
    "\n",
    "# Note: Sets are unordered, so when using the pop() method, you do not know which item that gets removed."
   ]
  },
  {
   "cell_type": "code",
   "execution_count": 16,
   "id": "c2ed118f",
   "metadata": {},
   "outputs": [
    {
     "name": "stdout",
     "output_type": "stream",
     "text": [
      "set()\n"
     ]
    }
   ],
   "source": [
    "#Example\n",
    "# The clear() method empties the set:\n",
    "\n",
    "thisset = {\"apple\", \"banana\", \"cherry\"}\n",
    "thisset.clear()\n",
    "print(thisset)"
   ]
  },
  {
   "cell_type": "code",
   "execution_count": 17,
   "id": "29931b1a",
   "metadata": {},
   "outputs": [
    {
     "ename": "NameError",
     "evalue": "name 'thisset' is not defined",
     "output_type": "error",
     "traceback": [
      "\u001b[1;31m---------------------------------------------------------------------------\u001b[0m",
      "\u001b[1;31mNameError\u001b[0m                                 Traceback (most recent call last)",
      "Input \u001b[1;32mIn [17]\u001b[0m, in \u001b[0;36m<cell line: 6>\u001b[1;34m()\u001b[0m\n\u001b[0;32m      4\u001b[0m thisset \u001b[38;5;241m=\u001b[39m {\u001b[38;5;124m\"\u001b[39m\u001b[38;5;124mapple\u001b[39m\u001b[38;5;124m\"\u001b[39m, \u001b[38;5;124m\"\u001b[39m\u001b[38;5;124mbanana\u001b[39m\u001b[38;5;124m\"\u001b[39m, \u001b[38;5;124m\"\u001b[39m\u001b[38;5;124mcherry\u001b[39m\u001b[38;5;124m\"\u001b[39m}\n\u001b[0;32m      5\u001b[0m \u001b[38;5;28;01mdel\u001b[39;00m thisset\n\u001b[1;32m----> 6\u001b[0m \u001b[38;5;28mprint\u001b[39m(\u001b[43mthisset\u001b[49m)\n",
      "\u001b[1;31mNameError\u001b[0m: name 'thisset' is not defined"
     ]
    }
   ],
   "source": [
    "#Example\n",
    "# The del keyword will delete the set completely:\n",
    "\n",
    "thisset = {\"apple\", \"banana\", \"cherry\"}\n",
    "del thisset\n",
    "print(thisset)"
   ]
  },
  {
   "cell_type": "markdown",
   "id": "b8862a40",
   "metadata": {},
   "source": [
    "# Python - Loop Sets"
   ]
  },
  {
   "cell_type": "code",
   "execution_count": 18,
   "id": "696b21bb",
   "metadata": {},
   "outputs": [
    {
     "name": "stdout",
     "output_type": "stream",
     "text": [
      "apple\n",
      "cherry\n",
      "banana\n"
     ]
    }
   ],
   "source": [
    "#Loop Items\n",
    "# You can loop through the set items by using a for loop:\n",
    "\n",
    "#Example\n",
    "# Loop through the set, and print the values:\n",
    "\n",
    "thisset = {\"apple\", \"banana\", \"cherry\"}\n",
    "for x in thisset:\n",
    "  print(x)"
   ]
  },
  {
   "cell_type": "markdown",
   "id": "684b3d2e",
   "metadata": {},
   "source": [
    "# Python - Join Sets"
   ]
  },
  {
   "cell_type": "code",
   "execution_count": 19,
   "id": "64ae9547",
   "metadata": {},
   "outputs": [
    {
     "name": "stdout",
     "output_type": "stream",
     "text": [
      "{'c', 1, 2, 'b', 3, 'a'}\n"
     ]
    }
   ],
   "source": [
    "#Join Two Sets\n",
    "# There are several ways to join two or more sets in Python.\n",
    "# You can use the union() method that returns a new set containing all items from both sets, or \n",
    "#   the update() method that inserts all the items from one set into another:\n",
    "\n",
    "#Example\n",
    "#The union() method returns a new set with all items from both sets:\n",
    "\n",
    "set1 = {\"a\", \"b\" , \"c\"}\n",
    "set2 = {1, 2, 3}\n",
    "set3 = set1.union(set2)\n",
    "print(set3)"
   ]
  },
  {
   "cell_type": "code",
   "execution_count": 20,
   "id": "60f1072a",
   "metadata": {},
   "outputs": [
    {
     "name": "stdout",
     "output_type": "stream",
     "text": [
      "{'c', 1, 2, 'b', 3, 'a'}\n"
     ]
    }
   ],
   "source": [
    "#Example\n",
    "# The update() method inserts the items in set2 into set1:\n",
    "\n",
    "set1 = {\"a\", \"b\" , \"c\"}\n",
    "set2 = {1, 2, 3}\n",
    "set1.update(set2)\n",
    "print(set1)\n",
    "#  Note: Both union() and update() will exclude any duplicate items."
   ]
  },
  {
   "cell_type": "code",
   "execution_count": 21,
   "id": "e76197b6",
   "metadata": {},
   "outputs": [
    {
     "name": "stdout",
     "output_type": "stream",
     "text": [
      "{'apple'}\n"
     ]
    }
   ],
   "source": [
    "#Keep ONLY the Duplicates\n",
    "# The intersection_update() method will keep only the items that are present in both sets.\n",
    "\n",
    "#Example\n",
    "# Keep the items that exist in both set x, and set y:\n",
    "\n",
    "x = {\"apple\", \"banana\", \"cherry\"}\n",
    "y = {\"google\", \"microsoft\", \"apple\"}\n",
    "x.intersection_update(y)\n",
    "print(x)"
   ]
  },
  {
   "cell_type": "code",
   "execution_count": 22,
   "id": "449d0663",
   "metadata": {},
   "outputs": [
    {
     "name": "stdout",
     "output_type": "stream",
     "text": [
      "{'apple'}\n"
     ]
    }
   ],
   "source": [
    "# The intersection() method will return a new set, that only contains the items that are present in both sets.\n",
    "\n",
    "#Example\n",
    "# Return a set that contains the items that exist in both set x, and set y:\n",
    "\n",
    "x = {\"apple\", \"banana\", \"cherry\"}\n",
    "y = {\"google\", \"microsoft\", \"apple\"}\n",
    "z = x.intersection(y)\n",
    "print(z)"
   ]
  },
  {
   "cell_type": "code",
   "execution_count": 23,
   "id": "e17c7d5a",
   "metadata": {},
   "outputs": [
    {
     "name": "stdout",
     "output_type": "stream",
     "text": [
      "{'microsoft', 'google', 'cherry', 'banana'}\n"
     ]
    }
   ],
   "source": [
    "#Keep All, But NOT the Duplicates\n",
    "# The symmetric_difference_update() method will keep only the elements that are NOT present in both sets.\n",
    "\n",
    "#Example\n",
    "# Keep the items that are not present in both sets:\n",
    "\n",
    "x = {\"apple\", \"banana\", \"cherry\"}\n",
    "y = {\"google\", \"microsoft\", \"apple\"}\n",
    "x.symmetric_difference_update(y)\n",
    "print(x)"
   ]
  },
  {
   "cell_type": "code",
   "execution_count": 24,
   "id": "6bb3cc92",
   "metadata": {},
   "outputs": [
    {
     "name": "stdout",
     "output_type": "stream",
     "text": [
      "{'microsoft', 'google', 'cherry', 'banana'}\n"
     ]
    }
   ],
   "source": [
    "# The symmetric_difference() method will return a new set, \n",
    "#    that contains only the elements that are NOT present in both sets.\n",
    "\n",
    "#Example\n",
    "# Return a set that contains all items from both sets, except items that are present in both:\n",
    "\n",
    "x = {\"apple\", \"banana\", \"cherry\"}\n",
    "y = {\"google\", \"microsoft\", \"apple\"}\n",
    "z = x.symmetric_difference(y)\n",
    "print(z)"
   ]
  },
  {
   "cell_type": "markdown",
   "id": "402ded70",
   "metadata": {},
   "source": [
    "# Python - Set Methods"
   ]
  },
  {
   "cell_type": "markdown",
   "id": "1a4220ff",
   "metadata": {},
   "source": [
    "# Set Methods"
   ]
  },
  {
   "cell_type": "raw",
   "id": "8721a6de",
   "metadata": {},
   "source": [
    "Python has a set of built-in methods that you can use on sets."
   ]
  },
  {
   "cell_type": "raw",
   "id": "c75102fd",
   "metadata": {},
   "source": [
    "# Method\tDescription\n",
    "add()\tAdds an element to the set\n",
    "clear()\tRemoves all the elements from the set\n",
    "copy()\tReturns a copy of the set\n",
    "difference()\tReturns a set containing the difference between two or more sets\n",
    "difference_update()\tRemoves the items in this set that are also included in another, specified set\n",
    "discard()\tRemove the specified item\n",
    "intersection()\tReturns a set, that is the intersection of two other sets\n",
    "intersection_update()\tRemoves the items in this set that are not present in other, specified set(s)\n",
    "isdisjoint()\tReturns whether two sets have a intersection or not\n",
    "issubset()\tReturns whether another set contains this set or not\n",
    "issuperset()\tReturns whether this set contains another set or not\n",
    "pop()\tRemoves an element from the set\n",
    "remove()\tRemoves the specified element\n",
    "symmetric_difference()\tReturns a set with the symmetric differences of two sets\n",
    "symmetric_difference_update()\tinserts the symmetric differences from this set and another\n",
    "union()\tReturn a set containing the union of sets\n",
    "update()\tUpdate the set with the union of this set and others"
   ]
  },
  {
   "cell_type": "markdown",
   "id": "cfbeb4fc",
   "metadata": {},
   "source": [
    "# Python - Set Exercises"
   ]
  },
  {
   "cell_type": "code",
   "execution_count": 25,
   "id": "d9bc69d7",
   "metadata": {},
   "outputs": [
    {
     "name": "stdout",
     "output_type": "stream",
     "text": [
      "Yes, apple is a fruit!\n"
     ]
    }
   ],
   "source": [
    "#Exercise:\n",
    "# Check if \"apple\" is present in the fruits set.\n",
    "\n",
    "fruits = {\"apple\", \"banana\", \"cherry\"}\n",
    "if \"apple\" in fruits:\n",
    "  print(\"Yes, apple is a fruit!\")"
   ]
  },
  {
   "cell_type": "code",
   "execution_count": 26,
   "id": "a4965417",
   "metadata": {},
   "outputs": [
    {
     "name": "stdout",
     "output_type": "stream",
     "text": [
      "{'apple', 'orange', 'cherry', 'banana'}\n"
     ]
    }
   ],
   "source": [
    "#Exercise:\n",
    "# Use the add method to add \"orange\" to the fruits set.\n",
    "\n",
    "fruits = {\"apple\", \"banana\", \"cherry\"}\n",
    "fruits.add(\"orange\")\n",
    "print(fruits)"
   ]
  },
  {
   "cell_type": "code",
   "execution_count": 27,
   "id": "4408668a",
   "metadata": {},
   "outputs": [
    {
     "name": "stdout",
     "output_type": "stream",
     "text": [
      "{'orange', 'grapes', 'apple', 'mango', 'cherry', 'banana'}\n"
     ]
    }
   ],
   "source": [
    "#Exercise:\n",
    "# Use the correct method to add multiple items (more_fruits) to the fruits set.\n",
    "\n",
    "fruits = {\"apple\", \"banana\", \"cherry\"}\n",
    "more_fruits = [\"orange\", \"mango\", \"grapes\"]\n",
    "fruits.update(more_fruits)\n",
    "print(fruits)"
   ]
  },
  {
   "cell_type": "code",
   "execution_count": 28,
   "id": "2ec38947",
   "metadata": {},
   "outputs": [
    {
     "name": "stdout",
     "output_type": "stream",
     "text": [
      "{'apple', 'cherry'}\n"
     ]
    }
   ],
   "source": [
    "#Exercise:\n",
    "# Use the remove method to remove \"banana\" from the fruits set.\n",
    "\n",
    "fruits = {\"apple\", \"banana\", \"cherry\"}\n",
    "fruits.remove(\"banana\")\n",
    "print(fruits)"
   ]
  },
  {
   "cell_type": "code",
   "execution_count": 29,
   "id": "d63a6066",
   "metadata": {},
   "outputs": [
    {
     "name": "stdout",
     "output_type": "stream",
     "text": [
      "{'apple', 'cherry'}\n"
     ]
    }
   ],
   "source": [
    "#Exercise:\n",
    "# Use the discard method to remove \"banana\" from the fruits set.\n",
    "\n",
    "fruits = {\"apple\", \"banana\", \"cherry\"}\n",
    "fruits.discard(\"banana\")\n",
    "print(fruits)"
   ]
  },
  {
   "cell_type": "markdown",
   "id": "def9b3ae",
   "metadata": {},
   "source": [
    "# ALL EXAMPLE IN SET METHOD:"
   ]
  },
  {
   "cell_type": "code",
   "execution_count": 30,
   "id": "2f771cf4",
   "metadata": {},
   "outputs": [
    {
     "name": "stdout",
     "output_type": "stream",
     "text": [
      "{1, 2, 3, 6}\n",
      "set()\n",
      "{1, 2, 3}\n",
      "{2, 3}\n",
      "{1, 3}\n",
      "{1}\n",
      "{1}\n",
      "False\n",
      "True\n",
      "True\n",
      "{2, 3, 4, 5}\n",
      "a= {1, 2, 3, 4, 5, 6}\n",
      "b= {4, 5, 6}\n",
      "result= None\n",
      "{1, 2, 3, 4, 5}\n",
      "{1, 2, 3, 4, 5}\n"
     ]
    }
   ],
   "source": [
    "a={1,2,3}\n",
    "a.add(6)\n",
    "print(a)\n",
    "\n",
    "a={1,2,3}\n",
    "a.clear()\n",
    "print(a)\n",
    "\n",
    "a={1,2,3}\n",
    "b=a.copy()\n",
    "print(b)\n",
    "\n",
    "a={1,2,3}\n",
    "b={4,5,1}\n",
    "c=a.difference(b)\n",
    "print(c)\n",
    "\n",
    "a={1,2,3}\n",
    "a.discard(2)\n",
    "print(a)\n",
    "\n",
    "a={1,2,3}\n",
    "b={4,5,1}\n",
    "c=a.intersection(b)\n",
    "print(c)\n",
    "\n",
    "a={1,2,3}\n",
    "b={4,5,1}\n",
    "c={1,7,8}\n",
    "a.intersection_update(b,c)\n",
    "print(a)\n",
    "\n",
    "a={1,2,3}\n",
    "b={4,5,1}\n",
    "c=a.isdisjoint(b)\n",
    "print(c)\n",
    "\n",
    "a={1,2,3}\n",
    "b={4,5,1,2,3}\n",
    "c=a.issubset(b)\n",
    "print(c)\n",
    "\n",
    "a={1,2,3,4,5}\n",
    "b={1,2,3}\n",
    "c=a.issuperset(b)\n",
    "print(c)\n",
    "\n",
    "a={1,2,3}\n",
    "b={4,5,1}\n",
    "c=a.symmetric_difference(b)\n",
    "print(c)\n",
    "\n",
    "a={1,2,3}\n",
    "b={4,5,6}\n",
    "result=a.symmetric_difference_update(b)\n",
    "print(\"a=\",a)\n",
    "print(\"b=\",b)\n",
    "print(\"result=\",result)\n",
    "\n",
    "a={1,2,3}\n",
    "b={4,5,1}\n",
    "c=a.union(b)\n",
    "print(c)\n",
    "\n",
    "a={1,2,3}\n",
    "b={4,5,1}\n",
    "a.update(b)\n",
    "print(a)"
   ]
  },
  {
   "cell_type": "code",
   "execution_count": 31,
   "id": "aa184639",
   "metadata": {},
   "outputs": [
    {
     "name": "stdout",
     "output_type": "stream",
     "text": [
      "{'Ravi', 'sam', 3.1, 10, 'Ram'}\n",
      "<class 'set'>\n",
      "Ravi\n",
      "sam\n",
      "3.1\n",
      "10\n",
      "Ram\n",
      "{'Ravi', 'sam', 3.1, 10, 'Ram', 'sara'}\n",
      "{'Ravi', 3.1, 'suresh', 10, 'sam', 'kumar', 'Ram', 'sunder', 'sara'}\n",
      "{'kumar', 'sunder'}\n",
      "{'kumar', 'sunder'}\n",
      "{'sunder'}\n",
      "set()\n"
     ]
    }
   ],
   "source": [
    "names={10,'Ram','sam','Ravi',3.1}    \n",
    "print(names)\n",
    "print(type(names))\n",
    "\n",
    "for name in names:                   # Access values using for loop.\n",
    "    print(name)\n",
    "    \n",
    "names.add('sara')                    # Adding new element.\n",
    "print(names)\n",
    "\n",
    "a={'kumar','sunder','suresh'}        # update another set data.\n",
    "names.update(a)\n",
    "print(names)\n",
    "\n",
    "a.remove('suresh')\n",
    "print(a)\n",
    "\n",
    "a.discard('suresh')\n",
    "print(a)\n",
    "\n",
    "a.pop()\n",
    "print(a)\n",
    "\n",
    "a.clear()\n",
    "print(a)"
   ]
  },
  {
   "cell_type": "code",
   "execution_count": 32,
   "id": "dee4bdb3",
   "metadata": {},
   "outputs": [
    {
     "name": "stdout",
     "output_type": "stream",
     "text": [
      "{'c', 1, 2, 3, 4, 'd', 'b', 'a'}\n",
      "{'c', 1, 2, 3, 4, 'd', 'b', 'a'}\n",
      "{5}\n",
      "{5}\n",
      "{6, 7, 8, 9}\n",
      "{6, 7, 8, 9}\n"
     ]
    }
   ],
   "source": [
    "a={1,2,3,4}\n",
    "b={'a','b','c','d'}\n",
    "c=a.union(b)\n",
    "print(c)\n",
    "\n",
    "a.update(b)\n",
    "print(a)\n",
    "\n",
    "a={1,2,3,4,5}\n",
    "b={5,6,7,8,9}\n",
    "c=a.intersection(b)\n",
    "print(c)\n",
    "\n",
    "a.intersection_update(b)\n",
    "print(a)\n",
    "\n",
    "c=a.symmetric_difference(b)\n",
    "print(c)\n",
    "\n",
    "a.symmetric_difference_update(b)\n",
    "print(a)"
   ]
  },
  {
   "cell_type": "code",
   "execution_count": 33,
   "id": "5a01e0eb",
   "metadata": {},
   "outputs": [
    {
     "name": "stdout",
     "output_type": "stream",
     "text": [
      "False\n",
      "True\n",
      "False\n"
     ]
    }
   ],
   "source": [
    "a={5,6,7}\n",
    "b={5,6,7,1,2}\n",
    "c=a.isdisjoint(b)\n",
    "print(c)\n",
    "\n",
    "c=a.issubset(b)\n",
    "print(c)\n",
    "\n",
    "c=a.issuperset(b)\n",
    "print(c)"
   ]
  }
 ],
 "metadata": {
  "kernelspec": {
   "display_name": "Python 3 (ipykernel)",
   "language": "python",
   "name": "python3"
  },
  "language_info": {
   "codemirror_mode": {
    "name": "ipython",
    "version": 3
   },
   "file_extension": ".py",
   "mimetype": "text/x-python",
   "name": "python",
   "nbconvert_exporter": "python",
   "pygments_lexer": "ipython3",
   "version": "3.9.12"
  }
 },
 "nbformat": 4,
 "nbformat_minor": 5
}
