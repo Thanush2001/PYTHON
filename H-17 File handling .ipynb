{
 "cells": [
  {
   "cell_type": "markdown",
   "id": "e63abdfe",
   "metadata": {},
   "source": [
    "# File Handling "
   ]
  },
  {
   "cell_type": "raw",
   "id": "19a35402",
   "metadata": {},
   "source": [
    "Supports file handling and alows users to read and write append files, as well as perform other file-related operations.\n",
    "\n",
    "File handling is an important part of any web application. python has several function for creating,updating, and deleting files."
   ]
  },
  {
   "cell_type": "markdown",
   "id": "bb2608b6",
   "metadata": {},
   "source": [
    "1.  'x'- create a new file that is empty file\n",
    "2.  'r'- it is used to open file in read mode\n",
    "3.  'w'- write mode only,if file already exist overwrite by content, if its doesn't exist,then it get create.\n",
    "4.  'a'- it also write mode only, help to append new content to exist file."
   ]
  },
  {
   "cell_type": "markdown",
   "id": "0e8db73f",
   "metadata": {},
   "source": [
    "# 1) How to open file?\n",
    "\n",
    "We must first open the file before we can perfrom any operation on it, such as reading or writing.\n",
    "\n",
    "we should use python's build-in-function .open()\n",
    "\n",
    "When we open file, we must specify the mode.\n",
    "\n",
    "f=open(file name,mode)\n",
    "\n",
    "eg: f=open(\"pan.txt\",\"r\")"
   ]
  },
  {
   "cell_type": "markdown",
   "id": "bf4611a0",
   "metadata": {},
   "source": [
    "# 2) How to create File?\n",
    "\n",
    "How to create a file and how to write mode works,so in order to manipulate the file,write the following in your python environment.\n",
    "\n",
    "example:\n",
    "\n",
    "f=open('pan.txt','w')\n",
    "\n",
    "f.write(\"This is the write command\")\n",
    "\n",
    "f.write(\"it is a allows us to write in a particular file\")\n",
    "\n",
    "f.close()"
   ]
  },
  {
   "cell_type": "code",
   "execution_count": 1,
   "id": "271d5df3",
   "metadata": {},
   "outputs": [],
   "source": [
    "# This is one of the method to create a file.\n",
    "\n",
    "f=open(\"appu.txt\",'w')\n",
    "f.write(\"hi i am thanush\")\n",
    "f.close()"
   ]
  },
  {
   "cell_type": "markdown",
   "id": "39208804",
   "metadata": {},
   "source": [
    "# Another method to create a file.\n",
    "\n",
    "# 3) Create a new file\n",
    "x: it creates a new file with the specified name.\n",
    "    \n",
    "    f=open('python.txt','x')\n",
    "    print(f)\n",
    "    if f:\n",
    "        print(\"file create successfully\")"
   ]
  },
  {
   "cell_type": "code",
   "execution_count": 2,
   "id": "d95d28ac",
   "metadata": {},
   "outputs": [
    {
     "name": "stdout",
     "output_type": "stream",
     "text": [
      "<_io.TextIOWrapper name='python.txt' mode='x' encoding='cp1252'>\n",
      "file create successfully\n"
     ]
    }
   ],
   "source": [
    "# x- is create a empty file\n",
    "f=open('python.txt','x')\n",
    "print(f)\n",
    "if f:\n",
    "    print(\"file create successfully\")"
   ]
  },
  {
   "cell_type": "markdown",
   "id": "777f8ee0",
   "metadata": {},
   "source": [
    " # 4) How to append a text file?"
   ]
  },
  {
   "cell_type": "raw",
   "id": "cccb875a",
   "metadata": {},
   "source": [
    "This append mode will help to adding content tp existion text file.\n",
    "\n",
    "f=open(\"pan1.txt\",'a')\n",
    "f.write(\"this will add this line\")\n",
    "f.close"
   ]
  },
  {
   "cell_type": "code",
   "execution_count": 3,
   "id": "23259f11",
   "metadata": {},
   "outputs": [],
   "source": [
    "# a-adding the content to the existing file\n",
    "\n",
    "f=open(\"python2.txt\",'a')\n",
    "f.write(\"\"\"\"python is interpreted,\n",
    "interactive,\n",
    "object oriented,\n",
    "high level programming language\"\"\")\n",
    "f.close()"
   ]
  },
  {
   "cell_type": "markdown",
   "id": "c6945413",
   "metadata": {},
   "source": [
    "# 5) How to read a python file?\n",
    "\n",
    "There is more than one way to read a file in python. if you need to extract a string that contains all characters in the file then we can file.read().\n",
    "\n",
    "Another method of reading a file is to call a specific number of characters,\n",
    "\n",
    "f=open(\"appu.txt\",'r')\n",
    "\n",
    "f.read()                                                                                            "
   ]
  },
  {
   "cell_type": "code",
   "execution_count": 4,
   "id": "0b0c54fb",
   "metadata": {},
   "outputs": [
    {
     "data": {
      "text/plain": [
       "'hi i am thanush'"
      ]
     },
     "execution_count": 4,
     "metadata": {},
     "output_type": "execute_result"
    }
   ],
   "source": [
    "f=open(\"appu.txt\",\"r\")\n",
    "f.read() "
   ]
  },
  {
   "cell_type": "code",
   "execution_count": 5,
   "id": "4d4c5c80",
   "metadata": {},
   "outputs": [
    {
     "data": {
      "text/plain": [
       "'\"python is interpreted,\\ninteractive,\\nobject oriented,\\nhigh level programming language'"
      ]
     },
     "execution_count": 5,
     "metadata": {},
     "output_type": "execute_result"
    }
   ],
   "source": [
    "f=open(\"python2.txt\",'r')\n",
    "f.read()"
   ]
  },
  {
   "cell_type": "code",
   "execution_count": 6,
   "id": "c33e6a73",
   "metadata": {},
   "outputs": [
    {
     "data": {
      "text/plain": [
       "'hi i am '"
      ]
     },
     "execution_count": 6,
     "metadata": {},
     "output_type": "execute_result"
    }
   ],
   "source": [
    "f=open(\"appu.txt\",'r')\n",
    "f.read(8)"
   ]
  },
  {
   "cell_type": "code",
   "execution_count": 7,
   "id": "ffc001aa",
   "metadata": {},
   "outputs": [
    {
     "data": {
      "text/plain": [
       "'\"python is interpreted,\\n'"
      ]
     },
     "execution_count": 7,
     "metadata": {},
     "output_type": "execute_result"
    }
   ],
   "source": [
    "f=open(\"python2.txt\",'r')\n",
    "f.readline()"
   ]
  },
  {
   "cell_type": "code",
   "execution_count": 8,
   "id": "c7f7c067",
   "metadata": {},
   "outputs": [
    {
     "data": {
      "text/plain": [
       "'interactive,\\n'"
      ]
     },
     "execution_count": 8,
     "metadata": {},
     "output_type": "execute_result"
    }
   ],
   "source": [
    "f=open(\"python2.txt\",'r')\n",
    "f.readline()\n",
    "f.readline()"
   ]
  },
  {
   "cell_type": "code",
   "execution_count": 9,
   "id": "86d91b27",
   "metadata": {},
   "outputs": [
    {
     "data": {
      "text/plain": [
       "['\"python is interpreted,\\n',\n",
       " 'interactive,\\n',\n",
       " 'object oriented,\\n',\n",
       " 'high level programming language']"
      ]
     },
     "execution_count": 9,
     "metadata": {},
     "output_type": "execute_result"
    }
   ],
   "source": [
    "f=open(\"python2.txt\",'r')\n",
    "f.readlines()"
   ]
  },
  {
   "cell_type": "code",
   "execution_count": 10,
   "id": "96de6dde",
   "metadata": {},
   "outputs": [],
   "source": [
    "f=open(\"python2.txt\",'a')\n",
    "f.write(\"use the laptop or system\")\n",
    "f.close()"
   ]
  },
  {
   "cell_type": "code",
   "execution_count": 11,
   "id": "b6a45d2a",
   "metadata": {},
   "outputs": [
    {
     "data": {
      "text/plain": [
       "'\"python is interpreted,\\ninteractive,\\nobject oriented,\\nhigh level programming languageuse the laptop or system'"
      ]
     },
     "execution_count": 11,
     "metadata": {},
     "output_type": "execute_result"
    }
   ],
   "source": [
    "f=open(\"python2.txt\",'r')\n",
    "f.read()"
   ]
  },
  {
   "cell_type": "code",
   "execution_count": 12,
   "id": "d2f7e994",
   "metadata": {},
   "outputs": [],
   "source": [
    "f=open(\"appu.txt\",\"w\")\n",
    "f.write(\" I am a kabaddi player\")\n",
    "f.close()"
   ]
  },
  {
   "cell_type": "code",
   "execution_count": 13,
   "id": "7391f9fa",
   "metadata": {},
   "outputs": [
    {
     "data": {
      "text/plain": [
       "' I am a kabaddi player'"
      ]
     },
     "execution_count": 13,
     "metadata": {},
     "output_type": "execute_result"
    }
   ],
   "source": [
    "f=open(\"appu.txt\",\"r\")\n",
    "f.read() "
   ]
  },
  {
   "cell_type": "code",
   "execution_count": 14,
   "id": "40f409cf",
   "metadata": {},
   "outputs": [
    {
     "ename": "FileExistsError",
     "evalue": "[Errno 17] File exists: 'appu1.txt'",
     "output_type": "error",
     "traceback": [
      "\u001b[1;31m---------------------------------------------------------------------------\u001b[0m",
      "\u001b[1;31mFileExistsError\u001b[0m                           Traceback (most recent call last)",
      "\u001b[1;32m~\\AppData\\Local\\Temp\\ipykernel_20204\\3980994108.py\u001b[0m in \u001b[0;36m<module>\u001b[1;34m\u001b[0m\n\u001b[1;32m----> 1\u001b[1;33m \u001b[0mfile\u001b[0m\u001b[1;33m=\u001b[0m\u001b[0mopen\u001b[0m\u001b[1;33m(\u001b[0m\u001b[1;34m\"appu1.txt\"\u001b[0m\u001b[1;33m,\u001b[0m\u001b[1;34m\"x\"\u001b[0m\u001b[1;33m)\u001b[0m\u001b[1;33m\u001b[0m\u001b[1;33m\u001b[0m\u001b[0m\n\u001b[0m\u001b[0;32m      2\u001b[0m \u001b[0mf\u001b[0m\u001b[1;33m.\u001b[0m\u001b[0mwrite\u001b[0m\u001b[1;33m(\u001b[0m\u001b[1;34m\"yes\"\u001b[0m\u001b[1;33m)\u001b[0m\u001b[1;33m\u001b[0m\u001b[1;33m\u001b[0m\u001b[0m\n\u001b[0;32m      3\u001b[0m \u001b[0mf\u001b[0m\u001b[1;33m.\u001b[0m\u001b[0mclose\u001b[0m\u001b[1;33m(\u001b[0m\u001b[1;33m)\u001b[0m\u001b[1;33m\u001b[0m\u001b[1;33m\u001b[0m\u001b[0m\n",
      "\u001b[1;31mFileExistsError\u001b[0m: [Errno 17] File exists: 'appu1.txt'"
     ]
    }
   ],
   "source": [
    "file=open(\"appu1.txt\",\"x\")\n",
    "f.write(\"yes\")\n",
    "f.close()"
   ]
  }
 ],
 "metadata": {
  "kernelspec": {
   "display_name": "Python 3 (ipykernel)",
   "language": "python",
   "name": "python3"
  },
  "language_info": {
   "codemirror_mode": {
    "name": "ipython",
    "version": 3
   },
   "file_extension": ".py",
   "mimetype": "text/x-python",
   "name": "python",
   "nbconvert_exporter": "python",
   "pygments_lexer": "ipython3",
   "version": "3.9.13"
  }
 },
 "nbformat": 4,
 "nbformat_minor": 5
}
