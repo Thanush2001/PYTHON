{
 "cells": [
  {
   "cell_type": "code",
   "execution_count": 1,
   "id": "e48bf16c",
   "metadata": {},
   "outputs": [],
   "source": [
    "from bs4 import BeautifulSoup\n",
    "from lxml import html\n",
    "import requests, openpyxl\n",
    "import pandas as pd"
   ]
  },
  {
   "cell_type": "code",
   "execution_count": 2,
   "id": "203e8952",
   "metadata": {
    "scrolled": true
   },
   "outputs": [
    {
     "name": "stdout",
     "output_type": "stream",
     "text": [
      "Yaathisai Review\n",
      "https://m.behindwoods.com/tamil-movies/yaathisai/yaathisai-review.html\n",
      "Ponniyin Selvan Part 2 Review\n",
      "https://m.behindwoods.com/tamil-movies/ponniyin-selvan-part-2/ponniyin-selvan-part-2-review.html\n",
      "Viduthalai Review\n",
      "https://m.behindwoods.com/tamil-movies/viduthalai/viduthalai-review.html\n",
      "https://m.behindwoods.com/tamil-movies/viduthalai/viduthalai-review-1.html\n",
      "<strong class=\"font_25 redfont\">( <span>3.25</span> / 5.0 )</strong>\n",
      "Pathu Thala Review\n",
      "https://m.behindwoods.com/tamil-movies/pathu-thala/pathu-thala-review.html\n",
      "Kudimahaan Review\n",
      "https://m.behindwoods.com/tamil-movies/kudimahaan/kudimahaan-review.html\n",
      "https://m.behindwoods.com/tamil-movies/kudimahaan/kudimahaan-review-1.html\n",
      "<strong class=\"font_25 redfont\">( <span>3.0</span> / 5.0 )</strong>\n",
      "Kannai Nambathey Review\n",
      "https://m.behindwoods.com/tamil-movies/kannai-nambathey/kannai-nambathey-review.html\n",
      "Agilan Review\n",
      "https://m.behindwoods.com/tamil-movies/agilan/agilan-review.html\n",
      "Thugs Review\n",
      "https://m.behindwoods.com/tamil-movies/thugs/thugs-review.html\n",
      "Bakasuran Review\n",
      "https://m.behindwoods.com/tamil-movies/bakasuran/bakasuran-review.html\n"
     ]
    }
   ],
   "source": [
    "try:\n",
    "    response=requests.get(\"https://www.behindwoods.com/tamil-movies/tamil-movie-reviews.html\")\n",
    "    soup=BeautifulSoup(response.text,'html.parser')\n",
    "    # print(soup)\n",
    "    \n",
    "    movies=soup.findAll('div',class_=\"orangefont top_margin_5 alightcenter font_17 tab_font_15 mobile_font_14\")\n",
    "    rate=soup.findAll('div',class_=\"full-width\")\n",
    "    \n",
    "    for movie in movies:\n",
    "        movie_name=movie.a.text\n",
    "        \n",
    "        # https://www.behindwoods.com/tamil-movies/viduthalai/viduthalai-review-1.html\n",
    "        # https://www.behindwoods.com/tamil-movies/kudimahaan/kudimahaan-review-1.html\n",
    "        \n",
    "        print(movie_name.strip())\n",
    "        new_url=(\"https://m.behindwoods.com/tamil-movies/\"+movie_name.lower().replace(\" \",\"-\").strip('-').replace(\"-review\",\"\")+\"/\"+movie_name.lower().replace(\" \",\"-\").strip('-')+\".html\")\n",
    "        print(new_url)\n",
    "        a=requests.get(new_url)\n",
    "        b=BeautifulSoup(a.text,'html.parser')\n",
    "        score=b.find(class_=\"font_25 redfont\")\n",
    "        #print(score)\n",
    "        if str(score).strip()=='None':\n",
    "            new_url=(\"https://m.behindwoods.com/tamil-movies/\"+movie_name.lower().replace(\" \",\"-\").strip('-').replace(\"-review\",\"\")+\"/\"+movie_name.lower().replace(\" \",\"-\").strip('-')+'-1'+\".html\")\n",
    "            print(new_url)\n",
    "            a=requests.get(new_url)\n",
    "            b=BeautifulSoup(a.text,'html.parser')\n",
    "            score=b.find(class_=\"font_25 redfont\")\n",
    "            print(score)\n",
    "            \n",
    "except Exception as e:\n",
    "    print(e)"
   ]
  },
  {
   "cell_type": "code",
   "execution_count": 3,
   "id": "44d3781f",
   "metadata": {},
   "outputs": [],
   "source": [
    "url=\"https://www.behindwoods.com/tamil-movies/tamil-movie-reviews.html\"\n",
    "responce=requests.get(url)\n",
    "tree=html.fromstring(responce.content) \n",
    "name=[]\n",
    "link=[]\n",
    "rate=[]\n",
    "element = tree.xpath('//*[@id=\"body_container\"]/div/div/div/div/div/div/div/div/div[3]/a')\n",
    "\n",
    "for movie in element:\n",
    "    names=movie.attrib['title']\n",
    "    name.append(names)\n",
    "    \n",
    "    base_url=\"https://www.behindwoods.com\"\n",
    "    links= movie.attrib['href'] \n",
    "    link.append(links)\n",
    "for i in link:\n",
    "    stree=html.fromstring(requests.get(i).content) \n",
    "    \n",
    "    # it can be use java script in console window\n",
    "    # document.getElementByClassName(\"--------\").item(0).textContent\n",
    "    \n",
    "    rat=stree.xpath('//*[@id=\"body_container\"]/div[5]/div[1]/div[5]/div/div[5]/div[1]/div[4]/div/div/span[3]/strong/span/span')\n",
    "    for rating in rat:\n",
    "        a=rating.text\n",
    "        rate.append(a)"
   ]
  },
  {
   "cell_type": "code",
   "execution_count": 4,
   "id": "6f40f951",
   "metadata": {},
   "outputs": [
    {
     "data": {
      "text/plain": [
       "{'href': 'https://www.behindwoods.com/tamil-movies/yaathisai/yaathisai-review.html', 'title': 'Yaathisai Review', 'class': 'trncate30'}"
      ]
     },
     "execution_count": 4,
     "metadata": {},
     "output_type": "execute_result"
    }
   ],
   "source": [
    "element[0].attrib"
   ]
  },
  {
   "cell_type": "code",
   "execution_count": 5,
   "id": "58b79adf",
   "metadata": {},
   "outputs": [
    {
     "name": "stdout",
     "output_type": "stream",
     "text": [
      "['Yaathisai Review', 'Ponniyin Selvan Part 2 Review', 'Viduthalai Review', 'Pathu Thala Review', 'Kudimahaan Review', 'Kannai Nambathey Review', 'Agilan Review', 'Thugs Review', 'Bakasuran Review']\n",
      "['https://www.behindwoods.com/tamil-movies/yaathisai/yaathisai-review.html', 'https://www.behindwoods.com/tamil-movies/ponniyin-selvan-part-2/ponniyin-selvan-part-2-review.html', 'https://www.behindwoods.com/tamil-movies/viduthalai/viduthalai-review-1.html', 'https://www.behindwoods.com/tamil-movies/pathu-thala/pathu-thala-review.html', 'https://www.behindwoods.com/tamil-movies/kudimahaan/kudimahaan-review-1.html', 'https://www.behindwoods.com/tamil-movies/kannai-nambathey/kannai-nambathey-review.html', 'https://www.behindwoods.com/tamil-movies/agilan/agilan-review.html', 'https://www.behindwoods.com/tamil-movies/thugs/thugs-review.html', 'https://www.behindwoods.com/tamil-movies/bakasuran/bakasuran-review.html']\n",
      "['2.75', '3.25', '3.25', '2.75', '3.0', '2.5', '2.5', '2.5', '2.25']\n"
     ]
    }
   ],
   "source": [
    "print(name)\n",
    "print(link)\n",
    "print(rate)"
   ]
  },
  {
   "cell_type": "code",
   "execution_count": 6,
   "id": "05454155",
   "metadata": {},
   "outputs": [],
   "source": [
    "datas=pd.DataFrame({\"Movie Name \":name,\"Movie link \":link,\"Movie Rating \":rate})"
   ]
  },
  {
   "cell_type": "code",
   "execution_count": 7,
   "id": "5ca1f50f",
   "metadata": {},
   "outputs": [
    {
     "data": {
      "text/html": [
       "<div>\n",
       "<style scoped>\n",
       "    .dataframe tbody tr th:only-of-type {\n",
       "        vertical-align: middle;\n",
       "    }\n",
       "\n",
       "    .dataframe tbody tr th {\n",
       "        vertical-align: top;\n",
       "    }\n",
       "\n",
       "    .dataframe thead th {\n",
       "        text-align: right;\n",
       "    }\n",
       "</style>\n",
       "<table border=\"1\" class=\"dataframe\">\n",
       "  <thead>\n",
       "    <tr style=\"text-align: right;\">\n",
       "      <th></th>\n",
       "      <th>Movie Name</th>\n",
       "      <th>Movie link</th>\n",
       "      <th>Movie Rating</th>\n",
       "    </tr>\n",
       "  </thead>\n",
       "  <tbody>\n",
       "    <tr>\n",
       "      <th>0</th>\n",
       "      <td>Yaathisai Review</td>\n",
       "      <td>https://www.behindwoods.com/tamil-movies/yaath...</td>\n",
       "      <td>2.75</td>\n",
       "    </tr>\n",
       "    <tr>\n",
       "      <th>1</th>\n",
       "      <td>Ponniyin Selvan Part 2 Review</td>\n",
       "      <td>https://www.behindwoods.com/tamil-movies/ponni...</td>\n",
       "      <td>3.25</td>\n",
       "    </tr>\n",
       "    <tr>\n",
       "      <th>2</th>\n",
       "      <td>Viduthalai Review</td>\n",
       "      <td>https://www.behindwoods.com/tamil-movies/vidut...</td>\n",
       "      <td>3.25</td>\n",
       "    </tr>\n",
       "    <tr>\n",
       "      <th>3</th>\n",
       "      <td>Pathu Thala Review</td>\n",
       "      <td>https://www.behindwoods.com/tamil-movies/pathu...</td>\n",
       "      <td>2.75</td>\n",
       "    </tr>\n",
       "    <tr>\n",
       "      <th>4</th>\n",
       "      <td>Kudimahaan Review</td>\n",
       "      <td>https://www.behindwoods.com/tamil-movies/kudim...</td>\n",
       "      <td>3.0</td>\n",
       "    </tr>\n",
       "    <tr>\n",
       "      <th>5</th>\n",
       "      <td>Kannai Nambathey Review</td>\n",
       "      <td>https://www.behindwoods.com/tamil-movies/kanna...</td>\n",
       "      <td>2.5</td>\n",
       "    </tr>\n",
       "    <tr>\n",
       "      <th>6</th>\n",
       "      <td>Agilan Review</td>\n",
       "      <td>https://www.behindwoods.com/tamil-movies/agila...</td>\n",
       "      <td>2.5</td>\n",
       "    </tr>\n",
       "    <tr>\n",
       "      <th>7</th>\n",
       "      <td>Thugs Review</td>\n",
       "      <td>https://www.behindwoods.com/tamil-movies/thugs...</td>\n",
       "      <td>2.5</td>\n",
       "    </tr>\n",
       "    <tr>\n",
       "      <th>8</th>\n",
       "      <td>Bakasuran Review</td>\n",
       "      <td>https://www.behindwoods.com/tamil-movies/bakas...</td>\n",
       "      <td>2.25</td>\n",
       "    </tr>\n",
       "  </tbody>\n",
       "</table>\n",
       "</div>"
      ],
      "text/plain": [
       "                     Movie Name   \\\n",
       "0               Yaathisai Review   \n",
       "1  Ponniyin Selvan Part 2 Review   \n",
       "2              Viduthalai Review   \n",
       "3             Pathu Thala Review   \n",
       "4              Kudimahaan Review   \n",
       "5        Kannai Nambathey Review   \n",
       "6                  Agilan Review   \n",
       "7                   Thugs Review   \n",
       "8               Bakasuran Review   \n",
       "\n",
       "                                         Movie link  Movie Rating   \n",
       "0  https://www.behindwoods.com/tamil-movies/yaath...          2.75  \n",
       "1  https://www.behindwoods.com/tamil-movies/ponni...          3.25  \n",
       "2  https://www.behindwoods.com/tamil-movies/vidut...          3.25  \n",
       "3  https://www.behindwoods.com/tamil-movies/pathu...          2.75  \n",
       "4  https://www.behindwoods.com/tamil-movies/kudim...           3.0  \n",
       "5  https://www.behindwoods.com/tamil-movies/kanna...           2.5  \n",
       "6  https://www.behindwoods.com/tamil-movies/agila...           2.5  \n",
       "7  https://www.behindwoods.com/tamil-movies/thugs...           2.5  \n",
       "8  https://www.behindwoods.com/tamil-movies/bakas...          2.25  "
      ]
     },
     "execution_count": 7,
     "metadata": {},
     "output_type": "execute_result"
    }
   ],
   "source": [
    "datas"
   ]
  },
  {
   "cell_type": "code",
   "execution_count": 8,
   "id": "bb3eebab",
   "metadata": {},
   "outputs": [
    {
     "data": {
      "text/html": [
       "<div>\n",
       "<style scoped>\n",
       "    .dataframe tbody tr th:only-of-type {\n",
       "        vertical-align: middle;\n",
       "    }\n",
       "\n",
       "    .dataframe tbody tr th {\n",
       "        vertical-align: top;\n",
       "    }\n",
       "\n",
       "    .dataframe thead th {\n",
       "        text-align: right;\n",
       "    }\n",
       "</style>\n",
       "<table border=\"1\" class=\"dataframe\">\n",
       "  <thead>\n",
       "    <tr style=\"text-align: right;\">\n",
       "      <th></th>\n",
       "      <th>Movie Name</th>\n",
       "      <th>Movie link</th>\n",
       "      <th>Movie Rating</th>\n",
       "    </tr>\n",
       "  </thead>\n",
       "  <tbody>\n",
       "    <tr>\n",
       "      <th>0</th>\n",
       "      <td>Yaathisai Review</td>\n",
       "      <td>https://www.behindwoods.com/tamil-movies/yaath...</td>\n",
       "      <td>2.75</td>\n",
       "    </tr>\n",
       "    <tr>\n",
       "      <th>1</th>\n",
       "      <td>Ponniyin Selvan Part 2 Review</td>\n",
       "      <td>https://www.behindwoods.com/tamil-movies/ponni...</td>\n",
       "      <td>3.25</td>\n",
       "    </tr>\n",
       "    <tr>\n",
       "      <th>2</th>\n",
       "      <td>Viduthalai Review</td>\n",
       "      <td>https://www.behindwoods.com/tamil-movies/vidut...</td>\n",
       "      <td>3.25</td>\n",
       "    </tr>\n",
       "    <tr>\n",
       "      <th>3</th>\n",
       "      <td>Pathu Thala Review</td>\n",
       "      <td>https://www.behindwoods.com/tamil-movies/pathu...</td>\n",
       "      <td>2.75</td>\n",
       "    </tr>\n",
       "    <tr>\n",
       "      <th>4</th>\n",
       "      <td>Kudimahaan Review</td>\n",
       "      <td>https://www.behindwoods.com/tamil-movies/kudim...</td>\n",
       "      <td>3.0</td>\n",
       "    </tr>\n",
       "  </tbody>\n",
       "</table>\n",
       "</div>"
      ],
      "text/plain": [
       "                     Movie Name   \\\n",
       "0               Yaathisai Review   \n",
       "1  Ponniyin Selvan Part 2 Review   \n",
       "2              Viduthalai Review   \n",
       "3             Pathu Thala Review   \n",
       "4              Kudimahaan Review   \n",
       "\n",
       "                                         Movie link  Movie Rating   \n",
       "0  https://www.behindwoods.com/tamil-movies/yaath...          2.75  \n",
       "1  https://www.behindwoods.com/tamil-movies/ponni...          3.25  \n",
       "2  https://www.behindwoods.com/tamil-movies/vidut...          3.25  \n",
       "3  https://www.behindwoods.com/tamil-movies/pathu...          2.75  \n",
       "4  https://www.behindwoods.com/tamil-movies/kudim...           3.0  "
      ]
     },
     "execution_count": 8,
     "metadata": {},
     "output_type": "execute_result"
    }
   ],
   "source": [
    "datas.head()"
   ]
  },
  {
   "cell_type": "code",
   "execution_count": 9,
   "id": "71769a12",
   "metadata": {},
   "outputs": [],
   "source": [
    "datas.to_csv(\"behindwoods_movie_list.csv\")"
   ]
  }
 ],
 "metadata": {
  "kernelspec": {
   "display_name": "Python 3 (ipykernel)",
   "language": "python",
   "name": "python3"
  },
  "language_info": {
   "codemirror_mode": {
    "name": "ipython",
    "version": 3
   },
   "file_extension": ".py",
   "mimetype": "text/x-python",
   "name": "python",
   "nbconvert_exporter": "python",
   "pygments_lexer": "ipython3",
   "version": "3.9.13"
  }
 },
 "nbformat": 4,
 "nbformat_minor": 5
}
