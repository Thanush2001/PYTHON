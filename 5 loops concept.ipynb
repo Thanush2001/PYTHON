{
 "cells": [
  {
   "cell_type": "markdown",
   "id": "356f6d07",
   "metadata": {},
   "source": [
    "# DECISION MAKING & LOOPS AND BRANCHING"
   ]
  },
  {
   "cell_type": "code",
   "execution_count": 1,
   "id": "c68a1621",
   "metadata": {},
   "outputs": [
    {
     "name": "stdout",
     "output_type": "stream",
     "text": [
      "Thanush\n",
      "Thanush\n",
      "Thanush\n"
     ]
    }
   ],
   "source": [
    "#LOOPS\n",
    "#WHILE LOOP\n",
    "\n",
    "i=1\n",
    "while(i<=3):\n",
    "    print(\"Thanush\")\n",
    "    i=i+1"
   ]
  },
  {
   "cell_type": "code",
   "execution_count": 2,
   "id": "d7f6d6f5",
   "metadata": {},
   "outputs": [
    {
     "name": "stdout",
     "output_type": "stream",
     "text": [
      "12345 12345 12345 12345 12345 "
     ]
    }
   ],
   "source": [
    "# 1 to 5 repeat the condition\n",
    "\n",
    "i=1\n",
    "while(i<=5):\n",
    "    print(\"12345\",end=' ')\n",
    "    i=i+1"
   ]
  },
  {
   "cell_type": "code",
   "execution_count": 3,
   "id": "9306b205",
   "metadata": {},
   "outputs": [
    {
     "name": "stdout",
     "output_type": "stream",
     "text": [
      "12345 12345 12345 12345 12345 "
     ]
    }
   ],
   "source": [
    "# 5 to 1 repeat the condition\n",
    "\n",
    "i=5\n",
    "while(i>=1):\n",
    "    print(\"12345\",end=' ')\n",
    "    i=i-1"
   ]
  },
  {
   "cell_type": "code",
   "execution_count": 4,
   "id": "ea2932b0",
   "metadata": {},
   "outputs": [
    {
     "name": "stdout",
     "output_type": "stream",
     "text": [
      "1 2 3 4 5 6 7 8 9 10 10 9 8 7 6 5 4 3 2 1 "
     ]
    }
   ],
   "source": [
    "# display the numbers from 1 to 10\n",
    "\n",
    "i=1\n",
    "while(i<=10):\n",
    "    print(i,end=' ')\n",
    "    i=i+1\n",
    "i=10\n",
    "while(i>=1):\n",
    "    print(i,end=' ')\n",
    "    i=i-1"
   ]
  },
  {
   "cell_type": "code",
   "execution_count": 5,
   "id": "256996b7",
   "metadata": {},
   "outputs": [
    {
     "name": "stdout",
     "output_type": "stream",
     "text": [
      "0 2 4 6 8 10 12 14 16 18 20 22 24 26 28 30 32 34 36 38 40 42 44 46 48 50 "
     ]
    }
   ],
   "source": [
    "# print from  1 to 50 between even numbers\n",
    "\n",
    "i=0\n",
    "while(i<=50):\n",
    "    print(i,end=' ')\n",
    "    i=i+2"
   ]
  },
  {
   "cell_type": "code",
   "execution_count": 6,
   "id": "e9606f32",
   "metadata": {},
   "outputs": [
    {
     "name": "stdout",
     "output_type": "stream",
     "text": [
      "1 3 5 7 9 11 13 15 17 19 21 23 25 27 29 31 33 35 37 39 41 43 45 47 49 "
     ]
    }
   ],
   "source": [
    "# print from  1 to 50 between odd numbers\n",
    "\n",
    "i=1\n",
    "while(i<=50):\n",
    "    print(i,end=' ')\n",
    "    i=i+2"
   ]
  },
  {
   "cell_type": "code",
   "execution_count": 7,
   "id": "cd8e4fa5",
   "metadata": {},
   "outputs": [
    {
     "name": "stdout",
     "output_type": "stream",
     "text": [
      "15 30 45 60 75 90 "
     ]
    }
   ],
   "source": [
    "# write a program display numbers from 1 to 100 while are exactly divisible by 3 and 5.\n",
    "\n",
    "i=1\n",
    "while(i<=100):\n",
    "    if(i%3==0 and i%5==0):\n",
    "        print(i,end=' ')\n",
    "    i=i+1"
   ]
  },
  {
   "cell_type": "code",
   "execution_count": 8,
   "id": "e4d337b7",
   "metadata": {},
   "outputs": [
    {
     "name": "stdout",
     "output_type": "stream",
     "text": [
      "12 24 36 48 60 72 84 96 108 120 132 144 156 168 180 192 204 216 228 240 252 264 276 288 300 312 324 336 348 360 372 384 396 408 420 432 444 456 468 480 492 504 516 528 540 552 564 576 588 600 612 624 636 648 660 672 684 696 708 720 732 744 756 768 780 792 804 816 828 840 852 864 876 888 900 912 924 936 948 960 972 984 996 "
     ]
    }
   ],
   "source": [
    "# write a program display numbers from 1 to 1000 while are exactly divisible by 2 and 4 and 6.\n",
    "\n",
    "i=1\n",
    "while(i<=1000):\n",
    "    if(i%2==0 and i%4==0 and i%6==0):\n",
    "        print(i,end=' ')\n",
    "    i=i+1"
   ]
  },
  {
   "cell_type": "code",
   "execution_count": 9,
   "id": "4b62f2ce",
   "metadata": {},
   "outputs": [
    {
     "name": "stdout",
     "output_type": "stream",
     "text": [
      "2550\n"
     ]
    }
   ],
   "source": [
    "# sum of even numbers from 1 to 100\n",
    "\n",
    "s=0\n",
    "i=1\n",
    "while(i<=100):\n",
    "    if(i%2==0):\n",
    "        s=s+i\n",
    "    i=i+1\n",
    "print(s)"
   ]
  },
  {
   "cell_type": "code",
   "execution_count": 10,
   "id": "9c1bba7c",
   "metadata": {},
   "outputs": [
    {
     "name": "stdout",
     "output_type": "stream",
     "text": [
      "2500\n"
     ]
    }
   ],
   "source": [
    "# sum of odd numbers from 1 to 100\n",
    "\n",
    "s=0\n",
    "i=1\n",
    "while(i<=100):\n",
    "    if(i%2==1):\n",
    "        s=s+i\n",
    "    i=i+1\n",
    "print(s)"
   ]
  },
  {
   "cell_type": "code",
   "execution_count": 11,
   "id": "29816545",
   "metadata": {},
   "outputs": [
    {
     "name": "stdout",
     "output_type": "stream",
     "text": [
      "1050\n"
     ]
    }
   ],
   "source": [
    "# sum of even numbers from 1 to 100 which are divisible by 5.\n",
    "\n",
    "s=0\n",
    "i=5\n",
    "while(i<=100):\n",
    "    if(i%5==0):\n",
    "        s=s+i\n",
    "    i=i+1\n",
    "print(s)"
   ]
  },
  {
   "cell_type": "code",
   "execution_count": 12,
   "id": "be1d1087",
   "metadata": {},
   "outputs": [
    {
     "name": "stdout",
     "output_type": "stream",
     "text": [
      "55\n"
     ]
    }
   ],
   "source": [
    " # sum of numbers from 1 to 10\n",
    "    \n",
    "s=0\n",
    "i=1\n",
    "while(i<=10):\n",
    "    s=s+i\n",
    "    i=i+1\n",
    "print(s)"
   ]
  },
  {
   "cell_type": "code",
   "execution_count": 13,
   "id": "3c40c3ea",
   "metadata": {},
   "outputs": [
    {
     "name": "stdout",
     "output_type": "stream",
     "text": [
      "enter the value n=15\n",
      "120\n"
     ]
    }
   ],
   "source": [
    "# sum of numbers from 1 to n\n",
    "\n",
    "s=0\n",
    "i=1\n",
    "n=int(input(\"enter the value n=\"))\n",
    "while(i<=n):\n",
    "    s=s+i\n",
    "    i=i+1\n",
    "print(s)"
   ]
  },
  {
   "cell_type": "code",
   "execution_count": 14,
   "id": "751271aa",
   "metadata": {},
   "outputs": [
    {
     "name": "stdout",
     "output_type": "stream",
     "text": [
      "range(0, 10)\n",
      "[0, 1, 2, 3, 4, 5, 6, 7, 8, 9]\n",
      "[2, 3, 4, 5, 6, 7]\n",
      "[2, 5, 8, 11, 14, 17]\n"
     ]
    }
   ],
   "source": [
    "#for loop\n",
    "\n",
    "print(range(10))\n",
    "print(list(range(10)))\n",
    "print(list(range(2,8)))\n",
    "print(list(range(2,20,3)))"
   ]
  },
  {
   "cell_type": "code",
   "execution_count": 15,
   "id": "861c0853",
   "metadata": {},
   "outputs": [
    {
     "name": "stdout",
     "output_type": "stream",
     "text": [
      "10 9 8 7 6 5 4 3 2 10 8 6 4 2 50 47 44 41 38 35 32 29 26 23 20 17 14 11 "
     ]
    }
   ],
   "source": [
    "for i in range(10,1,-1):\n",
    "    print(i,end=' ')\n",
    "for j in range(10,1,-2):\n",
    "    print(j,end=' ')\n",
    "for k in range(50,10,-3):\n",
    "    print(k,end=' ')"
   ]
  },
  {
   "cell_type": "code",
   "execution_count": 16,
   "id": "47c9baa0",
   "metadata": {},
   "outputs": [
    {
     "name": "stdout",
     "output_type": "stream",
     "text": [
      "1 2 3 4 5 6 7 8 9 0 1 2 3 4 5 6 7 8 9 1 3 5 7 9 11 "
     ]
    }
   ],
   "source": [
    "for i in range(1,10):\n",
    "    print(i,end=' ')\n",
    "for j in range(10):\n",
    "    print(j,end=' ')\n",
    "for k in range(1,12,+2):\n",
    "    print(k,end=' ') "
   ]
  },
  {
   "cell_type": "code",
   "execution_count": 17,
   "id": "37a5b146",
   "metadata": {},
   "outputs": [
    {
     "name": "stdout",
     "output_type": "stream",
     "text": [
      "10 9 8 7 6 5 4 3 2 30 27 24 21 18 15 12 "
     ]
    }
   ],
   "source": [
    "for i in range(10,1,-1):\n",
    "    print(i,end=' ')\n",
    "for j in range(30,10,-3):\n",
    "    print(j ,end=' ')"
   ]
  },
  {
   "cell_type": "code",
   "execution_count": 18,
   "id": "b73ca307",
   "metadata": {},
   "outputs": [
    {
     "name": "stdout",
     "output_type": "stream",
     "text": [
      "A A A A A A A A A A A A A A A A A A A A A A A A A A A "
     ]
    }
   ],
   "source": [
    "#inner loop/nested loop\n",
    "\n",
    "for i in range(1,10):\n",
    "    for j in range(1,4):\n",
    "        print(\"A\",end=' ')"
   ]
  },
  {
   "cell_type": "code",
   "execution_count": 19,
   "id": "5b4af71e",
   "metadata": {},
   "outputs": [
    {
     "name": "stdout",
     "output_type": "stream",
     "text": [
      "keys keys keys keys keys keys keys keys keys keys keys keys keys keys keys keys "
     ]
    }
   ],
   "source": [
    "for i in range(6,10):\n",
    "    for j in range(3,7):\n",
    "        print(\"keys\",end=' ')"
   ]
  },
  {
   "cell_type": "code",
   "execution_count": 20,
   "id": "6170d424",
   "metadata": {},
   "outputs": [
    {
     "name": "stdout",
     "output_type": "stream",
     "text": [
      "1 2 3 4 6 7 8 9 "
     ]
    }
   ],
   "source": [
    "for i in range(1,5):\n",
    "    print(i,end=' ')\n",
    "for j in range(6,10):\n",
    "    print(j,end=' ')"
   ]
  },
  {
   "cell_type": "code",
   "execution_count": 21,
   "id": "4f69afcb",
   "metadata": {},
   "outputs": [
    {
     "name": "stdout",
     "output_type": "stream",
     "text": [
      "keys\n",
      "keys\n",
      "keys\n",
      "keys\n",
      "keys\n",
      "keys\n",
      "6 7 8 9 10 3 4 5 6 "
     ]
    }
   ],
   "source": [
    "for i in range(1,7):\n",
    "    print(\"keys\")\n",
    "for j in range(6,11):\n",
    "    print(j,end=' ')\n",
    "for k in range(3,7):\n",
    "    print(k,end=' ')"
   ]
  },
  {
   "cell_type": "code",
   "execution_count": 22,
   "id": "82067807",
   "metadata": {},
   "outputs": [
    {
     "name": "stdout",
     "output_type": "stream",
     "text": [
      "10\n",
      "Abc\n",
      "7\n",
      "8\n",
      "11\n",
      "Abc\n",
      "7\n",
      "8\n",
      "10\n",
      "Abc\n",
      "7\n",
      "8\n",
      "11\n",
      "Abc\n",
      "7\n",
      "8\n",
      "10\n",
      "Abc\n",
      "7\n",
      "8\n",
      "11\n",
      "Abc\n",
      "7\n",
      "8\n",
      "10\n",
      "Abc\n",
      "7\n",
      "8\n",
      "11\n",
      "Abc\n",
      "7\n",
      "8\n"
     ]
    }
   ],
   "source": [
    "for i in range(1,10):\n",
    "    if(i%2==0):\n",
    "        for j in range(10,12):\n",
    "            print(j)\n",
    "            print(\"Abc\")\n",
    "            for k in range(7,9):\n",
    "                print(k)"
   ]
  },
  {
   "cell_type": "code",
   "execution_count": 23,
   "id": "da9bbf6c",
   "metadata": {},
   "outputs": [
    {
     "name": "stdout",
     "output_type": "stream",
     "text": [
      "A\n",
      "B\n",
      "B\n",
      "B\n",
      "B\n",
      "B\n",
      "B\n",
      "B\n",
      "B\n",
      "B\n",
      "B\n"
     ]
    }
   ],
   "source": [
    "i=1\n",
    "while(i<=10):\n",
    "    print(\"A\")\n",
    "    j=10\n",
    "    while(j>=1):\n",
    "        print(\"B\")\n",
    "        j=j-1\n",
    "        i=i+1"
   ]
  },
  {
   "cell_type": "code",
   "execution_count": 24,
   "id": "7b44e3b2",
   "metadata": {},
   "outputs": [
    {
     "name": "stdout",
     "output_type": "stream",
     "text": [
      "1\n",
      "ABC\n",
      "2\n",
      "ABC\n",
      "3\n",
      "ABC\n",
      "4\n",
      "ABC\n",
      "5\n",
      "ABC\n",
      "6\n",
      "ABC\n",
      "1\n",
      "ABC\n",
      "2\n",
      "ABC\n",
      "3\n",
      "ABC\n",
      "4\n",
      "ABC\n",
      "5\n",
      "ABC\n",
      "6\n",
      "ABC\n"
     ]
    }
   ],
   "source": [
    "for i in range(1,12//2):\n",
    "    if(i%2==0):\n",
    "        for j in range(1,7):\n",
    "            print(j)\n",
    "            print(\"ABC\")"
   ]
  },
  {
   "cell_type": "code",
   "execution_count": 25,
   "id": "04a32399",
   "metadata": {},
   "outputs": [
    {
     "name": "stdout",
     "output_type": "stream",
     "text": [
      "1\n",
      "ABC\n",
      "1\n",
      "ABC\n",
      "2\n",
      "ABC\n",
      "1\n",
      "ABC\n",
      "2\n",
      "ABC\n",
      "3\n",
      "ABC\n",
      "1\n",
      "ABC\n",
      "2\n",
      "ABC\n",
      "3\n",
      "ABC\n",
      "4\n",
      "ABC\n",
      "1\n",
      "ABC\n",
      "2\n",
      "ABC\n",
      "3\n",
      "ABC\n",
      "4\n",
      "ABC\n",
      "5\n",
      "ABC\n"
     ]
    }
   ],
   "source": [
    "i=1\n",
    "while(i<=5):\n",
    "    j=1\n",
    "    while(j<=i):\n",
    "        print(j)\n",
    "        print(\"ABC\")\n",
    "        j=j+1\n",
    "    i=i+1"
   ]
  },
  {
   "cell_type": "code",
   "execution_count": 26,
   "id": "0ec1a4e4",
   "metadata": {},
   "outputs": [
    {
     "name": "stdout",
     "output_type": "stream",
     "text": [
      "A\n",
      "1\n",
      "2\n",
      "keys\n",
      "3\n",
      "A\n",
      "1\n",
      "2\n",
      "keys\n",
      "3\n",
      "1\n",
      "2\n",
      "keys\n",
      "3\n",
      "A\n",
      "1\n",
      "2\n",
      "keys\n",
      "3\n",
      "1\n",
      "2\n",
      "keys\n",
      "3\n",
      "1\n",
      "2\n",
      "keys\n",
      "3\n",
      "A\n",
      "1\n",
      "2\n",
      "keys\n",
      "3\n",
      "1\n",
      "2\n",
      "keys\n",
      "3\n",
      "1\n",
      "2\n",
      "keys\n",
      "3\n",
      "1\n",
      "2\n",
      "keys\n",
      "3\n",
      "A\n",
      "1\n",
      "2\n",
      "keys\n",
      "3\n",
      "1\n",
      "2\n",
      "keys\n",
      "3\n",
      "1\n",
      "2\n",
      "keys\n",
      "3\n",
      "1\n",
      "2\n",
      "keys\n",
      "3\n",
      "1\n",
      "2\n",
      "keys\n",
      "3\n"
     ]
    }
   ],
   "source": [
    "i=1\n",
    "while(i<=5):\n",
    "    print(\"A\")\n",
    "    j=1\n",
    "    while(j<=i):\n",
    "        for k in range(1,4):\n",
    "            print(k)\n",
    "            if(k%2==0):\n",
    "                print(\"keys\")\n",
    "        j=j+1\n",
    "    i=i+1"
   ]
  },
  {
   "cell_type": "code",
   "execution_count": 27,
   "id": "f3781078",
   "metadata": {},
   "outputs": [
    {
     "name": "stdout",
     "output_type": "stream",
     "text": [
      "5 is prime\n",
      "7 is prime\n",
      "11 is prime\n",
      "13 is prime\n",
      "17 is prime\n",
      "19 is prime\n",
      "23 is prime\n",
      "29 is prime\n",
      "31 is prime\n",
      "37 is prime\n",
      "41 is prime\n",
      "43 is prime\n",
      "47 is prime\n",
      "53 is prime\n",
      "59 is prime\n",
      "61 is prime\n",
      "67 is prime\n",
      "71 is prime\n",
      "73 is prime\n",
      "79 is prime\n",
      "83 is prime\n",
      "89 is prime\n",
      "97 is prime\n",
      "good bye!\n"
     ]
    }
   ],
   "source": [
    "#the following program uses a nested for loop to find the prime numbers from 2 to 100:\n",
    "\n",
    "i=2\n",
    "while(i<100):\n",
    "    j=2\n",
    "    while(j<=(i/j)):\n",
    "        if not (i%j):\n",
    "            break\n",
    "        j=j+1\n",
    "        if (j>i/j):\n",
    "            print(i,\"is prime\")\n",
    "    i=i+1\n",
    "print(\"good bye!\")"
   ]
  },
  {
   "cell_type": "code",
   "execution_count": 28,
   "id": "6e2405eb",
   "metadata": {},
   "outputs": [
    {
     "name": "stdout",
     "output_type": "stream",
     "text": [
      "4\n",
      "8\n",
      "9\n"
     ]
    }
   ],
   "source": [
    "#sum of \"individual digits\" in a given number:\n",
    "\n",
    "n=144      #1+4+4=9\n",
    "s=0\n",
    "while(n>0):\n",
    "    r=n%10\n",
    "    s=s+r\n",
    "    n=n//10\n",
    "    print(s)"
   ]
  },
  {
   "cell_type": "code",
   "execution_count": 29,
   "id": "35e943e4",
   "metadata": {},
   "outputs": [
    {
     "name": "stdout",
     "output_type": "stream",
     "text": [
      "2\n",
      "5\n",
      "9\n",
      "18\n",
      "24\n"
     ]
    }
   ],
   "source": [
    "n=69432\n",
    "s=0\n",
    "while(n>0):\n",
    "    s=s+n%10\n",
    "    n=n//10\n",
    "    print(s)"
   ]
  },
  {
   "cell_type": "code",
   "execution_count": 30,
   "id": "7a3b6823",
   "metadata": {},
   "outputs": [
    {
     "name": "stdout",
     "output_type": "stream",
     "text": [
      "1234567890112233445"
     ]
    }
   ],
   "source": [
    "#given numbers from 1 to 15 add values:\n",
    "\n",
    "for i in range(1,15):\n",
    "    x=i\n",
    "    s=0\n",
    "    while(x>0):\n",
    "        r=x%10\n",
    "        s=s+r\n",
    "        x=x//10\n",
    "        print(s,end='')"
   ]
  },
  {
   "cell_type": "code",
   "execution_count": 31,
   "id": "934e8006",
   "metadata": {},
   "outputs": [
    {
     "name": "stdout",
     "output_type": "stream",
     "text": [
      "6742\n"
     ]
    }
   ],
   "source": [
    "#print reverse number :\n",
    "\n",
    "n=2476\n",
    "s=0\n",
    "while(n>0):\n",
    "    r=n%10\n",
    "    s=s*10+r\n",
    "    n=n//10\n",
    "print(s)"
   ]
  },
  {
   "cell_type": "code",
   "execution_count": 32,
   "id": "d823bcbd",
   "metadata": {},
   "outputs": [
    {
     "name": "stdout",
     "output_type": "stream",
     "text": [
      "12345678901111221331441551"
     ]
    }
   ],
   "source": [
    "# reverse number from 1 to 15\n",
    "\n",
    "for i in range(1,16):\n",
    "    x=i\n",
    "    s=0\n",
    "    while(x>0):\n",
    "        r=x%10\n",
    "        s=s*10+r\n",
    "        x=x//10\n",
    "        print(s,end='')"
   ]
  }
 ],
 "metadata": {
  "kernelspec": {
   "display_name": "Python 3 (ipykernel)",
   "language": "python",
   "name": "python3"
  },
  "language_info": {
   "codemirror_mode": {
    "name": "ipython",
    "version": 3
   },
   "file_extension": ".py",
   "mimetype": "text/x-python",
   "name": "python",
   "nbconvert_exporter": "python",
   "pygments_lexer": "ipython3",
   "version": "3.9.12"
  }
 },
 "nbformat": 4,
 "nbformat_minor": 5
}
