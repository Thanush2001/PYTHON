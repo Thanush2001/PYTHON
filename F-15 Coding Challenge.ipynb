{
 "cells": [
  {
   "cell_type": "markdown",
   "id": "713f336f",
   "metadata": {},
   "source": [
    "CODING CHALLENGE "
   ]
  },
  {
   "cell_type": "markdown",
   "id": "7ad4d0dc",
   "metadata": {},
   "source": [
    "Write A Program to Iterate The First 10 Numbers And In Each Iteration, Print The Sum of the current and previous Number."
   ]
  },
  {
   "cell_type": "code",
   "execution_count": 1,
   "id": "6aa867de",
   "metadata": {},
   "outputs": [
    {
     "name": "stdout",
     "output_type": "stream",
     "text": [
      "1\n",
      "3\n",
      "5\n",
      "7\n",
      "9\n",
      "11\n",
      "13\n",
      "15\n",
      "17\n",
      "19\n"
     ]
    }
   ],
   "source": [
    "previous_num=0\n",
    "for i in range(1,11):\n",
    "    x=previous_num+i\n",
    "    print(x)\n",
    "    previous_num=i"
   ]
  },
  {
   "cell_type": "markdown",
   "id": "2e0cae80",
   "metadata": {},
   "source": [
    "Iterate The Given List of the number and print only thode numbers which are divisible by 5."
   ]
  },
  {
   "cell_type": "code",
   "execution_count": 2,
   "id": "f7286ad8",
   "metadata": {},
   "outputs": [
    {
     "name": "stdout",
     "output_type": "stream",
     "text": [
      "5\n",
      "10\n",
      "25\n",
      "15\n"
     ]
    }
   ],
   "source": [
    "num=[1,2,4,5,10,3,6,9,25,15]\n",
    "for x in num:\n",
    "    if(x%5==0):\n",
    "        print(x)\n",
    "    "
   ]
  },
  {
   "cell_type": "markdown",
   "id": "d4e856ff",
   "metadata": {},
   "source": [
    "Write a program to print multiplication table of a given number.\n"
   ]
  },
  {
   "cell_type": "code",
   "execution_count": 3,
   "id": "077d3838",
   "metadata": {},
   "outputs": [
    {
     "name": "stdout",
     "output_type": "stream",
     "text": [
      "Enter the table number:4\n",
      "4\n",
      "8\n",
      "12\n",
      "16\n",
      "20\n",
      "24\n",
      "28\n",
      "32\n",
      "36\n",
      "40\n"
     ]
    }
   ],
   "source": [
    "num=int(input(\"Enter the table number:\"))\n",
    "for i in range(1,11):\n",
    "    product=num*i\n",
    "    print(product)   #  num+\"*\"++i+\"=\"+product"
   ]
  },
  {
   "cell_type": "markdown",
   "id": "65967f6a",
   "metadata": {},
   "source": [
    "Write A Program To Iterate A Given List And Count The Occurrence of Each Element And Create A Dictionary To Show The Count Of Each Element."
   ]
  },
  {
   "cell_type": "code",
   "execution_count": 4,
   "id": "6f9d3fd9",
   "metadata": {},
   "outputs": [
    {
     "name": "stdout",
     "output_type": "stream",
     "text": [
      "Original list= [2, 3, 4, 5, 3, 4, 5, 2, 34, 3, 2]\n",
      "print in the count of each element: {2: 3, 3: 3, 4: 2, 5: 2, 34: 1}\n"
     ]
    }
   ],
   "source": [
    "x=[2,3,4,5,3,4,5,2,34,3,2]\n",
    "print(\"Original list=\",x)\n",
    "count_dict=dict()\n",
    "for i in x:\n",
    "    if i in count_dict:\n",
    "        count_dict[i]+=1\n",
    "    else:\n",
    "        count_dict[i]=1\n",
    "print(\"print in the count of each element:\",count_dict)"
   ]
  },
  {
   "cell_type": "markdown",
   "id": "cf2b5a98",
   "metadata": {},
   "source": [
    "Create  a python SET such that It shows The Element From Both Lists in a pair."
   ]
  },
  {
   "cell_type": "code",
   "execution_count": 5,
   "id": "807adcd8",
   "metadata": {},
   "outputs": [
    {
     "name": "stdout",
     "output_type": "stream",
     "text": [
      "first list is[2, 4, 6, 8, 10]\n",
      "Second list is [4, 16, 36, 64, 100]\n",
      "{(2, 4), (4, 16), (8, 64), (10, 100), (6, 36)}\n"
     ]
    }
   ],
   "source": [
    "first_list=[2,4,6,8,10]\n",
    "print(f'first list is{first_list}')\n",
    "\n",
    "second_list=[4,16,36,64,100]\n",
    "print(f'Second list is {second_list}')\n",
    "\n",
    "result=zip(first_list,second_list)\n",
    "print(set(result))                  #set is unordered "
   ]
  },
  {
   "cell_type": "markdown",
   "id": "7729bb29",
   "metadata": {},
   "source": [
    "Remove Duplicates From the List and Create A tuple and Find The Min and Max number."
   ]
  },
  {
   "cell_type": "code",
   "execution_count": 6,
   "id": "469a03b3",
   "metadata": {},
   "outputs": [
    {
     "name": "stdout",
     "output_type": "stream",
     "text": [
      "Original list: [2, 3, 4, 3, 2, 34, 5, 2, 4, 6, 7, 3, 4]\n",
      "unique_list: [2, 3, 4, 5, 34, 6, 7]\n",
      "the tuple is: (2, 3, 4, 5, 34, 6, 7)\n",
      "Minimum: 2\n",
      "Maximum: 34\n"
     ]
    }
   ],
   "source": [
    "Sample_list=[2,3,4,3,2,34,5,2,4,6,7,3,4]\n",
    "print(\"Original list:\",Sample_list)\n",
    "\n",
    "Sample_list=list(set(Sample_list))\n",
    "print(\"unique_list:\",Sample_list)\n",
    "\n",
    "x=tuple(Sample_list)\n",
    "print(\"the tuple is:\",x)\n",
    "\n",
    "print(\"Minimum:\",min(x))\n",
    "print(\"Maximum:\",max(x))"
   ]
  },
  {
   "cell_type": "markdown",
   "id": "539be84e",
   "metadata": {},
   "source": [
    "Create A Function in python that accepts a single word and returns the number of vowels in that word. in the function,only A,E,I,O,U will be counted as vowels"
   ]
  },
  {
   "cell_type": "code",
   "execution_count": 7,
   "id": "7b691309",
   "metadata": {},
   "outputs": [
    {
     "name": "stdout",
     "output_type": "stream",
     "text": [
      "Enter the Word:Appu\n",
      "a\n",
      "u\n",
      "total vowels are: 2\n"
     ]
    }
   ],
   "source": [
    "def vowels():\n",
    "    string=input(\"Enter the Word:\")\n",
    "    c=0\n",
    "    string=string.lower()\n",
    "    for i in string:\n",
    "        if (i=='a' or i=='e' or i=='i' or i=='o' or i=='u'):\n",
    "            c=c+1\n",
    "            print(i)\n",
    "    if(c==0):\n",
    "        print(\"There the No Vowels\")\n",
    "    else:\n",
    "        print(\"total vowels are:\",c)\n",
    "vowels()"
   ]
  },
  {
   "cell_type": "markdown",
   "id": "e0477b5e",
   "metadata": {},
   "source": [
    "Write a program to create function calculation() such that it can accept two variable and calculate addition and subtraction.\n",
    "also,it must return both addition and subtraction in a single return call."
   ]
  },
  {
   "cell_type": "code",
   "execution_count": 8,
   "id": "a1f1a01f",
   "metadata": {},
   "outputs": [
    {
     "data": {
      "text/plain": [
       "(110, 90)"
      ]
     },
     "execution_count": 8,
     "metadata": {},
     "output_type": "execute_result"
    }
   ],
   "source": [
    "def calculation(a,b):\n",
    "    return a+b,a-b\n",
    "\n",
    "calculation(100,10)"
   ]
  },
  {
   "cell_type": "markdown",
   "id": "a72dad18",
   "metadata": {},
   "source": [
    "Generate a python list of all the even numbers between 4 to 30.\n"
   ]
  },
  {
   "cell_type": "code",
   "execution_count": 9,
   "id": "ad47b847",
   "metadata": {},
   "outputs": [
    {
     "name": "stdout",
     "output_type": "stream",
     "text": [
      "[4, 6, 8, 10, 12, 14, 16, 18, 20, 22, 24, 26, 28, 30]\n"
     ]
    }
   ],
   "source": [
    "even=[]\n",
    "for i in range(4,31):\n",
    "    if(i%2==0):\n",
    "        even.append(i)\n",
    "print(even)"
   ]
  },
  {
   "cell_type": "code",
   "execution_count": 10,
   "id": "325c4045",
   "metadata": {},
   "outputs": [
    {
     "name": "stdout",
     "output_type": "stream",
     "text": [
      "[4, 6, 8, 10, 12, 14, 16, 18, 20, 22, 24, 26, 28, 30]\n"
     ]
    }
   ],
   "source": [
    "print(list(range(4,31,2)))"
   ]
  },
  {
   "cell_type": "markdown",
   "id": "db1dd07b",
   "metadata": {},
   "source": [
    "Find the largest item from the given list."
   ]
  },
  {
   "cell_type": "code",
   "execution_count": 11,
   "id": "d75200e4",
   "metadata": {},
   "outputs": [
    {
     "name": "stdout",
     "output_type": "stream",
     "text": [
      "[2, 3, 4, 34, 56, 67, 45, 66, 78, 99]\n"
     ]
    },
    {
     "data": {
      "text/plain": [
       "99"
      ]
     },
     "execution_count": 11,
     "metadata": {},
     "output_type": "execute_result"
    }
   ],
   "source": [
    "x=[2,3,4,34,56,67,45,66,78,99]\n",
    "\n",
    "print(x)\n",
    "max(x)"
   ]
  },
  {
   "cell_type": "markdown",
   "id": "22752023",
   "metadata": {},
   "source": [
    "Write the program for calculation by class."
   ]
  },
  {
   "cell_type": "code",
   "execution_count": 12,
   "id": "8bdf0854",
   "metadata": {},
   "outputs": [
    {
     "name": "stdout",
     "output_type": "stream",
     "text": [
      "the addition of 10,3 is 13\n",
      "the Subtraction of 10,3 is 7\n",
      "the Multiplycation of 10,3 is 30\n"
     ]
    }
   ],
   "source": [
    "class calculation:\n",
    "    def __init__(self,a,b):\n",
    "        self.a=a\n",
    "        self.b=b\n",
    "    def add(self):\n",
    "        c=self.a+self.b\n",
    "        print(f'the addition of {self.a},{self.b} is {c}')\n",
    "    def sub(self):\n",
    "        c=self.a-self.b\n",
    "        print(f'the Subtraction of {self.a},{self.b} is {c}')\n",
    "    def mul(self):\n",
    "        c=self.a*self.b\n",
    "        print(f'the Multiplycation of {self.a},{self.b} is {c}')\n",
    "        \n",
    "calculator=calculation(10,3)\n",
    "calculator.add()\n",
    "calculator.sub()\n",
    "calculator.mul()"
   ]
  },
  {
   "cell_type": "markdown",
   "id": "2ca58486",
   "metadata": {},
   "source": [
    "Create a function in python that accept two parameters. The first should be the full price of an item as an integer. the second should be the discount percentage as an integer."
   ]
  },
  {
   "cell_type": "code",
   "execution_count": 13,
   "id": "8469b6a7",
   "metadata": {},
   "outputs": [
    {
     "name": "stdout",
     "output_type": "stream",
     "text": [
      "full price:100000\n",
      "discounted_price:2000.0\n",
      "after_discounted_amount:98000.0\n"
     ]
    }
   ],
   "source": [
    "def calculate_dicscounted_price(full_price,discount_percentage):\n",
    "    discounted_price=full_price*discount_percentage/100\n",
    "    \n",
    "    print(f'full price:{full_price}')\n",
    "    print(f'discounted_price:{discounted_price}')\n",
    "    print(f'after_discounted_amount:{full_price-discounted_price}')\n",
    "    \n",
    "calculate_dicscounted_price(100000,2)"
   ]
  },
  {
   "cell_type": "markdown",
   "id": "0e910dfb",
   "metadata": {},
   "source": [
    "Write a function in python that accepts a credit card number. it shuld return a string where all the character are hidden with an asteisk except the last four. For example,if the function gets sent \"4444444444444444\", then it should return \"4444\""
   ]
  },
  {
   "cell_type": "code",
   "execution_count": 14,
   "id": "c30a2b9d",
   "metadata": {},
   "outputs": [
    {
     "data": {
      "text/plain": [
       "'************4444'"
      ]
     },
     "execution_count": 14,
     "metadata": {},
     "output_type": "execute_result"
    }
   ],
   "source": [
    "def hide_credit_card_number(card_number):\n",
    "    hidden_length=(len(card_number))-4\n",
    "    hidden_number=hidden_length * \"*\"\n",
    "    show_number=hidden_number+card_number[-4::]\n",
    "    \n",
    "    return show_number\n",
    "hide_credit_card_number(\"1111222233334444\")"
   ]
  },
  {
   "cell_type": "markdown",
   "id": "d2d9aa01",
   "metadata": {},
   "source": [
    "Write a function to output its reverse digits.(e.g. Given 123 the answer is 321) make sure that if it is a negative number you keep the negative in the front(-123 becomes -321)"
   ]
  },
  {
   "cell_type": "code",
   "execution_count": 15,
   "id": "39a1af5f",
   "metadata": {},
   "outputs": [
    {
     "name": "stdout",
     "output_type": "stream",
     "text": [
      "Enter the num:123\n",
      "Reverse no: 321\n"
     ]
    }
   ],
   "source": [
    "def reverse():\n",
    "    s=0\n",
    "    x=int(input(\"Enter the num:\"))\n",
    "    while(x>0):\n",
    "        r=x%10\n",
    "        s=s*10+r\n",
    "        x=x//10\n",
    "    return(s)\n",
    "a=reverse()\n",
    "print(\"Reverse no:\",a)"
   ]
  },
  {
   "cell_type": "markdown",
   "id": "f72018a2",
   "metadata": {},
   "source": [
    "Reversing an array without Reverse or indexing."
   ]
  },
  {
   "cell_type": "code",
   "execution_count": 16,
   "id": "3019d7d9",
   "metadata": {},
   "outputs": [
    {
     "name": "stdout",
     "output_type": "stream",
     "text": [
      "Your reversed array is: [8, 7, 6, 5, 4, 3, 2, 1]\n"
     ]
    }
   ],
   "source": [
    "def rev_arr(arr):\n",
    "    start=0\n",
    "    end=len(arr)-1\n",
    "    \n",
    "    while start<end:\n",
    "        arr[start],arr[end]=arr[end],arr[start]\n",
    "        start+=1\n",
    "        end-=1\n",
    "    return arr\n",
    "\n",
    "array=[1,2,3,4,5,6,7,8]\n",
    "output=rev_arr(array)\n",
    "print(f\"Your reversed array is: {output}\")"
   ]
  },
  {
   "cell_type": "markdown",
   "id": "3678ff0c",
   "metadata": {},
   "source": [
    "finding min and max in an array without using min max function."
   ]
  },
  {
   "cell_type": "code",
   "execution_count": 17,
   "id": "ee5aba08",
   "metadata": {},
   "outputs": [
    {
     "name": "stdout",
     "output_type": "stream",
     "text": [
      "Your min and max element in the given array is: (1, 55)\n"
     ]
    }
   ],
   "source": [
    "def find_min_max(arr):\n",
    "    min=arr[0]\n",
    "    max=arr[0]\n",
    "    \n",
    "    for element in arr:\n",
    "        if element<min:\n",
    "            min=element\n",
    "        elif element>max:\n",
    "            max=element\n",
    "    return min,max\n",
    "\n",
    "array=[1,2,3,22,44,21,55,12,11]\n",
    "output=find_min_max(array)\n",
    "print(f\"Your min and max element in the given array is: {output}\")"
   ]
  },
  {
   "cell_type": "markdown",
   "id": "aabbb55d",
   "metadata": {},
   "source": [
    "Remove duplicate from an array without any function"
   ]
  },
  {
   "cell_type": "code",
   "execution_count": 18,
   "id": "77e19135",
   "metadata": {},
   "outputs": [
    {
     "name": "stdout",
     "output_type": "stream",
     "text": [
      "Your unique array without any duplicates values is: [1, 2, 3, 22, 44, 21, 55, 12, 11]\n"
     ]
    }
   ],
   "source": [
    "def dup_del(arr):\n",
    "    unique_arr=[]\n",
    "    for element in arr:\n",
    "        if element not in unique_arr:\n",
    "            unique_arr.append(element)\n",
    "            \n",
    "    return unique_arr\n",
    "            \n",
    "array=[1,2,3,22,44,21,55,12,11,1,2]\n",
    "output=dup_del(array)\n",
    "print(f\"Your unique array without any duplicates values is: {output}\")"
   ]
  }
 ],
 "metadata": {
  "kernelspec": {
   "display_name": "Python 3 (ipykernel)",
   "language": "python",
   "name": "python3"
  },
  "language_info": {
   "codemirror_mode": {
    "name": "ipython",
    "version": 3
   },
   "file_extension": ".py",
   "mimetype": "text/x-python",
   "name": "python",
   "nbconvert_exporter": "python",
   "pygments_lexer": "ipython3",
   "version": "3.9.13"
  }
 },
 "nbformat": 4,
 "nbformat_minor": 5
}
