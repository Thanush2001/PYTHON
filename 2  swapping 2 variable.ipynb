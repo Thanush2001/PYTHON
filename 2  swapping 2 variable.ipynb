{
 "cells": [
  {
   "cell_type": "code",
   "execution_count": 1,
   "id": "e982cb85",
   "metadata": {},
   "outputs": [
    {
     "name": "stdout",
     "output_type": "stream",
     "text": [
      "enter the value a=12\n",
      "enter the value b=23\n",
      "After swaping\n",
      " A= 23 b= 12\n"
     ]
    }
   ],
   "source": [
    "#SWAP 2 NUMBERS \n",
    "a=int(input(\"enter the value a=\"))\n",
    "b=int(input(\"enter the value b=\"))\n",
    "c=a\n",
    "a=b\n",
    "b=c\n",
    "print(\"After swaping\\n\",\"A=\",a,\"b=\",b)"
   ]
  },
  {
   "cell_type": "code",
   "execution_count": 2,
   "id": "9017b05c",
   "metadata": {},
   "outputs": [
    {
     "name": "stdout",
     "output_type": "stream",
     "text": [
      "enter the value a=6\n",
      "enter the value b=9\n",
      "15\n",
      "6\n",
      "9\n",
      "a= 9 b= 6\n"
     ]
    }
   ],
   "source": [
    "#SWAP 2 NUMBERS WITHOUT USING 3RD VARIABLE\n",
    "a=int(input(\"enter the value a=\"))\n",
    "b=int(input(\"enter the value b=\"))\n",
    "a=a+b\n",
    "print(a)\n",
    "b=a-b\n",
    "print(b)\n",
    "a=a-b\n",
    "print(a)\n",
    "print(\"a=\",a,\"b=\",b)"
   ]
  },
  {
   "cell_type": "code",
   "execution_count": 3,
   "id": "a600cd6e",
   "metadata": {},
   "outputs": [
    {
     "name": "stdout",
     "output_type": "stream",
     "text": [
      "enter the value a=9\n",
      "enter the value b=12\n",
      "108\n",
      "9\n",
      "12\n",
      "a= 12 b= 9\n"
     ]
    }
   ],
   "source": [
    "a=int(input(\"enter the value a=\"))\n",
    "b=int(input(\"enter the value b=\"))\n",
    "a=a*b\n",
    "print(a)\n",
    "b=a//b\n",
    "print(b)\n",
    "a=a//b\n",
    "print(a)\n",
    "print(\"a=\",a,\"b=\",b)"
   ]
  },
  {
   "cell_type": "code",
   "execution_count": 4,
   "id": "caf54768",
   "metadata": {},
   "outputs": [
    {
     "name": "stdout",
     "output_type": "stream",
     "text": [
      "enter the value a=6\n",
      "enter the value b=4\n",
      "a= 4 b= 6\n"
     ]
    }
   ],
   "source": [
    "#SWAP 2 NUMBERS USING SINGLE LINE\n",
    "a=int(input(\"enter the value a=\"))\n",
    "b=int(input(\"enter the value b=\"))\n",
    "a,b=b,a\n",
    "print(\"a=\",a,\"b=\",b)"
   ]
  },
  {
   "cell_type": "code",
   "execution_count": 5,
   "id": "94cfb014",
   "metadata": {},
   "outputs": [
    {
     "name": "stdout",
     "output_type": "stream",
     "text": [
      "enter the value a=1.1\n",
      "enter the value b=2.1\n",
      "2.1 1.1\n"
     ]
    }
   ],
   "source": [
    "a=float(input(\"enter the value a=\"))\n",
    "b=float(input(\"enter the value b=\"))\n",
    "a,b=b,a\n",
    "print(a,b)"
   ]
  },
  {
   "cell_type": "code",
   "execution_count": 6,
   "id": "1a4b0c94",
   "metadata": {},
   "outputs": [
    {
     "name": "stdout",
     "output_type": "stream",
     "text": [
      "0\n",
      "0\n",
      "0\n",
      "after swaping\n",
      " a= 0 b= 0\n"
     ]
    }
   ],
   "source": [
    "#SWAP 2 NUMBER USING BITWISE OPERATER\n",
    "a=8\n",
    "b=4\n",
    "a=a&b\n",
    "print(a)\n",
    "b=a&b\n",
    "print(b)\n",
    "a=a&b\n",
    "print(a)\n",
    "print(\"after swaping\\n\",\"a=\",a,\"b=\",b)"
   ]
  },
  {
   "cell_type": "code",
   "execution_count": 7,
   "id": "59639199",
   "metadata": {},
   "outputs": [
    {
     "name": "stdout",
     "output_type": "stream",
     "text": [
      "12\n",
      "12\n",
      "12\n",
      "after swaping\n",
      " a= 12 b= 12\n"
     ]
    }
   ],
   "source": [
    "a=8\n",
    "b=4\n",
    "a=a|b\n",
    "print(a)\n",
    "b=a|b\n",
    "print(b)\n",
    "a=a|b\n",
    "print(a)\n",
    "print(\"after swaping\\n\",\"a=\",a,\"b=\",b)"
   ]
  },
  {
   "cell_type": "code",
   "execution_count": 8,
   "id": "a1ad90ea",
   "metadata": {},
   "outputs": [
    {
     "name": "stdout",
     "output_type": "stream",
     "text": [
      "12\n",
      "8\n",
      "4\n",
      "after swaping\n",
      " a= 4 b= 8\n"
     ]
    }
   ],
   "source": [
    "a=8\n",
    "b=4\n",
    "a=a^b\n",
    "print(a)\n",
    "b=a^b\n",
    "print(b)\n",
    "a=a^b\n",
    "print(a)\n",
    "print(\"after swaping\\n\",\"a=\",a,\"b=\",b)"
   ]
  },
  {
   "cell_type": "code",
   "execution_count": 9,
   "id": "073b331a",
   "metadata": {},
   "outputs": [
    {
     "name": "stdout",
     "output_type": "stream",
     "text": [
      "8\n"
     ]
    }
   ],
   "source": [
    "a=8\n",
    "b=4\n",
    "c=9\n",
    "d=12\n",
    "a=a&b\n",
    "c=c&d\n",
    "print(a^c)"
   ]
  }
 ],
 "metadata": {
  "kernelspec": {
   "display_name": "Python 3 (ipykernel)",
   "language": "python",
   "name": "python3"
  },
  "language_info": {
   "codemirror_mode": {
    "name": "ipython",
    "version": 3
   },
   "file_extension": ".py",
   "mimetype": "text/x-python",
   "name": "python",
   "nbconvert_exporter": "python",
   "pygments_lexer": "ipython3",
   "version": "3.9.12"
  }
 },
 "nbformat": 4,
 "nbformat_minor": 5
}
