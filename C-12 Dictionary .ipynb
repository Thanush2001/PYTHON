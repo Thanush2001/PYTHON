{
 "cells": [
  {
   "cell_type": "markdown",
   "id": "91ed539a",
   "metadata": {},
   "source": [
    "# Python Dictionaries"
   ]
  },
  {
   "cell_type": "markdown",
   "id": "59b635df",
   "metadata": {},
   "source": [
    "# Dictionary"
   ]
  },
  {
   "cell_type": "raw",
   "id": "1210f365",
   "metadata": {},
   "source": [
    "Dictionaries are used to store data values in key:value pairs.\n",
    "A dictionary is a collection which is ordered*, changeable and do not allow duplicates.\n",
    "As of Python version 3.7, dictionaries are ordered. In Python 3.6 and earlier, dictionaries are unordered.\n",
    "Dictionaries are written with curly brackets, and have keys and values:\n",
    "It is hetrogenious.\n",
    "It is ordered and unindex.\n",
    "It does not allow duplicates.\n",
    "dictionary is mutable.but keys are not duplicated.\n",
    "dictionary can be represented by {}.   Example:A={1,2,3,4,5}"
   ]
  },
  {
   "cell_type": "code",
   "execution_count": 1,
   "id": "70984f1c",
   "metadata": {},
   "outputs": [
    {
     "name": "stdout",
     "output_type": "stream",
     "text": [
      "{'brand': 'Ford', 'model': 'Mustang', 'year': 1964}\n"
     ]
    }
   ],
   "source": [
    "#Example\n",
    "# Create and print a dictionary:\n",
    "\n",
    "thisdict = {\n",
    "  \"brand\": \"Ford\",\n",
    "  \"model\": \"Mustang\",\n",
    "  \"year\": 1964\n",
    "}\n",
    "print(thisdict)"
   ]
  },
  {
   "cell_type": "code",
   "execution_count": 2,
   "id": "38c28448",
   "metadata": {},
   "outputs": [
    {
     "name": "stdout",
     "output_type": "stream",
     "text": [
      "Ford\n"
     ]
    }
   ],
   "source": [
    "#Dictionary Items\n",
    "# Dictionary items are ordered, changeable, and does not allow duplicates.\n",
    "# Dictionary items are presented in key:value pairs, and can be referred to by using the key name.\n",
    "\n",
    "#Example\n",
    "# Print the \"brand\" value of the dictionary:\n",
    "\n",
    "thisdict = {\n",
    "  \"brand\": \"Ford\",\n",
    "  \"model\": \"Mustang\",\n",
    "  \"year\": 1964\n",
    "}\n",
    "print(thisdict[\"brand\"])"
   ]
  },
  {
   "cell_type": "raw",
   "id": "f953c518",
   "metadata": {},
   "source": [
    "# Ordered or Unordered?\n",
    "As of Python version 3.7, dictionaries are ordered. In Python 3.6 and earlier, dictionaries are unordered.\n",
    "When we say that dictionaries are ordered, it means that the items have a defined order, and that order will not change.\n",
    "Unordered means that the items does not have a defined order, you cannot refer to an item by using an index.\n",
    "\n",
    "# Changeable\n",
    "Dictionaries are changeable, meaning that we can change, add or remove items after the dictionary has been created."
   ]
  },
  {
   "cell_type": "code",
   "execution_count": 3,
   "id": "2a687076",
   "metadata": {},
   "outputs": [
    {
     "name": "stdout",
     "output_type": "stream",
     "text": [
      "{'brand': 'Ford', 'model': 'Mustang', 'year': 2020}\n"
     ]
    }
   ],
   "source": [
    "#Duplicates Not Allowed\n",
    "# Dictionaries cannot have two items with the same key:\n",
    "\n",
    "#Example\n",
    "# Duplicate values will overwrite existing values:\n",
    "\n",
    "thisdict = {\n",
    "  \"brand\": \"Ford\",\n",
    "  \"model\": \"Mustang\",\n",
    "  \"year\": 1964,\n",
    "  \"year\": 2020\n",
    "}\n",
    "print(thisdict)"
   ]
  },
  {
   "cell_type": "code",
   "execution_count": 4,
   "id": "ea39c886",
   "metadata": {},
   "outputs": [
    {
     "name": "stdout",
     "output_type": "stream",
     "text": [
      "3\n"
     ]
    }
   ],
   "source": [
    "#Dictionary Length\n",
    "# To determine how many items a dictionary has, use the len() function:\n",
    "\n",
    "#Example\n",
    "# Print the number of items in the dictionary:\n",
    "\n",
    "thisdict = {\n",
    "  \"brand\": \"Ford\",\n",
    "  \"model\": \"Mustang\",\n",
    "  \"year\": 1964,\n",
    "  \"year\": 2020\n",
    "}\n",
    "print(len(thisdict))"
   ]
  },
  {
   "cell_type": "code",
   "execution_count": 5,
   "id": "0f2d1497",
   "metadata": {},
   "outputs": [
    {
     "name": "stdout",
     "output_type": "stream",
     "text": [
      "{'brand': 'Ford', 'electric': False, 'year': 1964, 'colors': ['red', 'white', 'blue']}\n"
     ]
    }
   ],
   "source": [
    "#Dictionary Items - Data Types\n",
    "# The values in dictionary items can be of any data type:\n",
    "\n",
    "#Example\n",
    "# String, int, boolean, and list data types:\n",
    "\n",
    "thisdict = {\n",
    "  \"brand\": \"Ford\",\n",
    "  \"electric\": False,\n",
    "  \"year\": 1964,\n",
    "  \"colors\": [\"red\", \"white\", \"blue\"]\n",
    "}\n",
    "print(thisdict)\n"
   ]
  },
  {
   "cell_type": "code",
   "execution_count": 6,
   "id": "d5427bc7",
   "metadata": {},
   "outputs": [
    {
     "name": "stdout",
     "output_type": "stream",
     "text": [
      "<class 'dict'>\n"
     ]
    }
   ],
   "source": [
    "#type()\n",
    "# From Python's perspective, dictionaries are defined as objects with the data type 'dict':\n",
    "\n",
    "# <class 'dict'>\n",
    "#Example\n",
    "# Print the data type of a dictionary:\n",
    "\n",
    "thisdict = {\n",
    "  \"brand\": \"Ford\",\n",
    "  \"model\": \"Mustang\",\n",
    "  \"year\": 1964\n",
    "}\n",
    "print(type(thisdict))"
   ]
  },
  {
   "cell_type": "markdown",
   "id": "c003bc38",
   "metadata": {},
   "source": [
    "# Python Collections (Arrays)"
   ]
  },
  {
   "cell_type": "raw",
   "id": "2585f4dc",
   "metadata": {},
   "source": [
    "There are four collection data types in the Python programming language:\n",
    "\n",
    "1) List is a collection which is ordered and changeable. Allows duplicate members.\n",
    "2) Tuple is a collection which is ordered and unchangeable. Allows duplicate members.\n",
    "3) Set is a collection which is unordered, unchangeable*, and unindexed. No duplicate members.\n",
    "4) Dictionary is a collection which is ordered** and changeable. No duplicate members."
   ]
  },
  {
   "cell_type": "markdown",
   "id": "7072c8a1",
   "metadata": {},
   "source": [
    "# Python - Access Dictionary Items"
   ]
  },
  {
   "cell_type": "code",
   "execution_count": 7,
   "id": "fe3e7d92",
   "metadata": {},
   "outputs": [
    {
     "name": "stdout",
     "output_type": "stream",
     "text": [
      "Mustang\n"
     ]
    }
   ],
   "source": [
    "#Accessing Items\n",
    "# You can access the items of a dictionary by referring to its key name, inside square brackets:\n",
    "\n",
    "#Example\n",
    "# Get the value of the \"model\" key:\n",
    "\n",
    "thisdict = {\n",
    "  \"brand\": \"Ford\",\n",
    "  \"model\": \"Mustang\",\n",
    "  \"year\": 1964\n",
    "}\n",
    "x = thisdict[\"model\"]\n",
    "print(x)"
   ]
  },
  {
   "cell_type": "code",
   "execution_count": 8,
   "id": "7846fef0",
   "metadata": {},
   "outputs": [
    {
     "name": "stdout",
     "output_type": "stream",
     "text": [
      "Mustang\n"
     ]
    }
   ],
   "source": [
    "# There is also a method called get() that will give you the same result:\n",
    "\n",
    "#Example\n",
    "# Get the value of the \"model\" key:\n",
    "thisdict = {\n",
    "  \"brand\": \"Ford\",\n",
    "  \"model\": \"Mustang\",\n",
    "  \"year\": 1964\n",
    "}\n",
    "x = thisdict.get(\"model\")\n",
    "print(x)"
   ]
  },
  {
   "cell_type": "code",
   "execution_count": 9,
   "id": "a038e902",
   "metadata": {},
   "outputs": [
    {
     "name": "stdout",
     "output_type": "stream",
     "text": [
      "dict_keys(['brand', 'model', 'year'])\n"
     ]
    }
   ],
   "source": [
    "#Get Keys\n",
    "# The keys() method will return a list of all the keys in the dictionary.\n",
    "\n",
    "#Example\n",
    "# Get a list of the keys:\n",
    "thisdict = {\n",
    "  \"brand\": \"Ford\",\n",
    "  \"model\": \"Mustang\",\n",
    "  \"year\": 1964\n",
    "}\n",
    "x = thisdict.keys()\n",
    "print(x)"
   ]
  },
  {
   "cell_type": "code",
   "execution_count": 10,
   "id": "84a3dba4",
   "metadata": {},
   "outputs": [
    {
     "name": "stdout",
     "output_type": "stream",
     "text": [
      "dict_keys(['brand', 'model', 'year'])\n",
      "dict_keys(['brand', 'model', 'year', 'color'])\n"
     ]
    }
   ],
   "source": [
    "#The list of the keys is a view of the dictionary, \n",
    "#    meaning that any changes done to the dictionary will be reflected in the keys list.\n",
    "\n",
    "#Example\n",
    "# Add a new item to the original dictionary, and see that the keys list gets updated as well:\n",
    "\n",
    "car = {\n",
    "\"brand\": \"Ford\",\n",
    "\"model\": \"Mustang\",\n",
    "\"year\": 1964\n",
    "}\n",
    "x = car.keys()\n",
    "print(x) #before the change\n",
    "car[\"color\"] = \"white\"\n",
    "print(x) #after the change"
   ]
  },
  {
   "cell_type": "code",
   "execution_count": 11,
   "id": "da8b240d",
   "metadata": {},
   "outputs": [
    {
     "name": "stdout",
     "output_type": "stream",
     "text": [
      "dict_values(['Ford', 'Mustang', 1964])\n"
     ]
    }
   ],
   "source": [
    "#Get Values\n",
    "# The values() method will return a list of all the values in the dictionary.\n",
    "\n",
    "#Example\n",
    "# Get a list of the values:\n",
    "\n",
    "thisdict = {\n",
    "  \"brand\": \"Ford\",\n",
    "  \"model\": \"Mustang\",\n",
    "  \"year\": 1964\n",
    "}\n",
    "x = thisdict.values()\n",
    "print(x)"
   ]
  },
  {
   "cell_type": "code",
   "execution_count": 12,
   "id": "1a2681fe",
   "metadata": {},
   "outputs": [
    {
     "name": "stdout",
     "output_type": "stream",
     "text": [
      "dict_values(['Ford', 'Mustang', 1964])\n",
      "dict_values(['Ford', 'Mustang', 2020])\n"
     ]
    }
   ],
   "source": [
    "# The list of the values is a view of the dictionary, \n",
    "#   meaning that any changes done to the dictionary will be reflected in the values list.\n",
    "\n",
    "#Example\n",
    "# Make a change in the original dictionary, and see that the values list gets updated as well:\n",
    "\n",
    "car = {\n",
    "\"brand\": \"Ford\",\n",
    "\"model\": \"Mustang\",\n",
    "\"year\": 1964\n",
    "}\n",
    "x = car.values()\n",
    "print(x) #before the change\n",
    "car[\"year\"] = 2020\n",
    "print(x) #after the change"
   ]
  },
  {
   "cell_type": "code",
   "execution_count": 13,
   "id": "089b86f5",
   "metadata": {},
   "outputs": [
    {
     "name": "stdout",
     "output_type": "stream",
     "text": [
      "dict_values(['Ford', 'Mustang', 1964])\n",
      "dict_values(['Ford', 'Mustang', 1964, 'red'])\n"
     ]
    }
   ],
   "source": [
    "#Example\n",
    "# Add a new item to the original dictionary, and see that the values list gets updated as well:\n",
    "\n",
    "car = {\n",
    "\"brand\": \"Ford\",\n",
    "\"model\": \"Mustang\",\n",
    "\"year\": 1964\n",
    "}\n",
    "x = car.values()\n",
    "print(x) #before the change\n",
    "car[\"color\"] = \"red\"\n",
    "print(x) #after the change"
   ]
  },
  {
   "cell_type": "code",
   "execution_count": 14,
   "id": "9e30539e",
   "metadata": {},
   "outputs": [
    {
     "name": "stdout",
     "output_type": "stream",
     "text": [
      "dict_items([('brand', 'Ford'), ('model', 'Mustang'), ('year', 1964)])\n"
     ]
    }
   ],
   "source": [
    "#Get Items\n",
    "# The items() method will return each item in a dictionary, as tuples in a list.\n",
    "\n",
    "#Example\n",
    "# Get a list of the key:value pairs.\n",
    "\n",
    "thisdict = {\n",
    "  \"brand\": \"Ford\",\n",
    "  \"model\": \"Mustang\",\n",
    "  \"year\": 1964\n",
    "}\n",
    "x = thisdict.items()\n",
    "print(x)"
   ]
  },
  {
   "cell_type": "code",
   "execution_count": 15,
   "id": "b464c93c",
   "metadata": {},
   "outputs": [
    {
     "name": "stdout",
     "output_type": "stream",
     "text": [
      "dict_items([('brand', 'Ford'), ('model', 'Mustang'), ('year', 1964)])\n",
      "dict_items([('brand', 'Ford'), ('model', 'Mustang'), ('year', 2020)])\n"
     ]
    }
   ],
   "source": [
    "# The returned list is a view of the items of the dictionary, \n",
    "#    meaning that any changes done to the dictionary will be reflected in the items list.\n",
    "\n",
    "#Example\n",
    "# Make a change in the original dictionary, and see that the items list gets updated as well:\n",
    "\n",
    "car = {\n",
    "\"brand\": \"Ford\",\n",
    "\"model\": \"Mustang\",\n",
    "\"year\": 1964\n",
    "}\n",
    "x = car.items()\n",
    "print(x) #before the change\n",
    "car[\"year\"] = 2020\n",
    "print(x) #after the change"
   ]
  },
  {
   "cell_type": "code",
   "execution_count": 16,
   "id": "d0d9e5ee",
   "metadata": {},
   "outputs": [
    {
     "name": "stdout",
     "output_type": "stream",
     "text": [
      "dict_items([('brand', 'Ford'), ('model', 'Mustang'), ('year', 1964)])\n",
      "dict_items([('brand', 'Ford'), ('model', 'Mustang'), ('year', 1964), ('color', 'red')])\n"
     ]
    }
   ],
   "source": [
    "#Example\n",
    "# Add a new item to the original dictionary, and see that the items list gets updated as well:\n",
    "\n",
    "car = {\n",
    "\"brand\": \"Ford\",\n",
    "\"model\": \"Mustang\",\n",
    "\"year\": 1964\n",
    "}\n",
    "x = car.items()\n",
    "print(x) #before the change\n",
    "car[\"color\"] = \"red\"\n",
    "print(x) #after the change"
   ]
  },
  {
   "cell_type": "code",
   "execution_count": 17,
   "id": "d0f433da",
   "metadata": {},
   "outputs": [
    {
     "name": "stdout",
     "output_type": "stream",
     "text": [
      "Yes, 'model' is one of the keys in the thisdict dictionary\n"
     ]
    }
   ],
   "source": [
    "#Check if Key Exists\n",
    "# To determine if a specified key is present in a dictionary use the in keyword:\n",
    "\n",
    "#Example\n",
    "# Check if \"model\" is present in the dictionary:\n",
    "\n",
    "thisdict = {\n",
    "  \"brand\": \"Ford\",\n",
    "  \"model\": \"Mustang\",\n",
    "  \"year\": 1964\n",
    "}\n",
    "if \"model\" in thisdict:\n",
    "  print(\"Yes, 'model' is one of the keys in the thisdict dictionary\")"
   ]
  },
  {
   "cell_type": "markdown",
   "id": "9bfbd197",
   "metadata": {},
   "source": [
    "# Python - Change Dictionary Items"
   ]
  },
  {
   "cell_type": "code",
   "execution_count": 18,
   "id": "28c040b2",
   "metadata": {},
   "outputs": [
    {
     "name": "stdout",
     "output_type": "stream",
     "text": [
      "{'brand': 'Ford', 'model': 'Mustang', 'year': 2018}\n"
     ]
    }
   ],
   "source": [
    "#Change Values\n",
    "# You can change the value of a specific item by referring to its key name:\n",
    "\n",
    "#Example\n",
    "# Change the \"year\" to 2018:\n",
    "\n",
    "thisdict = {\n",
    "  \"brand\": \"Ford\",\n",
    "  \"model\": \"Mustang\",\n",
    "  \"year\": 1964\n",
    "}\n",
    "thisdict[\"year\"] = 2018\n",
    "print(thisdict)"
   ]
  },
  {
   "cell_type": "code",
   "execution_count": 19,
   "id": "68a313f1",
   "metadata": {},
   "outputs": [
    {
     "name": "stdout",
     "output_type": "stream",
     "text": [
      "{'brand': 'Ford', 'model': 'Mustang', 'year': 2020}\n"
     ]
    }
   ],
   "source": [
    "#Update Dictionary\n",
    "# The update() method will update the dictionary with the items from the given argument.\n",
    "# The argument must be a dictionary, or an iterable object with key:value pairs.\n",
    "\n",
    "#Example\n",
    "# Update the \"year\" of the car by using the update() method:\n",
    "\n",
    "thisdict = {\n",
    "  \"brand\": \"Ford\",\n",
    "  \"model\": \"Mustang\",\n",
    "  \"year\": 1964\n",
    "}\n",
    "thisdict.update({\"year\": 2020})\n",
    "print(thisdict)"
   ]
  },
  {
   "cell_type": "markdown",
   "id": "5b2a8d43",
   "metadata": {},
   "source": [
    "# Python - Add Dictionary Items"
   ]
  },
  {
   "cell_type": "code",
   "execution_count": 20,
   "id": "415ac588",
   "metadata": {},
   "outputs": [
    {
     "name": "stdout",
     "output_type": "stream",
     "text": [
      "{'brand': 'Ford', 'model': 'Mustang', 'year': 1964, 'color': 'red'}\n"
     ]
    }
   ],
   "source": [
    "#Adding Items\n",
    "# Adding an item to the dictionary is done by using a new index key and assigning a value to it:\n",
    "\n",
    "#Example\n",
    "thisdict = {\n",
    "  \"brand\": \"Ford\",\n",
    "  \"model\": \"Mustang\",\n",
    "  \"year\": 1964\n",
    "}\n",
    "thisdict[\"color\"] = \"red\"\n",
    "print(thisdict)"
   ]
  },
  {
   "cell_type": "code",
   "execution_count": 21,
   "id": "f153b26e",
   "metadata": {},
   "outputs": [
    {
     "name": "stdout",
     "output_type": "stream",
     "text": [
      "{'brand': 'Ford', 'model': 'Mustang', 'year': 1964, 'color': 'red'}\n"
     ]
    }
   ],
   "source": [
    "#Update Dictionary\n",
    "# The update() method will update the dictionary with the items from a given argument. \n",
    "# If the item does not exist, the item will be added.\n",
    "# The argument must be a dictionary, or an iterable object with key:value pairs.\n",
    "\n",
    "#Example\n",
    "# Add a color item to the dictionary by using the update() method:\n",
    "\n",
    "thisdict = {\n",
    "  \"brand\": \"Ford\",\n",
    "  \"model\": \"Mustang\",\n",
    "  \"year\": 1964\n",
    "}\n",
    "thisdict.update({\"color\": \"red\"})\n",
    "print(thisdict)"
   ]
  },
  {
   "cell_type": "markdown",
   "id": "234b3ce0",
   "metadata": {},
   "source": [
    "# Python - Remove Dictionary Items"
   ]
  },
  {
   "cell_type": "code",
   "execution_count": 22,
   "id": "095820a8",
   "metadata": {},
   "outputs": [
    {
     "name": "stdout",
     "output_type": "stream",
     "text": [
      "{'brand': 'Ford', 'year': 1964}\n"
     ]
    }
   ],
   "source": [
    "#Removing Items\n",
    "# There are several methods to remove items from a dictionary:\n",
    "\n",
    "#Example\n",
    "# The pop() method removes the item with the specified key name:\n",
    "\n",
    "thisdict = {\n",
    "  \"brand\": \"Ford\",\n",
    "  \"model\": \"Mustang\",\n",
    "  \"year\": 1964\n",
    "}\n",
    "thisdict.pop(\"model\")\n",
    "print(thisdict)"
   ]
  },
  {
   "cell_type": "code",
   "execution_count": 23,
   "id": "5343b818",
   "metadata": {},
   "outputs": [
    {
     "name": "stdout",
     "output_type": "stream",
     "text": [
      "{'brand': 'Ford', 'model': 'Mustang'}\n"
     ]
    }
   ],
   "source": [
    "#Example\n",
    "# The popitem() method removes the last inserted item (in versions before 3.7, a random item is removed instead):\n",
    "\n",
    "thisdict = {\n",
    "  \"brand\": \"Ford\",\n",
    "  \"model\": \"Mustang\",\n",
    "  \"year\": 1964\n",
    "}\n",
    "thisdict.popitem()\n",
    "print(thisdict)"
   ]
  },
  {
   "cell_type": "code",
   "execution_count": 24,
   "id": "eca605d5",
   "metadata": {},
   "outputs": [
    {
     "name": "stdout",
     "output_type": "stream",
     "text": [
      "{'brand': 'Ford', 'year': 1964}\n"
     ]
    }
   ],
   "source": [
    "#Example\n",
    "# The del keyword removes the item with the specified key name:\n",
    "\n",
    "thisdict = {\n",
    "  \"brand\": \"Ford\",\n",
    "  \"model\": \"Mustang\",\n",
    "  \"year\": 1964\n",
    "}\n",
    "del thisdict[\"model\"]\n",
    "print(thisdict)"
   ]
  },
  {
   "cell_type": "code",
   "execution_count": 25,
   "id": "13103644",
   "metadata": {},
   "outputs": [
    {
     "ename": "NameError",
     "evalue": "name 'thisdict' is not defined",
     "output_type": "error",
     "traceback": [
      "\u001b[1;31m---------------------------------------------------------------------------\u001b[0m",
      "\u001b[1;31mNameError\u001b[0m                                 Traceback (most recent call last)",
      "Input \u001b[1;32mIn [25]\u001b[0m, in \u001b[0;36m<cell line: 10>\u001b[1;34m()\u001b[0m\n\u001b[0;32m      4\u001b[0m thisdict \u001b[38;5;241m=\u001b[39m {\n\u001b[0;32m      5\u001b[0m   \u001b[38;5;124m\"\u001b[39m\u001b[38;5;124mbrand\u001b[39m\u001b[38;5;124m\"\u001b[39m: \u001b[38;5;124m\"\u001b[39m\u001b[38;5;124mFord\u001b[39m\u001b[38;5;124m\"\u001b[39m,\n\u001b[0;32m      6\u001b[0m   \u001b[38;5;124m\"\u001b[39m\u001b[38;5;124mmodel\u001b[39m\u001b[38;5;124m\"\u001b[39m: \u001b[38;5;124m\"\u001b[39m\u001b[38;5;124mMustang\u001b[39m\u001b[38;5;124m\"\u001b[39m,\n\u001b[0;32m      7\u001b[0m   \u001b[38;5;124m\"\u001b[39m\u001b[38;5;124myear\u001b[39m\u001b[38;5;124m\"\u001b[39m: \u001b[38;5;241m1964\u001b[39m\n\u001b[0;32m      8\u001b[0m }\n\u001b[0;32m      9\u001b[0m \u001b[38;5;28;01mdel\u001b[39;00m thisdict\n\u001b[1;32m---> 10\u001b[0m \u001b[38;5;28mprint\u001b[39m(\u001b[43mthisdict\u001b[49m)\n",
      "\u001b[1;31mNameError\u001b[0m: name 'thisdict' is not defined"
     ]
    }
   ],
   "source": [
    "#Example\n",
    "# The del keyword can also delete the dictionary completely:\n",
    "\n",
    "thisdict = {\n",
    "  \"brand\": \"Ford\",\n",
    "  \"model\": \"Mustang\",\n",
    "  \"year\": 1964\n",
    "}\n",
    "del thisdict\n",
    "print(thisdict) #this will cause an error because \"thisdict\" no longer exists."
   ]
  },
  {
   "cell_type": "code",
   "execution_count": 26,
   "id": "23fe8801",
   "metadata": {},
   "outputs": [
    {
     "name": "stdout",
     "output_type": "stream",
     "text": [
      "{}\n"
     ]
    }
   ],
   "source": [
    "#Example\n",
    "# The clear() method empties the dictionary:\n",
    "\n",
    "thisdict = {\n",
    "  \"brand\": \"Ford\",\n",
    "  \"model\": \"Mustang\",\n",
    "  \"year\": 1964\n",
    "}\n",
    "thisdict.clear()\n",
    "print(thisdict)"
   ]
  },
  {
   "cell_type": "markdown",
   "id": "f7bb0efb",
   "metadata": {},
   "source": [
    "# Python - Loop Dictionaries"
   ]
  },
  {
   "cell_type": "code",
   "execution_count": 27,
   "id": "7f9e69fc",
   "metadata": {},
   "outputs": [
    {
     "name": "stdout",
     "output_type": "stream",
     "text": [
      "brand\n",
      "model\n",
      "year\n"
     ]
    }
   ],
   "source": [
    "#Loop Through a Dictionary\n",
    "# You can loop through a dictionary by using a for loop.\n",
    "# When looping through a dictionary, \n",
    "# the return value are the keys of the dictionary, but there are methods to return the values as well.\n",
    "\n",
    "#Example\n",
    "# Print all key names in the dictionary, one by one:\n",
    "\n",
    "thisdict =\t{\n",
    "  \"brand\": \"Ford\",\n",
    "  \"model\": \"Mustang\",\n",
    "  \"year\": 1964\n",
    "}\n",
    "for x in thisdict:\n",
    "  print(x)"
   ]
  },
  {
   "cell_type": "code",
   "execution_count": 28,
   "id": "d9b7a3a0",
   "metadata": {},
   "outputs": [
    {
     "name": "stdout",
     "output_type": "stream",
     "text": [
      "Ford\n",
      "Mustang\n",
      "1964\n"
     ]
    }
   ],
   "source": [
    "#Example\n",
    "# Print all values in the dictionary, one by one:\n",
    "    \n",
    "thisdict =\t{\n",
    "  \"brand\": \"Ford\",\n",
    "  \"model\": \"Mustang\",\n",
    "  \"year\": 1964\n",
    "}\n",
    "for x in thisdict:\n",
    "  print(thisdict[x])"
   ]
  },
  {
   "cell_type": "code",
   "execution_count": 29,
   "id": "2e653fa3",
   "metadata": {},
   "outputs": [
    {
     "name": "stdout",
     "output_type": "stream",
     "text": [
      "Ford\n",
      "Mustang\n",
      "1964\n"
     ]
    }
   ],
   "source": [
    "#Example\n",
    "# You can also use the values() method to return values of a dictionary:\n",
    "\n",
    "thisdict =\t{\n",
    "  \"brand\": \"Ford\",\n",
    "  \"model\": \"Mustang\",\n",
    "  \"year\": 1964\n",
    "}\n",
    "for x in thisdict.values():\n",
    "  print(x)"
   ]
  },
  {
   "cell_type": "code",
   "execution_count": 30,
   "id": "7fd79603",
   "metadata": {},
   "outputs": [
    {
     "name": "stdout",
     "output_type": "stream",
     "text": [
      "brand\n",
      "model\n",
      "year\n"
     ]
    }
   ],
   "source": [
    "#Example\n",
    "# You can use the keys() method to return the keys of a dictionary:\n",
    "\n",
    "thisdict =\t{\n",
    "  \"brand\": \"Ford\",\n",
    "  \"model\": \"Mustang\",\n",
    "  \"year\": 1964\n",
    "}\n",
    "for x in thisdict.keys():\n",
    "  print(x)"
   ]
  },
  {
   "cell_type": "code",
   "execution_count": 31,
   "id": "7c1bdd2f",
   "metadata": {},
   "outputs": [
    {
     "name": "stdout",
     "output_type": "stream",
     "text": [
      "brand Ford\n",
      "model Mustang\n",
      "year 1964\n"
     ]
    }
   ],
   "source": [
    "#Example\n",
    "# Loop through both keys and values, by using the items() method:\n",
    "\n",
    "thisdict =\t{\n",
    "  \"brand\": \"Ford\",\n",
    "  \"model\": \"Mustang\",\n",
    "  \"year\": 1964\n",
    "}\n",
    "for x, y in thisdict.items():\n",
    "  print(x, y)"
   ]
  },
  {
   "cell_type": "markdown",
   "id": "cf2bfc13",
   "metadata": {},
   "source": [
    "# Python - Copy Dictionaries"
   ]
  },
  {
   "cell_type": "markdown",
   "id": "59a4b33d",
   "metadata": {},
   "source": [
    "# Copy a Dictionary"
   ]
  },
  {
   "cell_type": "raw",
   "id": "9acd95a6",
   "metadata": {},
   "source": [
    "You cannot copy a dictionary simply by typing dict2 = dict1,\n",
    "because: dict2 will only be a reference to dict1, and changes made in dict1 will automatically also be made in dict2.\n",
    "There are ways to make a copy, one way is to use the built-in Dictionary method copy()."
   ]
  },
  {
   "cell_type": "code",
   "execution_count": 32,
   "id": "16695aea",
   "metadata": {},
   "outputs": [
    {
     "name": "stdout",
     "output_type": "stream",
     "text": [
      "{'brand': 'Ford', 'model': 'Mustang', 'year': 1964}\n"
     ]
    }
   ],
   "source": [
    "#Example\n",
    "# Make a copy of a dictionary with the copy() method:\n",
    "\n",
    "thisdict = {\n",
    "  \"brand\": \"Ford\",\n",
    "  \"model\": \"Mustang\",\n",
    "  \"year\": 1964\n",
    "}\n",
    "mydict = thisdict.copy()\n",
    "print(mydict)"
   ]
  },
  {
   "cell_type": "code",
   "execution_count": 33,
   "id": "a898322b",
   "metadata": {},
   "outputs": [
    {
     "name": "stdout",
     "output_type": "stream",
     "text": [
      "{'brand': 'Ford', 'model': 'Mustang', 'year': 1964}\n"
     ]
    }
   ],
   "source": [
    "# Another way to make a copy is to use the built-in function dict().\n",
    "\n",
    "#Example\n",
    "# Make a copy of a dictionary with the dict() function:\n",
    "\n",
    "thisdict = {\n",
    "  \"brand\": \"Ford\",\n",
    "  \"model\": \"Mustang\",\n",
    "  \"year\": 1964\n",
    "}\n",
    "mydict = dict(thisdict)\n",
    "print(mydict)"
   ]
  },
  {
   "cell_type": "markdown",
   "id": "ab105498",
   "metadata": {},
   "source": [
    "# Python - Nested Dictionaries"
   ]
  },
  {
   "cell_type": "markdown",
   "id": "28b785bd",
   "metadata": {},
   "source": [
    "# Nested Dictionaries"
   ]
  },
  {
   "cell_type": "raw",
   "id": "4121462b",
   "metadata": {},
   "source": [
    "A dictionary can contain dictionaries, this is called nested dictionaries."
   ]
  },
  {
   "cell_type": "code",
   "execution_count": 34,
   "id": "870f2650",
   "metadata": {},
   "outputs": [
    {
     "name": "stdout",
     "output_type": "stream",
     "text": [
      "{'child1': {'name': 'Emil', 'year': 2004}, 'child2': {'name': 'Tobias', 'year': 2007}, 'child3': {'name': 'Linus', 'year': 2011}}\n"
     ]
    }
   ],
   "source": [
    "#Example\n",
    "# Create a dictionary that contain three dictionaries:\n",
    "\n",
    "myfamily = {\n",
    "  \"child1\" : {\n",
    "    \"name\" : \"Emil\",\n",
    "    \"year\" : 2004\n",
    "  },\n",
    "  \"child2\" : {\n",
    "    \"name\" : \"Tobias\",\n",
    "    \"year\" : 2007\n",
    "  },\n",
    "  \"child3\" : {\n",
    "    \"name\" : \"Linus\",\n",
    "    \"year\" : 2011\n",
    "  }\n",
    "}\n",
    "print(myfamily)"
   ]
  },
  {
   "cell_type": "code",
   "execution_count": 35,
   "id": "5fecc85f",
   "metadata": {},
   "outputs": [
    {
     "name": "stdout",
     "output_type": "stream",
     "text": [
      "{'child1': {'name': 'Emil', 'year': 2004}, 'child2': {'name': 'Tobias', 'year': 2007}, 'child3': {'name': 'Linus', 'year': 2011}}\n"
     ]
    }
   ],
   "source": [
    "# Or, if you want to add three dictionaries into a new dictionary:\n",
    "\n",
    "#Example\n",
    "# Create three dictionaries, then create one dictionary that will contain the other three dictionaries:\n",
    "\n",
    "child1 = {\n",
    "  \"name\" : \"Emil\",\n",
    "  \"year\" : 2004\n",
    "}\n",
    "child2 = {\n",
    "  \"name\" : \"Tobias\",\n",
    "  \"year\" : 2007\n",
    "}\n",
    "child3 = {\n",
    "  \"name\" : \"Linus\",\n",
    "  \"year\" : 2011\n",
    "}\n",
    "\n",
    "myfamily = {\n",
    "  \"child1\" : child1,\n",
    "  \"child2\" : child2,\n",
    "  \"child3\" : child3\n",
    "}\n",
    "print(myfamily)"
   ]
  },
  {
   "cell_type": "markdown",
   "id": "d4ba0ecf",
   "metadata": {},
   "source": [
    "# Python Dictionary Methods"
   ]
  },
  {
   "cell_type": "markdown",
   "id": "f76e4052",
   "metadata": {},
   "source": [
    "# Dictionary Methods"
   ]
  },
  {
   "cell_type": "raw",
   "id": "e4e42648",
   "metadata": {},
   "source": [
    "Python has a set of built-in methods that you can use on dictionaries."
   ]
  },
  {
   "cell_type": "raw",
   "id": "99c4de80",
   "metadata": {},
   "source": [
    "# Method\tDescription\n",
    "clear()\tRemoves all the elements from the dictionary\n",
    "copy()\tReturns a copy of the dictionary\n",
    "fromkeys()\tReturns a dictionary with the specified keys and value\n",
    "get()\tReturns the value of the specified key\n",
    "items()\tReturns a list containing a tuple for each key value pair\n",
    "keys()\tReturns a list containing the dictionary's keys\n",
    "pop()\tRemoves the element with the specified key\n",
    "popitem()\tRemoves the last inserted key-value pair\n",
    "setdefault()\tReturns the value of the specified key.If the key does not exist: insert the key, with the specified value.\n",
    "update()\tUpdates the dictionary with the specified key-value pairs\n",
    "values()\tReturns a list of all the values in the dictionary"
   ]
  },
  {
   "cell_type": "markdown",
   "id": "553b9910",
   "metadata": {},
   "source": [
    "# Python Dictionary Exercises"
   ]
  },
  {
   "cell_type": "code",
   "execution_count": 36,
   "id": "8cc85843",
   "metadata": {},
   "outputs": [
    {
     "name": "stdout",
     "output_type": "stream",
     "text": [
      "Mustang\n"
     ]
    }
   ],
   "source": [
    "#Exercise:\n",
    "# Use the get method to print the value of the \"model\" key of the car dictionary.\n",
    "\n",
    "\n",
    "car =\t{\n",
    "  \"brand\": \"Ford\",\n",
    "  \"model\": \"Mustang\",\n",
    "  \"year\": 1964\n",
    "}\n",
    "print(car.get(\"model\"))"
   ]
  },
  {
   "cell_type": "code",
   "execution_count": 37,
   "id": "1e1c2aa0",
   "metadata": {},
   "outputs": [
    {
     "name": "stdout",
     "output_type": "stream",
     "text": [
      "{'brand': 'Ford', 'model': 'Mustang', 'year': 2020}\n"
     ]
    }
   ],
   "source": [
    "#Exercise:\n",
    "#Change the \"year\" value from 1964 to 2020.\n",
    "\n",
    "car =\t{\n",
    "  \"brand\": \"Ford\",\n",
    "  \"model\": \"Mustang\",\n",
    "  \"year\": 1964\n",
    "}\n",
    "car[\"year\"]= 2020\n",
    "print(car)"
   ]
  },
  {
   "cell_type": "code",
   "execution_count": 38,
   "id": "f66c08ee",
   "metadata": {},
   "outputs": [
    {
     "name": "stdout",
     "output_type": "stream",
     "text": [
      "{'brand': 'Ford', 'model': 'Mustang', 'year': 1964, 'color': 'red'}\n"
     ]
    }
   ],
   "source": [
    "#Exercise:\n",
    "#Add the key/value pair \"color\" : \"red\" to the car dictionary.\n",
    "\n",
    "car =\t{\n",
    "  \"brand\": \"Ford\",\n",
    "  \"model\": \"Mustang\",\n",
    "  \"year\": 1964\n",
    "}\n",
    "car[\"color\"]=\"red\"\n",
    "print(car)"
   ]
  },
  {
   "cell_type": "code",
   "execution_count": 39,
   "id": "cbd12017",
   "metadata": {},
   "outputs": [
    {
     "name": "stdout",
     "output_type": "stream",
     "text": [
      "{'brand': 'Ford', 'year': 1964}\n"
     ]
    }
   ],
   "source": [
    "#Exercise:\n",
    "# Use the pop method to remove \"model\" from the car dictionary.\n",
    "\n",
    "car =\t{\n",
    "  \"brand\": \"Ford\",\n",
    "  \"model\": \"Mustang\",\n",
    "  \"year\": 1964\n",
    "}\n",
    "car.pop(\"model\")\n",
    "print(car)"
   ]
  },
  {
   "cell_type": "code",
   "execution_count": 40,
   "id": "5f6cb490",
   "metadata": {},
   "outputs": [
    {
     "name": "stdout",
     "output_type": "stream",
     "text": [
      "{}\n"
     ]
    }
   ],
   "source": [
    "#Exercise:\n",
    "# Use the clear method to empty the car dictionary.\n",
    "\n",
    "car =\t{\n",
    "  \"brand\": \"Ford\",\n",
    "  \"model\": \"Mustang\",\n",
    "  \"year\": 1964\n",
    "}\n",
    "car.clear()\n",
    "print(car)"
   ]
  },
  {
   "cell_type": "code",
   "execution_count": 41,
   "id": "fb6dfde9",
   "metadata": {},
   "outputs": [
    {
     "name": "stdout",
     "output_type": "stream",
     "text": [
      "{'name': 'Ram', 'age': 25, 'is married': True}\n",
      "<class 'dict'>\n",
      "Ram\n",
      "25\n",
      "dict_keys(['name', 'age', 'is married'])\n",
      "dict_values(['Ram', 25, True])\n",
      "dict_items([('name', 'Ram'), ('age', 25), ('is married', True)])\n",
      "name   Ram\n",
      "age   25\n",
      "is married   True\n",
      "Ram\n",
      "25\n",
      "True\n",
      "name\n",
      "age\n",
      "is married\n",
      "name Ram\n",
      "age 25\n",
      "is married True\n",
      "absent\n"
     ]
    }
   ],
   "source": [
    "user={\"name\":\"Ram\",\n",
    "      \"age\":25,\n",
    "     \"is married\":True\n",
    "     }\n",
    "print(user)\n",
    "print(type(user))\n",
    "print(user[\"name\"])\n",
    "print(user.get('age'))\n",
    "print(user.keys())\n",
    "print(user.values())\n",
    "print(user.items())\n",
    "for x in user:\n",
    "    print(x,\" \",user[x])\n",
    "for x in user.values():\n",
    "    print(x)\n",
    "for x in user.keys():\n",
    "    print(x)\n",
    "for x,y in user.items():\n",
    "    print(x,y)\n",
    "if \"gender\" in user:\n",
    "    print(\"present\")\n",
    "else:\n",
    "    print(\"absent\")"
   ]
  },
  {
   "cell_type": "code",
   "execution_count": 42,
   "id": "e458bb89",
   "metadata": {},
   "outputs": [
    {
     "name": "stdout",
     "output_type": "stream",
     "text": [
      "{'name': 'Ram', 'age': 25, 'is married': True, 'gender': 'male'}\n",
      "{'name': 'Ram', 'age': 35, 'is married': True, 'gender': 'male'}\n",
      "{'name': 'Ram', 'is married': True, 'gender': 'male'}\n",
      "{}\n"
     ]
    }
   ],
   "source": [
    "# Changing values:\n",
    "\n",
    "user.update({\"gender\":\"male\"})\n",
    "print(user)\n",
    "user[\"age\"]=35\n",
    "print(user)\n",
    "user.pop(\"age\")\n",
    "print(user)\n",
    "user.clear()\n",
    "print(user)"
   ]
  },
  {
   "cell_type": "code",
   "execution_count": 43,
   "id": "bcb8ad00",
   "metadata": {},
   "outputs": [
    {
     "name": "stdout",
     "output_type": "stream",
     "text": [
      "{'user': {'name': 'Ram', 'age': 25, 'is married': True}, 'user1': {'name': 'sam', 'age': 35, 'is married': False}}\n",
      "{'name': 'sam', 'age': 35, 'is married': False}\n",
      "sam\n",
      "Ram\n",
      "user   {'name': 'Ram', 'age': 25, 'is married': True}\n",
      "user1   {'name': 'sam', 'age': 35, 'is married': False}\n",
      "{'name': 'Ram', 'age': 25, 'is married': True}\n",
      "{'name': 'sam', 'age': 35, 'is married': False}\n",
      "user\n",
      "user1\n",
      "('user', {'name': 'Ram', 'age': 25, 'is married': True})\n",
      "('user1', {'name': 'sam', 'age': 35, 'is married': False})\n",
      "present\n"
     ]
    }
   ],
   "source": [
    "users={\n",
    "    \"user\":{\"name\":\"Ram\",\"age\":25,\"is married\":True},\n",
    "    \"user1\":{\"name\":\"sam\",\"age\":35,\"is married\":False}\n",
    "        }\n",
    "print(users)\n",
    "print(users['user1'])\n",
    "print(users['user1']['name'])\n",
    "print(users['user']['name'])\n",
    "\n",
    "for x in users:\n",
    "    print(x,\" \",users[x])\n",
    "for x in users.values():\n",
    "    print(x)\n",
    "for x in users.keys():\n",
    "    print(x)\n",
    "for x in users.items():\n",
    "    print(x)\n",
    "if \"user\" in users:\n",
    "    print(\"present\")\n",
    "else:\n",
    "    print(\"absent\")"
   ]
  },
  {
   "cell_type": "code",
   "execution_count": 44,
   "id": "feb3e689",
   "metadata": {},
   "outputs": [
    {
     "name": "stdout",
     "output_type": "stream",
     "text": [
      "user\n",
      "user1\n",
      "name\n",
      "name\n"
     ]
    }
   ],
   "source": [
    "for i in users:\n",
    "    print(i)\n",
    "for i in users.values():\n",
    "    for j in i.keys():\n",
    "        if j =='name':\n",
    "            print(j)"
   ]
  },
  {
   "cell_type": "code",
   "execution_count": 45,
   "id": "969bea6c",
   "metadata": {},
   "outputs": [
    {
     "name": "stdout",
     "output_type": "stream",
     "text": [
      "{2, 3, 4, 6}\n",
      "[6, 4, 3, 2]\n"
     ]
    }
   ],
   "source": [
    "# Counting list to set:\n",
    "\n",
    "l=[6,4,3,2]\n",
    "x=set(l)\n",
    "print(x)\n",
    "print(l)"
   ]
  },
  {
   "cell_type": "code",
   "execution_count": 46,
   "id": "5caea137",
   "metadata": {},
   "outputs": [
    {
     "name": "stdout",
     "output_type": "stream",
     "text": [
      "<class 'set'>\n"
     ]
    }
   ],
   "source": [
    "l=[]\n",
    "l1={1,2,3,2,4,5}\n",
    "print(type(l1))"
   ]
  },
  {
   "cell_type": "code",
   "execution_count": 47,
   "id": "95269454",
   "metadata": {},
   "outputs": [
    {
     "name": "stdout",
     "output_type": "stream",
     "text": [
      "1 0\n"
     ]
    }
   ],
   "source": [
    "# Highest no of duplicate values:\n",
    "\n",
    "flag=0\n",
    "temp=1\n",
    "for i in range(len(l)):\n",
    "    count=0\n",
    "    for j in range(i+1,len(l)):\n",
    "        if(l[i]==l[j]):\n",
    "            count=count+1\n",
    "    if(count>temp):\n",
    "        temp=count\n",
    "        flag=l[i]\n",
    "print(temp,flag)"
   ]
  },
  {
   "cell_type": "code",
   "execution_count": 48,
   "id": "ca4d246d",
   "metadata": {},
   "outputs": [
    {
     "name": "stdout",
     "output_type": "stream",
     "text": [
      "enter the no of rows=2\n",
      "enter the no of colums2\n",
      "enter the ele=1\n",
      "enter the ele=2\n",
      "enter the ele=3\n",
      "enter the ele=4\n",
      "[[1, 2], [3, 4]]\n"
     ]
    }
   ],
   "source": [
    "# 2D-list:\n",
    "\n",
    "l=[]\n",
    "r=int(input(\"enter the no of rows=\"))\n",
    "c=int(input(\"enter the no of colums\"))\n",
    "for i in range(r):\n",
    "    t=[]\n",
    "    for j in range(c):\n",
    "        ele=int(input(\"enter the ele=\"))\n",
    "        t.append(ele)\n",
    "    l.append(t)\n",
    "print(l)"
   ]
  },
  {
   "cell_type": "markdown",
   "id": "41758c33",
   "metadata": {},
   "source": []
  },
  {
   "cell_type": "code",
   "execution_count": 49,
   "id": "f682199f",
   "metadata": {},
   "outputs": [
    {
     "name": "stdout",
     "output_type": "stream",
     "text": [
      "H \n",
      "O \n",
      "N \n",
      "E \n",
      "Y \n"
     ]
    }
   ],
   "source": [
    "l=[\"H\",\"O\",\"N\",\"E\",\"Y\"]\n",
    "for i in range(5):\n",
    "    for j in range(5):\n",
    "        if(i==j):\n",
    "            print(l[i],end=' ')\n",
    "            continue\n",
    "            print(\"*\",end=' ')\n",
    "    print()"
   ]
  },
  {
   "cell_type": "code",
   "execution_count": 50,
   "id": "c59b761e",
   "metadata": {},
   "outputs": [
    {
     "name": "stdout",
     "output_type": "stream",
     "text": [
      "Enter the value row=2\n",
      "Enter the value column=2\n",
      "Enter the value row=2\n",
      "Enter the value column=2\n",
      "enter the ele=1\n",
      "enter the ele=2\n",
      "enter the ele=3\n",
      "enter the ele=4\n",
      "enter the ele=1\n",
      "enter the ele=2\n",
      "enter the ele=3\n",
      "enter the ele=4\n",
      "[2, 8]\n",
      "[2, 8, 18, 32]\n"
     ]
    }
   ],
   "source": [
    "# write a program find the multiply of two matrics:\n",
    "\n",
    "l1=[]\n",
    "l2=[]\n",
    "l3=[]\n",
    "r1=int(input(\"Enter the value row=\"))\n",
    "c1=int(input(\"Enter the value column=\"))\n",
    "r2=int(input(\"Enter the value row=\"))\n",
    "c2=int(input(\"Enter the value column=\"))\n",
    "if(c1==r2):\n",
    "    for i in range(r1):\n",
    "        t=[]\n",
    "        for j in range(c1):\n",
    "            ele=int(input(\"enter the ele=\"))\n",
    "            t.append(ele)\n",
    "        l1.append(t)\n",
    "    for i in range(r2):\n",
    "        t=[]\n",
    "        for j in range(c2):\n",
    "            ele=int(input(\"enter the ele=\"))\n",
    "            t.append(ele)\n",
    "        l2.append(t)\n",
    "    for i in range(r1):\n",
    "        for j in range(c2):\n",
    "            c=0\n",
    "            for k in range(c1):\n",
    "                c=c+l1[i][j]*l2[i][j]\n",
    "            l3.append(c)\n",
    "        print(l3)\n",
    "else:\n",
    "    print(\"wrong matrics\")"
   ]
  },
  {
   "cell_type": "code",
   "execution_count": 51,
   "id": "00b632d6",
   "metadata": {},
   "outputs": [
    {
     "name": "stdout",
     "output_type": "stream",
     "text": [
      "Enter the value row=2\n",
      "Enter the value column=2\n",
      "Enter the value row=2\n",
      "Enter the value column=2\n",
      "enter the ele=1\n",
      "enter the ele=2\n",
      "enter the ele=3\n",
      "enter the ele=4\n",
      "[[1, 2], [3, 4]]\n",
      "enter the ele=1\n",
      "enter the ele=2\n",
      "enter the ele=3\n",
      "enter the ele=4\n",
      "[[1, 2], [3, 4]]\n",
      "[2, 4, 6, 8]\n"
     ]
    }
   ],
   "source": [
    "#addition two matrics:\n",
    "\n",
    "l1=[]\n",
    "l2=[]\n",
    "l3=[]\n",
    "r1=int(input(\"Enter the value row=\"))\n",
    "c1=int(input(\"Enter the value column=\"))\n",
    "r2=int(input(\"Enter the value row=\"))\n",
    "c2=int(input(\"Enter the value column=\"))\n",
    "if(r1==r2 and c1==c2):\n",
    "    for i in range(r1):\n",
    "        t=[]\n",
    "        for j in range(c1):\n",
    "            ele=int(input(\"enter the ele=\"))\n",
    "            t.append(ele)\n",
    "        l1.append(t)\n",
    "    print(l1)\n",
    "    for i in range(r2):\n",
    "        t=[]\n",
    "        for j in range(c2):\n",
    "            ele=int(input(\"enter the ele=\"))\n",
    "            t.append(ele)\n",
    "        l2.append(t)\n",
    "    print(l2)\n",
    "    for i in range(r1):\n",
    "        for j in range(c1):\n",
    "            x=l1[i][j]+l2[i][j]\n",
    "            l3.append(x)\n",
    "    print(l3)"
   ]
  },
  {
   "cell_type": "code",
   "execution_count": 52,
   "id": "abd180cb",
   "metadata": {},
   "outputs": [
    {
     "name": "stdout",
     "output_type": "stream",
     "text": [
      "Enter the value row=3\n",
      "Enter the value column=3\n",
      "enter the ele=1\n",
      "enter the ele=2\n",
      "enter the ele=3\n",
      "enter the ele=4\n",
      "enter the ele=5\n",
      "enter the ele=6\n",
      "enter the ele=7\n",
      "enter the ele=8\n",
      "enter the ele=9\n",
      "sum of diagonal= 15\n"
     ]
    }
   ],
   "source": [
    "#sum of diagnal :\n",
    "\n",
    "l=[]\n",
    "r=int(input(\"Enter the value row=\"))\n",
    "c=int(input(\"Enter the value column=\"))\n",
    "for i in range(r):\n",
    "    t=[]\n",
    "    for j in range(c):\n",
    "        ele=int(input(\"enter the ele=\"))\n",
    "        t.append(ele)\n",
    "    l.append(t)\n",
    "s=0\n",
    "for i in range(r):\n",
    "    for j in range(c):\n",
    "        if(i==j):\n",
    "            s+=l[i][j]\n",
    "print(\"sum of diagonal=\",s)"
   ]
  },
  {
   "cell_type": "code",
   "execution_count": 53,
   "id": "73c34ed9",
   "metadata": {},
   "outputs": [
    {
     "name": "stdout",
     "output_type": "stream",
     "text": [
      "Enter the value row=3\n",
      "Enter the value column=3\n",
      "enter the ele=1\n",
      "enter the ele=2\n",
      "enter the ele=3\n",
      "enter the ele=4\n",
      "enter the ele=5\n",
      "enter the ele=6\n",
      "enter the ele=7\n",
      "enter the ele=8\n",
      "enter the ele=9\n",
      "[[1], [5], [9]]\n"
     ]
    }
   ],
   "source": [
    "#show the diagnal element:\n",
    "\n",
    "l=[]\n",
    "r=int(input(\"Enter the value row=\"))\n",
    "c=int(input(\"Enter the value column=\"))\n",
    "for i in range(r):\n",
    "    t=[]\n",
    "    for j in range(c):\n",
    "        ele=int(input(\"enter the ele=\"))\n",
    "        if(i==j):\n",
    "            t.append(ele)\n",
    "    l.append(t)\n",
    "print(l)"
   ]
  },
  {
   "cell_type": "code",
   "execution_count": 54,
   "id": "165c12e7",
   "metadata": {},
   "outputs": [
    {
     "name": "stdout",
     "output_type": "stream",
     "text": [
      "enter the ele=1\n",
      "enter the ele=2\n",
      "enter the ele=3\n",
      "enter the ele=4\n",
      "enter the ele=5\n",
      "enter the ele=6\n",
      "enter the ele=7\n",
      "enter the ele=8\n",
      "enter the ele=9\n",
      "15\n"
     ]
    }
   ],
   "source": [
    "# Cross diagonal matrics\n",
    "r=3\n",
    "c=3\n",
    "l=[]\n",
    "for i in range(r):\n",
    "    t=[]\n",
    "    for j in range(c):\n",
    "        ele=int(input(\"enter the ele=\"))\n",
    "        t.append(ele)\n",
    "    l.append(t)\n",
    "s=0\n",
    "for i in range(r):\n",
    "    for j in range(c):\n",
    "        if(i+j==c-1):\n",
    "            s+=l[i][j]\n",
    "print(s)"
   ]
  },
  {
   "cell_type": "code",
   "execution_count": 55,
   "id": "8b116bc7",
   "metadata": {},
   "outputs": [
    {
     "name": "stdout",
     "output_type": "stream",
     "text": [
      "enter the ele=1\n",
      "enter the ele=2\n",
      "enter the ele=3\n",
      "enter the ele=4\n",
      "enter the ele=5\n",
      "enter the ele=6\n",
      "enter the ele=7\n",
      "enter the ele=8\n",
      "enter the ele=9\n",
      "[[3], [5], [7]]\n"
     ]
    }
   ],
   "source": [
    "# cross diagonal matrics:\n",
    "r=3\n",
    "c=3\n",
    "l=[]\n",
    "for i in range(r):\n",
    "    t=[]\n",
    "    for j in range(c):\n",
    "        ele=int(input(\"enter the ele=\"))\n",
    "        if(i+j==c-1):\n",
    "            t.append(ele)\n",
    "    l.append(t)\n",
    "print(l)"
   ]
  }
 ],
 "metadata": {
  "kernelspec": {
   "display_name": "Python 3 (ipykernel)",
   "language": "python",
   "name": "python3"
  },
  "language_info": {
   "codemirror_mode": {
    "name": "ipython",
    "version": 3
   },
   "file_extension": ".py",
   "mimetype": "text/x-python",
   "name": "python",
   "nbconvert_exporter": "python",
   "pygments_lexer": "ipython3",
   "version": "3.9.12"
  }
 },
 "nbformat": 4,
 "nbformat_minor": 5
}
