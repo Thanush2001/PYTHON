{
 "cells": [
  {
   "cell_type": "markdown",
   "id": "886456cc",
   "metadata": {},
   "source": [
    "# Python Strings:"
   ]
  },
  {
   "cell_type": "markdown",
   "id": "646ba6c8",
   "metadata": {},
   "source": [
    "# Strings:"
   ]
  },
  {
   "cell_type": "raw",
   "id": "be197ad4",
   "metadata": {},
   "source": [
    "Strings in python are surrounded by either single quotation marks, or double quotation marks.\n",
    "'hello' is the same as \"hello\".\n",
    "You can display a string literal with the print() function:"
   ]
  },
  {
   "cell_type": "code",
   "execution_count": 1,
   "id": "f0075c8e",
   "metadata": {},
   "outputs": [
    {
     "name": "stdout",
     "output_type": "stream",
     "text": [
      "Hello\n",
      "Hello\n"
     ]
    }
   ],
   "source": [
    "#Example:\n",
    "print(\"Hello\")\n",
    "print('Hello')"
   ]
  },
  {
   "cell_type": "code",
   "execution_count": 2,
   "id": "d761290a",
   "metadata": {},
   "outputs": [
    {
     "name": "stdout",
     "output_type": "stream",
     "text": [
      "Hello\n"
     ]
    }
   ],
   "source": [
    "#Assign String to a Variable:\n",
    "#Assigning a string to a variable is done with the variable name followed by an equal sign and the string:\n",
    "\n",
    "#Example:\n",
    "a = \"Hello\"\n",
    "print(a)"
   ]
  },
  {
   "cell_type": "code",
   "execution_count": 3,
   "id": "70313134",
   "metadata": {},
   "outputs": [
    {
     "name": "stdout",
     "output_type": "stream",
     "text": [
      "Lorem ipsum dolor sit amet,\n",
      "consectetur adipiscing elit,\n",
      "sed do eiusmod tempor incididunt\n",
      "ut labore et dolore magna aliqua.\n",
      "Lorem ipsum dolor sit amet,\n",
      "consectetur adipiscing elit,\n",
      "sed do eiusmod tempor incididunt\n",
      "ut labore et dolore magna aliqua.\n"
     ]
    }
   ],
   "source": [
    "#Multiline Strings:\n",
    "#You can assign a multiline string to a variable by using three quotes:\n",
    "\n",
    "#Example:\n",
    "#You can use three double quotes:\n",
    "\n",
    "a = \"\"\"Lorem ipsum dolor sit amet,\n",
    "consectetur adipiscing elit,\n",
    "sed do eiusmod tempor incididunt\n",
    "ut labore et dolore magna aliqua.\"\"\"\n",
    "print(a)\n",
    "\n",
    "#Example:\n",
    "a = '''Lorem ipsum dolor sit amet,\n",
    "consectetur adipiscing elit,\n",
    "sed do eiusmod tempor incididunt\n",
    "ut labore et dolore magna aliqua.'''\n",
    "print(a)"
   ]
  },
  {
   "cell_type": "code",
   "execution_count": 4,
   "id": "89843222",
   "metadata": {},
   "outputs": [
    {
     "name": "stdout",
     "output_type": "stream",
     "text": [
      "e\n"
     ]
    }
   ],
   "source": [
    "#Strings are Arrays:\n",
    "#Like many other popular programming languages, strings in Python are arrays of bytes representing unicode characters.\n",
    "#However, Python does not have a character data type, a single character is simply a string with a length of 1.\n",
    "#Square brackets can be used to access elements of the string.\n",
    "\n",
    "#Example:\n",
    "#Get the character at position 1 (remember that the first character has the position 0):\n",
    "\n",
    "a = \"Hello, World!\"\n",
    "print(a[1])"
   ]
  },
  {
   "cell_type": "code",
   "execution_count": 5,
   "id": "96a0f509",
   "metadata": {},
   "outputs": [
    {
     "name": "stdout",
     "output_type": "stream",
     "text": [
      "b\n",
      "a\n",
      "n\n",
      "a\n",
      "n\n",
      "a\n"
     ]
    }
   ],
   "source": [
    "#Looping Through a String:\n",
    "#Since strings are arrays, we can loop through the characters in a string, with a for loop.\n",
    "\n",
    "#Example:\n",
    "#Loop through the letters in the word \"banana\":\n",
    "\n",
    "for x in \"banana\":\n",
    "  print(x)"
   ]
  },
  {
   "cell_type": "code",
   "execution_count": 6,
   "id": "43dd15c0",
   "metadata": {},
   "outputs": [
    {
     "name": "stdout",
     "output_type": "stream",
     "text": [
      "13\n"
     ]
    }
   ],
   "source": [
    "#String Length:\n",
    "#To get the length of a string, use the len() function.\n",
    "\n",
    "#Example:\n",
    "#The len() function returns the length of a string:\n",
    "\n",
    "a = \"Hello, World!\"\n",
    "print(len(a))"
   ]
  },
  {
   "cell_type": "code",
   "execution_count": 7,
   "id": "1a23d72b",
   "metadata": {},
   "outputs": [
    {
     "name": "stdout",
     "output_type": "stream",
     "text": [
      "True\n"
     ]
    }
   ],
   "source": [
    "#Check String:\n",
    "#To check if a certain phrase or character is present in a string, we can use the keyword in.\n",
    "\n",
    "#Example:\n",
    "#Check if \"free\" is present in the following text:\n",
    "\n",
    "txt = \"The best things in life are free!\"\n",
    "print(\"free\" in txt)"
   ]
  },
  {
   "cell_type": "code",
   "execution_count": 8,
   "id": "4c69d0f8",
   "metadata": {},
   "outputs": [
    {
     "name": "stdout",
     "output_type": "stream",
     "text": [
      "Yes, 'free' is present.\n"
     ]
    }
   ],
   "source": [
    "#Use it in an if statement:\n",
    "\n",
    "#Example:\n",
    "#Print only if \"free\" is present:\n",
    "\n",
    "txt = \"The best things in life are free!\"\n",
    "if \"free\" in txt:\n",
    "  print(\"Yes, 'free' is present.\")"
   ]
  },
  {
   "cell_type": "code",
   "execution_count": 9,
   "id": "68136c76",
   "metadata": {},
   "outputs": [
    {
     "name": "stdout",
     "output_type": "stream",
     "text": [
      "True\n",
      "No, 'expensive' is NOT present.\n"
     ]
    }
   ],
   "source": [
    "#Check if NOT:\n",
    "#To check if a certain phrase or character is NOT present in a string, we can use the keyword not in.\n",
    "\n",
    "#Example:\n",
    "#Check if \"expensive\" is NOT present in the following text:\n",
    "\n",
    "txt = \"The best things in life are free!\"\n",
    "print(\"expensive\" not in txt)\n",
    "\n",
    "#Use it in an if statement:\n",
    "\n",
    "#Example\n",
    "# print only if \"expensive\" is NOT present:\n",
    "\n",
    "txt = \"The best things in life are free!\"\n",
    "if \"expensive\" not in txt:\n",
    "  print(\"No, 'expensive' is NOT present.\")"
   ]
  },
  {
   "cell_type": "markdown",
   "id": "3f08d09f",
   "metadata": {},
   "source": [
    "# Python - Slicing Strings:"
   ]
  },
  {
   "cell_type": "raw",
   "id": "ec6ec953",
   "metadata": {},
   "source": [
    "Slicing:\n",
    "You can return a range of characters by using the slice syntax.\n",
    "Specify the start index and the end index, separated by a colon, to return a part of the string."
   ]
  },
  {
   "cell_type": "raw",
   "id": "4b931e42",
   "metadata": {},
   "source": [
    "syntax list:\n",
    "    [start:End:jump]"
   ]
  },
  {
   "cell_type": "code",
   "execution_count": 10,
   "id": "1545923f",
   "metadata": {},
   "outputs": [
    {
     "name": "stdout",
     "output_type": "stream",
     "text": [
      "llo\n"
     ]
    }
   ],
   "source": [
    "#Example\n",
    "#Get the characters from position 2 to position 5 (not included):\n",
    "\n",
    "b = \"Hello, World!\"\n",
    "print(b[2:5])"
   ]
  },
  {
   "cell_type": "raw",
   "id": "caca72e0",
   "metadata": {},
   "source": [
    "Slice From the Start:\n",
    "By leaving out the start index, the range will start at the first character"
   ]
  },
  {
   "cell_type": "code",
   "execution_count": 11,
   "id": "5771a601",
   "metadata": {},
   "outputs": [
    {
     "name": "stdout",
     "output_type": "stream",
     "text": [
      "Hello\n"
     ]
    }
   ],
   "source": [
    "#Example:\n",
    "#Get the characters from the start to position 5 (not included):\n",
    "\n",
    "b = \"Hello, World!\"\n",
    "print(b[:5])"
   ]
  },
  {
   "cell_type": "raw",
   "id": "95de4782",
   "metadata": {},
   "source": [
    "Slice To the End:\n",
    "By leaving out the end index, the range will go to the end"
   ]
  },
  {
   "cell_type": "code",
   "execution_count": 12,
   "id": "6bed404f",
   "metadata": {},
   "outputs": [
    {
     "name": "stdout",
     "output_type": "stream",
     "text": [
      "llo, World!\n"
     ]
    }
   ],
   "source": [
    "#Example:\n",
    "#Get the characters from position 2, and all the way to the end:\n",
    "\n",
    "b = \"Hello, World!\"\n",
    "print(b[2:])"
   ]
  },
  {
   "cell_type": "raw",
   "id": "e0a06eea",
   "metadata": {},
   "source": [
    "Negative Indexing:\n",
    "Use negative indexes to start the slice from the end of the string:"
   ]
  },
  {
   "cell_type": "code",
   "execution_count": 13,
   "id": "26d889c8",
   "metadata": {},
   "outputs": [
    {
     "name": "stdout",
     "output_type": "stream",
     "text": [
      "orl\n"
     ]
    }
   ],
   "source": [
    "#Example:\n",
    "#Get the characters:\n",
    "#From: \"o\" in \"World!\" (position -5)\n",
    "#To, but not included: \"d\" in \"World!\" (position -2):\n",
    "\n",
    "b = \"Hello, World!\"\n",
    "print(b[-5:-2])"
   ]
  },
  {
   "cell_type": "markdown",
   "id": "2f51664e",
   "metadata": {},
   "source": [
    "# Python - Modify Strings:"
   ]
  },
  {
   "cell_type": "raw",
   "id": "51694af8",
   "metadata": {},
   "source": [
    "Python has a set of built-in methods that you can use on strings."
   ]
  },
  {
   "cell_type": "code",
   "execution_count": 14,
   "id": "fad8a017",
   "metadata": {},
   "outputs": [
    {
     "name": "stdout",
     "output_type": "stream",
     "text": [
      "HELLO, WORLD!\n"
     ]
    }
   ],
   "source": [
    "#Upper Case:\n",
    "#Example:\n",
    "#The upper() method returns the string in upper case:\n",
    "\n",
    "a = \"Hello, World!\"\n",
    "print(a.upper())"
   ]
  },
  {
   "cell_type": "code",
   "execution_count": 15,
   "id": "b8047173",
   "metadata": {},
   "outputs": [
    {
     "name": "stdout",
     "output_type": "stream",
     "text": [
      "hello, world!\n"
     ]
    }
   ],
   "source": [
    "#Lower Case:\n",
    "#Example:\n",
    "#The lower() method returns the string in lower case:\n",
    "\n",
    "a = \"Hello, World!\"\n",
    "print(a.lower())"
   ]
  },
  {
   "cell_type": "code",
   "execution_count": 16,
   "id": "84219d27",
   "metadata": {},
   "outputs": [
    {
     "name": "stdout",
     "output_type": "stream",
     "text": [
      "Hello, World!\n"
     ]
    }
   ],
   "source": [
    "#Remove Whitespace:\n",
    "#Whitespace is the space before and/or after the actual text, and very often you want to remove this space.\n",
    "\n",
    "#Example:\n",
    "#The strip() method removes any whitespace from the beginning or the end:\n",
    "\n",
    "a = \" Hello, World! \"\n",
    "print(a.strip()) # returns \"Hello, World!\""
   ]
  },
  {
   "cell_type": "code",
   "execution_count": 17,
   "id": "2ccdf6c1",
   "metadata": {},
   "outputs": [
    {
     "name": "stdout",
     "output_type": "stream",
     "text": [
      "Jello, World!\n"
     ]
    }
   ],
   "source": [
    "#Replace String:\n",
    "#Example:\n",
    "#The replace() method replaces a string with another string:\n",
    "\n",
    "a = \"Hello, World!\"\n",
    "print(a.replace(\"H\", \"J\"))"
   ]
  },
  {
   "cell_type": "code",
   "execution_count": 18,
   "id": "f6ffceb2",
   "metadata": {},
   "outputs": [
    {
     "name": "stdout",
     "output_type": "stream",
     "text": [
      "['Hello', ' World!']\n"
     ]
    }
   ],
   "source": [
    "#Split String:\n",
    "#The split() method returns a list where the text between the specified separator becomes the list items.\n",
    "\n",
    "#Example:\n",
    "#The split() method splits the string into substrings if it finds instances of the separator:\n",
    "\n",
    "a = \"Hello, World!\"\n",
    "print(a.split(\",\")) # returns ['Hello', ' World!']"
   ]
  },
  {
   "cell_type": "markdown",
   "id": "66b4dda3",
   "metadata": {},
   "source": [
    "# Python - String Concatenation:"
   ]
  },
  {
   "cell_type": "code",
   "execution_count": 19,
   "id": "8ba86090",
   "metadata": {},
   "outputs": [
    {
     "name": "stdout",
     "output_type": "stream",
     "text": [
      "HelloWorld\n",
      "Hello World\n"
     ]
    }
   ],
   "source": [
    "#String Concatenation:\n",
    "# To concatenate, or combine, two strings you can use the + operator.\n",
    "\n",
    "#Example:\n",
    "# Merge variable a with variable b into variable c:\n",
    "\n",
    "a = \"Hello\"\n",
    "b = \"World\"\n",
    "c = a + b\n",
    "print(c)\n",
    "\n",
    "#Example:\n",
    "# To add a space between them, add a \" \":\n",
    "\n",
    "a = \"Hello\"\n",
    "b = \"World\"\n",
    "c = a + \" \" + b\n",
    "print(c)"
   ]
  },
  {
   "cell_type": "markdown",
   "id": "767dc2b3",
   "metadata": {},
   "source": [
    "# Python - Format - Strings:"
   ]
  },
  {
   "cell_type": "markdown",
   "id": "4d582ee3",
   "metadata": {},
   "source": [
    "# String Format:"
   ]
  },
  {
   "cell_type": "code",
   "execution_count": 20,
   "id": "9c62b8c3",
   "metadata": {},
   "outputs": [
    {
     "ename": "TypeError",
     "evalue": "can only concatenate str (not \"int\") to str",
     "output_type": "error",
     "traceback": [
      "\u001b[1;31m---------------------------------------------------------------------------\u001b[0m",
      "\u001b[1;31mTypeError\u001b[0m                                 Traceback (most recent call last)",
      "Input \u001b[1;32mIn [20]\u001b[0m, in \u001b[0;36m<cell line: 6>\u001b[1;34m()\u001b[0m\n\u001b[0;32m      1\u001b[0m \u001b[38;5;66;03m#As we learned in the Python Variables chapter, we cannot combine strings and numbers like this:\u001b[39;00m\n\u001b[0;32m      2\u001b[0m \n\u001b[0;32m      3\u001b[0m \u001b[38;5;66;03m#Example:\u001b[39;00m\n\u001b[0;32m      5\u001b[0m age \u001b[38;5;241m=\u001b[39m \u001b[38;5;241m36\u001b[39m\n\u001b[1;32m----> 6\u001b[0m txt \u001b[38;5;241m=\u001b[39m \u001b[38;5;124;43m\"\u001b[39;49m\u001b[38;5;124;43mMy name is John, I am \u001b[39;49m\u001b[38;5;124;43m\"\u001b[39;49m\u001b[43m \u001b[49m\u001b[38;5;241;43m+\u001b[39;49m\u001b[43m \u001b[49m\u001b[43mage\u001b[49m\n\u001b[0;32m      7\u001b[0m \u001b[38;5;28mprint\u001b[39m(txt)\n",
      "\u001b[1;31mTypeError\u001b[0m: can only concatenate str (not \"int\") to str"
     ]
    }
   ],
   "source": [
    "#As we learned in the Python Variables chapter, we cannot combine strings and numbers like this:\n",
    "\n",
    "#Example:\n",
    "\n",
    "age = 36\n",
    "txt = \"My name is John, I am \" + age\n",
    "print(txt)"
   ]
  },
  {
   "cell_type": "code",
   "execution_count": 21,
   "id": "e8089f17",
   "metadata": {},
   "outputs": [
    {
     "name": "stdout",
     "output_type": "stream",
     "text": [
      "My name is John, and I am 36\n"
     ]
    }
   ],
   "source": [
    "#But we can combine strings and numbers by using the format() method!\n",
    "#The format() method takes the passed arguments, formats them, and places them in the string where the placeholders {} are:\n",
    "\n",
    "#Example:\n",
    "#Use the format() method to insert numbers into strings:\n",
    "\n",
    "age = 36\n",
    "txt = \"My name is John, and I am {}\"\n",
    "print(txt.format(age))"
   ]
  },
  {
   "cell_type": "code",
   "execution_count": 22,
   "id": "db49da32",
   "metadata": {},
   "outputs": [
    {
     "name": "stdout",
     "output_type": "stream",
     "text": [
      "I want 3 pieces of item 567 for 49.95 dollars.\n"
     ]
    }
   ],
   "source": [
    "# The format() method takes unlimited number of arguments, and are placed into the respective placeholders:\n",
    "\n",
    "#Example:\n",
    "\n",
    "quantity = 3\n",
    "itemno = 567\n",
    "price = 49.95\n",
    "myorder = \"I want {} pieces of item {} for {} dollars.\"\n",
    "print(myorder.format(quantity, itemno, price))"
   ]
  },
  {
   "cell_type": "code",
   "execution_count": 23,
   "id": "2d7a551d",
   "metadata": {},
   "outputs": [
    {
     "name": "stdout",
     "output_type": "stream",
     "text": [
      "I want to pay 49.95 dollars for 3 pieces of item 567.\n"
     ]
    }
   ],
   "source": [
    "# You can use index numbers {0} to be sure the arguments are placed in the correct placeholders:\n",
    "\n",
    "#Example:\n",
    "\n",
    "quantity = 3\n",
    "itemno = 567\n",
    "price = 49.95\n",
    "myorder = \"I want to pay {2} dollars for {0} pieces of item {1}.\"\n",
    "print(myorder.format(quantity, itemno, price))"
   ]
  },
  {
   "cell_type": "markdown",
   "id": "788cb1ec",
   "metadata": {},
   "source": [
    "# Python - Escape Characters:"
   ]
  },
  {
   "cell_type": "raw",
   "id": "f392fc7e",
   "metadata": {},
   "source": [
    "Escape Character\n",
    "To insert characters that are illegal in a string, use an escape character.\n",
    "An escape character is a backslash \\ followed by the character you want to insert.\n",
    "An example of an illegal character is a double quote inside a string that is surrounded by double quotes:"
   ]
  },
  {
   "cell_type": "code",
   "execution_count": 1,
   "id": "228f061f",
   "metadata": {},
   "outputs": [
    {
     "ename": "SyntaxError",
     "evalue": "invalid syntax (588913440.py, line 4)",
     "output_type": "error",
     "traceback": [
      "\u001b[1;36m  Input \u001b[1;32mIn [1]\u001b[1;36m\u001b[0m\n\u001b[1;33m    txt = \"We are the so-called \"Vikings\" from the north.\"\u001b[0m\n\u001b[1;37m                                 ^\u001b[0m\n\u001b[1;31mSyntaxError\u001b[0m\u001b[1;31m:\u001b[0m invalid syntax\n"
     ]
    }
   ],
   "source": [
    "#Example\n",
    "# You will get an error if you use double quotes inside a string that is surrounded by double quotes:\n",
    "\n",
    "txt = \"We are the so-called \"Vikings\" from the north.\"\n",
    "print(txt)"
   ]
  },
  {
   "cell_type": "code",
   "execution_count": 25,
   "id": "52e3ea41",
   "metadata": {},
   "outputs": [
    {
     "name": "stdout",
     "output_type": "stream",
     "text": [
      "We are the so-called \"Vikings\" from the north.\n"
     ]
    }
   ],
   "source": [
    "# To fix this problem, use the escape character \\\":\n",
    "\n",
    "#Example:\n",
    "# The escape character allows you to use double quotes when you normally would not be allowed:\n",
    "\n",
    "txt = \"We are the so-called \\\"Vikings\\\" from the north.\"\n",
    "print(txt)"
   ]
  },
  {
   "cell_type": "raw",
   "id": "4b0cc56d",
   "metadata": {},
   "source": [
    "Escape Characters:\n",
    "Other escape characters used in Python:"
   ]
  },
  {
   "cell_type": "code",
   "execution_count": 26,
   "id": "25fe360d",
   "metadata": {},
   "outputs": [
    {
     "name": "stdout",
     "output_type": "stream",
     "text": [
      "It's alright.\n"
     ]
    }
   ],
   "source": [
    "# \\'\tSingle Quote:\n",
    "\n",
    "txt = 'It\\'s alright.'\n",
    "print(txt) "
   ]
  },
  {
   "cell_type": "code",
   "execution_count": 27,
   "id": "6df5294f",
   "metadata": {},
   "outputs": [
    {
     "name": "stdout",
     "output_type": "stream",
     "text": [
      "This will insert one \\ (backslash).\n"
     ]
    }
   ],
   "source": [
    "# \\\\\tBackslash:\n",
    "\n",
    "txt = \"This will insert one \\\\ (backslash).\"\n",
    "print(txt) "
   ]
  },
  {
   "cell_type": "code",
   "execution_count": 28,
   "id": "96d808f5",
   "metadata": {},
   "outputs": [
    {
     "name": "stdout",
     "output_type": "stream",
     "text": [
      "Hello\n",
      "World!\n"
     ]
    }
   ],
   "source": [
    "# \\n\tNew Line:\n",
    "\n",
    "txt = \"Hello\\nWorld!\"\n",
    "print(txt) "
   ]
  },
  {
   "cell_type": "code",
   "execution_count": 29,
   "id": "7cddfd66",
   "metadata": {},
   "outputs": [
    {
     "name": "stdout",
     "output_type": "stream",
     "text": [
      "Hello\r",
      "World!\n"
     ]
    }
   ],
   "source": [
    "# \\r\tCarriage Return:\n",
    "\n",
    "txt = \"Hello\\rWorld!\"\n",
    "print(txt) "
   ]
  },
  {
   "cell_type": "code",
   "execution_count": 30,
   "id": "ae1bd030",
   "metadata": {},
   "outputs": [
    {
     "name": "stdout",
     "output_type": "stream",
     "text": [
      "Hello\tWorld!\n"
     ]
    }
   ],
   "source": [
    "# \\t\tTab:\n",
    "\n",
    "txt = \"Hello\\tWorld!\"\n",
    "print(txt) "
   ]
  },
  {
   "cell_type": "code",
   "execution_count": 31,
   "id": "8f3a66cb",
   "metadata": {},
   "outputs": [
    {
     "name": "stdout",
     "output_type": "stream",
     "text": [
      "Hello \bWorld!\n"
     ]
    }
   ],
   "source": [
    "# \\b\tBackspace:\n",
    "\n",
    "#This example erases one character (backspace):\n",
    "txt = \"Hello \\bWorld!\"\n",
    "print(txt) "
   ]
  },
  {
   "cell_type": "code",
   "execution_count": 32,
   "id": "61bd61db",
   "metadata": {},
   "outputs": [
    {
     "name": "stdout",
     "output_type": "stream",
     "text": [
      "Hello\n"
     ]
    }
   ],
   "source": [
    "# \\ooo\tOctal value:\n",
    "\n",
    "#A backslash followed by three integers will result in a octal value:\n",
    "txt = \"\\110\\145\\154\\154\\157\"\n",
    "print(txt) "
   ]
  },
  {
   "cell_type": "code",
   "execution_count": 33,
   "id": "d5495b3a",
   "metadata": {},
   "outputs": [
    {
     "name": "stdout",
     "output_type": "stream",
     "text": [
      "Hello\n"
     ]
    }
   ],
   "source": [
    "# \\xhh\tHex value:\n",
    "\n",
    "#A backslash followed by an 'x' and a hex number represents a hex value:\n",
    "txt = \"\\x48\\x65\\x6c\\x6c\\x6f\"\n",
    "print(txt) "
   ]
  },
  {
   "cell_type": "markdown",
   "id": "6a0395a5",
   "metadata": {},
   "source": [
    "# Python - String Methods:"
   ]
  },
  {
   "cell_type": "markdown",
   "id": "ea252ffd",
   "metadata": {},
   "source": [
    "# String Methods:"
   ]
  },
  {
   "cell_type": "raw",
   "id": "3967cfad",
   "metadata": {},
   "source": [
    "Python has a set of built-in methods that you can use on strings.\n",
    "Note: All string methods return new values. They do not change the original string."
   ]
  },
  {
   "cell_type": "raw",
   "id": "7daf9dd2",
   "metadata": {},
   "source": [
    "Method\tDescription string\n",
    "\n",
    "capitalize()\tConverts the first character to upper case\n",
    "casefold()\tConverts string into lower case\n",
    "center()\tReturns a centered string\n",
    "count()\tReturns the number of times a specified value occurs in a string\n",
    "encode()\tReturns an encoded version of the string\n",
    "endswith()\tReturns true if the string ends with the specified value\n",
    "expandtabs()\tSets the tab size of the string\n",
    "find()\tSearches the string for a specified value and returns the position of where it was found\n",
    "format()\tFormats specified values in a string\n",
    "format_map()\tFormats specified values in a string\n",
    "index()\tSearches the string for a specified value and returns the position of where it was found"
   ]
  },
  {
   "cell_type": "raw",
   "id": "d2cc3fd0",
   "metadata": {},
   "source": [
    "Boolean Expression:\n",
    "\n",
    "isalnum()\tReturns True if all characters in the string are alphanumeric\n",
    "isalpha()\tReturns True if all characters in the string are in the alphabet\n",
    "isdecimal()\tReturns True if all characters in the string are decimals\n",
    "isdigit()\tReturns True if all characters in the string are digits\n",
    "isidentifier()\tReturns True if the string is an identifier\n",
    "islower()\tReturns True if all characters in the string are lower case\n",
    "isnumeric()\tReturns True if all characters in the string are numeric\n",
    "isprintable()\tReturns True if all characters in the string are printable\n",
    "isspace()\tReturns True if all characters in the string are whitespaces\n",
    "istitle()\tReturns True if the string follows the rules of a title\n",
    "isupper()\tReturns True if all characters in the string are upper case\n",
    "join()\tJoins the elements of an iterable to the end of the string\n",
    "ljust()\tReturns a left justified version of the string\n",
    "lower()\tConverts a string into lower case\n",
    "lstrip()\tReturns a left trim version of the string\n",
    "maketrans()\tReturns a translation table to be used in translations\n",
    "partition()\tReturns a tuple where the string is parted into three parts\n",
    "replace()\tReturns a string where a specified value is replaced with a specified value\n",
    "rfind()\tSearches the string for a specified value and returns the last position of where it was found\n",
    "rindex()\tSearches the string for a specified value and returns the last position of where it was found\n",
    "rjust()\tReturns a right justified version of the string\n",
    "rpartition()\tReturns a tuple where the string is parted into three parts\n",
    "rsplit()\tSplits the string at the specified separator, and returns a list\n",
    "rstrip()\tReturns a right trim version of the string\n",
    "split()\tSplits the string at the specified separator, and returns a list\n",
    "splitlines()\tSplits the string at line breaks and returns a list\n",
    "startswith()\tReturns true if the string starts with the specified value\n",
    "strip()\tReturns a trimmed version of the string\n",
    "swapcase()\tSwaps cases, lower case becomes upper case and vice versa\n",
    "title()\tConverts the first character of each word to upper case\n",
    "translate()\tReturns a translated string\n",
    "upper()\tConverts a string into upper case\n",
    "zfill()\tFills the string with a specified number of 0 values at the beginning."
   ]
  },
  {
   "cell_type": "markdown",
   "id": "921aae26",
   "metadata": {},
   "source": [
    "# Python - String Exercises:"
   ]
  },
  {
   "cell_type": "code",
   "execution_count": 1,
   "id": "9d8ed90e",
   "metadata": {},
   "outputs": [
    {
     "name": "stdout",
     "output_type": "stream",
     "text": [
      "11\n"
     ]
    }
   ],
   "source": [
    "#Test Yourself With Exercises\n",
    "#Exercise:\n",
    "# Use the len method to print the length of the string.\n",
    "\n",
    "x = \"Hello World\"\n",
    "print(len(x)) "
   ]
  },
  {
   "cell_type": "markdown",
   "id": "d6bf224f",
   "metadata": {},
   "source": [
    "# STRING ALL EXAMPLES:"
   ]
  },
  {
   "cell_type": "code",
   "execution_count": 35,
   "id": "f73f67e2",
   "metadata": {},
   "outputs": [
    {
     "name": "stdout",
     "output_type": "stream",
     "text": [
      "[1, 2, 3, 4, 5]\n",
      "<class 'list'>\n",
      "[100, 2, 3, 4, 5]\n",
      "slicing\n",
      "2\n",
      "5\n",
      "[100, 2, 3]\n",
      "[3, 4, 5]\n",
      "[100, 2, 3]\n",
      "----------\n",
      "[1, 'True', 'Ram', 2.5, [1, 2, 3, 4]]\n",
      "<class 'list'>\n",
      "1 type is\n"
     ]
    }
   ],
   "source": [
    "a=[1,2,3,4,5]\n",
    "print(a)\n",
    "print(type(a))\n",
    "a[0]=100\n",
    "print(a)\n",
    "print(\"slicing\")\n",
    "print(a[1])\n",
    "print(a[-1])\n",
    "print(a[0:3])\n",
    "print(a[2:])\n",
    "print(a[:3])\n",
    "print(\"----------\")\n",
    "a=[1,\"True\",\"Ram\",2.5,[1,2,3,4]]\n",
    "print(a)\n",
    "print(type(a))\n",
    "print(a[0],\"type is\")"
   ]
  },
  {
   "cell_type": "code",
   "execution_count": 36,
   "id": "f940afd8",
   "metadata": {},
   "outputs": [
    {
     "name": "stdout",
     "output_type": "stream",
     "text": [
      "[10, 25, 35, 45]\n",
      "[]\n",
      "[10, 25, 35, 45]\n",
      "3\n",
      "2\n",
      "7\n",
      "45\n",
      "4\n",
      "[10, 25, 35, 45, 25, 4, 25]\n",
      "[25, 35, 45, 25, 4, 25]\n",
      "[10, 35, 45, 25, 4, 25]\n",
      "--------------\n",
      "names\n",
      "['Ram', 'charan', 'ajith']\n"
     ]
    }
   ],
   "source": [
    "a=[10,25,35,45]\n",
    "print(a)\n",
    "a.clear()\n",
    "print(a)\n",
    "a=[10,25,35,45]\n",
    "b=a.copy()\n",
    "print(b)\n",
    "a=[10,25,35,45,25,4,25]\n",
    "print(a.count(25))\n",
    "print(a.index(35))\n",
    "print(len(a))\n",
    "print(max(a))\n",
    "print(min(a))\n",
    "print(a)\n",
    "a.pop(0)   #remove element using index:\n",
    "print(a)\n",
    "a=[10,25,35,45,25,4,25]\n",
    "a.remove(25)\n",
    "print(a)\n",
    "print(\"--------------\")\n",
    "names=[\"Ram\"]\n",
    "print(\"names\")\n",
    "name2=[\"charan\",\"ajith\"]\n",
    "names.extend(name2)\n",
    "print(names)"
   ]
  },
  {
   "cell_type": "code",
   "execution_count": 2,
   "id": "acfe6718",
   "metadata": {},
   "outputs": [
    {
     "name": "stdout",
     "output_type": "stream",
     "text": [
      "[10, 50, 100, 25, 85]\n",
      "[10, 25, 50, 85, 100]\n",
      "[100, 85, 50, 25, 10]\n",
      "['Apple', 'Zebra', 'or']\n",
      "['or', 'Zebra', 'Apple']\n",
      "['or', 'Apple', 'Zebra']\n"
     ]
    }
   ],
   "source": [
    "l=[1,2,3,4,5]\n",
    "l.insert(2,\"abc\")\n",
    "a=[10,50,100,25,85]\n",
    "print(a)\n",
    "a.sort()\n",
    "print(a)\n",
    "a.sort(reverse=True)\n",
    "print(a)\n",
    "a=[\"or\",\"Apple\",\"Zebra\"]\n",
    "a.sort()\n",
    "print(a)\n",
    "a.sort(reverse=True)\n",
    "print(a)\n",
    "a=[\"or\",\"Apple\",\"Zebra\"]\n",
    "a.sort(key=len)\n",
    "print(a)"
   ]
  },
  {
   "cell_type": "markdown",
   "id": "3dbeb58d",
   "metadata": {},
   "source": [
    "# Python Booleans"
   ]
  },
  {
   "cell_type": "raw",
   "id": "6d46d19f",
   "metadata": {},
   "source": [
    "Booleans represent one of two values: True or False."
   ]
  },
  {
   "cell_type": "raw",
   "id": "92767f47",
   "metadata": {},
   "source": [
    "Boolean Values:\n",
    "    \n",
    "In programming you often need to know if an expression is True or False.\n",
    "You can evaluate any expression in Python, and get one of two answers, True or False.\n",
    "When you compare two values, the expression is evaluated and Python returns the Boolean answer:"
   ]
  },
  {
   "cell_type": "code",
   "execution_count": 3,
   "id": "0d915e7f",
   "metadata": {},
   "outputs": [
    {
     "name": "stdout",
     "output_type": "stream",
     "text": [
      "True\n",
      "False\n",
      "False\n"
     ]
    }
   ],
   "source": [
    "#Example:\n",
    "    \n",
    "print(10 > 9)\n",
    "print(10 == 9)\n",
    "print(10 < 9)"
   ]
  },
  {
   "cell_type": "code",
   "execution_count": 4,
   "id": "114e24c3",
   "metadata": {},
   "outputs": [
    {
     "name": "stdout",
     "output_type": "stream",
     "text": [
      "b is not greater than a\n"
     ]
    }
   ],
   "source": [
    "# When you run a condition in an if statement, Python returns True or False:\n",
    "\n",
    "#Example\n",
    "# Print a message based on whether the condition is True or False:\n",
    "\n",
    "a = 200\n",
    "b = 33\n",
    "if b > a:\n",
    "  print(\"b is greater than a\")\n",
    "else:\n",
    "  print(\"b is not greater than a\")"
   ]
  },
  {
   "cell_type": "code",
   "execution_count": 5,
   "id": "6ff15b06",
   "metadata": {},
   "outputs": [
    {
     "name": "stdout",
     "output_type": "stream",
     "text": [
      "True\n",
      "True\n"
     ]
    }
   ],
   "source": [
    "#Evaluate Values and Variables\n",
    "# The bool() function allows you to evaluate any value, and give you True or False in return,\n",
    "\n",
    "#Example\n",
    "# Evaluate a string and a number:\n",
    "\n",
    "print(bool(\"Hello\"))\n",
    "print(bool(15))"
   ]
  },
  {
   "cell_type": "code",
   "execution_count": 6,
   "id": "8354d3a1",
   "metadata": {},
   "outputs": [
    {
     "name": "stdout",
     "output_type": "stream",
     "text": [
      "True\n",
      "True\n"
     ]
    }
   ],
   "source": [
    "#Example\n",
    "# Evaluate two variables:\n",
    "\n",
    "x = \"Hello\"\n",
    "y = 15\n",
    "print(bool(x))\n",
    "print(bool(y))"
   ]
  },
  {
   "cell_type": "raw",
   "id": "9017b1f9",
   "metadata": {},
   "source": [
    "Most Values are True:\n",
    "\n",
    "Almost any value is evaluated to True if it has some sort of content.\n",
    "Any string is True, except empty strings.\n",
    "Any number is True, except 0.\n",
    "Any list, tuple, set, and dictionary are True, except empty ones."
   ]
  },
  {
   "cell_type": "code",
   "execution_count": 9,
   "id": "c3cabdac",
   "metadata": {},
   "outputs": [
    {
     "name": "stdout",
     "output_type": "stream",
     "text": [
      "True\n",
      "True\n",
      "True\n"
     ]
    }
   ],
   "source": [
    "#Example\n",
    "# The following will return True:\n",
    "\n",
    "print(bool(\"abc\"))\n",
    "print(bool(123))\n",
    "print(bool([\"apple\", \"cherry\", \"banana\"]))"
   ]
  },
  {
   "cell_type": "raw",
   "id": "63dc20a4",
   "metadata": {},
   "source": [
    "Some Values are False:\n",
    "In fact, there are not many values that evaluate to False, except empty values, such as (), [], {}, \"\", \n",
    "the number 0, and the value None. And of course the value False evaluates to False."
   ]
  },
  {
   "cell_type": "code",
   "execution_count": 11,
   "id": "8f535309",
   "metadata": {},
   "outputs": [
    {
     "name": "stdout",
     "output_type": "stream",
     "text": [
      "False\n",
      "False\n",
      "False\n",
      "False\n",
      "False\n",
      "False\n",
      "False\n"
     ]
    }
   ],
   "source": [
    "#Example\n",
    "# The following will return False:\n",
    "\n",
    "print(bool(False))\n",
    "print(bool(None))\n",
    "print(bool(0))\n",
    "print(bool(\"\"))\n",
    "print(bool(()))\n",
    "print(bool([]))\n",
    "print(bool({}))"
   ]
  },
  {
   "cell_type": "code",
   "execution_count": 12,
   "id": "21da10c9",
   "metadata": {},
   "outputs": [
    {
     "name": "stdout",
     "output_type": "stream",
     "text": [
      "False\n"
     ]
    }
   ],
   "source": [
    "# One more value, or object in this case, evaluates to False, and \n",
    "#     that is if you have an object that is made from a class with a __len__ function that returns 0 or False:\n",
    "\n",
    "#Example\n",
    "\n",
    "class myclass():\n",
    "  def __len__(self):\n",
    "    return 0\n",
    "\n",
    "myobj = myclass()\n",
    "print(bool(myobj))"
   ]
  },
  {
   "cell_type": "code",
   "execution_count": 13,
   "id": "5e4faf0a",
   "metadata": {},
   "outputs": [
    {
     "name": "stdout",
     "output_type": "stream",
     "text": [
      "True\n"
     ]
    }
   ],
   "source": [
    "#Functions can Return a Boolean\n",
    "# You can create functions that returns a Boolean Value:\n",
    "\n",
    "#Example\n",
    "# Print the answer of a function:\n",
    "\n",
    "def myFunction() :\n",
    "  return True\n",
    "print(myFunction())"
   ]
  },
  {
   "cell_type": "code",
   "execution_count": 14,
   "id": "1b5afa4d",
   "metadata": {},
   "outputs": [
    {
     "name": "stdout",
     "output_type": "stream",
     "text": [
      "YES!\n"
     ]
    }
   ],
   "source": [
    "# You can execute code based on the Boolean answer of a function:\n",
    "\n",
    "#Example\n",
    "# Print \"YES!\" if the function returns True, otherwise print \"NO!\":\n",
    "\n",
    "def myFunction() :\n",
    "  return True\n",
    "\n",
    "if myFunction():\n",
    "  print(\"YES!\")\n",
    "else:\n",
    "  print(\"NO!\")"
   ]
  },
  {
   "cell_type": "code",
   "execution_count": 15,
   "id": "4dc583f0",
   "metadata": {},
   "outputs": [
    {
     "name": "stdout",
     "output_type": "stream",
     "text": [
      "True\n"
     ]
    }
   ],
   "source": [
    "# Python also has many built-in functions that return a boolean value, \n",
    "#      like the isinstance() function, which can be used to determine if an object is of a certain data type:\n",
    "\n",
    "#Example\n",
    "# Check if an object is an integer or not:\n",
    "\n",
    "x = 200\n",
    "print(isinstance(x, int))"
   ]
  },
  {
   "cell_type": "markdown",
   "id": "770a8353",
   "metadata": {},
   "source": [
    "# Test Yourself With Exercises"
   ]
  },
  {
   "cell_type": "code",
   "execution_count": 16,
   "id": "ff6c66a4",
   "metadata": {},
   "outputs": [
    {
     "name": "stdout",
     "output_type": "stream",
     "text": [
      "True\n"
     ]
    }
   ],
   "source": [
    "#Exercise:\n",
    "# The statement below would print a Boolean value, which one?\n",
    "\n",
    "print(10 > 9)"
   ]
  },
  {
   "cell_type": "code",
   "execution_count": 17,
   "id": "17361f51",
   "metadata": {},
   "outputs": [
    {
     "name": "stdout",
     "output_type": "stream",
     "text": [
      "False\n"
     ]
    }
   ],
   "source": [
    "#Exercise:\n",
    "# The statement below would print a Boolean value, which one?\n",
    "\n",
    "print(10 == 9)"
   ]
  },
  {
   "cell_type": "code",
   "execution_count": 18,
   "id": "3ba0daa8",
   "metadata": {},
   "outputs": [
    {
     "name": "stdout",
     "output_type": "stream",
     "text": [
      "False\n"
     ]
    }
   ],
   "source": [
    "#Exercise:\n",
    "# The statement below would print a Boolean value, which one?\n",
    "\n",
    "print(10 < 9)"
   ]
  },
  {
   "cell_type": "code",
   "execution_count": 19,
   "id": "3a49c1d7",
   "metadata": {},
   "outputs": [
    {
     "name": "stdout",
     "output_type": "stream",
     "text": [
      "True\n"
     ]
    }
   ],
   "source": [
    "#Exercise:\n",
    "# The statement below would print a Boolean value, which one?\n",
    "\n",
    "print(bool(\"abc\"))"
   ]
  },
  {
   "cell_type": "code",
   "execution_count": 20,
   "id": "f2a3a27d",
   "metadata": {},
   "outputs": [
    {
     "name": "stdout",
     "output_type": "stream",
     "text": [
      "False\n"
     ]
    }
   ],
   "source": [
    "#Exercise:\n",
    "# The statement below would print a Boolean value, which one?\n",
    "\n",
    "print(bool(0))"
   ]
  },
  {
   "cell_type": "code",
   "execution_count": 33,
   "id": "a34aab69",
   "metadata": {},
   "outputs": [
    {
     "name": "stdout",
     "output_type": "stream",
     "text": [
      "[1, 2, 3, 4, 5, 6, 7]\n",
      "[3, 4, 5, 6]\n",
      "[3, 4, 5, 6, 7]\n",
      "[1, 2]\n",
      "[3, 6]\n",
      "7\n",
      "[3, 4, 5]\n",
      "[6, 4, 2]\n",
      "[7, 6, 5, 4, 3, 2, 1]\n"
     ]
    }
   ],
   "source": [
    "#Slicing:\n",
    "\n",
    "#Example:\n",
    "\n",
    "l=[1,2,3,4,5,6,7]\n",
    "print(l)\n",
    "print(l[2:6])\n",
    "print(l[2:])\n",
    "print(l[:2])\n",
    "print(l[2:7:3])\n",
    "print(l[-1])\n",
    "print(l[-5:-2])\n",
    "print(l[-2:-7:-2])\n",
    "print(l[::-1])"
   ]
  },
  {
   "cell_type": "code",
   "execution_count": 26,
   "id": "54151b4d",
   "metadata": {},
   "outputs": [
    {
     "name": "stdout",
     "output_type": "stream",
     "text": [
      "sample\n",
      "sa\n",
      "sampl\n",
      "ample\n",
      "e\n",
      "l\n",
      "sampl\n",
      "elpmas\n"
     ]
    }
   ],
   "source": [
    "s=\"sample\"\n",
    "print(s)\n",
    "print(s[0:2])\n",
    "print(s[:5])\n",
    "print(s[1:])\n",
    "print(s[-1])\n",
    "print(s[-2:-1])\n",
    "print(s[:-1])\n",
    "print(s[::-1])"
   ]
  },
  {
   "cell_type": "code",
   "execution_count": 30,
   "id": "962ec219",
   "metadata": {},
   "outputs": [
    {
     "name": "stdout",
     "output_type": "stream",
     "text": [
      "keys\n",
      "<class 'str'>\n",
      "KEYS\n",
      "keys\n",
      "Keys\n",
      "Keys\n",
      "0\n",
      "False\n",
      "-1\n",
      "-1\n",
      "keys\n"
     ]
    }
   ],
   "source": [
    "s=\"keys\"\n",
    "print(s)\n",
    "print(type(s))\n",
    "print(s.upper())\n",
    "print(s.lower())\n",
    "print(s.capitalize())\n",
    "print(s.title())\n",
    "print(s.count(\"t\"))\n",
    "print(s.endswith(\"ED\"))\n",
    "print(s.find(\"o\"))\n",
    "print(s.find(\"o\",5))\n",
    "print(s.replace(\"o\",'0'))"
   ]
  },
  {
   "cell_type": "code",
   "execution_count": 31,
   "id": "8e6604a7",
   "metadata": {},
   "outputs": [
    {
     "name": "stdout",
     "output_type": "stream",
     "text": [
      "Is Upper : False\n",
      "Is lower : True\n",
      "Is Alpha Numeric : False\n",
      "Is Alpha : False\n",
      "['he', 'is', 'good']\n",
      "['he\\n', 'is\\n', 'good']\n",
      "['keys', 'Computer', 'Education']\n",
      "['keys', 'Computer', 'Education']\n",
      "10\n",
      "4\n",
      "7\n",
      "7\n",
      "('12', '-', '03-2020')\n"
     ]
    }
   ],
   "source": [
    "a=\"hello keys\"\n",
    "print(\"Is Upper :\",a.isupper())\n",
    "print(\"Is lower :\",a.islower())\n",
    "print(\"Is Alpha Numeric :\",a.isalnum())\n",
    "print(\"Is Alpha :\",a.isalpha())\n",
    "\n",
    "s=\"he\\nis\\ngood\"\n",
    "print(s.splitlines())\n",
    "print(s.splitlines(True))\n",
    "\n",
    "a=\"keys Computer Education\"\n",
    "print(a.split(\" \"))\n",
    "\n",
    "a=\"keys,Computer,Education\"\n",
    "print(a.split(\",\"))\n",
    "\n",
    "s=\"   keys   \"\n",
    "print(len(s))\n",
    "print(len(s.strip()))\n",
    "print(len(s.lstrip()))\n",
    "print(len(s.rstrip()))\n",
    "\n",
    "s='12-03-2020'\n",
    "print(s.partition('-'))"
   ]
  },
  {
   "cell_type": "code",
   "execution_count": 17,
   "id": "eb005240",
   "metadata": {},
   "outputs": [
    {
     "name": "stdout",
     "output_type": "stream",
     "text": [
      "2\n",
      "1\n",
      "2\n",
      "-1\n",
      "THANUSH VICKY\n",
      "True\n"
     ]
    }
   ],
   "source": [
    "x=\"Thanush Vicky\"\n",
    "print(x.find('a'))\n",
    "print(x.count('a'))\n",
    "print(x.rindex('a'))\n",
    "print(x.find('x',1,5))\n",
    "\n",
    "x=\"thanush vicky\"\n",
    "print(x.swapcase())\n",
    "print(x.startswith('th'))"
   ]
  },
  {
   "cell_type": "code",
   "execution_count": 20,
   "id": "e3e7a320",
   "metadata": {},
   "outputs": [
    {
     "name": "stdout",
     "output_type": "stream",
     "text": [
      "False\n",
      "True\n",
      "False\n",
      "True\n",
      "True\n",
      "False\n",
      "False\n",
      "True\n",
      "True\n"
     ]
    }
   ],
   "source": [
    "x='1'\n",
    "print(x.isspace())\n",
    "print(x.isascii())\n",
    "print(x.isalpha())\n",
    "print(x.isalnum())\n",
    "print(x.isdigit())\n",
    "print(x.islower())\n",
    "print(x.isupper())\n",
    "print(x.isdecimal())\n",
    "\n",
    "x='p'\n",
    "print(x.isidentifier())"
   ]
  },
  {
   "cell_type": "code",
   "execution_count": 31,
   "id": "3c0fad7b",
   "metadata": {},
   "outputs": [
    {
     "name": "stdout",
     "output_type": "stream",
     "text": [
      "1\n",
      "12\n",
      "4\n",
      "3\n",
      "1\n"
     ]
    }
   ],
   "source": [
    "x=\"Welcome to @keys 2022\"\n",
    "upper=0\n",
    "lower=0\n",
    "digit=0\n",
    "space=0\n",
    "spl=0\n",
    "for i in x:\n",
    "    if(i.isalpha()):\n",
    "        if(i.isupper()):\n",
    "            upper=upper+1\n",
    "        else:\n",
    "            lower=lower+1\n",
    "    elif(-i.isdigit()):\n",
    "        digit=digit+1\n",
    "    elif(i.isspace()):\n",
    "        space=space+1\n",
    "    else:\n",
    "        spl=spl+1\n",
    "print(upper)\n",
    "print(lower)\n",
    "print(digit)\n",
    "print(space)\n",
    "print(spl)"
   ]
  },
  {
   "cell_type": "code",
   "execution_count": 32,
   "id": "9c88602c",
   "metadata": {},
   "outputs": [
    {
     "name": "stdout",
     "output_type": "stream",
     "text": [
      " emocleW ot syek@ 2202 \n"
     ]
    }
   ],
   "source": [
    "x=\"Welcome to @keys 2022\"\n",
    "s=\" \"\n",
    "m=x.split()\n",
    "for i in m:\n",
    "    p=i[::-1]\n",
    "    s=s+p+\" \"\n",
    "print(s)"
   ]
  },
  {
   "cell_type": "code",
   "execution_count": 36,
   "id": "32c48179",
   "metadata": {},
   "outputs": [
    {
     "name": "stdout",
     "output_type": "stream",
     "text": [
      "{1, 4, 9, 16, 25}\n",
      "<class 'set'>\n"
     ]
    }
   ],
   "source": [
    "def appu(p):\n",
    "    return(p*p)\n",
    "l=[1,2,3,4,5]\n",
    "x=set(map(appu,l))\n",
    "print(x)\n",
    "print(type(x))"
   ]
  },
  {
   "cell_type": "code",
   "execution_count": 40,
   "id": "9cbdea53",
   "metadata": {},
   "outputs": [
    {
     "name": "stdout",
     "output_type": "stream",
     "text": [
      "Enter the x value=456\n",
      "15\n"
     ]
    }
   ],
   "source": [
    "x=input(\"Enter the x value=\")\n",
    "m=[]\n",
    "s=0\n",
    "for i in x:\n",
    "    if(i.isdigit()):\n",
    "        m.append(int(i))\n",
    "for i in m:\n",
    "    s=s+i\n",
    "print(s)"
   ]
  },
  {
   "cell_type": "code",
   "execution_count": 34,
   "id": "de7d2eb9",
   "metadata": {},
   "outputs": [
    {
     "name": "stdout",
     "output_type": "stream",
     "text": [
      "[0, 1, 2, 3, 4]\n",
      "[2, 3, 4]\n",
      "[0, 2, 4, 6, 8, 10, 12, 14, 16, 18, 20]\n",
      "[1, 3, 5, 7, 9, 11, 13, 15, 17, 19]\n"
     ]
    }
   ],
   "source": [
    "# Range in python:\n",
    "\n",
    "print(list(range(5)))\n",
    "print(list(range(2,5)))\n",
    "print(list(range(0,21,2)))\n",
    "print(list(range(1,20,2)))"
   ]
  },
  {
   "cell_type": "code",
   "execution_count": 46,
   "id": "9a35de91",
   "metadata": {},
   "outputs": [
    {
     "name": "stdout",
     "output_type": "stream",
     "text": [
      "thanush\n",
      "anu\n",
      "snh\n",
      "th\n",
      "thanu\n",
      "hanush\n",
      "h\n",
      "s\n",
      "thanus\n",
      "hsunaht\n",
      "s\n"
     ]
    }
   ],
   "source": [
    "# slicing:\n",
    "\n",
    "x=\"thanush\"\n",
    "print(x)\n",
    "print(x[2:5])\n",
    "print(x[-2:-7:-2])\n",
    "print(x[0:2])\n",
    "print(x[:5])\n",
    "print(x[1:])\n",
    "print(x[-1])\n",
    "print(x[-2:-1])\n",
    "print(x[:-1])\n",
    "print(x[::-1])\n",
    "\n",
    "y=\"thanush\"\n",
    "print(y[-2:len(y):2])"
   ]
  },
  {
   "cell_type": "code",
   "execution_count": 6,
   "id": "18474cc6",
   "metadata": {},
   "outputs": [
    {
     "name": "stdout",
     "output_type": "stream",
     "text": [
      "h\n"
     ]
    }
   ],
   "source": [
    "# print even letter:\n",
    "\n",
    "x=\"thanush\"\n",
    "print(x[-1:len(x):])"
   ]
  },
  {
   "cell_type": "code",
   "execution_count": 68,
   "id": "7fbffc79",
   "metadata": {},
   "outputs": [
    {
     "name": "stdout",
     "output_type": "stream",
     "text": [
      "A\n"
     ]
    },
    {
     "ename": "TypeError",
     "evalue": "'builtin_function_or_method' object is not subscriptable",
     "output_type": "error",
     "traceback": [
      "\u001b[1;31m---------------------------------------------------------------------------\u001b[0m",
      "\u001b[1;31mTypeError\u001b[0m                                 Traceback (most recent call last)",
      "Input \u001b[1;32mIn [68]\u001b[0m, in \u001b[0;36m<cell line: 5>\u001b[1;34m()\u001b[0m\n\u001b[0;32m      9\u001b[0m     \u001b[38;5;28;01melse\u001b[39;00m:\n\u001b[0;32m     10\u001b[0m         x\u001b[38;5;241m=\u001b[39mx\u001b[38;5;241m-\u001b[39m\u001b[38;5;241m32\u001b[39m\n\u001b[1;32m---> 11\u001b[0m     \u001b[43my\u001b[49m\u001b[38;5;241;43m.\u001b[39;49m\u001b[43mappend\u001b[49m\u001b[43m[\u001b[49m\u001b[43mx\u001b[49m\u001b[43m]\u001b[49m\n\u001b[0;32m     12\u001b[0m \u001b[38;5;28mprint\u001b[39m(y)\n\u001b[0;32m     14\u001b[0m c\u001b[38;5;241m=\u001b[39m\u001b[38;5;241m0\u001b[39m\n",
      "\u001b[1;31mTypeError\u001b[0m: 'builtin_function_or_method' object is not subscriptable"
     ]
    }
   ],
   "source": [
    "# Convert of upper to lower:\n",
    "\n",
    "y=[]\n",
    "l=input()\n",
    "for i in range(len(l)):\n",
    "    x=ord(l[i])\n",
    "    if(x>=65 and x<=90):\n",
    "        x=x+32\n",
    "    else:\n",
    "        x=x-32\n",
    "    y.append[x]\n",
    "print(y)\n",
    "\n",
    "c=0\n",
    "l=int(input())\n",
    "for i in range(l[i]):\n",
    "    if(l[i]==\" \"):\n",
    "        c=c+1\n",
    "print(\"no of space=\",c)"
   ]
  },
  {
   "cell_type": "code",
   "execution_count": 72,
   "id": "eeb9fb52",
   "metadata": {},
   "outputs": [
    {
     "name": "stdout",
     "output_type": "stream",
     "text": [
      "enter the value n=9\n",
      "[1, 0, 0, 1]\n",
      "[1, 0, 0, 1]\n"
     ]
    }
   ],
   "source": [
    "#Convert  decimal to binary:\n",
    "\n",
    "n=int(input(\"enter the value n=\"))\n",
    "l=[]\n",
    "while(n>0):\n",
    "    r=n%2\n",
    "    l.append(r)\n",
    "    n=n//2\n",
    "print(l)\n",
    "l.reverse\n",
    "print(l)"
   ]
  },
  {
   "cell_type": "code",
   "execution_count": 77,
   "id": "e3bde83f",
   "metadata": {},
   "outputs": [
    {
     "name": "stdout",
     "output_type": "stream",
     "text": [
      "0b1001\n"
     ]
    }
   ],
   "source": [
    "# pre defined decimal to binary:\n",
    "\n",
    "x=9\n",
    "y=bin(x)\n",
    "print(y)"
   ]
  },
  {
   "cell_type": "code",
   "execution_count": 1,
   "id": "5f18273f",
   "metadata": {},
   "outputs": [
    {
     "name": "stdout",
     "output_type": "stream",
     "text": [
      "enter the value n=9\n",
      "[1, 0, 0, 1]\n",
      "enter the value n=1001\n",
      "[1, 7, 5, 1]\n"
     ]
    }
   ],
   "source": [
    "#write  a program to convert decimal to binary and binary to octal.\n",
    "\n",
    "# decimal to binary:\n",
    "    \n",
    "n=int(input(\"enter the value n=\"))\n",
    "l=[]\n",
    "while(n>0):\n",
    "    r=n%2\n",
    "    l.append(r)\n",
    "    n=n//2\n",
    "l.reverse\n",
    "print(l)\n",
    "\n",
    "# binary to octal.\n",
    "\n",
    "n=int(input(\"enter the value n=\"))\n",
    "l=[]\n",
    "while(n>8):\n",
    "    r=n%8\n",
    "    l.append(r)\n",
    "    n=n//8\n",
    "l.append(n)\n",
    "l.reverse()\n",
    "print(l)"
   ]
  },
  {
   "cell_type": "code",
   "execution_count": 2,
   "id": "19f22b6f",
   "metadata": {},
   "outputs": [
    {
     "ename": "IndentationError",
     "evalue": "expected an indented block (1713675165.py, line 6)",
     "output_type": "error",
     "traceback": [
      "\u001b[1;36m  Input \u001b[1;32mIn [2]\u001b[1;36m\u001b[0m\n\u001b[1;33m    while(n>16):\u001b[0m\n\u001b[1;37m                ^\u001b[0m\n\u001b[1;31mIndentationError\u001b[0m\u001b[1;31m:\u001b[0m expected an indented block\n"
     ]
    }
   ],
   "source": [
    "#Decimal to hexa Decimal:\n",
    "\n",
    "n=int(input(\"enter the value n=\"))\n",
    "l=[]\n",
    "m={10:A,11:B,12:C,13:D,14:E,15:F}\n",
    "while(n>16):"
   ]
  },
  {
   "cell_type": "code",
   "execution_count": 3,
   "id": "dff40063",
   "metadata": {},
   "outputs": [
    {
     "name": "stdout",
     "output_type": "stream",
     "text": [
      "[1, 0, 0, 0, 1]\n",
      "[16, 8, 4, 2, 1]\n",
      "17\n"
     ]
    }
   ],
   "source": [
    "# binary to decimal:\n",
    "\n",
    "n=10001\n",
    "l=[]\n",
    "x=[]\n",
    "s=0\n",
    "while(n>0):\n",
    "    r=n%10\n",
    "    l.append(r)\n",
    "    n=n//10\n",
    "l.reverse()\n",
    "print(l)\n",
    "z=len(l)\n",
    "for i in range(z):\n",
    "    k=2**i\n",
    "    x.append(k)\n",
    "x.reverse()\n",
    "print(x)\n",
    "for i in range(z):\n",
    "    sum=l[i]*x[i]\n",
    "    if(sum!=0):\n",
    "        s=s+sum\n",
    "print(s)"
   ]
  },
  {
   "cell_type": "code",
   "execution_count": 3,
   "id": "ece5a5f6",
   "metadata": {},
   "outputs": [
    {
     "ename": "TypeError",
     "evalue": "'>' not supported between instances of 'list' and 'int'",
     "output_type": "error",
     "traceback": [
      "\u001b[1;31m---------------------------------------------------------------------------\u001b[0m",
      "\u001b[1;31mTypeError\u001b[0m                                 Traceback (most recent call last)",
      "Input \u001b[1;32mIn [3]\u001b[0m, in \u001b[0;36m<cell line: 10>\u001b[1;34m()\u001b[0m\n\u001b[0;32m      8\u001b[0m y\u001b[38;5;241m=\u001b[39m[]\n\u001b[0;32m      9\u001b[0m z\u001b[38;5;241m=\u001b[39m[]\n\u001b[1;32m---> 10\u001b[0m \u001b[38;5;28;01mwhile\u001b[39;00m(\u001b[43mn\u001b[49m\u001b[38;5;241;43m>\u001b[39;49m\u001b[38;5;241;43m0\u001b[39;49m):\n\u001b[0;32m     11\u001b[0m     r\u001b[38;5;241m=\u001b[39mn\u001b[38;5;241m%\u001b[39m\u001b[38;5;241m10\u001b[39m\n\u001b[0;32m     12\u001b[0m     l\u001b[38;5;241m.\u001b[39mappend(r)\n",
      "\u001b[1;31mTypeError\u001b[0m: '>' not supported between instances of 'list' and 'int'"
     ]
    }
   ],
   "source": [
    "#binary to octal:\n",
    "\n",
    "n=[]\n",
    "l=[]\n",
    "x=[]\n",
    "m=[]\n",
    "k=[]\n",
    "y=[]\n",
    "z=[]\n",
    "while(n>0):\n",
    "    r=n%10\n",
    "    l.append(r)\n",
    "    n=n//10\n",
    "reverse()\n",
    "while(len(l)%3!=0):\n",
    "    l.append(0)\n",
    "for i in (l):\n",
    "    m.append(i)\n",
    "    if(len(m)==3):\n",
    "        x.append(m)\n",
    "        m=[]\n",
    "print(x)\n",
    "for i in (x):\n",
    "    k.append([4,2,1])\n",
    "print(k)\n",
    "for i in range(len(x)):\n",
    "    s=0\n",
    "    for j in range(0,3):\n",
    "        sum=x[i][j]*k[i][j]\n",
    "        if(sum!=0):\n",
    "            s=s+sum\n",
    "    y.append(s)\n",
    "print(y)"
   ]
  },
  {
   "cell_type": "code",
   "execution_count": 24,
   "id": "93818b89",
   "metadata": {},
   "outputs": [
    {
     "name": "stdout",
     "output_type": "stream",
     "text": [
      "Enter the string:AppU\n",
      "AppUafter change aPPu\n"
     ]
    }
   ],
   "source": [
    "# python program on String:\n",
    "# Toggle each character in string:\n",
    "\n",
    "string=input(\"Enter the string:\")\n",
    "s1=str()\n",
    "for i in string:\n",
    "    if i.isupper():\n",
    "        i=i.lower()\n",
    "        s1=s1+i\n",
    "    else:\n",
    "        i=i.upper()\n",
    "        s1=s1+i\n",
    "print(string+'after change '+str(s1))"
   ]
  },
  {
   "cell_type": "code",
   "execution_count": 15,
   "id": "368a0c20",
   "metadata": {},
   "outputs": [
    {
     "name": "stdout",
     "output_type": "stream",
     "text": [
      "Enter the string:AppU\n",
      "Total vowels are: 2\n"
     ]
    }
   ],
   "source": [
    "# Count the number of Vowels in string:\n",
    "\n",
    "string=input(\"Enter the string:\")\n",
    "count=0\n",
    "string=string.lower()\n",
    "for i in string:\n",
    "    if (i=='a' or i=='e' or i=='i' or i=='o' or i=='u'):\n",
    "        count=count+1\n",
    "if(count==0):\n",
    "    print(\"No Vowels\")\n",
    "else:\n",
    "    print(\"Total vowels are:\",str(count))"
   ]
  },
  {
   "cell_type": "code",
   "execution_count": 10,
   "id": "330517d4",
   "metadata": {},
   "outputs": [
    {
     "ename": "AttributeError",
     "evalue": "'str' object has no attribute 'string'",
     "output_type": "error",
     "traceback": [
      "\u001b[1;31m---------------------------------------------------------------------------\u001b[0m",
      "\u001b[1;31mAttributeError\u001b[0m                            Traceback (most recent call last)",
      "Input \u001b[1;32mIn [10]\u001b[0m, in \u001b[0;36m<cell line: 3>\u001b[1;34m()\u001b[0m\n\u001b[0;32m      1\u001b[0m \u001b[38;5;66;03m# Check if given string is palindrome or not:\u001b[39;00m\n\u001b[1;32m----> 3\u001b[0m i\u001b[38;5;241m.\u001b[39mstring\u001b[38;5;241m=\u001b[39m\u001b[38;5;124m'\u001b[39m\u001b[38;5;124mCivic\u001b[39m\u001b[38;5;124m'\u001b[39m\n\u001b[0;32m      4\u001b[0m rev\u001b[38;5;241m=\u001b[39mi_string[::\u001b[38;5;241m-\u001b[39m\u001b[38;5;241m1\u001b[39m]\n\u001b[0;32m      5\u001b[0m \u001b[38;5;28;01mif\u001b[39;00m i_string\u001b[38;5;241m==\u001b[39mrev:\n",
      "\u001b[1;31mAttributeError\u001b[0m: 'str' object has no attribute 'string'"
     ]
    }
   ],
   "source": [
    "# Check if given string is palindrome or not:\n",
    "\n",
    "i.string='Civic'\n",
    "rev=i_string[::-1]\n",
    "if i_string==rev:\n",
    "    print(rev+\"is palindrome\")\n",
    "else:\n",
    "    print(rev-\"is not palindrome\")"
   ]
  },
  {
   "cell_type": "code",
   "execution_count": 27,
   "id": "828ccce1",
   "metadata": {},
   "outputs": [
    {
     "name": "stdout",
     "output_type": "stream",
     "text": [
      "Enter the string:234\n",
      "sum is: 2\n",
      "sum is: 5\n",
      "sum is: 9\n"
     ]
    }
   ],
   "source": [
    "# count the sum of numbers on string:\n",
    "\n",
    "string=input(\"Enter the string:\")\n",
    "sum=0\n",
    "for i in string:\n",
    "    if ord(i)>=48 and ord(i)<=57:\n",
    "        sum=sum+int(i)\n",
    "    print('sum is:',str(sum))"
   ]
  },
  {
   "cell_type": "code",
   "execution_count": 41,
   "id": "8cb2da8b",
   "metadata": {},
   "outputs": [
    {
     "ename": "SyntaxError",
     "evalue": "invalid syntax (2155925145.py, line 7)",
     "output_type": "error",
     "traceback": [
      "\u001b[1;36m  Input \u001b[1;32mIn [41]\u001b[1;36m\u001b[0m\n\u001b[1;33m    if (s1=s2):\u001b[0m\n\u001b[1;37m          ^\u001b[0m\n\u001b[1;31mSyntaxError\u001b[0m\u001b[1;31m:\u001b[0m invalid syntax\n"
     ]
    }
   ],
   "source": [
    "# Check if two string are anagram or not:\n",
    "\n",
    "s1='Listen'\n",
    "s2='Silent'\n",
    "s1=sorted(s1.lower())\n",
    "s2=sorted(s2.lower())\n",
    "if (s1=s2):\n",
    "    print(\"string are anagram\")\n",
    "else:\n",
    "    print(\"string are not anagram\")"
   ]
  },
  {
   "cell_type": "code",
   "execution_count": 5,
   "id": "b5f80817",
   "metadata": {},
   "outputs": [
    {
     "ename": "TypeError",
     "evalue": "'str' object is not callable",
     "output_type": "error",
     "traceback": [
      "\u001b[1;31m---------------------------------------------------------------------------\u001b[0m",
      "\u001b[1;31mTypeError\u001b[0m                                 Traceback (most recent call last)",
      "Input \u001b[1;32mIn [5]\u001b[0m, in \u001b[0;36m<cell line: 4>\u001b[1;34m()\u001b[0m\n\u001b[0;32m      4\u001b[0m \u001b[38;5;28;01mfor\u001b[39;00m i \u001b[38;5;129;01min\u001b[39;00m string:\n\u001b[0;32m      5\u001b[0m     frequency\u001b[38;5;241m=\u001b[39mstring\u001b[38;5;241m.\u001b[39mcount(i)\n\u001b[1;32m----> 6\u001b[0m     \u001b[38;5;28mprint\u001b[39m(\u001b[43mstring\u001b[49m\u001b[43m(\u001b[49m\u001b[43mi\u001b[49m\u001b[43m)\u001b[49m\u001b[38;5;241m+\u001b[39m\u001b[38;5;28mstr\u001b[39m(frequency))\n\u001b[0;32m      7\u001b[0m     end\u001b[38;5;241m=\u001b[39m(\u001b[38;5;124m\"\u001b[39m\u001b[38;5;124m,\u001b[39m\u001b[38;5;124m\"\u001b[39m)\n",
      "\u001b[1;31mTypeError\u001b[0m: 'str' object is not callable"
     ]
    }
   ],
   "source": [
    "# Calculater frequency of a characters in a string:\n",
    "\n",
    "string=\"Yolo Life\"\n",
    "for i in string:\n",
    "    frequency=string.count(i)\n",
    "    print(string(i)+str(frequency))\n",
    "    end=(\",\")"
   ]
  },
  {
   "cell_type": "code",
   "execution_count": 3,
   "id": "d1cac573",
   "metadata": {},
   "outputs": [
    {
     "name": "stdout",
     "output_type": "stream",
     "text": [
      "Enter string:prep do\n",
      "Enter substring:do\n",
      "Enter substring:in\n",
      "string after replacement:\n",
      "prep in\n"
     ]
    }
   ],
   "source": [
    "# Replace a substring in a string:\n",
    "\n",
    "string=input(\"Enter string:\")\n",
    "str1=input(\"Enter substring:\")\n",
    "str2=input(\"Enter substring:\")\n",
    "string=string.replace(str1,str2)\n",
    "print(\"string after replacement:\")\n",
    "print(string)"
   ]
  },
  {
   "cell_type": "code",
   "execution_count": 2,
   "id": "2c41bd52",
   "metadata": {},
   "outputs": [
    {
     "name": "stdout",
     "output_type": "stream",
     "text": [
      "Enter the string:preplink is Fad\n",
      "After removing specs: preplink is Fad\n"
     ]
    }
   ],
   "source": [
    "# Remove speces from a string:\n",
    "\n",
    "string=input(\"Enter the string:\")\n",
    "String=\" \".join(string.split())\n",
    "print(\"After removing specs:\",string)"
   ]
  }
 ],
 "metadata": {
  "kernelspec": {
   "display_name": "Python 3 (ipykernel)",
   "language": "python",
   "name": "python3"
  },
  "language_info": {
   "codemirror_mode": {
    "name": "ipython",
    "version": 3
   },
   "file_extension": ".py",
   "mimetype": "text/x-python",
   "name": "python",
   "nbconvert_exporter": "python",
   "pygments_lexer": "ipython3",
   "version": "3.9.12"
  }
 },
 "nbformat": 4,
 "nbformat_minor": 5
}
